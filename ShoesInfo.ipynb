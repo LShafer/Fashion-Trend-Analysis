{
 "cells": [
  {
   "cell_type": "code",
   "execution_count": 1,
   "metadata": {},
   "outputs": [],
   "source": [
    "# import dependencies\n",
    "%matplotlib inline\n",
    "import pandas as pd\n",
    "import matplotlib.pyplot as plt\n",
    "import numpy as np\n",
    "import os\n",
    "from PIL import Image\n",
    "import seaborn as sns\n",
    "from wordcloud import WordCloud, STOPWORDS, ImageColorGenerator"
   ]
  },
  {
   "cell_type": "code",
   "execution_count": 2,
   "metadata": {},
   "outputs": [],
   "source": [
    "# location of the CSV file\n",
    "womens_csv = \"../Project1/Resources/2018_Womens_Shoes.csv\"\n",
    "#mens_csv = \"../Project1/Resources/mens_shoe_prices.csv\"\n",
    "spring19_womens_csv = \"../Project1/Resources/Spring19_women.csv\""
   ]
  },
  {
   "cell_type": "code",
   "execution_count": 3,
   "metadata": {},
   "outputs": [
    {
     "data": {
      "text/html": [
       "<div>\n",
       "<style scoped>\n",
       "    .dataframe tbody tr th:only-of-type {\n",
       "        vertical-align: middle;\n",
       "    }\n",
       "\n",
       "    .dataframe tbody tr th {\n",
       "        vertical-align: top;\n",
       "    }\n",
       "\n",
       "    .dataframe thead th {\n",
       "        text-align: right;\n",
       "    }\n",
       "</style>\n",
       "<table border=\"1\" class=\"dataframe\">\n",
       "  <thead>\n",
       "    <tr style=\"text-align: right;\">\n",
       "      <th></th>\n",
       "      <th>id</th>\n",
       "      <th>Date_Added</th>\n",
       "      <th>date_updated</th>\n",
       "      <th>brand</th>\n",
       "      <th>categories</th>\n",
       "      <th>primaryCategories</th>\n",
       "      <th>imageURLs</th>\n",
       "      <th>keys</th>\n",
       "      <th>manufacturer</th>\n",
       "      <th>manufacturerNumber</th>\n",
       "      <th>...</th>\n",
       "      <th>prices.dateAdded</th>\n",
       "      <th>prices.dateSeen</th>\n",
       "      <th>prices.isSale</th>\n",
       "      <th>prices.size</th>\n",
       "      <th>Merchant</th>\n",
       "      <th>prices.sourceURLs</th>\n",
       "      <th>sizes</th>\n",
       "      <th>sourceURLs</th>\n",
       "      <th>upc</th>\n",
       "      <th>weight</th>\n",
       "    </tr>\n",
       "  </thead>\n",
       "  <tbody>\n",
       "    <tr>\n",
       "      <th>0</th>\n",
       "      <td>AV_Ee528Hh53nbDR_0vY</td>\n",
       "      <td>11/16/17</td>\n",
       "      <td>2/11/18</td>\n",
       "      <td>2 lips too</td>\n",
       "      <td>Womens,Shoes,Pumps,Heels,2 Lips Too</td>\n",
       "      <td>Shoes</td>\n",
       "      <td>https://media.kohlsimg.com/is/image/kohls/2552...</td>\n",
       "      <td>2lipstootooellewomenshighheelsandals/84360578,...</td>\n",
       "      <td>NaN</td>\n",
       "      <td>NaN</td>\n",
       "      <td>...</td>\n",
       "      <td>2018-01-10T19:30:29Z</td>\n",
       "      <td>2018-01-09T13:35:00.000Z,2018-01-05T13:09:00.0...</td>\n",
       "      <td>False</td>\n",
       "      <td>9.5 MED</td>\n",
       "      <td>kohls</td>\n",
       "      <td>https://www.kohls.com/product/prd-2552591/2-li...</td>\n",
       "      <td>5.5 MED,6 MED,6.5 MED,7 MED,7.5 MED,8.5 MED,9 ...</td>\n",
       "      <td>https://www.kohls.com/product/prd-2552591/2-li...</td>\n",
       "      <td>887063591443,887063591146,887063590842,8870635...</td>\n",
       "      <td>NaN</td>\n",
       "    </tr>\n",
       "    <tr>\n",
       "      <th>1</th>\n",
       "      <td>AV_Ee528Hh53nbDR_0vY</td>\n",
       "      <td>11/16/17</td>\n",
       "      <td>2/11/18</td>\n",
       "      <td>2 lips too</td>\n",
       "      <td>Womens,Shoes,Pumps,Heels,2 Lips Too</td>\n",
       "      <td>Shoes</td>\n",
       "      <td>https://media.kohlsimg.com/is/image/kohls/2552...</td>\n",
       "      <td>2lipstootooellewomenshighheelsandals/84360578,...</td>\n",
       "      <td>NaN</td>\n",
       "      <td>NaN</td>\n",
       "      <td>...</td>\n",
       "      <td>2017-11-17T15:54:13Z</td>\n",
       "      <td>2017-11-03T07:19:00.000Z</td>\n",
       "      <td>False</td>\n",
       "      <td>5.5 MED</td>\n",
       "      <td>kohls</td>\n",
       "      <td>https://www.kohls.com/product/prd-2552591/2-li...</td>\n",
       "      <td>5.5 MED,6 MED,6.5 MED,7 MED,7.5 MED,8.5 MED,9 ...</td>\n",
       "      <td>https://www.kohls.com/product/prd-2552591/2-li...</td>\n",
       "      <td>887063591443,887063591146,887063590842,8870635...</td>\n",
       "      <td>NaN</td>\n",
       "    </tr>\n",
       "    <tr>\n",
       "      <th>2</th>\n",
       "      <td>AV_Ee528Hh53nbDR_0vY</td>\n",
       "      <td>11/16/17</td>\n",
       "      <td>2/11/18</td>\n",
       "      <td>2 lips too</td>\n",
       "      <td>Womens,Shoes,Pumps,Heels,2 Lips Too</td>\n",
       "      <td>Shoes</td>\n",
       "      <td>https://media.kohlsimg.com/is/image/kohls/2552...</td>\n",
       "      <td>2lipstootooellewomenshighheelsandals/84360578,...</td>\n",
       "      <td>NaN</td>\n",
       "      <td>NaN</td>\n",
       "      <td>...</td>\n",
       "      <td>2017-11-17T15:54:13Z</td>\n",
       "      <td>2017-11-03T07:19:00.000Z</td>\n",
       "      <td>False</td>\n",
       "      <td>9 MED</td>\n",
       "      <td>kohls</td>\n",
       "      <td>https://www.kohls.com/product/prd-2552591/2-li...</td>\n",
       "      <td>5.5 MED,6 MED,6.5 MED,7 MED,7.5 MED,8.5 MED,9 ...</td>\n",
       "      <td>https://www.kohls.com/product/prd-2552591/2-li...</td>\n",
       "      <td>887063591443,887063591146,887063590842,8870635...</td>\n",
       "      <td>NaN</td>\n",
       "    </tr>\n",
       "    <tr>\n",
       "      <th>3</th>\n",
       "      <td>AV_Ee528Hh53nbDR_0vY</td>\n",
       "      <td>11/16/17</td>\n",
       "      <td>2/11/18</td>\n",
       "      <td>2 lips too</td>\n",
       "      <td>Womens,Shoes,Pumps,Heels,2 Lips Too</td>\n",
       "      <td>Shoes</td>\n",
       "      <td>https://media.kohlsimg.com/is/image/kohls/2552...</td>\n",
       "      <td>2lipstootooellewomenshighheelsandals/84360578,...</td>\n",
       "      <td>NaN</td>\n",
       "      <td>NaN</td>\n",
       "      <td>...</td>\n",
       "      <td>2017-11-17T15:54:13Z</td>\n",
       "      <td>2017-11-03T07:19:00.000Z</td>\n",
       "      <td>False</td>\n",
       "      <td>7.5 MED</td>\n",
       "      <td>kohls</td>\n",
       "      <td>https://www.kohls.com/product/prd-2552591/2-li...</td>\n",
       "      <td>5.5 MED,6 MED,6.5 MED,7 MED,7.5 MED,8.5 MED,9 ...</td>\n",
       "      <td>https://www.kohls.com/product/prd-2552591/2-li...</td>\n",
       "      <td>887063591443,887063591146,887063590842,8870635...</td>\n",
       "      <td>NaN</td>\n",
       "    </tr>\n",
       "    <tr>\n",
       "      <th>4</th>\n",
       "      <td>AV_Ee528Hh53nbDR_0vY</td>\n",
       "      <td>11/16/17</td>\n",
       "      <td>2/11/18</td>\n",
       "      <td>2 lips too</td>\n",
       "      <td>Womens,Shoes,Pumps,Heels,2 Lips Too</td>\n",
       "      <td>Shoes</td>\n",
       "      <td>https://media.kohlsimg.com/is/image/kohls/2552...</td>\n",
       "      <td>2lipstootooellewomenshighheelsandals/84360578,...</td>\n",
       "      <td>NaN</td>\n",
       "      <td>NaN</td>\n",
       "      <td>...</td>\n",
       "      <td>2018-02-11T05:04:36Z</td>\n",
       "      <td>2018-01-16T16:06:00.000Z,2018-01-14T08:55:00.000Z</td>\n",
       "      <td>False</td>\n",
       "      <td>9 MED</td>\n",
       "      <td>kohls</td>\n",
       "      <td>https://www.kohls.com/product/prd-2552591/2-li...</td>\n",
       "      <td>5.5 MED,6 MED,6.5 MED,7 MED,7.5 MED,8.5 MED,9 ...</td>\n",
       "      <td>https://www.kohls.com/product/prd-2552591/2-li...</td>\n",
       "      <td>887063591443,887063591146,887063590842,8870635...</td>\n",
       "      <td>NaN</td>\n",
       "    </tr>\n",
       "  </tbody>\n",
       "</table>\n",
       "<p>5 rows × 28 columns</p>\n",
       "</div>"
      ],
      "text/plain": [
       "                     id Date_Added date_updated       brand  \\\n",
       "0  AV_Ee528Hh53nbDR_0vY   11/16/17      2/11/18  2 lips too   \n",
       "1  AV_Ee528Hh53nbDR_0vY   11/16/17      2/11/18  2 lips too   \n",
       "2  AV_Ee528Hh53nbDR_0vY   11/16/17      2/11/18  2 lips too   \n",
       "3  AV_Ee528Hh53nbDR_0vY   11/16/17      2/11/18  2 lips too   \n",
       "4  AV_Ee528Hh53nbDR_0vY   11/16/17      2/11/18  2 lips too   \n",
       "\n",
       "                            categories primaryCategories  \\\n",
       "0  Womens,Shoes,Pumps,Heels,2 Lips Too             Shoes   \n",
       "1  Womens,Shoes,Pumps,Heels,2 Lips Too             Shoes   \n",
       "2  Womens,Shoes,Pumps,Heels,2 Lips Too             Shoes   \n",
       "3  Womens,Shoes,Pumps,Heels,2 Lips Too             Shoes   \n",
       "4  Womens,Shoes,Pumps,Heels,2 Lips Too             Shoes   \n",
       "\n",
       "                                           imageURLs  \\\n",
       "0  https://media.kohlsimg.com/is/image/kohls/2552...   \n",
       "1  https://media.kohlsimg.com/is/image/kohls/2552...   \n",
       "2  https://media.kohlsimg.com/is/image/kohls/2552...   \n",
       "3  https://media.kohlsimg.com/is/image/kohls/2552...   \n",
       "4  https://media.kohlsimg.com/is/image/kohls/2552...   \n",
       "\n",
       "                                                keys manufacturer  \\\n",
       "0  2lipstootooellewomenshighheelsandals/84360578,...          NaN   \n",
       "1  2lipstootooellewomenshighheelsandals/84360578,...          NaN   \n",
       "2  2lipstootooellewomenshighheelsandals/84360578,...          NaN   \n",
       "3  2lipstootooellewomenshighheelsandals/84360578,...          NaN   \n",
       "4  2lipstootooellewomenshighheelsandals/84360578,...          NaN   \n",
       "\n",
       "  manufacturerNumber  ...      prices.dateAdded  \\\n",
       "0                NaN  ...  2018-01-10T19:30:29Z   \n",
       "1                NaN  ...  2017-11-17T15:54:13Z   \n",
       "2                NaN  ...  2017-11-17T15:54:13Z   \n",
       "3                NaN  ...  2017-11-17T15:54:13Z   \n",
       "4                NaN  ...  2018-02-11T05:04:36Z   \n",
       "\n",
       "                                     prices.dateSeen  prices.isSale  \\\n",
       "0  2018-01-09T13:35:00.000Z,2018-01-05T13:09:00.0...          False   \n",
       "1                           2017-11-03T07:19:00.000Z          False   \n",
       "2                           2017-11-03T07:19:00.000Z          False   \n",
       "3                           2017-11-03T07:19:00.000Z          False   \n",
       "4  2018-01-16T16:06:00.000Z,2018-01-14T08:55:00.000Z          False   \n",
       "\n",
       "   prices.size Merchant                                  prices.sourceURLs  \\\n",
       "0      9.5 MED    kohls  https://www.kohls.com/product/prd-2552591/2-li...   \n",
       "1      5.5 MED    kohls  https://www.kohls.com/product/prd-2552591/2-li...   \n",
       "2        9 MED    kohls  https://www.kohls.com/product/prd-2552591/2-li...   \n",
       "3      7.5 MED    kohls  https://www.kohls.com/product/prd-2552591/2-li...   \n",
       "4        9 MED    kohls  https://www.kohls.com/product/prd-2552591/2-li...   \n",
       "\n",
       "                                               sizes  \\\n",
       "0  5.5 MED,6 MED,6.5 MED,7 MED,7.5 MED,8.5 MED,9 ...   \n",
       "1  5.5 MED,6 MED,6.5 MED,7 MED,7.5 MED,8.5 MED,9 ...   \n",
       "2  5.5 MED,6 MED,6.5 MED,7 MED,7.5 MED,8.5 MED,9 ...   \n",
       "3  5.5 MED,6 MED,6.5 MED,7 MED,7.5 MED,8.5 MED,9 ...   \n",
       "4  5.5 MED,6 MED,6.5 MED,7 MED,7.5 MED,8.5 MED,9 ...   \n",
       "\n",
       "                                          sourceURLs  \\\n",
       "0  https://www.kohls.com/product/prd-2552591/2-li...   \n",
       "1  https://www.kohls.com/product/prd-2552591/2-li...   \n",
       "2  https://www.kohls.com/product/prd-2552591/2-li...   \n",
       "3  https://www.kohls.com/product/prd-2552591/2-li...   \n",
       "4  https://www.kohls.com/product/prd-2552591/2-li...   \n",
       "\n",
       "                                                 upc weight  \n",
       "0  887063591443,887063591146,887063590842,8870635...    NaN  \n",
       "1  887063591443,887063591146,887063590842,8870635...    NaN  \n",
       "2  887063591443,887063591146,887063590842,8870635...    NaN  \n",
       "3  887063591443,887063591146,887063590842,8870635...    NaN  \n",
       "4  887063591443,887063591146,887063590842,8870635...    NaN  \n",
       "\n",
       "[5 rows x 28 columns]"
      ]
     },
     "execution_count": 3,
     "metadata": {},
     "output_type": "execute_result"
    }
   ],
   "source": [
    "# open the CSV and see a preview\n",
    "shoes_df = pd.read_csv(womens_csv)\n",
    "shoes_df.head()"
   ]
  },
  {
   "cell_type": "code",
   "execution_count": 4,
   "metadata": {
    "scrolled": true
   },
   "outputs": [],
   "source": [
    "#mens_shoes_df = pd.read_csv(mens_csv, error_bad_lines=False)\n",
    "#mens_shoes_df.head()"
   ]
  },
  {
   "cell_type": "code",
   "execution_count": 5,
   "metadata": {
    "scrolled": true
   },
   "outputs": [],
   "source": [
    "spring19_df = pd.read_csv(spring19_womens_csv)\n",
    "#spring19_df.head()"
   ]
  },
  {
   "cell_type": "code",
   "execution_count": 6,
   "metadata": {},
   "outputs": [],
   "source": [
    "#spring19_df.info()"
   ]
  },
  {
   "cell_type": "code",
   "execution_count": 7,
   "metadata": {},
   "outputs": [],
   "source": [
    "# info on the csv file (see where data is missing, data types)\n",
    "#shoes_df.info()"
   ]
  },
  {
   "cell_type": "code",
   "execution_count": 8,
   "metadata": {},
   "outputs": [],
   "source": [
    "#mens_shoes_df.info()"
   ]
  },
  {
   "cell_type": "code",
   "execution_count": 9,
   "metadata": {},
   "outputs": [],
   "source": [
    "# drop unneeded columns here\n",
    "shoes_df = shoes_df.drop(columns=[\"id\",\n",
    "                                  \"prices.size\",\n",
    "                                  \"weight\",\n",
    "                                  \"prices.condition\",\n",
    "                                  \"imageURLs\",\n",
    "                                  \"manufacturerNumber\",\n",
    "                                  \"upc\",\n",
    "                                  \"sourceURLs\",\n",
    "                                  \"prices.availability\",\n",
    "                                  \"sizes\",\n",
    "                                  \"keys\",\n",
    "                                  \"manufacturer\",\n",
    "                                  \"prices.dateAdded\",\n",
    "                                  \"prices.dateSeen\",\n",
    "                                  \"name\",\n",
    "                                  \"Date_Added\",\n",
    "                                  \"prices.isSale\",\n",
    "                                  \"primaryCategories\",\n",
    "                                  \"prices.sourceURLs\",\n",
    "                                  \"categories\",\n",
    "                                  \"prices.amountMin\"\n",
    "                         ])"
   ]
  },
  {
   "cell_type": "code",
   "execution_count": 10,
   "metadata": {},
   "outputs": [
    {
     "data": {
      "text/html": [
       "<div>\n",
       "<style scoped>\n",
       "    .dataframe tbody tr th:only-of-type {\n",
       "        vertical-align: middle;\n",
       "    }\n",
       "\n",
       "    .dataframe tbody tr th {\n",
       "        vertical-align: top;\n",
       "    }\n",
       "\n",
       "    .dataframe thead th {\n",
       "        text-align: right;\n",
       "    }\n",
       "</style>\n",
       "<table border=\"1\" class=\"dataframe\">\n",
       "  <thead>\n",
       "    <tr style=\"text-align: right;\">\n",
       "      <th></th>\n",
       "      <th>Date</th>\n",
       "      <th>Brand</th>\n",
       "      <th>Type</th>\n",
       "      <th>Prices</th>\n",
       "      <th>Color</th>\n",
       "      <th>Currency</th>\n",
       "      <th>Merchant</th>\n",
       "    </tr>\n",
       "  </thead>\n",
       "  <tbody>\n",
       "    <tr>\n",
       "      <th>0</th>\n",
       "      <td>2/11/18</td>\n",
       "      <td>2 lips too</td>\n",
       "      <td>Heels</td>\n",
       "      <td>64.95</td>\n",
       "      <td>Gold</td>\n",
       "      <td>USD</td>\n",
       "      <td>kohls</td>\n",
       "    </tr>\n",
       "    <tr>\n",
       "      <th>1</th>\n",
       "      <td>2/11/18</td>\n",
       "      <td>2 lips too</td>\n",
       "      <td>Heels</td>\n",
       "      <td>64.95</td>\n",
       "      <td>Pink</td>\n",
       "      <td>USD</td>\n",
       "      <td>kohls</td>\n",
       "    </tr>\n",
       "    <tr>\n",
       "      <th>2</th>\n",
       "      <td>2/11/18</td>\n",
       "      <td>2 lips too</td>\n",
       "      <td>Heels</td>\n",
       "      <td>64.95</td>\n",
       "      <td>Pink</td>\n",
       "      <td>USD</td>\n",
       "      <td>kohls</td>\n",
       "    </tr>\n",
       "    <tr>\n",
       "      <th>3</th>\n",
       "      <td>2/11/18</td>\n",
       "      <td>2 lips too</td>\n",
       "      <td>Heels</td>\n",
       "      <td>64.95</td>\n",
       "      <td>Gold</td>\n",
       "      <td>USD</td>\n",
       "      <td>kohls</td>\n",
       "    </tr>\n",
       "    <tr>\n",
       "      <th>4</th>\n",
       "      <td>2/11/18</td>\n",
       "      <td>2 lips too</td>\n",
       "      <td>Heels</td>\n",
       "      <td>64.95</td>\n",
       "      <td>White</td>\n",
       "      <td>USD</td>\n",
       "      <td>kohls</td>\n",
       "    </tr>\n",
       "  </tbody>\n",
       "</table>\n",
       "</div>"
      ],
      "text/plain": [
       "      Date       Brand   Type  Prices  Color Currency Merchant\n",
       "0  2/11/18  2 lips too  Heels   64.95   Gold      USD    kohls\n",
       "1  2/11/18  2 lips too  Heels   64.95   Pink      USD    kohls\n",
       "2  2/11/18  2 lips too  Heels   64.95   Pink      USD    kohls\n",
       "3  2/11/18  2 lips too  Heels   64.95   Gold      USD    kohls\n",
       "4  2/11/18  2 lips too  Heels   64.95  White      USD    kohls"
      ]
     },
     "execution_count": 10,
     "metadata": {},
     "output_type": "execute_result"
    }
   ],
   "source": [
    "# rename columns\n",
    "shoes_df = shoes_df.rename(columns={#\"prices.merchant\": \"Merchant\",\n",
    "                                    \"brand\": \"Brand\",\n",
    "                                    \"prices.color\" : \"Color\",\n",
    "                                    \"Type_Name\": \"Type\",\n",
    "                                    \"date_updated\": \"Date\",\n",
    "                                    \"prices.currency\": \"Currency\",\n",
    "                                    \"prices.amountMax\": \"Prices\"\n",
    "                                   })\n",
    "shoes_df.head()"
   ]
  },
  {
   "cell_type": "code",
   "execution_count": 11,
   "metadata": {},
   "outputs": [],
   "source": [
    "#shoes_df.info()"
   ]
  },
  {
   "cell_type": "code",
   "execution_count": 12,
   "metadata": {},
   "outputs": [
    {
     "data": {
      "text/plain": [
       "Brand\n",
       "2 lips too                                                         [Heels, Booties]\n",
       "Altra                                                              [Athletic Shoes]\n",
       "Arc'teryx                                                          [Athletic Shoes]\n",
       "Asics                                                              [Athletic Shoes]\n",
       "Astral                                                            [Flats, Sneakers]\n",
       "Birkenstock                                                                 [Flats]\n",
       "Bogs                                                                     [Sneakers]\n",
       "Brinley Co.                                 [Boots, Heels, Booties, Flats, Sandals]\n",
       "Brooks                                                             [Athletic Shoes]\n",
       "Carrini                                                                     [Boots]\n",
       "Chaco                                                              [Athletic Shoes]\n",
       "Daniel Green                                                                [Flats]\n",
       "Danskin Now                                                        [Athletic Shoes]\n",
       "Dansko                                                                      [Flats]\n",
       "Dr. Scholl's                               [Flats, Booties, Ballet Flats, Sneakers]\n",
       "ELLIE SHOES                                                                 [Flats]\n",
       "Earth Spirit                                                              [Sandals]\n",
       "Easy Street                                                                 [Heels]\n",
       "FOREVER YOUNG                                                               [Boots]\n",
       "Faded Glory                                                [Sneakers, Flats, Boots]\n",
       "Fergalicious                                                                [Flats]\n",
       "Free People                                                               [Booties]\n",
       "Frye                                                                 [Ballet Flats]\n",
       "Genuine Dickies                                                             [Flats]\n",
       "Hoka One One                                                       [Athletic Shoes]\n",
       "IB Non-Slip                                                                 [Boots]\n",
       "Inov 8                                                             [Athletic Shoes]\n",
       "KEEN                                                                        [Flats]\n",
       "Kaanas                                                                      [Heels]\n",
       "Keds                                                                     [Sneakers]\n",
       "                                                        ...                        \n",
       "kisses by 2 lips too                                               [Boots, Booties]\n",
       "koolaburra by ugg                                                           [Boots]\n",
       "lc lauren conrad                                   [Booties, Heels, Sandals, Flats]\n",
       "lifestride                        [Booties, Heels, Sandals, Flats, Ballet Flats,...\n",
       "lugz                                                                      [Booties]\n",
       "madden nyc                                      [Booties, Heels, Sandals, Sneakers]\n",
       "muk luks                                                                  [Sandals]\n",
       "naturalsoul by naturalizer                 [Sandals, Ballet Flats, Flats, Sneakers]\n",
       "new balance                                               [Athletic Shoes, Sandals]\n",
       "nike                                                     [Athletic Shoes, Sneakers]\n",
       "nyla                                                                      [Sandals]\n",
       "olivia miller                                                               [Boots]\n",
       "puma                                                                     [Sneakers]\n",
       "qupid                                                            [Sandals, Booties]\n",
       "rampage                                                            [Sandals, Heels]\n",
       "reef                                                                      [Sandals]\n",
       "rocky 4eursole                                                            [Sandals]\n",
       "ryka                                               [Athletic Shoes, Boots, Sandals]\n",
       "seven7                                                             [Flats, Sandals]\n",
       "simply vera vera wang                         [Flats, Booties, Heels, Ballet Flats]\n",
       "skechers                                   [Athletic Shoes, Sneakers, Ballet Flats]\n",
       "so                                            [Ballet Flats, Booties, Flats, Boots]\n",
       "soft style by hush puppies                                         [Flats, Sandals]\n",
       "sonoma goods for life                                     [Booties, Flats, Sandals]\n",
       "spring step                                                 [Flats, Sandals, Heels]\n",
       "style charles by charles david         [Sandals, Boots, Heels, Ballet Flats, Flats]\n",
       "sugar                                                                       [Boots]\n",
       "under armour                                                             [Sneakers]\n",
       "unionbay                                                                    [Flats]\n",
       "vans                                                                     [Sneakers]\n",
       "Name: Type, Length: 125, dtype: object"
      ]
     },
     "execution_count": 12,
     "metadata": {},
     "output_type": "execute_result"
    }
   ],
   "source": [
    "typebybrand_df = shoes_df.groupby(\"Brand\")[\"Type\"].unique()\n",
    "typebybrand_df"
   ]
  },
  {
   "cell_type": "code",
   "execution_count": 13,
   "metadata": {},
   "outputs": [
    {
     "data": {
      "text/plain": [
       "Brand\n",
       "2 lips too                         67.320526\n",
       "Altra                             129.950000\n",
       "Arc'teryx                         170.000000\n",
       "Asics                             119.950000\n",
       "Astral                             89.925000\n",
       "Birkenstock                       133.333333\n",
       "Bogs                               64.990000\n",
       "Brinley Co.                        53.353684\n",
       "Brooks                            125.213158\n",
       "Carrini                            34.950000\n",
       "Chaco                             119.950000\n",
       "Daniel Green                       35.000000\n",
       "Danskin Now                        19.740000\n",
       "Dansko                            130.000000\n",
       "Dr. Scholl's                       76.961479\n",
       "ELLIE SHOES                        37.410000\n",
       "Earth Spirit                       19.820000\n",
       "Easy Street                        54.990000\n",
       "FOREVER YOUNG                      45.990000\n",
       "Faded Glory                        14.587500\n",
       "Fergalicious                       54.950000\n",
       "Free People                       178.000000\n",
       "Frye                              165.450000\n",
       "Genuine Dickies                    19.970000\n",
       "Hoka One One                      144.235714\n",
       "IB Non-Slip                        39.990000\n",
       "Inov 8                            126.450000\n",
       "KEEN                              109.950000\n",
       "Kaanas                            128.950000\n",
       "Keds                               49.990000\n",
       "                                     ...    \n",
       "kisses by 2 lips too               76.946522\n",
       "koolaburra by ugg                  89.990000\n",
       "lc lauren conrad                   50.279855\n",
       "lifestride                         59.732622\n",
       "lugz                               84.990000\n",
       "madden nyc                         50.466190\n",
       "muk luks                           36.000000\n",
       "naturalsoul by naturalizer         71.485327\n",
       "new balance                        69.159922\n",
       "nike                               67.929825\n",
       "nyla                               69.950000\n",
       "olivia miller                      84.990000\n",
       "puma                               70.000000\n",
       "qupid                              54.323333\n",
       "rampage                            69.990000\n",
       "reef                               39.990000\n",
       "rocky 4eursole                    120.272727\n",
       "ryka                               62.286124\n",
       "seven7                             39.636429\n",
       "simply vera vera wang              68.648537\n",
       "skechers                           64.611622\n",
       "so                                 56.265047\n",
       "soft style by hush puppies         51.640000\n",
       "sonoma goods for life              69.815328\n",
       "spring step                        62.774810\n",
       "style charles by charles david     88.853556\n",
       "sugar                              49.990000\n",
       "under armour                       79.990000\n",
       "unionbay                           47.990000\n",
       "vans                               60.615000\n",
       "Name: Prices, Length: 125, dtype: float64"
      ]
     },
     "execution_count": 13,
     "metadata": {},
     "output_type": "execute_result"
    }
   ],
   "source": [
    "pricesbybrand_df = shoes_df.groupby(\"Brand\")[\"Prices\"].mean()\n",
    "pricesbybrand_df"
   ]
  },
  {
   "cell_type": "code",
   "execution_count": 14,
   "metadata": {},
   "outputs": [
    {
     "data": {
      "text/plain": [
       "Color\n",
       "Black          [Heels, Booties, Sandals, Flats, Boots, Ballet...\n",
       "Brown          [Heels, Sandals, Booties, Boots, Flats, Ballet...\n",
       "Cream                                      [Flats, Ballet Flats]\n",
       "Dark Blue      [Heels, Sandals, Flats, Ballet Flats, Sneakers...\n",
       "Dark Green     [Booties, Sneakers, Heels, Ballet Flats, Flats...\n",
       "Dark Red       [Ballet Flats, Sandals, Heels, Booties, Flats,...\n",
       "Gold           [Heels, Ballet Flats, Sandals, Sneakers, Flats...\n",
       "Gray           [Heels, Booties, Sandals, Flats, Boots, Sneake...\n",
       "Light Blue     [Heels, Sandals, Athletic Shoes, Flats, Sneake...\n",
       "Light Green              [Flats, Sandals, Heels, Athletic Shoes]\n",
       "Orange                   [Flats, Sandals, Athletic Shoes, Heels]\n",
       "Pink           [Heels, Sandals, Athletic Shoes, Ballet Flats,...\n",
       "Print          [Heels, Flats, Sandals, Ballet Flats, Athletic...\n",
       "Purple                  [Athletic Shoes, Sneakers, Heels, Flats]\n",
       "Red            [Booties, Heels, Athletic Shoes, Flats, Sandal...\n",
       "Tan            [Booties, Flats, Heels, Boots, Ballet Flats, S...\n",
       "White          [Heels, Sandals, Sneakers, Athletic Shoes, Bal...\n",
       "Yellow                                          [Sandals, Boots]\n",
       "Name: Type, dtype: object"
      ]
     },
     "execution_count": 14,
     "metadata": {},
     "output_type": "execute_result"
    }
   ],
   "source": [
    "typebycolor_df = shoes_df.groupby(\"Color\")[\"Type\"].unique()\n",
    "typebycolor_df"
   ]
  },
  {
   "cell_type": "code",
   "execution_count": 15,
   "metadata": {},
   "outputs": [
    {
     "data": {
      "text/plain": [
       "Type\n",
       "Athletic Shoes    79.378627\n",
       "Ballet Flats      60.734369\n",
       "Booties           80.884943\n",
       "Boots             88.556571\n",
       "Flats             60.778856\n",
       "Heels             63.413144\n",
       "Sandals           60.475701\n",
       "Sneakers          69.904569\n",
       "Name: Prices, dtype: float64"
      ]
     },
     "execution_count": 15,
     "metadata": {},
     "output_type": "execute_result"
    }
   ],
   "source": [
    "avgpricesbytype_df = shoes_df.groupby(\"Type\")[\"Prices\"].mean()\n",
    "avgpricesbytype_df"
   ]
  },
  {
   "cell_type": "code",
   "execution_count": 16,
   "metadata": {},
   "outputs": [
    {
     "data": {
      "image/png": "[encoded data removed]",
      "text/plain": [
       "<Figure size 432x288 with 1 Axes>"
      ]
     },
     "metadata": {
      "needs_background": "light"
     },
     "output_type": "display_data"
    }
   ],
   "source": [
    "plt.bar(shoes_df[\"Type\"], shoes_df[\"Prices\"], label = \"Average Prices by Type\",\n",
    "        color = \"lightcoral\")\n",
    "plt.title(\"Average Prices by Type in A/W 2018\")\n",
    "plt.xticks(rotation=45)\n",
    "plt.savefig('pricesbytype.png')\n",
    "plt.show()"
   ]
  },
  {
   "cell_type": "code",
   "execution_count": 17,
   "metadata": {},
   "outputs": [
    {
     "data": {
      "text/plain": [
       "array(['2/11/18', '1/21/18', '2/1/18', '1/28/18', '2/14/18', '1/29/18',\n",
       "       '1/9/18', '1/10/18', '1/2/18', '2/12/18', '1/19/18', '4/10/18',\n",
       "       '4/7/18', '6/18/18', '1/25/18', '1/30/18', '7/3/18', '1/11/18',\n",
       "       '6/25/18', '4/6/18', '6/28/18', '3/17/18', '3/12/18', '1/4/18',\n",
       "       '1/3/18', '1/31/18', '2/13/18', '1/7/18', '6/27/18', '7/2/18',\n",
       "       '1/22/18', '1/1/18', '1/20/18', '6/5/18', '1/5/18', '1/18/18',\n",
       "       '3/11/18', '2/5/18', '7/4/18', '3/20/18', '2/7/18', '10/15/18',\n",
       "       '1/23/18', '6/30/18', '5/21/18', '1/6/18', '6/22/18', '6/23/18',\n",
       "       '4/21/18', '10/23/18', '2/28/18', '5/29/18'], dtype=object)"
      ]
     },
     "execution_count": 17,
     "metadata": {},
     "output_type": "execute_result"
    }
   ],
   "source": [
    "date_df = shoes_df[\"Date\"].unique()\n",
    "date_df"
   ]
  },
  {
   "cell_type": "code",
   "execution_count": 18,
   "metadata": {},
   "outputs": [
    {
     "data": {
      "text/plain": [
       "Type\n",
       "Athletic Shoes    [1/19/18, 2/1/18, 4/10/18, 4/7/18, 6/18/18, 7/...\n",
       "Ballet Flats      [2/1/18, 1/10/18, 1/22/18, 1/21/18, 4/10/18, 4...\n",
       "Booties           [1/21/18, 2/1/18, 1/29/18, 1/4/18, 1/28/18, 1/...\n",
       "Boots             [2/1/18, 3/17/18, 3/12/18, 1/28/18, 1/4/18, 1/...\n",
       "Flats             [2/1/18, 1/2/18, 1/28/18, 1/10/18, 2/12/18, 4/...\n",
       "Heels             [2/11/18, 2/1/18, 1/28/18, 2/14/18, 1/9/18, 1/...\n",
       "Sandals           [1/29/18, 1/10/18, 2/1/18, 1/28/18, 1/5/18, 6/...\n",
       "Sneakers          [2/1/18, 4/6/18, 1/10/18, 1/30/18, 1/20/18, 1/...\n",
       "Name: Date, dtype: object"
      ]
     },
     "execution_count": 18,
     "metadata": {},
     "output_type": "execute_result"
    }
   ],
   "source": [
    "typecount_df = shoes_df.groupby(\"Type\")[\"Date\"].unique()\n",
    "typecount_df"
   ]
  },
  {
   "cell_type": "code",
   "execution_count": 19,
   "metadata": {},
   "outputs": [
    {
     "data": {
      "image/png": "[encoded data removed]",
      "text/plain": [
       "<Figure size 432x288 with 1 Axes>"
      ]
     },
     "metadata": {
      "needs_background": "light"
     },
     "output_type": "display_data"
    }
   ],
   "source": [
    "plt.scatter(shoes_df[\"Color\"], shoes_df[\"Type\"], label = \"Shoes\",\n",
    "                    color = \"coral\", edgecolors = \"black\", alpha = 0.5) \n",
    "plt.xticks(rotation=45)\n",
    "plt.show()"
   ]
  },
  {
   "cell_type": "code",
   "execution_count": 20,
   "metadata": {},
   "outputs": [
    {
     "data": {
      "text/plain": [
       "array(['kohls', 'backcountry', 'walmart', 'overstock', 'evo.com'],\n",
       "      dtype=object)"
      ]
     },
     "execution_count": 20,
     "metadata": {},
     "output_type": "execute_result"
    }
   ],
   "source": [
    "merchantname_df = shoes_df[\"Merchant\"].unique()\n",
    "merchantname_df"
   ]
  },
  {
   "cell_type": "code",
   "execution_count": 21,
   "metadata": {},
   "outputs": [
    {
     "data": {
      "text/plain": [
       "Merchant\n",
       "backcountry     41880.34\n",
       "evo.com          1979.60\n",
       "kohls          645107.64\n",
       "overstock         201.94\n",
       "walmart          3065.92\n",
       "Name: Prices, dtype: float64"
      ]
     },
     "execution_count": 21,
     "metadata": {},
     "output_type": "execute_result"
    }
   ],
   "source": [
    "pricesbymerchant_df = shoes_df.groupby(\"Merchant\")[\"Prices\"].sum()\n",
    "pricesbymerchant_df"
   ]
  },
  {
   "cell_type": "code",
   "execution_count": 22,
   "metadata": {},
   "outputs": [
    {
     "data": {
      "text/plain": [
       "Merchant\n",
       "backcountry     352\n",
       "evo.com           8\n",
       "kohls          9556\n",
       "overstock         2\n",
       "walmart          82\n",
       "Name: Date, dtype: int64"
      ]
     },
     "execution_count": 22,
     "metadata": {},
     "output_type": "execute_result"
    }
   ],
   "source": [
    "totalmerchant_df = shoes_df.groupby(\"Merchant\")[\"Date\"].count()\n",
    "totalmerchant_df"
   ]
  },
  {
   "cell_type": "code",
   "execution_count": 23,
   "metadata": {},
   "outputs": [
    {
     "data": {
      "text/plain": [
       "array(['kohls', 'backcountry', 'walmart', 'overstock', 'evo.com'],\n",
       "      dtype=object)"
      ]
     },
     "execution_count": 23,
     "metadata": {},
     "output_type": "execute_result"
    }
   ],
   "source": [
    "merchantcount_df = shoes_df[\"Merchant\"].value_counts()\n",
    "merchantcount_df\n",
    "\n",
    "merchants_df = shoes_df[\"Merchant\"].unique()\n",
    "merchants_df"
   ]
  },
  {
   "cell_type": "code",
   "execution_count": 24,
   "metadata": {},
   "outputs": [
    {
     "data": {
      "image/png": "[encoded data removed]",
      "text/plain": [
       "<Figure size 432x288 with 1 Axes>"
      ]
     },
     "metadata": {
      "needs_background": "light"
     },
     "output_type": "display_data"
    }
   ],
   "source": [
    "plt.plot(merchants_df, merchantcount_df, label = \"Sales by Merchant\")\n",
    "plt.title(\"Total Sales by Merchant in A/W 2018\")\n",
    "plt.xticks(rotation=45)\n",
    "plt.xlabel(\"Merchant Name\")\n",
    "plt.ylabel(\"Number of Sales\")\n",
    "plt.savefig('salesbymerchant.png')\n",
    "plt.show()"
   ]
  },
  {
   "cell_type": "code",
   "execution_count": 25,
   "metadata": {},
   "outputs": [
    {
     "data": {
      "text/plain": [
       "<matplotlib.axes._subplots.AxesSubplot at 0x1a2b2030f0>"
      ]
     },
     "execution_count": 25,
     "metadata": {},
     "output_type": "execute_result"
    },
    {
     "data": {
      "image/png": "[encoded data removed]",
      "text/plain": [
       "<Figure size 432x288 with 1 Axes>"
      ]
     },
     "metadata": {
      "needs_background": "light"
     },
     "output_type": "display_data"
    }
   ],
   "source": [
    "sns.violinplot(merchants_df, merchantcount_df, color=\"red\", scale=\"count\",)\n"
   ]
  },
  {
   "cell_type": "code",
   "execution_count": 26,
   "metadata": {},
   "outputs": [
    {
     "data": {
      "text/plain": [
       "array(['Heels', 'Booties', 'Sandals', 'Flats', 'Boots', 'Ballet Flats',\n",
       "       'Sneakers', 'Athletic Shoes'], dtype=object)"
      ]
     },
     "execution_count": 26,
     "metadata": {},
     "output_type": "execute_result"
    }
   ],
   "source": [
    "shoecount_df = shoes_df[\"Type\"].value_counts()\n",
    "shoecount_df\n",
    "\n",
    "shoetypes_df = shoes_df[\"Type\"].unique()\n",
    "shoetypes_df"
   ]
  },
  {
   "cell_type": "code",
   "execution_count": 27,
   "metadata": {},
   "outputs": [
    {
     "data": {
      "image/png": "[encoded data removed]",
      "text/plain": [
       "<Figure size 432x288 with 1 Axes>"
      ]
     },
     "metadata": {
      "needs_background": "light"
     },
     "output_type": "display_data"
    }
   ],
   "source": [
    "plt.bar(shoetypes_df, shoecount_df, label = \"Total Sales by Type\", color = \"lightcoral\")\n",
    "plt.title(\"Total Sales by Type in A/W 2018\")\n",
    "plt.xticks(rotation=45)\n",
    "plt.xlabel(\"Type of Shoes\")\n",
    "plt.ylabel(\"Number of Pairs Sold\")\n",
    "plt.savefig('salesbytype.png')\n",
    "plt.show()"
   ]
  },
  {
   "cell_type": "code",
   "execution_count": 28,
   "metadata": {},
   "outputs": [
    {
     "data": {
      "text/plain": [
       "Black          2871\n",
       "Gray           1775\n",
       "Tan            1300\n",
       "Dark Blue       997\n",
       "Brown           919\n",
       "White           545\n",
       "Light Blue      302\n",
       "Pink            297\n",
       "Dark Red        224\n",
       "Red             211\n",
       "Dark Green      154\n",
       "Gold            151\n",
       "Print           127\n",
       "Purple           64\n",
       "Orange           46\n",
       "Light Green       9\n",
       "Yellow            5\n",
       "Cream             3\n",
       "Name: Color, dtype: int64"
      ]
     },
     "execution_count": 28,
     "metadata": {},
     "output_type": "execute_result"
    }
   ],
   "source": [
    "colorcount_df = shoes_df[\"Color\"].value_counts()\n",
    "colorcount_df"
   ]
  },
  {
   "cell_type": "code",
   "execution_count": 30,
   "metadata": {},
   "outputs": [],
   "source": [
    "#plt.bar(colorcount_df, shoecount_df, label = \"Colors\", color = \"coral\") \n",
    "#plt.xticks(rotation=45)\n",
    "#plt.show()"
   ]
  },
  {
   "cell_type": "code",
   "execution_count": 35,
   "metadata": {},
   "outputs": [
    {
     "data": {
      "text/plain": [
       "(-0.5, 399.5, 199.5, -0.5)"
      ]
     },
     "execution_count": 35,
     "metadata": {},
     "output_type": "execute_result"
    },
    {
     "data": {
      "image/png": "[encoded data removed]",
      "text/plain": [
       "<Figure size 432x288 with 1 Axes>"
      ]
     },
     "metadata": {
      "needs_background": "light"
     },
     "output_type": "display_data"
    }
   ],
   "source": [
    "para_docs=(shoes_df.Color.astype('str'))\n",
    "color_cloud= WordCloud(background_color='white',stopwords= STOPWORDS, random_state=1).generate(str(para_docs))\n",
    " #Generate the wordcloud output\n",
    "plt.imshow(color_cloud)\n",
    "plt.savefig('colorcloud.png')\n",
    "plt.axis('off')"
   ]
  },
  {
   "cell_type": "code",
   "execution_count": null,
   "metadata": {},
   "outputs": [],
   "source": [
    "spring19_df = spring19_df.drop(columns=[\"id\",\n",
    "                                  \"dateAdded\",\n",
    "                                  \"dateUpdated\",\n",
    "                                  \"asins\",\n",
    "                                  \"dimension\",\n",
    "                                  \"ean / upc\",\n",
    "                                  \"imageURLs\",\n",
    "                                  \"keys\",\n",
    "                                  \"manufacturerNumber\",\n",
    "                                  \"prices.availability\",\n",
    "                                  \"prices.condition\",\n",
    "                                  \"prices.dateAdded\",\n",
    "                                  \"prices.dateSeen\",\n",
    "                                  \"prices.offer\",\n",
    "                                  \"prices.returnPolicy\",\n",
    "                                        \"sizes\",\n",
    "                                        \"prices.shipping\",\n",
    "                                        \"prices.merchant\",\n",
    "                                        \"manufacturer\",\n",
    "                                  \"prices.isSale\",\n",
    "                                  \"primaryCategories\",\n",
    "                                  \"prices.sourceURLs\",\n",
    "                                  \"categories\",\n",
    "                                        \"prices.amountMin\",\n",
    "                                        \"prices.size\",\n",
    "                                        \"prices.color\",\n",
    "                                        \"sourceURLs\"\n",
    "                         ])\n",
    "#spring19_df.head()"
   ]
  },
  {
   "cell_type": "code",
   "execution_count": null,
   "metadata": {},
   "outputs": [],
   "source": [
    "#spring19_df.info()"
   ]
  },
  {
   "cell_type": "code",
   "execution_count": null,
   "metadata": {},
   "outputs": [],
   "source": [
    "spring19_df = spring19_df.rename(columns={#\"prices.merchant\": \"Merchant\",\n",
    "                                    \"brand\": \"Brand\",\n",
    "                                    \"colors\" : \"Color\",\n",
    "                                    \"prices.currency\": \"Currency\",\n",
    "                                    \"prices.amountMax\": \"Prices\"\n",
    "                                   })\n",
    "spring19_df.head()"
   ]
  },
  {
   "cell_type": "code",
   "execution_count": null,
   "metadata": {},
   "outputs": [],
   "source": [
    "typebybrand19_df = spring19_df.groupby(\"Brand\")[\"Type\"].value_counts()\n",
    "typebybrand19_df"
   ]
  },
  {
   "cell_type": "code",
   "execution_count": null,
   "metadata": {},
   "outputs": [],
   "source": [
    "pricesbybrand19_df = spring19_df.groupby(\"Brand\")[\"Prices\"].mean()\n",
    "pricesbybrand19_df"
   ]
  },
  {
   "cell_type": "code",
   "execution_count": null,
   "metadata": {},
   "outputs": [],
   "source": [
    "typebycolor19_df = spring19_df.groupby(\"Color\")[\"Type\"].value_counts()\n",
    "typebycolor19_df"
   ]
  },
  {
   "cell_type": "code",
   "execution_count": null,
   "metadata": {},
   "outputs": [],
   "source": [
    "avgpricesbytype19_df = spring19_df.groupby(\"Type\")[\"Prices\"].mean()\n",
    "avgpricesbytype19_df"
   ]
  },
  {
   "cell_type": "code",
   "execution_count": null,
   "metadata": {},
   "outputs": [],
   "source": [
    "typecount19_df = spring19_df.groupby(\"Type\")[\"Date\"].count()\n",
    "typecount19_df"
   ]
  },
  {
   "cell_type": "code",
   "execution_count": null,
   "metadata": {},
   "outputs": [],
   "source": [
    "merchantname19_df = spring19_df[\"Merchant\"].unique()\n",
    "merchantname19_df"
   ]
  },
  {
   "cell_type": "code",
   "execution_count": null,
   "metadata": {},
   "outputs": [],
   "source": [
    "pricesbymerchant19_df = spring19_df.groupby(\"Merchant\")[\"Prices\"].sum()\n",
    "pricesbymerchant19_df"
   ]
  },
  {
   "cell_type": "code",
   "execution_count": null,
   "metadata": {},
   "outputs": [],
   "source": [
    "totalmerchant19_df = spring19_df.groupby(\"Merchant\")[\"Date\"].count()\n",
    "totalmerchant19_df"
   ]
  },
  {
   "cell_type": "code",
   "execution_count": null,
   "metadata": {},
   "outputs": [],
   "source": [
    "#mens_shoes_df = mens_shoes_df.drop(columns=[\"id\",\n",
    "#                                            \"asins\",\n",
    "#                                            \"count\",\n",
    "#                                            \"imageURLs\",\n",
    "#                                            \"descriptions\",\n",
    "#                                            \"dimension\",\n",
    "#                                            \"ean\",\n",
    "#                                            \"features\",\n",
    "#                                            \"flavors\",\n",
    "#                                            \"isbn\",\n",
    "#                                            \"keys\",\n",
    "#                                            \"manufacturer\",\n",
    "#                                            \"manufacturerNumber\",\n",
    "#                                            \"prices.availability\",\n",
    "#                                            \"prices.condition\",\n",
    "#                                            \"prices.count\",\n",
    "#                                            \"prices.dateAdded\",\n",
    "#                                            \"prices.dateSeen\",\n",
    "#                                            \"prices.flavor\",\n",
    "#                                            \"prices.offer\",\n",
    "#                                            \"prices.returnPolicy\",\n",
    "#                                            \"prices.shipping\",\n",
    "#                                            \"prices.size\",\n",
    "#                                            \"prices.source\",\n",
    "#                                            \"prices.warranty\",\n",
    "#                                            \"quantities\",\n",
    "#                                            \"reviews\",\n",
    "#                                            \"sizes\",\n",
    "#                                            \"skus\",\n",
    "#                                            \"sourceURLs\",\n",
    "#                                            \"upc\",\n",
    "#                                            \"vin\",\n",
    "#                                            \"websiteIDs\",\n",
    "#                                            \"weight\",\n",
    "#                                            \"prices.color\",\n",
    "#                                            \"dateAdded\",\n",
    "#                                            \"dateUpdated\",\n",
    "#                                            \"Unnamed: 50\"\n",
    "#                                           ])"
   ]
  },
  {
   "cell_type": "code",
   "execution_count": null,
   "metadata": {},
   "outputs": [],
   "source": []
  },
  {
   "cell_type": "code",
   "execution_count": null,
   "metadata": {},
   "outputs": [],
   "source": [
    "#mens_shoes_df = mens_shoes_df[pd.notnull(mens_shoes_df['colors'])]\n",
    "#mens_shoes_df.head()"
   ]
  },
  {
   "cell_type": "code",
   "execution_count": null,
   "metadata": {},
   "outputs": [],
   "source": [
    "#mens_shoes_df.info()"
   ]
  },
  {
   "cell_type": "code",
   "execution_count": null,
   "metadata": {},
   "outputs": [],
   "source": []
  }
 ],
 "metadata": {
  "kernelspec": {
   "display_name": "Python 3",
   "language": "python",
   "name": "python3"
  },
  "language_info": {
   "codemirror_mode": {
    "name": "ipython",
    "version": 3
   },
   "file_extension": ".py",
   "mimetype": "text/x-python",
   "name": "python",
   "nbconvert_exporter": "python",
   "pygments_lexer": "ipython3",
   "version": "3.6.8"
  }
 },
 "nbformat": 4,
 "nbformat_minor": 2
}
