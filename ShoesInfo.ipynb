{
 "cells": [
  {
   "cell_type": "code",
   "execution_count": 1,
   "metadata": {},
   "outputs": [],
   "source": [
    "# import dependencies\n",
    "%matplotlib inline\n",
    "import pandas as pd\n",
    "import matplotlib.pyplot as plt\n",
    "import numpy as np\n",
    "import os\n",
    "import plotly\n",
    "from PIL import Image\n",
    "import seaborn as sns\n",
    "from wordcloud import WordCloud, STOPWORDS, ImageColorGenerator"
   ]
  },
  {
   "cell_type": "code",
   "execution_count": 3,
   "metadata": {},
   "outputs": [],
   "source": [
    "# location of the CSV file\n",
    "womens_csv = \"../Project1/Resources/2018_Womens_Shoes.csv\"\n",
    "mens_csv = \"../Project1/Resources/mens_shoe_prices.csv\"\n",
    "spring19_womens_csv = \"../Project1/Resources/Spring19_women.csv\""
   ]
  },
  {
   "cell_type": "code",
   "execution_count": 4,
   "metadata": {},
   "outputs": [
    {
     "data": {
      "text/html": [
       "<div>\n",
       "<style scoped>\n",
       "    .dataframe tbody tr th:only-of-type {\n",
       "        vertical-align: middle;\n",
       "    }\n",
       "\n",
       "    .dataframe tbody tr th {\n",
       "        vertical-align: top;\n",
       "    }\n",
       "\n",
       "    .dataframe thead th {\n",
       "        text-align: right;\n",
       "    }\n",
       "</style>\n",
       "<table border=\"1\" class=\"dataframe\">\n",
       "  <thead>\n",
       "    <tr style=\"text-align: right;\">\n",
       "      <th></th>\n",
       "      <th>id</th>\n",
       "      <th>Date_Added</th>\n",
       "      <th>date_updated</th>\n",
       "      <th>brand</th>\n",
       "      <th>categories</th>\n",
       "      <th>primaryCategories</th>\n",
       "      <th>imageURLs</th>\n",
       "      <th>keys</th>\n",
       "      <th>manufacturer</th>\n",
       "      <th>manufacturerNumber</th>\n",
       "      <th>...</th>\n",
       "      <th>prices.dateAdded</th>\n",
       "      <th>prices.dateSeen</th>\n",
       "      <th>prices.isSale</th>\n",
       "      <th>prices.size</th>\n",
       "      <th>Merchant</th>\n",
       "      <th>prices.sourceURLs</th>\n",
       "      <th>sizes</th>\n",
       "      <th>sourceURLs</th>\n",
       "      <th>upc</th>\n",
       "      <th>weight</th>\n",
       "    </tr>\n",
       "  </thead>\n",
       "  <tbody>\n",
       "    <tr>\n",
       "      <th>0</th>\n",
       "      <td>AV_Ee528Hh53nbDR_0vY</td>\n",
       "      <td>11/16/17</td>\n",
       "      <td>2/11/18</td>\n",
       "      <td>2 lips too</td>\n",
       "      <td>Womens,Shoes,Pumps,Heels,2 Lips Too</td>\n",
       "      <td>Shoes</td>\n",
       "      <td>https://media.kohlsimg.com/is/image/kohls/2552...</td>\n",
       "      <td>2lipstootooellewomenshighheelsandals/84360578,...</td>\n",
       "      <td>NaN</td>\n",
       "      <td>NaN</td>\n",
       "      <td>...</td>\n",
       "      <td>2018-01-10T19:30:29Z</td>\n",
       "      <td>2018-01-09T13:35:00.000Z,2018-01-05T13:09:00.0...</td>\n",
       "      <td>False</td>\n",
       "      <td>9.5 MED</td>\n",
       "      <td>kohls</td>\n",
       "      <td>https://www.kohls.com/product/prd-2552591/2-li...</td>\n",
       "      <td>5.5 MED,6 MED,6.5 MED,7 MED,7.5 MED,8.5 MED,9 ...</td>\n",
       "      <td>https://www.kohls.com/product/prd-2552591/2-li...</td>\n",
       "      <td>887063591443,887063591146,887063590842,8870635...</td>\n",
       "      <td>NaN</td>\n",
       "    </tr>\n",
       "    <tr>\n",
       "      <th>1</th>\n",
       "      <td>AV_Ee528Hh53nbDR_0vY</td>\n",
       "      <td>11/16/17</td>\n",
       "      <td>2/11/18</td>\n",
       "      <td>2 lips too</td>\n",
       "      <td>Womens,Shoes,Pumps,Heels,2 Lips Too</td>\n",
       "      <td>Shoes</td>\n",
       "      <td>https://media.kohlsimg.com/is/image/kohls/2552...</td>\n",
       "      <td>2lipstootooellewomenshighheelsandals/84360578,...</td>\n",
       "      <td>NaN</td>\n",
       "      <td>NaN</td>\n",
       "      <td>...</td>\n",
       "      <td>2017-11-17T15:54:13Z</td>\n",
       "      <td>2017-11-03T07:19:00.000Z</td>\n",
       "      <td>False</td>\n",
       "      <td>5.5 MED</td>\n",
       "      <td>kohls</td>\n",
       "      <td>https://www.kohls.com/product/prd-2552591/2-li...</td>\n",
       "      <td>5.5 MED,6 MED,6.5 MED,7 MED,7.5 MED,8.5 MED,9 ...</td>\n",
       "      <td>https://www.kohls.com/product/prd-2552591/2-li...</td>\n",
       "      <td>887063591443,887063591146,887063590842,8870635...</td>\n",
       "      <td>NaN</td>\n",
       "    </tr>\n",
       "    <tr>\n",
       "      <th>2</th>\n",
       "      <td>AV_Ee528Hh53nbDR_0vY</td>\n",
       "      <td>11/16/17</td>\n",
       "      <td>2/11/18</td>\n",
       "      <td>2 lips too</td>\n",
       "      <td>Womens,Shoes,Pumps,Heels,2 Lips Too</td>\n",
       "      <td>Shoes</td>\n",
       "      <td>https://media.kohlsimg.com/is/image/kohls/2552...</td>\n",
       "      <td>2lipstootooellewomenshighheelsandals/84360578,...</td>\n",
       "      <td>NaN</td>\n",
       "      <td>NaN</td>\n",
       "      <td>...</td>\n",
       "      <td>2017-11-17T15:54:13Z</td>\n",
       "      <td>2017-11-03T07:19:00.000Z</td>\n",
       "      <td>False</td>\n",
       "      <td>9 MED</td>\n",
       "      <td>kohls</td>\n",
       "      <td>https://www.kohls.com/product/prd-2552591/2-li...</td>\n",
       "      <td>5.5 MED,6 MED,6.5 MED,7 MED,7.5 MED,8.5 MED,9 ...</td>\n",
       "      <td>https://www.kohls.com/product/prd-2552591/2-li...</td>\n",
       "      <td>887063591443,887063591146,887063590842,8870635...</td>\n",
       "      <td>NaN</td>\n",
       "    </tr>\n",
       "    <tr>\n",
       "      <th>3</th>\n",
       "      <td>AV_Ee528Hh53nbDR_0vY</td>\n",
       "      <td>11/16/17</td>\n",
       "      <td>2/11/18</td>\n",
       "      <td>2 lips too</td>\n",
       "      <td>Womens,Shoes,Pumps,Heels,2 Lips Too</td>\n",
       "      <td>Shoes</td>\n",
       "      <td>https://media.kohlsimg.com/is/image/kohls/2552...</td>\n",
       "      <td>2lipstootooellewomenshighheelsandals/84360578,...</td>\n",
       "      <td>NaN</td>\n",
       "      <td>NaN</td>\n",
       "      <td>...</td>\n",
       "      <td>2017-11-17T15:54:13Z</td>\n",
       "      <td>2017-11-03T07:19:00.000Z</td>\n",
       "      <td>False</td>\n",
       "      <td>7.5 MED</td>\n",
       "      <td>kohls</td>\n",
       "      <td>https://www.kohls.com/product/prd-2552591/2-li...</td>\n",
       "      <td>5.5 MED,6 MED,6.5 MED,7 MED,7.5 MED,8.5 MED,9 ...</td>\n",
       "      <td>https://www.kohls.com/product/prd-2552591/2-li...</td>\n",
       "      <td>887063591443,887063591146,887063590842,8870635...</td>\n",
       "      <td>NaN</td>\n",
       "    </tr>\n",
       "    <tr>\n",
       "      <th>4</th>\n",
       "      <td>AV_Ee528Hh53nbDR_0vY</td>\n",
       "      <td>11/16/17</td>\n",
       "      <td>2/11/18</td>\n",
       "      <td>2 lips too</td>\n",
       "      <td>Womens,Shoes,Pumps,Heels,2 Lips Too</td>\n",
       "      <td>Shoes</td>\n",
       "      <td>https://media.kohlsimg.com/is/image/kohls/2552...</td>\n",
       "      <td>2lipstootooellewomenshighheelsandals/84360578,...</td>\n",
       "      <td>NaN</td>\n",
       "      <td>NaN</td>\n",
       "      <td>...</td>\n",
       "      <td>2018-02-11T05:04:36Z</td>\n",
       "      <td>2018-01-16T16:06:00.000Z,2018-01-14T08:55:00.000Z</td>\n",
       "      <td>False</td>\n",
       "      <td>9 MED</td>\n",
       "      <td>kohls</td>\n",
       "      <td>https://www.kohls.com/product/prd-2552591/2-li...</td>\n",
       "      <td>5.5 MED,6 MED,6.5 MED,7 MED,7.5 MED,8.5 MED,9 ...</td>\n",
       "      <td>https://www.kohls.com/product/prd-2552591/2-li...</td>\n",
       "      <td>887063591443,887063591146,887063590842,8870635...</td>\n",
       "      <td>NaN</td>\n",
       "    </tr>\n",
       "  </tbody>\n",
       "</table>\n",
       "<p>5 rows × 28 columns</p>\n",
       "</div>"
      ],
      "text/plain": [
       "                     id Date_Added date_updated       brand  \\\n",
       "0  AV_Ee528Hh53nbDR_0vY   11/16/17      2/11/18  2 lips too   \n",
       "1  AV_Ee528Hh53nbDR_0vY   11/16/17      2/11/18  2 lips too   \n",
       "2  AV_Ee528Hh53nbDR_0vY   11/16/17      2/11/18  2 lips too   \n",
       "3  AV_Ee528Hh53nbDR_0vY   11/16/17      2/11/18  2 lips too   \n",
       "4  AV_Ee528Hh53nbDR_0vY   11/16/17      2/11/18  2 lips too   \n",
       "\n",
       "                            categories primaryCategories  \\\n",
       "0  Womens,Shoes,Pumps,Heels,2 Lips Too             Shoes   \n",
       "1  Womens,Shoes,Pumps,Heels,2 Lips Too             Shoes   \n",
       "2  Womens,Shoes,Pumps,Heels,2 Lips Too             Shoes   \n",
       "3  Womens,Shoes,Pumps,Heels,2 Lips Too             Shoes   \n",
       "4  Womens,Shoes,Pumps,Heels,2 Lips Too             Shoes   \n",
       "\n",
       "                                           imageURLs  \\\n",
       "0  https://media.kohlsimg.com/is/image/kohls/2552...   \n",
       "1  https://media.kohlsimg.com/is/image/kohls/2552...   \n",
       "2  https://media.kohlsimg.com/is/image/kohls/2552...   \n",
       "3  https://media.kohlsimg.com/is/image/kohls/2552...   \n",
       "4  https://media.kohlsimg.com/is/image/kohls/2552...   \n",
       "\n",
       "                                                keys manufacturer  \\\n",
       "0  2lipstootooellewomenshighheelsandals/84360578,...          NaN   \n",
       "1  2lipstootooellewomenshighheelsandals/84360578,...          NaN   \n",
       "2  2lipstootooellewomenshighheelsandals/84360578,...          NaN   \n",
       "3  2lipstootooellewomenshighheelsandals/84360578,...          NaN   \n",
       "4  2lipstootooellewomenshighheelsandals/84360578,...          NaN   \n",
       "\n",
       "  manufacturerNumber  ...      prices.dateAdded  \\\n",
       "0                NaN  ...  2018-01-10T19:30:29Z   \n",
       "1                NaN  ...  2017-11-17T15:54:13Z   \n",
       "2                NaN  ...  2017-11-17T15:54:13Z   \n",
       "3                NaN  ...  2017-11-17T15:54:13Z   \n",
       "4                NaN  ...  2018-02-11T05:04:36Z   \n",
       "\n",
       "                                     prices.dateSeen  prices.isSale  \\\n",
       "0  2018-01-09T13:35:00.000Z,2018-01-05T13:09:00.0...          False   \n",
       "1                           2017-11-03T07:19:00.000Z          False   \n",
       "2                           2017-11-03T07:19:00.000Z          False   \n",
       "3                           2017-11-03T07:19:00.000Z          False   \n",
       "4  2018-01-16T16:06:00.000Z,2018-01-14T08:55:00.000Z          False   \n",
       "\n",
       "   prices.size Merchant                                  prices.sourceURLs  \\\n",
       "0      9.5 MED    kohls  https://www.kohls.com/product/prd-2552591/2-li...   \n",
       "1      5.5 MED    kohls  https://www.kohls.com/product/prd-2552591/2-li...   \n",
       "2        9 MED    kohls  https://www.kohls.com/product/prd-2552591/2-li...   \n",
       "3      7.5 MED    kohls  https://www.kohls.com/product/prd-2552591/2-li...   \n",
       "4        9 MED    kohls  https://www.kohls.com/product/prd-2552591/2-li...   \n",
       "\n",
       "                                               sizes  \\\n",
       "0  5.5 MED,6 MED,6.5 MED,7 MED,7.5 MED,8.5 MED,9 ...   \n",
       "1  5.5 MED,6 MED,6.5 MED,7 MED,7.5 MED,8.5 MED,9 ...   \n",
       "2  5.5 MED,6 MED,6.5 MED,7 MED,7.5 MED,8.5 MED,9 ...   \n",
       "3  5.5 MED,6 MED,6.5 MED,7 MED,7.5 MED,8.5 MED,9 ...   \n",
       "4  5.5 MED,6 MED,6.5 MED,7 MED,7.5 MED,8.5 MED,9 ...   \n",
       "\n",
       "                                          sourceURLs  \\\n",
       "0  https://www.kohls.com/product/prd-2552591/2-li...   \n",
       "1  https://www.kohls.com/product/prd-2552591/2-li...   \n",
       "2  https://www.kohls.com/product/prd-2552591/2-li...   \n",
       "3  https://www.kohls.com/product/prd-2552591/2-li...   \n",
       "4  https://www.kohls.com/product/prd-2552591/2-li...   \n",
       "\n",
       "                                                 upc weight  \n",
       "0  887063591443,887063591146,887063590842,8870635...    NaN  \n",
       "1  887063591443,887063591146,887063590842,8870635...    NaN  \n",
       "2  887063591443,887063591146,887063590842,8870635...    NaN  \n",
       "3  887063591443,887063591146,887063590842,8870635...    NaN  \n",
       "4  887063591443,887063591146,887063590842,8870635...    NaN  \n",
       "\n",
       "[5 rows x 28 columns]"
      ]
     },
     "execution_count": 4,
     "metadata": {},
     "output_type": "execute_result"
    }
   ],
   "source": [
    "# open the CSV and see a preview\n",
    "shoes_df = pd.read_csv(womens_csv)\n",
    "shoes_df.head()"
   ]
  },
  {
   "cell_type": "code",
   "execution_count": 5,
   "metadata": {
    "scrolled": true
   },
   "outputs": [
    {
     "data": {
      "text/html": [
       "<div>\n",
       "<style scoped>\n",
       "    .dataframe tbody tr th:only-of-type {\n",
       "        vertical-align: middle;\n",
       "    }\n",
       "\n",
       "    .dataframe tbody tr th {\n",
       "        vertical-align: top;\n",
       "    }\n",
       "\n",
       "    .dataframe thead th {\n",
       "        text-align: right;\n",
       "    }\n",
       "</style>\n",
       "<table border=\"1\" class=\"dataframe\">\n",
       "  <thead>\n",
       "    <tr style=\"text-align: right;\">\n",
       "      <th></th>\n",
       "      <th>id</th>\n",
       "      <th>asins</th>\n",
       "      <th>brand</th>\n",
       "      <th>categories</th>\n",
       "      <th>colors</th>\n",
       "      <th>count</th>\n",
       "      <th>Date_Added</th>\n",
       "      <th>dateAdded</th>\n",
       "      <th>Date_Updated</th>\n",
       "      <th>dateUpdated</th>\n",
       "      <th>...</th>\n",
       "      <th>quantities</th>\n",
       "      <th>reviews</th>\n",
       "      <th>sizes</th>\n",
       "      <th>skus</th>\n",
       "      <th>sourceURLs</th>\n",
       "      <th>upc</th>\n",
       "      <th>vin</th>\n",
       "      <th>websiteIDs</th>\n",
       "      <th>weight</th>\n",
       "      <th>Unnamed: 50</th>\n",
       "    </tr>\n",
       "  </thead>\n",
       "  <tbody>\n",
       "    <tr>\n",
       "      <th>0</th>\n",
       "      <td>AVpfHsWP1cnluZ0-eVZ7</td>\n",
       "      <td>NaN</td>\n",
       "      <td>SERVUS BY HONEYWELL</td>\n",
       "      <td>All Men's Shoes,Shoes,Men's Shoes,Clothing</td>\n",
       "      <td>NaN</td>\n",
       "      <td>NaN</td>\n",
       "      <td>6/14/16</td>\n",
       "      <td>2016-06-14T04:29:57Z</td>\n",
       "      <td>7/9/16</td>\n",
       "      <td>2016-07-09T20:26:48Z</td>\n",
       "      <td>...</td>\n",
       "      <td>NaN</td>\n",
       "      <td>NaN</td>\n",
       "      <td>NaN</td>\n",
       "      <td>NaN</td>\n",
       "      <td>http://www.walmart.com/ip/Studs-Shoe-Large-Pr-...</td>\n",
       "      <td>NaN</td>\n",
       "      <td>NaN</td>\n",
       "      <td>NaN</td>\n",
       "      <td>NaN</td>\n",
       "      <td>NaN</td>\n",
       "    </tr>\n",
       "    <tr>\n",
       "      <th>1</th>\n",
       "      <td>AVpfHsWP1cnluZ0-eVZ7</td>\n",
       "      <td>NaN</td>\n",
       "      <td>SERVUS BY HONEYWELL</td>\n",
       "      <td>All Men's Shoes,Shoes,Men's Shoes,Clothing</td>\n",
       "      <td>NaN</td>\n",
       "      <td>NaN</td>\n",
       "      <td>6/14/16</td>\n",
       "      <td>2016-06-14T04:29:57Z</td>\n",
       "      <td>7/9/16</td>\n",
       "      <td>2016-07-09T20:26:48Z</td>\n",
       "      <td>...</td>\n",
       "      <td>NaN</td>\n",
       "      <td>NaN</td>\n",
       "      <td>NaN</td>\n",
       "      <td>NaN</td>\n",
       "      <td>http://www.walmart.com/ip/Studs-Shoe-Large-Pr-...</td>\n",
       "      <td>NaN</td>\n",
       "      <td>NaN</td>\n",
       "      <td>NaN</td>\n",
       "      <td>NaN</td>\n",
       "      <td>NaN</td>\n",
       "    </tr>\n",
       "    <tr>\n",
       "      <th>2</th>\n",
       "      <td>AVpfHsWP1cnluZ0-eVZ7</td>\n",
       "      <td>NaN</td>\n",
       "      <td>SERVUS BY HONEYWELL</td>\n",
       "      <td>All Men's Shoes,Shoes,Men's Shoes,Clothing</td>\n",
       "      <td>NaN</td>\n",
       "      <td>NaN</td>\n",
       "      <td>6/14/16</td>\n",
       "      <td>2016-06-14T04:29:57Z</td>\n",
       "      <td>7/9/16</td>\n",
       "      <td>2016-07-09T20:26:48Z</td>\n",
       "      <td>...</td>\n",
       "      <td>NaN</td>\n",
       "      <td>NaN</td>\n",
       "      <td>NaN</td>\n",
       "      <td>NaN</td>\n",
       "      <td>http://www.walmart.com/ip/Studs-Shoe-Large-Pr-...</td>\n",
       "      <td>NaN</td>\n",
       "      <td>NaN</td>\n",
       "      <td>NaN</td>\n",
       "      <td>NaN</td>\n",
       "      <td>NaN</td>\n",
       "    </tr>\n",
       "    <tr>\n",
       "      <th>3</th>\n",
       "      <td>AVpfHsWP1cnluZ0-eVZ7</td>\n",
       "      <td>NaN</td>\n",
       "      <td>SERVUS BY HONEYWELL</td>\n",
       "      <td>All Men's Shoes,Shoes,Men's Shoes,Clothing</td>\n",
       "      <td>NaN</td>\n",
       "      <td>NaN</td>\n",
       "      <td>6/14/16</td>\n",
       "      <td>2016-06-14T04:29:57Z</td>\n",
       "      <td>7/9/16</td>\n",
       "      <td>2016-07-09T20:26:48Z</td>\n",
       "      <td>...</td>\n",
       "      <td>NaN</td>\n",
       "      <td>NaN</td>\n",
       "      <td>NaN</td>\n",
       "      <td>NaN</td>\n",
       "      <td>http://www.walmart.com/ip/Studs-Shoe-Large-Pr-...</td>\n",
       "      <td>NaN</td>\n",
       "      <td>NaN</td>\n",
       "      <td>NaN</td>\n",
       "      <td>NaN</td>\n",
       "      <td>NaN</td>\n",
       "    </tr>\n",
       "    <tr>\n",
       "      <th>4</th>\n",
       "      <td>AVpfHsWP1cnluZ0-eVZ7</td>\n",
       "      <td>NaN</td>\n",
       "      <td>SERVUS BY HONEYWELL</td>\n",
       "      <td>All Men's Shoes,Shoes,Men's Shoes,Clothing</td>\n",
       "      <td>NaN</td>\n",
       "      <td>NaN</td>\n",
       "      <td>6/14/16</td>\n",
       "      <td>2016-06-14T04:29:57Z</td>\n",
       "      <td>7/9/16</td>\n",
       "      <td>2016-07-09T20:26:48Z</td>\n",
       "      <td>...</td>\n",
       "      <td>NaN</td>\n",
       "      <td>NaN</td>\n",
       "      <td>NaN</td>\n",
       "      <td>NaN</td>\n",
       "      <td>http://www.walmart.com/ip/Studs-Shoe-Large-Pr-...</td>\n",
       "      <td>NaN</td>\n",
       "      <td>NaN</td>\n",
       "      <td>NaN</td>\n",
       "      <td>NaN</td>\n",
       "      <td>NaN</td>\n",
       "    </tr>\n",
       "  </tbody>\n",
       "</table>\n",
       "<p>5 rows × 51 columns</p>\n",
       "</div>"
      ],
      "text/plain": [
       "                     id asins                brand  \\\n",
       "0  AVpfHsWP1cnluZ0-eVZ7   NaN  SERVUS BY HONEYWELL   \n",
       "1  AVpfHsWP1cnluZ0-eVZ7   NaN  SERVUS BY HONEYWELL   \n",
       "2  AVpfHsWP1cnluZ0-eVZ7   NaN  SERVUS BY HONEYWELL   \n",
       "3  AVpfHsWP1cnluZ0-eVZ7   NaN  SERVUS BY HONEYWELL   \n",
       "4  AVpfHsWP1cnluZ0-eVZ7   NaN  SERVUS BY HONEYWELL   \n",
       "\n",
       "                                   categories colors  count Date_Added  \\\n",
       "0  All Men's Shoes,Shoes,Men's Shoes,Clothing    NaN    NaN    6/14/16   \n",
       "1  All Men's Shoes,Shoes,Men's Shoes,Clothing    NaN    NaN    6/14/16   \n",
       "2  All Men's Shoes,Shoes,Men's Shoes,Clothing    NaN    NaN    6/14/16   \n",
       "3  All Men's Shoes,Shoes,Men's Shoes,Clothing    NaN    NaN    6/14/16   \n",
       "4  All Men's Shoes,Shoes,Men's Shoes,Clothing    NaN    NaN    6/14/16   \n",
       "\n",
       "              dateAdded Date_Updated           dateUpdated  ... quantities  \\\n",
       "0  2016-06-14T04:29:57Z       7/9/16  2016-07-09T20:26:48Z  ...        NaN   \n",
       "1  2016-06-14T04:29:57Z       7/9/16  2016-07-09T20:26:48Z  ...        NaN   \n",
       "2  2016-06-14T04:29:57Z       7/9/16  2016-07-09T20:26:48Z  ...        NaN   \n",
       "3  2016-06-14T04:29:57Z       7/9/16  2016-07-09T20:26:48Z  ...        NaN   \n",
       "4  2016-06-14T04:29:57Z       7/9/16  2016-07-09T20:26:48Z  ...        NaN   \n",
       "\n",
       "  reviews  sizes skus                                         sourceURLs  upc  \\\n",
       "0     NaN    NaN  NaN  http://www.walmart.com/ip/Studs-Shoe-Large-Pr-...  NaN   \n",
       "1     NaN    NaN  NaN  http://www.walmart.com/ip/Studs-Shoe-Large-Pr-...  NaN   \n",
       "2     NaN    NaN  NaN  http://www.walmart.com/ip/Studs-Shoe-Large-Pr-...  NaN   \n",
       "3     NaN    NaN  NaN  http://www.walmart.com/ip/Studs-Shoe-Large-Pr-...  NaN   \n",
       "4     NaN    NaN  NaN  http://www.walmart.com/ip/Studs-Shoe-Large-Pr-...  NaN   \n",
       "\n",
       "   vin websiteIDs weight Unnamed: 50  \n",
       "0  NaN        NaN    NaN         NaN  \n",
       "1  NaN        NaN    NaN         NaN  \n",
       "2  NaN        NaN    NaN         NaN  \n",
       "3  NaN        NaN    NaN         NaN  \n",
       "4  NaN        NaN    NaN         NaN  \n",
       "\n",
       "[5 rows x 51 columns]"
      ]
     },
     "execution_count": 5,
     "metadata": {},
     "output_type": "execute_result"
    }
   ],
   "source": [
    "mens_shoes_df = pd.read_csv(mens_csv, error_bad_lines=False)\n",
    "mens_shoes_df.head()"
   ]
  },
  {
   "cell_type": "code",
   "execution_count": 6,
   "metadata": {
    "scrolled": true
   },
   "outputs": [],
   "source": [
    "spring19_df = pd.read_csv(spring19_womens_csv)\n",
    "#spring19_df.head()"
   ]
  },
  {
   "cell_type": "code",
   "execution_count": 7,
   "metadata": {},
   "outputs": [],
   "source": [
    "#spring19_df.info()"
   ]
  },
  {
   "cell_type": "code",
   "execution_count": 8,
   "metadata": {},
   "outputs": [],
   "source": [
    "# info on the csv file (see where data is missing, data types)\n",
    "#shoes_df.info()"
   ]
  },
  {
   "cell_type": "code",
   "execution_count": 9,
   "metadata": {},
   "outputs": [
    {
     "name": "stdout",
     "output_type": "stream",
     "text": [
      "<class 'pandas.core.frame.DataFrame'>\n",
      "RangeIndex: 12207 entries, 0 to 12206\n",
      "Data columns (total 51 columns):\n",
      "id                     12207 non-null object\n",
      "asins                  898 non-null object\n",
      "brand                  11989 non-null object\n",
      "categories             12207 non-null object\n",
      "colors                 8096 non-null object\n",
      "count                  0 non-null float64\n",
      "Date_Added             12207 non-null object\n",
      "dateAdded              12207 non-null object\n",
      "Date_Updated           12207 non-null object\n",
      "dateUpdated            12207 non-null object\n",
      "descriptions           8402 non-null object\n",
      "dimension              258 non-null object\n",
      "ean                    7815 non-null float64\n",
      "features               10184 non-null object\n",
      "flavors                0 non-null float64\n",
      "imageURLs              11697 non-null object\n",
      "isbn                   0 non-null float64\n",
      "keys                   12207 non-null object\n",
      "manufacturer           5979 non-null object\n",
      "manufacturerNumber     9290 non-null object\n",
      "merchants              10992 non-null object\n",
      "name                   12207 non-null object\n",
      "prices.amountMin       12205 non-null object\n",
      "prices.amountMax       12207 non-null object\n",
      "prices.availability    110 non-null object\n",
      "prices.color           660 non-null object\n",
      "prices.condition       9772 non-null object\n",
      "prices.count           53 non-null object\n",
      "prices.currency        12146 non-null object\n",
      "prices.dateAdded       12195 non-null object\n",
      "prices.dateSeen        12199 non-null object\n",
      "prices.flavor          62 non-null object\n",
      "prices.isSale          12155 non-null object\n",
      "prices.merchant        8935 non-null object\n",
      "prices.offer           4754 non-null object\n",
      "prices.returnPolicy    845 non-null object\n",
      "prices.shipping        2672 non-null object\n",
      "prices.size            648 non-null object\n",
      "prices.source          6 non-null object\n",
      "prices.sourceURLs      12140 non-null object\n",
      "prices.warranty        52 non-null object\n",
      "quantities             8 non-null object\n",
      "reviews                737 non-null object\n",
      "sizes                  5138 non-null object\n",
      "skus                   3169 non-null object\n",
      "sourceURLs             12148 non-null object\n",
      "upc                    8617 non-null object\n",
      "vin                    39 non-null object\n",
      "websiteIDs             8 non-null object\n",
      "weight                 560 non-null object\n",
      "Unnamed: 50            3 non-null object\n",
      "dtypes: float64(4), object(47)\n",
      "memory usage: 4.7+ MB\n"
     ]
    }
   ],
   "source": [
    "mens_shoes_df.info()"
   ]
  },
  {
   "cell_type": "code",
   "execution_count": 10,
   "metadata": {},
   "outputs": [],
   "source": [
    "# drop unneeded columns here\n",
    "shoes_df = shoes_df.drop(columns=[\"id\",\n",
    "                                  \"prices.size\",\n",
    "                                  \"weight\",\n",
    "                                  \"prices.condition\",\n",
    "                                  \"imageURLs\",\n",
    "                                  \"manufacturerNumber\",\n",
    "                                  \"upc\",\n",
    "                                  \"sourceURLs\",\n",
    "                                  \"prices.availability\",\n",
    "                                  \"sizes\",\n",
    "                                  \"keys\",\n",
    "                                  \"manufacturer\",\n",
    "                                  \"prices.dateAdded\",\n",
    "                                  \"prices.dateSeen\",\n",
    "                                  \"name\",\n",
    "                                  \"Date_Added\",\n",
    "                                  \"prices.isSale\",\n",
    "                                  \"primaryCategories\",\n",
    "                                  \"prices.sourceURLs\",\n",
    "                                  \"categories\",\n",
    "                                  \"prices.amountMin\"\n",
    "                         ])"
   ]
  },
  {
   "cell_type": "code",
   "execution_count": 11,
   "metadata": {},
   "outputs": [
    {
     "data": {
      "text/html": [
       "<div>\n",
       "<style scoped>\n",
       "    .dataframe tbody tr th:only-of-type {\n",
       "        vertical-align: middle;\n",
       "    }\n",
       "\n",
       "    .dataframe tbody tr th {\n",
       "        vertical-align: top;\n",
       "    }\n",
       "\n",
       "    .dataframe thead th {\n",
       "        text-align: right;\n",
       "    }\n",
       "</style>\n",
       "<table border=\"1\" class=\"dataframe\">\n",
       "  <thead>\n",
       "    <tr style=\"text-align: right;\">\n",
       "      <th></th>\n",
       "      <th>Date</th>\n",
       "      <th>Brand</th>\n",
       "      <th>Type</th>\n",
       "      <th>Prices</th>\n",
       "      <th>Color</th>\n",
       "      <th>Currency</th>\n",
       "      <th>Merchant</th>\n",
       "    </tr>\n",
       "  </thead>\n",
       "  <tbody>\n",
       "    <tr>\n",
       "      <th>0</th>\n",
       "      <td>2/11/18</td>\n",
       "      <td>2 lips too</td>\n",
       "      <td>Heels</td>\n",
       "      <td>64.95</td>\n",
       "      <td>Gold</td>\n",
       "      <td>USD</td>\n",
       "      <td>kohls</td>\n",
       "    </tr>\n",
       "    <tr>\n",
       "      <th>1</th>\n",
       "      <td>2/11/18</td>\n",
       "      <td>2 lips too</td>\n",
       "      <td>Heels</td>\n",
       "      <td>64.95</td>\n",
       "      <td>Pink</td>\n",
       "      <td>USD</td>\n",
       "      <td>kohls</td>\n",
       "    </tr>\n",
       "    <tr>\n",
       "      <th>2</th>\n",
       "      <td>2/11/18</td>\n",
       "      <td>2 lips too</td>\n",
       "      <td>Heels</td>\n",
       "      <td>64.95</td>\n",
       "      <td>Pink</td>\n",
       "      <td>USD</td>\n",
       "      <td>kohls</td>\n",
       "    </tr>\n",
       "    <tr>\n",
       "      <th>3</th>\n",
       "      <td>2/11/18</td>\n",
       "      <td>2 lips too</td>\n",
       "      <td>Heels</td>\n",
       "      <td>64.95</td>\n",
       "      <td>Gold</td>\n",
       "      <td>USD</td>\n",
       "      <td>kohls</td>\n",
       "    </tr>\n",
       "    <tr>\n",
       "      <th>4</th>\n",
       "      <td>2/11/18</td>\n",
       "      <td>2 lips too</td>\n",
       "      <td>Heels</td>\n",
       "      <td>64.95</td>\n",
       "      <td>White</td>\n",
       "      <td>USD</td>\n",
       "      <td>kohls</td>\n",
       "    </tr>\n",
       "  </tbody>\n",
       "</table>\n",
       "</div>"
      ],
      "text/plain": [
       "      Date       Brand   Type  Prices  Color Currency Merchant\n",
       "0  2/11/18  2 lips too  Heels   64.95   Gold      USD    kohls\n",
       "1  2/11/18  2 lips too  Heels   64.95   Pink      USD    kohls\n",
       "2  2/11/18  2 lips too  Heels   64.95   Pink      USD    kohls\n",
       "3  2/11/18  2 lips too  Heels   64.95   Gold      USD    kohls\n",
       "4  2/11/18  2 lips too  Heels   64.95  White      USD    kohls"
      ]
     },
     "execution_count": 11,
     "metadata": {},
     "output_type": "execute_result"
    }
   ],
   "source": [
    "# rename columns\n",
    "shoes_df = shoes_df.rename(columns={#\"prices.merchant\": \"Merchant\",\n",
    "                                    \"brand\": \"Brand\",\n",
    "                                    \"prices.color\" : \"Color\",\n",
    "                                    \"Type_Name\": \"Type\",\n",
    "                                    \"date_updated\": \"Date\",\n",
    "                                    \"prices.currency\": \"Currency\",\n",
    "                                    \"prices.amountMax\": \"Prices\"\n",
    "                                   })\n",
    "shoes_df.head()"
   ]
  },
  {
   "cell_type": "code",
   "execution_count": 12,
   "metadata": {},
   "outputs": [],
   "source": [
    "#shoes_df.info()"
   ]
  },
  {
   "cell_type": "code",
   "execution_count": 182,
   "metadata": {},
   "outputs": [
    {
     "data": {
      "text/plain": [
       "journee collection                2182\n",
       "lifestride                        1457\n",
       "a2 by aerosoles                    670\n",
       "easy street                        556\n",
       "style charles by charles david     478\n",
       "so                                 422\n",
       "Dr. Scholl's                       338\n",
       "croft barrow                       315\n",
       "nike                               285\n",
       "new balance                        255\n",
       "sonoma goods for life              229\n",
       "skechers                           185\n",
       "apt. 9                             183\n",
       "Nike                               179\n",
       "simply vera vera wang              164\n",
       "SKECHERS                           151\n",
       "candies                            144\n",
       "Lifestride                         136\n",
       "ryka                               129\n",
       "asics                              111\n",
       "naturalsoul by naturalizer         107\n",
       "adidas                             100\n",
       "madden nyc                          84\n",
       "spring step                         79\n",
       "Brinley Co.                         76\n",
       "Name: Brand, dtype: int64"
      ]
     },
     "execution_count": 182,
     "metadata": {},
     "output_type": "execute_result"
    }
   ],
   "source": [
    "typebybrand = shoes_df[\"Brand\"].unique()\n",
    "typebybrand\n",
    "\n",
    "brandcount = shoes_df[\"Brand\"].value_counts()\n",
    "brandcount[:25]"
   ]
  },
  {
   "cell_type": "code",
   "execution_count": 178,
   "metadata": {},
   "outputs": [
    {
     "data": {
      "application/vnd.plotly.v1+json": {
       "config": {
        "plotlyServerURL": "https://plot.ly"
       },
       "data": [
        {
         "labels": [
          "2 lips too",
          "a2 by aerosoles",
          "adidas",
          "Altra",
          "andrew geller",
          "apt. 9",
          "Arc'teryx",
          "asics",
          "Asics",
          "Astral",
          "betula by birkenstock",
          "Birkenstock",
          "Bogs",
          "Brinley Co.",
          "Brooks",
          "candies",
          "Carrini",
          "Chaco",
          "clarks",
          "corkys",
          "croft barrow",
          "Daniel Green",
          "Danskin Now",
          "Dansko",
          "dolce by mojo moxy",
          "Dr. Scholl's",
          "Earth Spirit",
          "eastland",
          "easy street",
          "Easy Street",
          "ELLIE SHOES",
          "Faded Glory",
          "Fergalicious",
          "fila",
          "forever collectibles",
          "FOREVER YOUNG",
          "Free People",
          "Frye",
          "Genuine Dickies",
          "henry ferrera",
          "herstar",
          "Hoka One One",
          "IB Non-Slip",
          "Inov 8",
          "jennifer lopez",
          "journee collection",
          "k-swiss",
          "Kaanas",
          "Keds",
          "keds",
          "KEEN",
          "kisses by 2 lips too",
          "koolaburra by ugg",
          "La Sportiva",
          "Laredo",
          "lc lauren conrad",
          "lifestride",
          "Lifestride",
          "Lowa",
          "Lugz",
          "lugz",
          "madden nyc",
          "Mammut",
          "Merrell",
          "MLB",
          "Mo Mo",
          "MUK LUKS",
          "muk luks",
          "Native Shoes",
          "Naturalizer",
          "naturalsoul by naturalizer",
          "new balance",
          "New Balance",
          "nike",
          "Nike",
          "nyla",
          "olivia miller",
          "Olukai",
          "On Footwear",
          "OTZShoes",
          "puma",
          "qupid",
          "rampage",
          "Red Wing",
          "reef",
          "Riverberry",
          "rocky 4eursole",
          "ryka",
          "Ryka",
          "Salewa",
          "Salomon",
          "Saucony",
          "Scarpa",
          "SeaVees",
          "seven7",
          "Seychelles Footwear",
          "Silver Lilly",
          "simply vera vera wang",
          "SKECHERS",
          "skechers",
          "Sloggers",
          "so",
          "Soft Ones",
          "soft style by hush puppies",
          "SoftWalk",
          "Soludos",
          "sonoma goods for life",
          "Sperry Top-Sider",
          "Splendid",
          "spring step",
          "style charles by charles david",
          "sugar",
          "The North Face",
          "Timberland",
          "Toms",
          "Topo Athletic",
          "UGG",
          "Unbranded",
          "under armour",
          "Under Armour",
          "unionbay",
          "Unique Bargains",
          "vans",
          "Vans",
          "Victoria K."
         ],
         "type": "pie",
         "values": [
          2182,
          1457,
          670,
          556,
          478,
          422,
          338,
          315,
          285,
          255,
          229,
          185,
          183,
          179,
          164,
          151,
          144,
          136,
          129,
          111,
          107,
          100,
          84,
          79,
          76,
          69,
          58,
          56,
          55,
          39,
          31,
          29,
          26,
          25,
          24,
          24,
          23,
          23,
          21,
          21,
          20,
          19,
          19,
          19,
          18,
          18,
          18,
          14,
          14,
          13,
          12,
          11,
          11,
          10,
          10,
          10,
          10,
          10,
          10,
          9,
          8,
          8,
          8,
          8,
          7,
          7,
          7,
          7,
          7,
          6,
          6,
          6,
          5,
          5,
          4,
          4,
          4,
          4,
          4,
          3,
          3,
          3,
          3,
          3,
          3,
          3,
          3,
          2,
          2,
          2,
          2,
          2,
          2,
          2,
          2,
          2,
          1,
          1,
          1,
          1,
          1,
          1,
          1,
          1,
          1,
          1,
          1,
          1,
          1,
          1,
          1,
          1,
          1,
          1,
          1,
          1,
          1,
          1,
          1,
          1,
          1,
          1,
          1,
          1,
          1
         ]
        }
       ],
       "layout": {
        "template": {
         "data": {
          "bar": [
           {
            "error_x": {
             "color": "#2a3f5f"
            },
            "error_y": {
             "color": "#2a3f5f"
            },
            "marker": {
             "line": {
              "color": "#E5ECF6",
              "width": 0.5
             }
            },
            "type": "bar"
           }
          ],
          "barpolar": [
           {
            "marker": {
             "line": {
              "color": "#E5ECF6",
              "width": 0.5
             }
            },
            "type": "barpolar"
           }
          ],
          "carpet": [
           {
            "aaxis": {
             "endlinecolor": "#2a3f5f",
             "gridcolor": "white",
             "linecolor": "white",
             "minorgridcolor": "white",
             "startlinecolor": "#2a3f5f"
            },
            "baxis": {
             "endlinecolor": "#2a3f5f",
             "gridcolor": "white",
             "linecolor": "white",
             "minorgridcolor": "white",
             "startlinecolor": "#2a3f5f"
            },
            "type": "carpet"
           }
          ],
          "choropleth": [
           {
            "colorbar": {
             "outlinewidth": 0,
             "ticks": ""
            },
            "type": "choropleth"
           }
          ],
          "contour": [
           {
            "colorbar": {
             "outlinewidth": 0,
             "ticks": ""
            },
            "colorscale": [
             [
              0,
              "#0d0887"
             ],
             [
              0.1111111111111111,
              "#46039f"
             ],
             [
              0.2222222222222222,
              "#7201a8"
             ],
             [
              0.3333333333333333,
              "#9c179e"
             ],
             [
              0.4444444444444444,
              "#bd3786"
             ],
             [
              0.5555555555555556,
              "#d8576b"
             ],
             [
              0.6666666666666666,
              "#ed7953"
             ],
             [
              0.7777777777777778,
              "#fb9f3a"
             ],
             [
              0.8888888888888888,
              "#fdca26"
             ],
             [
              1,
              "#f0f921"
             ]
            ],
            "type": "contour"
           }
          ],
          "contourcarpet": [
           {
            "colorbar": {
             "outlinewidth": 0,
             "ticks": ""
            },
            "type": "contourcarpet"
           }
          ],
          "heatmap": [
           {
            "colorbar": {
             "outlinewidth": 0,
             "ticks": ""
            },
            "colorscale": [
             [
              0,
              "#0d0887"
             ],
             [
              0.1111111111111111,
              "#46039f"
             ],
             [
              0.2222222222222222,
              "#7201a8"
             ],
             [
              0.3333333333333333,
              "#9c179e"
             ],
             [
              0.4444444444444444,
              "#bd3786"
             ],
             [
              0.5555555555555556,
              "#d8576b"
             ],
             [
              0.6666666666666666,
              "#ed7953"
             ],
             [
              0.7777777777777778,
              "#fb9f3a"
             ],
             [
              0.8888888888888888,
              "#fdca26"
             ],
             [
              1,
              "#f0f921"
             ]
            ],
            "type": "heatmap"
           }
          ],
          "heatmapgl": [
           {
            "colorbar": {
             "outlinewidth": 0,
             "ticks": ""
            },
            "colorscale": [
             [
              0,
              "#0d0887"
             ],
             [
              0.1111111111111111,
              "#46039f"
             ],
             [
              0.2222222222222222,
              "#7201a8"
             ],
             [
              0.3333333333333333,
              "#9c179e"
             ],
             [
              0.4444444444444444,
              "#bd3786"
             ],
             [
              0.5555555555555556,
              "#d8576b"
             ],
             [
              0.6666666666666666,
              "#ed7953"
             ],
             [
              0.7777777777777778,
              "#fb9f3a"
             ],
             [
              0.8888888888888888,
              "#fdca26"
             ],
             [
              1,
              "#f0f921"
             ]
            ],
            "type": "heatmapgl"
           }
          ],
          "histogram": [
           {
            "marker": {
             "colorbar": {
              "outlinewidth": 0,
              "ticks": ""
             }
            },
            "type": "histogram"
           }
          ],
          "histogram2d": [
           {
            "colorbar": {
             "outlinewidth": 0,
             "ticks": ""
            },
            "colorscale": [
             [
              0,
              "#0d0887"
             ],
             [
              0.1111111111111111,
              "#46039f"
             ],
             [
              0.2222222222222222,
              "#7201a8"
             ],
             [
              0.3333333333333333,
              "#9c179e"
             ],
             [
              0.4444444444444444,
              "#bd3786"
             ],
             [
              0.5555555555555556,
              "#d8576b"
             ],
             [
              0.6666666666666666,
              "#ed7953"
             ],
             [
              0.7777777777777778,
              "#fb9f3a"
             ],
             [
              0.8888888888888888,
              "#fdca26"
             ],
             [
              1,
              "#f0f921"
             ]
            ],
            "type": "histogram2d"
           }
          ],
          "histogram2dcontour": [
           {
            "colorbar": {
             "outlinewidth": 0,
             "ticks": ""
            },
            "colorscale": [
             [
              0,
              "#0d0887"
             ],
             [
              0.1111111111111111,
              "#46039f"
             ],
             [
              0.2222222222222222,
              "#7201a8"
             ],
             [
              0.3333333333333333,
              "#9c179e"
             ],
             [
              0.4444444444444444,
              "#bd3786"
             ],
             [
              0.5555555555555556,
              "#d8576b"
             ],
             [
              0.6666666666666666,
              "#ed7953"
             ],
             [
              0.7777777777777778,
              "#fb9f3a"
             ],
             [
              0.8888888888888888,
              "#fdca26"
             ],
             [
              1,
              "#f0f921"
             ]
            ],
            "type": "histogram2dcontour"
           }
          ],
          "mesh3d": [
           {
            "colorbar": {
             "outlinewidth": 0,
             "ticks": ""
            },
            "type": "mesh3d"
           }
          ],
          "parcoords": [
           {
            "line": {
             "colorbar": {
              "outlinewidth": 0,
              "ticks": ""
             }
            },
            "type": "parcoords"
           }
          ],
          "scatter": [
           {
            "marker": {
             "colorbar": {
              "outlinewidth": 0,
              "ticks": ""
             }
            },
            "type": "scatter"
           }
          ],
          "scatter3d": [
           {
            "line": {
             "colorbar": {
              "outlinewidth": 0,
              "ticks": ""
             }
            },
            "marker": {
             "colorbar": {
              "outlinewidth": 0,
              "ticks": ""
             }
            },
            "type": "scatter3d"
           }
          ],
          "scattercarpet": [
           {
            "marker": {
             "colorbar": {
              "outlinewidth": 0,
              "ticks": ""
             }
            },
            "type": "scattercarpet"
           }
          ],
          "scattergeo": [
           {
            "marker": {
             "colorbar": {
              "outlinewidth": 0,
              "ticks": ""
             }
            },
            "type": "scattergeo"
           }
          ],
          "scattergl": [
           {
            "marker": {
             "colorbar": {
              "outlinewidth": 0,
              "ticks": ""
             }
            },
            "type": "scattergl"
           }
          ],
          "scattermapbox": [
           {
            "marker": {
             "colorbar": {
              "outlinewidth": 0,
              "ticks": ""
             }
            },
            "type": "scattermapbox"
           }
          ],
          "scatterpolar": [
           {
            "marker": {
             "colorbar": {
              "outlinewidth": 0,
              "ticks": ""
             }
            },
            "type": "scatterpolar"
           }
          ],
          "scatterpolargl": [
           {
            "marker": {
             "colorbar": {
              "outlinewidth": 0,
              "ticks": ""
             }
            },
            "type": "scatterpolargl"
           }
          ],
          "scatterternary": [
           {
            "marker": {
             "colorbar": {
              "outlinewidth": 0,
              "ticks": ""
             }
            },
            "type": "scatterternary"
           }
          ],
          "surface": [
           {
            "colorbar": {
             "outlinewidth": 0,
             "ticks": ""
            },
            "colorscale": [
             [
              0,
              "#0d0887"
             ],
             [
              0.1111111111111111,
              "#46039f"
             ],
             [
              0.2222222222222222,
              "#7201a8"
             ],
             [
              0.3333333333333333,
              "#9c179e"
             ],
             [
              0.4444444444444444,
              "#bd3786"
             ],
             [
              0.5555555555555556,
              "#d8576b"
             ],
             [
              0.6666666666666666,
              "#ed7953"
             ],
             [
              0.7777777777777778,
              "#fb9f3a"
             ],
             [
              0.8888888888888888,
              "#fdca26"
             ],
             [
              1,
              "#f0f921"
             ]
            ],
            "type": "surface"
           }
          ],
          "table": [
           {
            "cells": {
             "fill": {
              "color": "#EBF0F8"
             },
             "line": {
              "color": "white"
             }
            },
            "header": {
             "fill": {
              "color": "#C8D4E3"
             },
             "line": {
              "color": "white"
             }
            },
            "type": "table"
           }
          ]
         },
         "layout": {
          "annotationdefaults": {
           "arrowcolor": "#2a3f5f",
           "arrowhead": 0,
           "arrowwidth": 1
          },
          "colorscale": {
           "diverging": [
            [
             0,
             "#8e0152"
            ],
            [
             0.1,
             "#c51b7d"
            ],
            [
             0.2,
             "#de77ae"
            ],
            [
             0.3,
             "#f1b6da"
            ],
            [
             0.4,
             "#fde0ef"
            ],
            [
             0.5,
             "#f7f7f7"
            ],
            [
             0.6,
             "#e6f5d0"
            ],
            [
             0.7,
             "#b8e186"
            ],
            [
             0.8,
             "#7fbc41"
            ],
            [
             0.9,
             "#4d9221"
            ],
            [
             1,
             "#276419"
            ]
           ],
           "sequential": [
            [
             0,
             "#0d0887"
            ],
            [
             0.1111111111111111,
             "#46039f"
            ],
            [
             0.2222222222222222,
             "#7201a8"
            ],
            [
             0.3333333333333333,
             "#9c179e"
            ],
            [
             0.4444444444444444,
             "#bd3786"
            ],
            [
             0.5555555555555556,
             "#d8576b"
            ],
            [
             0.6666666666666666,
             "#ed7953"
            ],
            [
             0.7777777777777778,
             "#fb9f3a"
            ],
            [
             0.8888888888888888,
             "#fdca26"
            ],
            [
             1,
             "#f0f921"
            ]
           ],
           "sequentialminus": [
            [
             0,
             "#0d0887"
            ],
            [
             0.1111111111111111,
             "#46039f"
            ],
            [
             0.2222222222222222,
             "#7201a8"
            ],
            [
             0.3333333333333333,
             "#9c179e"
            ],
            [
             0.4444444444444444,
             "#bd3786"
            ],
            [
             0.5555555555555556,
             "#d8576b"
            ],
            [
             0.6666666666666666,
             "#ed7953"
            ],
            [
             0.7777777777777778,
             "#fb9f3a"
            ],
            [
             0.8888888888888888,
             "#fdca26"
            ],
            [
             1,
             "#f0f921"
            ]
           ]
          },
          "colorway": [
           "#636efa",
           "#EF553B",
           "#00cc96",
           "#ab63fa",
           "#FFA15A",
           "#19d3f3",
           "#FF6692",
           "#B6E880",
           "#FF97FF",
           "#FECB52"
          ],
          "font": {
           "color": "#2a3f5f"
          },
          "geo": {
           "bgcolor": "white",
           "lakecolor": "white",
           "landcolor": "#E5ECF6",
           "showlakes": true,
           "showland": true,
           "subunitcolor": "white"
          },
          "hoverlabel": {
           "align": "left"
          },
          "hovermode": "closest",
          "mapbox": {
           "style": "light"
          },
          "paper_bgcolor": "white",
          "plot_bgcolor": "#E5ECF6",
          "polar": {
           "angularaxis": {
            "gridcolor": "white",
            "linecolor": "white",
            "ticks": ""
           },
           "bgcolor": "#E5ECF6",
           "radialaxis": {
            "gridcolor": "white",
            "linecolor": "white",
            "ticks": ""
           }
          },
          "scene": {
           "xaxis": {
            "backgroundcolor": "#E5ECF6",
            "gridcolor": "white",
            "gridwidth": 2,
            "linecolor": "white",
            "showbackground": true,
            "ticks": "",
            "zerolinecolor": "white"
           },
           "yaxis": {
            "backgroundcolor": "#E5ECF6",
            "gridcolor": "white",
            "gridwidth": 2,
            "linecolor": "white",
            "showbackground": true,
            "ticks": "",
            "zerolinecolor": "white"
           },
           "zaxis": {
            "backgroundcolor": "#E5ECF6",
            "gridcolor": "white",
            "gridwidth": 2,
            "linecolor": "white",
            "showbackground": true,
            "ticks": "",
            "zerolinecolor": "white"
           }
          },
          "shapedefaults": {
           "line": {
            "color": "#2a3f5f"
           }
          },
          "ternary": {
           "aaxis": {
            "gridcolor": "white",
            "linecolor": "white",
            "ticks": ""
           },
           "baxis": {
            "gridcolor": "white",
            "linecolor": "white",
            "ticks": ""
           },
           "bgcolor": "#E5ECF6",
           "caxis": {
            "gridcolor": "white",
            "linecolor": "white",
            "ticks": ""
           }
          },
          "title": {
           "x": 0.05
          },
          "xaxis": {
           "automargin": true,
           "gridcolor": "white",
           "linecolor": "white",
           "ticks": "",
           "zerolinecolor": "white",
           "zerolinewidth": 2
          },
          "yaxis": {
           "automargin": true,
           "gridcolor": "white",
           "linecolor": "white",
           "ticks": "",
           "zerolinecolor": "white",
           "zerolinewidth": 2
          }
         }
        }
       }
      },
      "text/html": [
       "<div>\n",
       "        \n",
       "        \n",
       "            <div id=\"9752e89b-6710-4af4-a76e-d10997486382\" class=\"plotly-graph-div\" style=\"height:525px; width:100%;\"></div>\n",
       "            <script type=\"text/javascript\">\n",
       "                require([\"plotly\"], function(Plotly) {\n",
       "                    window.PLOTLYENV=window.PLOTLYENV || {};\n",
       "                    \n",
       "                if (document.getElementById(\"9752e89b-6710-4af4-a76e-d10997486382\")) {\n",
       "                    Plotly.newPlot(\n",
       "                        '9752e89b-6710-4af4-a76e-d10997486382',\n",
       "                        [{\"labels\": [\"2 lips too\", \"a2 by aerosoles\", \"adidas\", \"Altra\", \"andrew geller\", \"apt. 9\", \"Arc'teryx\", \"asics\", \"Asics\", \"Astral\", \"betula by birkenstock\", \"Birkenstock\", \"Bogs\", \"Brinley Co.\", \"Brooks\", \"candies\", \"Carrini\", \"Chaco\", \"clarks\", \"corkys\", \"croft barrow\", \"Daniel Green\", \"Danskin Now\", \"Dansko\", \"dolce by mojo moxy\", \"Dr. Scholl's\", \"Earth Spirit\", \"eastland\", \"easy street\", \"Easy Street\", \"ELLIE SHOES\", \"Faded Glory\", \"Fergalicious\", \"fila\", \"forever collectibles\", \"FOREVER YOUNG\", \"Free People\", \"Frye\", \"Genuine Dickies\", \"henry ferrera\", \"herstar\", \"Hoka One One\", \"IB Non-Slip\", \"Inov 8\", \"jennifer lopez\", \"journee collection\", \"k-swiss\", \"Kaanas\", \"Keds\", \"keds\", \"KEEN\", \"kisses by 2 lips too\", \"koolaburra by ugg\", \"La Sportiva\", \"Laredo\", \"lc lauren conrad\", \"lifestride\", \"Lifestride\", \"Lowa\", \"Lugz\", \"lugz\", \"madden nyc\", \"Mammut\", \"Merrell\", \"MLB\", \"Mo Mo\", \"MUK LUKS\", \"muk luks\", \"Native Shoes\", \"Naturalizer\", \"naturalsoul by naturalizer\", \"new balance\", \"New Balance\", \"nike\", \"Nike\", \"nyla\", \"olivia miller\", \"Olukai\", \"On Footwear\", \"OTZShoes\", \"puma\", \"qupid\", \"rampage\", \"Red Wing\", \"reef\", \"Riverberry\", \"rocky 4eursole\", \"ryka\", \"Ryka\", \"Salewa\", \"Salomon\", \"Saucony\", \"Scarpa\", \"SeaVees\", \"seven7\", \"Seychelles Footwear\", \"Silver Lilly\", \"simply vera vera wang\", \"SKECHERS\", \"skechers\", \"Sloggers\", \"so\", \"Soft Ones\", \"soft style by hush puppies\", \"SoftWalk\", \"Soludos\", \"sonoma goods for life\", \"Sperry Top-Sider\", \"Splendid\", \"spring step\", \"style charles by charles david\", \"sugar\", \"The North Face\", \"Timberland\", \"Toms\", \"Topo Athletic\", \"UGG\", \"Unbranded\", \"under armour\", \"Under Armour\", \"unionbay\", \"Unique Bargains\", \"vans\", \"Vans\", \"Victoria K.\"], \"type\": \"pie\", \"values\": [2182, 1457, 670, 556, 478, 422, 338, 315, 285, 255, 229, 185, 183, 179, 164, 151, 144, 136, 129, 111, 107, 100, 84, 79, 76, 69, 58, 56, 55, 39, 31, 29, 26, 25, 24, 24, 23, 23, 21, 21, 20, 19, 19, 19, 18, 18, 18, 14, 14, 13, 12, 11, 11, 10, 10, 10, 10, 10, 10, 9, 8, 8, 8, 8, 7, 7, 7, 7, 7, 6, 6, 6, 5, 5, 4, 4, 4, 4, 4, 3, 3, 3, 3, 3, 3, 3, 3, 2, 2, 2, 2, 2, 2, 2, 2, 2, 1, 1, 1, 1, 1, 1, 1, 1, 1, 1, 1, 1, 1, 1, 1, 1, 1, 1, 1, 1, 1, 1, 1, 1, 1, 1, 1, 1, 1]}],\n",
       "                        {\"template\": {\"data\": {\"bar\": [{\"error_x\": {\"color\": \"#2a3f5f\"}, \"error_y\": {\"color\": \"#2a3f5f\"}, \"marker\": {\"line\": {\"color\": \"#E5ECF6\", \"width\": 0.5}}, \"type\": \"bar\"}], \"barpolar\": [{\"marker\": {\"line\": {\"color\": \"#E5ECF6\", \"width\": 0.5}}, \"type\": \"barpolar\"}], \"carpet\": [{\"aaxis\": {\"endlinecolor\": \"#2a3f5f\", \"gridcolor\": \"white\", \"linecolor\": \"white\", \"minorgridcolor\": \"white\", \"startlinecolor\": \"#2a3f5f\"}, \"baxis\": {\"endlinecolor\": \"#2a3f5f\", \"gridcolor\": \"white\", \"linecolor\": \"white\", \"minorgridcolor\": \"white\", \"startlinecolor\": \"#2a3f5f\"}, \"type\": \"carpet\"}], \"choropleth\": [{\"colorbar\": {\"outlinewidth\": 0, \"ticks\": \"\"}, \"type\": \"choropleth\"}], \"contour\": [{\"colorbar\": {\"outlinewidth\": 0, \"ticks\": \"\"}, \"colorscale\": [[0.0, \"#0d0887\"], [0.1111111111111111, \"#46039f\"], [0.2222222222222222, \"#7201a8\"], [0.3333333333333333, \"#9c179e\"], [0.4444444444444444, \"#bd3786\"], [0.5555555555555556, \"#d8576b\"], [0.6666666666666666, \"#ed7953\"], [0.7777777777777778, \"#fb9f3a\"], [0.8888888888888888, \"#fdca26\"], [1.0, \"#f0f921\"]], \"type\": \"contour\"}], \"contourcarpet\": [{\"colorbar\": {\"outlinewidth\": 0, \"ticks\": \"\"}, \"type\": \"contourcarpet\"}], \"heatmap\": [{\"colorbar\": {\"outlinewidth\": 0, \"ticks\": \"\"}, \"colorscale\": [[0.0, \"#0d0887\"], [0.1111111111111111, \"#46039f\"], [0.2222222222222222, \"#7201a8\"], [0.3333333333333333, \"#9c179e\"], [0.4444444444444444, \"#bd3786\"], [0.5555555555555556, \"#d8576b\"], [0.6666666666666666, \"#ed7953\"], [0.7777777777777778, \"#fb9f3a\"], [0.8888888888888888, \"#fdca26\"], [1.0, \"#f0f921\"]], \"type\": \"heatmap\"}], \"heatmapgl\": [{\"colorbar\": {\"outlinewidth\": 0, \"ticks\": \"\"}, \"colorscale\": [[0.0, \"#0d0887\"], [0.1111111111111111, \"#46039f\"], [0.2222222222222222, \"#7201a8\"], [0.3333333333333333, \"#9c179e\"], [0.4444444444444444, \"#bd3786\"], [0.5555555555555556, \"#d8576b\"], [0.6666666666666666, \"#ed7953\"], [0.7777777777777778, \"#fb9f3a\"], [0.8888888888888888, \"#fdca26\"], [1.0, \"#f0f921\"]], \"type\": \"heatmapgl\"}], \"histogram\": [{\"marker\": {\"colorbar\": {\"outlinewidth\": 0, \"ticks\": \"\"}}, \"type\": \"histogram\"}], \"histogram2d\": [{\"colorbar\": {\"outlinewidth\": 0, \"ticks\": \"\"}, \"colorscale\": [[0.0, \"#0d0887\"], [0.1111111111111111, \"#46039f\"], [0.2222222222222222, \"#7201a8\"], [0.3333333333333333, \"#9c179e\"], [0.4444444444444444, \"#bd3786\"], [0.5555555555555556, \"#d8576b\"], [0.6666666666666666, \"#ed7953\"], [0.7777777777777778, \"#fb9f3a\"], [0.8888888888888888, \"#fdca26\"], [1.0, \"#f0f921\"]], \"type\": \"histogram2d\"}], \"histogram2dcontour\": [{\"colorbar\": {\"outlinewidth\": 0, \"ticks\": \"\"}, \"colorscale\": [[0.0, \"#0d0887\"], [0.1111111111111111, \"#46039f\"], [0.2222222222222222, \"#7201a8\"], [0.3333333333333333, \"#9c179e\"], [0.4444444444444444, \"#bd3786\"], [0.5555555555555556, \"#d8576b\"], [0.6666666666666666, \"#ed7953\"], [0.7777777777777778, \"#fb9f3a\"], [0.8888888888888888, \"#fdca26\"], [1.0, \"#f0f921\"]], \"type\": \"histogram2dcontour\"}], \"mesh3d\": [{\"colorbar\": {\"outlinewidth\": 0, \"ticks\": \"\"}, \"type\": \"mesh3d\"}], \"parcoords\": [{\"line\": {\"colorbar\": {\"outlinewidth\": 0, \"ticks\": \"\"}}, \"type\": \"parcoords\"}], \"scatter\": [{\"marker\": {\"colorbar\": {\"outlinewidth\": 0, \"ticks\": \"\"}}, \"type\": \"scatter\"}], \"scatter3d\": [{\"line\": {\"colorbar\": {\"outlinewidth\": 0, \"ticks\": \"\"}}, \"marker\": {\"colorbar\": {\"outlinewidth\": 0, \"ticks\": \"\"}}, \"type\": \"scatter3d\"}], \"scattercarpet\": [{\"marker\": {\"colorbar\": {\"outlinewidth\": 0, \"ticks\": \"\"}}, \"type\": \"scattercarpet\"}], \"scattergeo\": [{\"marker\": {\"colorbar\": {\"outlinewidth\": 0, \"ticks\": \"\"}}, \"type\": \"scattergeo\"}], \"scattergl\": [{\"marker\": {\"colorbar\": {\"outlinewidth\": 0, \"ticks\": \"\"}}, \"type\": \"scattergl\"}], \"scattermapbox\": [{\"marker\": {\"colorbar\": {\"outlinewidth\": 0, \"ticks\": \"\"}}, \"type\": \"scattermapbox\"}], \"scatterpolar\": [{\"marker\": {\"colorbar\": {\"outlinewidth\": 0, \"ticks\": \"\"}}, \"type\": \"scatterpolar\"}], \"scatterpolargl\": [{\"marker\": {\"colorbar\": {\"outlinewidth\": 0, \"ticks\": \"\"}}, \"type\": \"scatterpolargl\"}], \"scatterternary\": [{\"marker\": {\"colorbar\": {\"outlinewidth\": 0, \"ticks\": \"\"}}, \"type\": \"scatterternary\"}], \"surface\": [{\"colorbar\": {\"outlinewidth\": 0, \"ticks\": \"\"}, \"colorscale\": [[0.0, \"#0d0887\"], [0.1111111111111111, \"#46039f\"], [0.2222222222222222, \"#7201a8\"], [0.3333333333333333, \"#9c179e\"], [0.4444444444444444, \"#bd3786\"], [0.5555555555555556, \"#d8576b\"], [0.6666666666666666, \"#ed7953\"], [0.7777777777777778, \"#fb9f3a\"], [0.8888888888888888, \"#fdca26\"], [1.0, \"#f0f921\"]], \"type\": \"surface\"}], \"table\": [{\"cells\": {\"fill\": {\"color\": \"#EBF0F8\"}, \"line\": {\"color\": \"white\"}}, \"header\": {\"fill\": {\"color\": \"#C8D4E3\"}, \"line\": {\"color\": \"white\"}}, \"type\": \"table\"}]}, \"layout\": {\"annotationdefaults\": {\"arrowcolor\": \"#2a3f5f\", \"arrowhead\": 0, \"arrowwidth\": 1}, \"colorscale\": {\"diverging\": [[0, \"#8e0152\"], [0.1, \"#c51b7d\"], [0.2, \"#de77ae\"], [0.3, \"#f1b6da\"], [0.4, \"#fde0ef\"], [0.5, \"#f7f7f7\"], [0.6, \"#e6f5d0\"], [0.7, \"#b8e186\"], [0.8, \"#7fbc41\"], [0.9, \"#4d9221\"], [1, \"#276419\"]], \"sequential\": [[0.0, \"#0d0887\"], [0.1111111111111111, \"#46039f\"], [0.2222222222222222, \"#7201a8\"], [0.3333333333333333, \"#9c179e\"], [0.4444444444444444, \"#bd3786\"], [0.5555555555555556, \"#d8576b\"], [0.6666666666666666, \"#ed7953\"], [0.7777777777777778, \"#fb9f3a\"], [0.8888888888888888, \"#fdca26\"], [1.0, \"#f0f921\"]], \"sequentialminus\": [[0.0, \"#0d0887\"], [0.1111111111111111, \"#46039f\"], [0.2222222222222222, \"#7201a8\"], [0.3333333333333333, \"#9c179e\"], [0.4444444444444444, \"#bd3786\"], [0.5555555555555556, \"#d8576b\"], [0.6666666666666666, \"#ed7953\"], [0.7777777777777778, \"#fb9f3a\"], [0.8888888888888888, \"#fdca26\"], [1.0, \"#f0f921\"]]}, \"colorway\": [\"#636efa\", \"#EF553B\", \"#00cc96\", \"#ab63fa\", \"#FFA15A\", \"#19d3f3\", \"#FF6692\", \"#B6E880\", \"#FF97FF\", \"#FECB52\"], \"font\": {\"color\": \"#2a3f5f\"}, \"geo\": {\"bgcolor\": \"white\", \"lakecolor\": \"white\", \"landcolor\": \"#E5ECF6\", \"showlakes\": true, \"showland\": true, \"subunitcolor\": \"white\"}, \"hoverlabel\": {\"align\": \"left\"}, \"hovermode\": \"closest\", \"mapbox\": {\"style\": \"light\"}, \"paper_bgcolor\": \"white\", \"plot_bgcolor\": \"#E5ECF6\", \"polar\": {\"angularaxis\": {\"gridcolor\": \"white\", \"linecolor\": \"white\", \"ticks\": \"\"}, \"bgcolor\": \"#E5ECF6\", \"radialaxis\": {\"gridcolor\": \"white\", \"linecolor\": \"white\", \"ticks\": \"\"}}, \"scene\": {\"xaxis\": {\"backgroundcolor\": \"#E5ECF6\", \"gridcolor\": \"white\", \"gridwidth\": 2, \"linecolor\": \"white\", \"showbackground\": true, \"ticks\": \"\", \"zerolinecolor\": \"white\"}, \"yaxis\": {\"backgroundcolor\": \"#E5ECF6\", \"gridcolor\": \"white\", \"gridwidth\": 2, \"linecolor\": \"white\", \"showbackground\": true, \"ticks\": \"\", \"zerolinecolor\": \"white\"}, \"zaxis\": {\"backgroundcolor\": \"#E5ECF6\", \"gridcolor\": \"white\", \"gridwidth\": 2, \"linecolor\": \"white\", \"showbackground\": true, \"ticks\": \"\", \"zerolinecolor\": \"white\"}}, \"shapedefaults\": {\"line\": {\"color\": \"#2a3f5f\"}}, \"ternary\": {\"aaxis\": {\"gridcolor\": \"white\", \"linecolor\": \"white\", \"ticks\": \"\"}, \"baxis\": {\"gridcolor\": \"white\", \"linecolor\": \"white\", \"ticks\": \"\"}, \"bgcolor\": \"#E5ECF6\", \"caxis\": {\"gridcolor\": \"white\", \"linecolor\": \"white\", \"ticks\": \"\"}}, \"title\": {\"x\": 0.05}, \"xaxis\": {\"automargin\": true, \"gridcolor\": \"white\", \"linecolor\": \"white\", \"ticks\": \"\", \"zerolinecolor\": \"white\", \"zerolinewidth\": 2}, \"yaxis\": {\"automargin\": true, \"gridcolor\": \"white\", \"linecolor\": \"white\", \"ticks\": \"\", \"zerolinecolor\": \"white\", \"zerolinewidth\": 2}}}},\n",
       "                        {\"responsive\": true}\n",
       "                    ).then(function(){\n",
       "                            \n",
       "var gd = document.getElementById('9752e89b-6710-4af4-a76e-d10997486382');\n",
       "var x = new MutationObserver(function (mutations, observer) {{\n",
       "        var display = window.getComputedStyle(gd).display;\n",
       "        if (!display || display === 'none') {{\n",
       "            console.log([gd, 'removed!']);\n",
       "            Plotly.purge(gd);\n",
       "            observer.disconnect();\n",
       "        }}\n",
       "}});\n",
       "\n",
       "// Listen for the removal of the full notebook cells\n",
       "var notebookContainer = gd.closest('#notebook-container');\n",
       "if (notebookContainer) {{\n",
       "    x.observe(notebookContainer, {childList: true});\n",
       "}}\n",
       "\n",
       "// Listen for the clearing of the current output cell\n",
       "var outputEl = gd.closest('.output');\n",
       "if (outputEl) {{\n",
       "    x.observe(outputEl, {childList: true});\n",
       "}}\n",
       "\n",
       "                        })\n",
       "                };\n",
       "                });\n",
       "            </script>\n",
       "        </div>"
      ]
     },
     "metadata": {},
     "output_type": "display_data"
    },
    {
     "data": {
      "application/vnd.plotly.v1+json": {
       "config": {
        "plotlyServerURL": "https://plot.ly"
       },
       "data": [
        {
         "marker": {
          "color": [
           0.6475884546311395,
           1.0369850204031927,
           1.3596808863474719,
           0.3608572450010316,
           -0.9837337922966507,
           2.2332462765415886,
           -1.0415472735111893,
           1.639667662365628,
           -1.4179389650918737,
           -0.5190176034585636,
           0.3704973425746953,
           0.9234089786690053,
           1.8250289072016486,
           0.4466787154554053,
           -0.6965598398805694,
           -1.2491611939280967,
           -0.2481870471945286,
           -1.2418715734409012,
           1.0644396713756172,
           -0.1336546349670067,
           2.0677206261685295,
           0.08473547147582779,
           -0.6841818704238675,
           -1.4927504901865174,
           -0.6673057861935366,
           0.36384150439615565,
           -1.7220542189559735,
           -0.5361050328741465,
           0.2731298283585885,
           -1.8456220212997747,
           -0.7791065300105369,
           -0.5420788318737303,
           -0.19126062736409824,
           0.06660148751613189,
           0.835089284360056,
           -1.601547470077587,
           0.3165383010617347,
           1.5229375631043585,
           0.5233727320429624,
           -0.5090047148365178,
           -1.83580908631939,
           0.9632188510971231,
           0.17537030989503935,
           -0.12174612698414317,
           0.5527633499561648,
           0.6249877999301058,
           0.001696696433396594,
           0.44563392847987343,
           -0.2885609065357811,
           0.4335761581083032,
           0.9455768185314266,
           -1.4498860927006285,
           -0.9907077704079412,
           1.3735523738327589,
           0.2467742853470057,
           0.27835518279051324,
           -0.0050510588712389965,
           -0.4542934200105495,
           1.1434467082522421,
           -2.227275425053483,
           0.10755328335421421,
           -0.6651739935224368,
           -0.16164781262137415,
           0.18838301239328253,
           0.8752242606438254,
           -0.23271296607730563,
           -1.5995684098389942,
           0.919236709769467,
           0.4378403077713668,
           -0.7307743244251192,
           0.6339307763152333,
           0.8671969971251772,
           -0.611748444571421,
           1.7618251092002515,
           -0.662626202427917,
           -0.3923447441801614,
           0.4463125920494014,
           -1.1214071812957116,
           1.2947379339875493,
           -1.4260743043225128,
           -0.6356208191409802,
           1.1647639596152948,
           -0.6062154738816306,
           -0.4162080698016636,
           0.1465325010608131,
           -0.3587097779169822,
           -1.6577492001999254,
           -0.5189768944364658,
           0.6754385258893378,
           1.5197781471209555,
           1.4095134761374357,
           -1.0712538989380753,
           0.45095576325848896,
           -0.7156620992731056,
           0.2166435461455979,
           -0.40297416384240425,
           0.6401322456404703,
           -1.4946821166590336,
           -0.6642126522652682,
           -0.10094498514127544,
           0.13370056544134556,
           0.70798202830231,
           1.4839919859538422,
           -0.8687236105211821,
           0.9333774099045887,
           -2.515931582433882,
           0.14533145548799636,
           -0.14419485282794225,
           0.10412277899713736,
           -0.10857322516896273,
           -0.9722703747807329,
           2.321547300687002,
           -0.1994569905412078,
           0.6159785640082904,
           -0.12574970029400023,
           0.07287035074971125,
           0.5224700532610546,
           -0.3058200167386125,
           0.2638384035842564,
           -2.037549162102329,
           -1.3440421900833643,
           -0.11916304778863729,
           0.5530388436720112,
           0.5485415989604949,
           -0.05785098795544196,
           1.474547370247312,
           1.9181685192081155,
           -0.3929545768197893,
           0.9900810724691954,
           1.0805936147894635,
           1.882840814416299,
           -1.6422036552509005,
           -1.324372265606553,
           -1.701977013101902,
           -0.6848197030247217,
           0.14757682622784124,
           1.7714545165636402,
           0.12780236094985262,
           1.0803679359635996,
           0.8643706640367214,
           0.34736425414175404,
           1.2627658113328606,
           1.2158426492800476,
           0.626619164750297,
           -0.4027288969175322,
           0.23322932077183728,
           -1.062753497050058,
           -3.0328973514734874,
           -0.7230254607699241,
           0.823356735233345,
           -0.4141784989074891,
           -0.553221902662737,
           -0.2527902576813746,
           -0.7128997144229793,
           0.877515047743718,
           2.0772681282097585,
           0.584998168853124,
           0.6306277367371805,
           -0.6665273785964188,
           -1.4986479629852918,
           -1.1574921849948667,
           0.6502583808634415,
           0.04754843132925627,
           1.053184947777645,
           0.2916489629217453,
           1.0989756247876736,
           0.008651743095431099,
           0.016692037728938947,
           0.746147122246775,
           -0.200114821546295,
           -0.6161455463054358,
           -1.1259632440486034,
           0.423452031869593,
           -1.0345985343459199,
           -0.9682808657388271,
           -1.1333985816273529,
           0.7212560588183016,
           -0.7236765445085945,
           -1.5473034172997078,
           -0.14737771952012402,
           -0.6365007463317387,
           0.9879948088756025,
           0.24800389181770027,
           -0.09982260124184394,
           -0.04656243328701172,
           0.8999363021087983,
           0.6470883092538101,
           -1.5552195958078923,
           -0.2852230524720031,
           0.5370736402031417,
           -1.5138340349499466,
           2.134697434960678,
           -0.043389329423413024,
           -2.9410735245840933,
           -0.721825577559191,
           -1.0346898099406274,
           0.5591827890792108,
           1.4282315604629607,
           0.8758341919305358,
           -0.5568330190196943,
           -0.6718578371464604,
           -0.021672314762354258,
           1.2898376574793855,
           0.5030332237166826,
           0.5250817524729128,
           0.035250461232871656,
           0.017025444431838222,
           -1.163451626423964,
           0.06866238110225366,
           -0.8748958532610328,
           0.41512811960152984,
           -0.3100609657210257,
           0.31230595122106647,
           0.5556708889856484,
           0.5200648757686818,
           1.0070334527625278,
           -0.631650203679592,
           0.9959350936437525,
           -1.2247299066124062,
           1.057231065209477,
           1.0547806207491859,
           0.6848711988894963,
           0.657630084207472,
           0.7845111992501624,
           1.6239802959181278,
           2.103521293244524,
           -0.46878413440323996,
           -0.021396103607772148,
           -4.186076242461595,
           0.9972769647600882,
           0.05714256066064955,
           1.3547456791226364,
           -0.6119871030092209,
           -0.10640094098347969,
           0.0008992746011421077,
           0.8977695480525898,
           -0.3887222269012449,
           0.9966765488317202,
           -0.13556032147841166,
           1.1249790375333562,
           0.7157847511506201,
           -0.38657400274160686,
           -0.29099351470785456,
           -0.5408210616936989,
           0.569628789610044,
           0.3531253695853432,
           -0.14510601719980357,
           -0.8783556261558362,
           -1.0141492992985484,
           -0.13900545401032655,
           -1.4197756093638676,
           0.005665766532988547,
           1.0760270835116763,
           -0.7587814802038528,
           -0.8117212988890051,
           -0.8834614368692524,
           -1.2211648960727224,
           0.9764216062615213,
           -0.1201508353704868,
           -0.5024829211618346,
           -0.4304630312511952,
           1.055058132394167,
           -0.7569292885645748,
           1.000759703414797,
           -2.1307626756336058,
           -1.184865930308314,
           -1.9821882155786887,
           0.40383241938546693,
           0.6266901814078767,
           -0.23671123453720283,
           -1.9232620317162248,
           -1.2724337849598788,
           0.8691054649669071,
           2.513398738873946,
           -0.21340459579372095,
           2.0468766492437136,
           0.4372472261315486,
           2.1347978056510177,
           0.8378466149655835,
           -0.775587069827822,
           2.4601346209752264,
           -0.9081155973057511,
           -0.6145802239251607,
           0.7120264918034662,
           -1.4256539714576397,
           -0.6630737502996227,
           0.2564760056693764,
           1.2914017556227206,
           0.6234231500191098,
           1.4667578837929753,
           -0.39533013474149165,
           -0.43266459400794494,
           -0.8002775878009039,
           -0.4926351293945609,
           -0.2448673429171766,
           -0.10998469730427632,
           0.22634975411146752,
           0.6283582390344697,
           -0.644014519541679,
           1.5299764376599798,
           0.6134970207574035,
           -0.5989200785976524,
           -0.18490934498203973,
           0.7596276799434679,
           2.319479980995834,
           -0.16059047685876524,
           -0.8445386064425194,
           2.364547739513391,
           -1.6208294938805285,
           -1.0009201885078707,
           -1.0143420058230752,
           0.9759822812939324,
           -0.989806400486665,
           -1.0658261950671801,
           -0.5693542119109104,
           0.5908503775860023,
           -0.5547073960359552,
           1.0520241772460597,
           -0.24376404344683308,
           0.0050078219807628745,
           -0.4338721274160099,
           0.538539239689331,
           0.9821823401408685,
           -1.4007983137002311,
           -1.962024270984219,
           0.11566552934583468,
           -0.055346018344944854,
           0.8708870280996394,
           -0.1834136893515395,
           -1.2550364527803295,
           -0.5182456939747866,
           1.5851303656861482,
           1.0809182727767839,
           -0.5054019949509323,
           -0.8253714755567325,
           -1.1730315308195387,
           -1.0891352273763106,
           0.14318745540594996,
           -0.90654552558912,
           0.1950524830401955,
           0.21296537887809977,
           0.31568543059580545,
           1.1773220599615744,
           -0.5286073709760818,
           -0.049187125580287705,
           -0.9324102411038545,
           -0.7966713784076394,
           -0.7158734424423723,
           0.15601385661007813,
           0.8172581171951006,
           -0.839543609632869,
           1.3259327044197584,
           -0.42577027590357774,
           1.1657447896584539,
           0.26660817704866846,
           -1.7703200919499469,
           -0.44179249121162906,
           -0.3817060901950105,
           -1.4795822103930352,
           0.5872789162157748,
           2.558962505779823,
           -0.4560157602179722,
           -0.16542593940196598,
           0.1359271227728704,
           -0.4862161619690658,
           0.26052838810085693,
           0.1098240406691478,
           -1.0087689107911957,
           -0.9498763400058814,
           -1.5252159382510766,
           0.5822389207883957,
           -1.0723953985600454,
           -1.0179116362781742,
           0.4880713605643438,
           -1.091634038808687,
           1.055224164684295,
           0.37743077069876635,
           1.252640550323447,
           0.6121212789363354,
           -0.7409346575870831,
           1.535924190487111,
           -3.122471421288741,
           -1.2990432495015216,
           1.1216371966490033,
           -0.7701995715699517,
           1.118270333343023,
           0.20953268231324762,
           0.4722814895531395,
           1.2543952186882845,
           -0.027251941072806075,
           0.31240978868557256,
           0.27147634669404036,
           -1.4438260273239056,
           0.6214471872513909,
           -0.9099054854020422,
           0.24199071153429838,
           0.049245591764464594,
           0.3659283792465602,
           1.9525354883027342,
           -0.5052572212263401,
           0.04033750394165772,
           0.5959348593757324,
           0.26747603024540045,
           1.0735938685201123,
           -0.057773023497318124,
           0.19357198858128474,
           -0.30111053693710665,
           1.224591438987375,
           -0.8084122295403371,
           0.41243394492213903,
           0.32458187900316315,
           -1.2955967900205394,
           -1.5391121027965329,
           -0.1639640657539996,
           -1.5278243163420293,
           -0.22655673758680112,
           -0.935009540294569,
           -0.43113003741455636,
           0.14390952236600513,
           -0.6195501390159442,
           0.41666501744139367,
           1.445043441622567,
           0.35097369808835094,
           0.550182098240195,
           -0.001679077133678991,
           -0.33197647007062314,
           -1.3049317554451352,
           -0.676109509398522,
           -0.2815449241268303,
           -1.1497782807323347,
           0.6034083705813297,
           -0.05733722421837954,
           1.627176054349976,
           -0.4073176216370427,
           1.774244289997226,
           -0.5209663005608614,
           -0.5198745062132352,
           0.8716207491517696,
           -1.186775419156729,
           0.41441578958693687,
           0.260037018193321,
           -1.824204320998957,
           -0.7920914715415127,
           0.22539652202659205,
           -1.008373416031964,
           -1.6673508969575013,
           -0.524237435425025,
           1.469625318407726,
           0.24162233705699976,
           1.8099715458873995,
           0.36886381883759706,
           -3.5938953779705103,
           2.251623056070629,
           -0.675692724095159,
           -0.4066593004345792,
           0.4537646629116719,
           -0.7449896548845084,
           -0.24415175530810632,
           0.6326517259843744,
           0.797011254957711,
           -0.3331045875421538,
           -0.07394107041029334,
           -0.8734535459782817,
           -2.420318006633696,
           -2.5550011291388213,
           0.47185691426922116,
           0.44312630396842373,
           -0.6796657540480325,
           -0.3468192283661211,
           0.5928333100376282,
           0.8346660270888684,
           2.0161547629817846,
           -2.745652444332014,
           -0.533212863491325,
           -0.7975915796541355,
           0.09549329873473525,
           0.3391903555073927,
           -0.18861170723212953,
           -0.4697697285600553,
           -1.2737527063091192,
           0.009253922133985688,
           -0.2458775921981696,
           0.5324091989481469,
           0.5923053676887042,
           -0.6564952328487526,
           0.22595671355113692,
           1.6306393587915091,
           0.30207022044207926,
           1.2543316186396956,
           1.28677568538335,
           -1.4605808441491481,
           1.127014349658168,
           1.9318557616390206,
           -1.3874124065335225,
           0.6512917761568485,
           1.6613832454509245,
           -0.3972055953456968,
           0.12197965902674546,
           0.7409331095764705,
           0.15867483418367673
          ],
          "colorscale": [
           [
            0,
            "#440154"
           ],
           [
            0.1111111111111111,
            "#482878"
           ],
           [
            0.2222222222222222,
            "#3e4989"
           ],
           [
            0.3333333333333333,
            "#31688e"
           ],
           [
            0.4444444444444444,
            "#26828e"
           ],
           [
            0.5555555555555556,
            "#1f9e89"
           ],
           [
            0.6666666666666666,
            "#35b779"
           ],
           [
            0.7777777777777778,
            "#6ece58"
           ],
           [
            0.8888888888888888,
            "#b5de2b"
           ],
           [
            1,
            "#fde725"
           ]
          ],
          "showscale": true,
          "size": 16
         },
         "mode": "markers",
         "type": "scatter",
         "y": [
          2182,
          1457,
          670,
          556,
          478,
          422,
          338,
          315,
          285,
          255,
          229,
          185,
          183,
          179,
          164,
          151,
          144,
          136,
          129,
          111,
          107,
          100,
          84,
          79,
          76,
          69,
          58,
          56,
          55,
          39,
          31,
          29,
          26,
          25,
          24,
          24,
          23,
          23,
          21,
          21,
          20,
          19,
          19,
          19,
          18,
          18,
          18,
          14,
          14,
          13,
          12,
          11,
          11,
          10,
          10,
          10,
          10,
          10,
          10,
          9,
          8,
          8,
          8,
          8,
          7,
          7,
          7,
          7,
          7,
          6,
          6,
          6,
          5,
          5,
          4,
          4,
          4,
          4,
          4,
          3,
          3,
          3,
          3,
          3,
          3,
          3,
          3,
          2,
          2,
          2,
          2,
          2,
          2,
          2,
          2,
          2,
          1,
          1,
          1,
          1,
          1,
          1,
          1,
          1,
          1,
          1,
          1,
          1,
          1,
          1,
          1,
          1,
          1,
          1,
          1,
          1,
          1,
          1,
          1,
          1,
          1,
          1,
          1,
          1,
          1
         ]
        }
       ],
       "layout": {
        "template": {
         "data": {
          "bar": [
           {
            "error_x": {
             "color": "#2a3f5f"
            },
            "error_y": {
             "color": "#2a3f5f"
            },
            "marker": {
             "line": {
              "color": "#E5ECF6",
              "width": 0.5
             }
            },
            "type": "bar"
           }
          ],
          "barpolar": [
           {
            "marker": {
             "line": {
              "color": "#E5ECF6",
              "width": 0.5
             }
            },
            "type": "barpolar"
           }
          ],
          "carpet": [
           {
            "aaxis": {
             "endlinecolor": "#2a3f5f",
             "gridcolor": "white",
             "linecolor": "white",
             "minorgridcolor": "white",
             "startlinecolor": "#2a3f5f"
            },
            "baxis": {
             "endlinecolor": "#2a3f5f",
             "gridcolor": "white",
             "linecolor": "white",
             "minorgridcolor": "white",
             "startlinecolor": "#2a3f5f"
            },
            "type": "carpet"
           }
          ],
          "choropleth": [
           {
            "colorbar": {
             "outlinewidth": 0,
             "ticks": ""
            },
            "type": "choropleth"
           }
          ],
          "contour": [
           {
            "colorbar": {
             "outlinewidth": 0,
             "ticks": ""
            },
            "colorscale": [
             [
              0,
              "#0d0887"
             ],
             [
              0.1111111111111111,
              "#46039f"
             ],
             [
              0.2222222222222222,
              "#7201a8"
             ],
             [
              0.3333333333333333,
              "#9c179e"
             ],
             [
              0.4444444444444444,
              "#bd3786"
             ],
             [
              0.5555555555555556,
              "#d8576b"
             ],
             [
              0.6666666666666666,
              "#ed7953"
             ],
             [
              0.7777777777777778,
              "#fb9f3a"
             ],
             [
              0.8888888888888888,
              "#fdca26"
             ],
             [
              1,
              "#f0f921"
             ]
            ],
            "type": "contour"
           }
          ],
          "contourcarpet": [
           {
            "colorbar": {
             "outlinewidth": 0,
             "ticks": ""
            },
            "type": "contourcarpet"
           }
          ],
          "heatmap": [
           {
            "colorbar": {
             "outlinewidth": 0,
             "ticks": ""
            },
            "colorscale": [
             [
              0,
              "#0d0887"
             ],
             [
              0.1111111111111111,
              "#46039f"
             ],
             [
              0.2222222222222222,
              "#7201a8"
             ],
             [
              0.3333333333333333,
              "#9c179e"
             ],
             [
              0.4444444444444444,
              "#bd3786"
             ],
             [
              0.5555555555555556,
              "#d8576b"
             ],
             [
              0.6666666666666666,
              "#ed7953"
             ],
             [
              0.7777777777777778,
              "#fb9f3a"
             ],
             [
              0.8888888888888888,
              "#fdca26"
             ],
             [
              1,
              "#f0f921"
             ]
            ],
            "type": "heatmap"
           }
          ],
          "heatmapgl": [
           {
            "colorbar": {
             "outlinewidth": 0,
             "ticks": ""
            },
            "colorscale": [
             [
              0,
              "#0d0887"
             ],
             [
              0.1111111111111111,
              "#46039f"
             ],
             [
              0.2222222222222222,
              "#7201a8"
             ],
             [
              0.3333333333333333,
              "#9c179e"
             ],
             [
              0.4444444444444444,
              "#bd3786"
             ],
             [
              0.5555555555555556,
              "#d8576b"
             ],
             [
              0.6666666666666666,
              "#ed7953"
             ],
             [
              0.7777777777777778,
              "#fb9f3a"
             ],
             [
              0.8888888888888888,
              "#fdca26"
             ],
             [
              1,
              "#f0f921"
             ]
            ],
            "type": "heatmapgl"
           }
          ],
          "histogram": [
           {
            "marker": {
             "colorbar": {
              "outlinewidth": 0,
              "ticks": ""
             }
            },
            "type": "histogram"
           }
          ],
          "histogram2d": [
           {
            "colorbar": {
             "outlinewidth": 0,
             "ticks": ""
            },
            "colorscale": [
             [
              0,
              "#0d0887"
             ],
             [
              0.1111111111111111,
              "#46039f"
             ],
             [
              0.2222222222222222,
              "#7201a8"
             ],
             [
              0.3333333333333333,
              "#9c179e"
             ],
             [
              0.4444444444444444,
              "#bd3786"
             ],
             [
              0.5555555555555556,
              "#d8576b"
             ],
             [
              0.6666666666666666,
              "#ed7953"
             ],
             [
              0.7777777777777778,
              "#fb9f3a"
             ],
             [
              0.8888888888888888,
              "#fdca26"
             ],
             [
              1,
              "#f0f921"
             ]
            ],
            "type": "histogram2d"
           }
          ],
          "histogram2dcontour": [
           {
            "colorbar": {
             "outlinewidth": 0,
             "ticks": ""
            },
            "colorscale": [
             [
              0,
              "#0d0887"
             ],
             [
              0.1111111111111111,
              "#46039f"
             ],
             [
              0.2222222222222222,
              "#7201a8"
             ],
             [
              0.3333333333333333,
              "#9c179e"
             ],
             [
              0.4444444444444444,
              "#bd3786"
             ],
             [
              0.5555555555555556,
              "#d8576b"
             ],
             [
              0.6666666666666666,
              "#ed7953"
             ],
             [
              0.7777777777777778,
              "#fb9f3a"
             ],
             [
              0.8888888888888888,
              "#fdca26"
             ],
             [
              1,
              "#f0f921"
             ]
            ],
            "type": "histogram2dcontour"
           }
          ],
          "mesh3d": [
           {
            "colorbar": {
             "outlinewidth": 0,
             "ticks": ""
            },
            "type": "mesh3d"
           }
          ],
          "parcoords": [
           {
            "line": {
             "colorbar": {
              "outlinewidth": 0,
              "ticks": ""
             }
            },
            "type": "parcoords"
           }
          ],
          "scatter": [
           {
            "marker": {
             "colorbar": {
              "outlinewidth": 0,
              "ticks": ""
             }
            },
            "type": "scatter"
           }
          ],
          "scatter3d": [
           {
            "line": {
             "colorbar": {
              "outlinewidth": 0,
              "ticks": ""
             }
            },
            "marker": {
             "colorbar": {
              "outlinewidth": 0,
              "ticks": ""
             }
            },
            "type": "scatter3d"
           }
          ],
          "scattercarpet": [
           {
            "marker": {
             "colorbar": {
              "outlinewidth": 0,
              "ticks": ""
             }
            },
            "type": "scattercarpet"
           }
          ],
          "scattergeo": [
           {
            "marker": {
             "colorbar": {
              "outlinewidth": 0,
              "ticks": ""
             }
            },
            "type": "scattergeo"
           }
          ],
          "scattergl": [
           {
            "marker": {
             "colorbar": {
              "outlinewidth": 0,
              "ticks": ""
             }
            },
            "type": "scattergl"
           }
          ],
          "scattermapbox": [
           {
            "marker": {
             "colorbar": {
              "outlinewidth": 0,
              "ticks": ""
             }
            },
            "type": "scattermapbox"
           }
          ],
          "scatterpolar": [
           {
            "marker": {
             "colorbar": {
              "outlinewidth": 0,
              "ticks": ""
             }
            },
            "type": "scatterpolar"
           }
          ],
          "scatterpolargl": [
           {
            "marker": {
             "colorbar": {
              "outlinewidth": 0,
              "ticks": ""
             }
            },
            "type": "scatterpolargl"
           }
          ],
          "scatterternary": [
           {
            "marker": {
             "colorbar": {
              "outlinewidth": 0,
              "ticks": ""
             }
            },
            "type": "scatterternary"
           }
          ],
          "surface": [
           {
            "colorbar": {
             "outlinewidth": 0,
             "ticks": ""
            },
            "colorscale": [
             [
              0,
              "#0d0887"
             ],
             [
              0.1111111111111111,
              "#46039f"
             ],
             [
              0.2222222222222222,
              "#7201a8"
             ],
             [
              0.3333333333333333,
              "#9c179e"
             ],
             [
              0.4444444444444444,
              "#bd3786"
             ],
             [
              0.5555555555555556,
              "#d8576b"
             ],
             [
              0.6666666666666666,
              "#ed7953"
             ],
             [
              0.7777777777777778,
              "#fb9f3a"
             ],
             [
              0.8888888888888888,
              "#fdca26"
             ],
             [
              1,
              "#f0f921"
             ]
            ],
            "type": "surface"
           }
          ],
          "table": [
           {
            "cells": {
             "fill": {
              "color": "#EBF0F8"
             },
             "line": {
              "color": "white"
             }
            },
            "header": {
             "fill": {
              "color": "#C8D4E3"
             },
             "line": {
              "color": "white"
             }
            },
            "type": "table"
           }
          ]
         },
         "layout": {
          "annotationdefaults": {
           "arrowcolor": "#2a3f5f",
           "arrowhead": 0,
           "arrowwidth": 1
          },
          "colorscale": {
           "diverging": [
            [
             0,
             "#8e0152"
            ],
            [
             0.1,
             "#c51b7d"
            ],
            [
             0.2,
             "#de77ae"
            ],
            [
             0.3,
             "#f1b6da"
            ],
            [
             0.4,
             "#fde0ef"
            ],
            [
             0.5,
             "#f7f7f7"
            ],
            [
             0.6,
             "#e6f5d0"
            ],
            [
             0.7,
             "#b8e186"
            ],
            [
             0.8,
             "#7fbc41"
            ],
            [
             0.9,
             "#4d9221"
            ],
            [
             1,
             "#276419"
            ]
           ],
           "sequential": [
            [
             0,
             "#0d0887"
            ],
            [
             0.1111111111111111,
             "#46039f"
            ],
            [
             0.2222222222222222,
             "#7201a8"
            ],
            [
             0.3333333333333333,
             "#9c179e"
            ],
            [
             0.4444444444444444,
             "#bd3786"
            ],
            [
             0.5555555555555556,
             "#d8576b"
            ],
            [
             0.6666666666666666,
             "#ed7953"
            ],
            [
             0.7777777777777778,
             "#fb9f3a"
            ],
            [
             0.8888888888888888,
             "#fdca26"
            ],
            [
             1,
             "#f0f921"
            ]
           ],
           "sequentialminus": [
            [
             0,
             "#0d0887"
            ],
            [
             0.1111111111111111,
             "#46039f"
            ],
            [
             0.2222222222222222,
             "#7201a8"
            ],
            [
             0.3333333333333333,
             "#9c179e"
            ],
            [
             0.4444444444444444,
             "#bd3786"
            ],
            [
             0.5555555555555556,
             "#d8576b"
            ],
            [
             0.6666666666666666,
             "#ed7953"
            ],
            [
             0.7777777777777778,
             "#fb9f3a"
            ],
            [
             0.8888888888888888,
             "#fdca26"
            ],
            [
             1,
             "#f0f921"
            ]
           ]
          },
          "colorway": [
           "#636efa",
           "#EF553B",
           "#00cc96",
           "#ab63fa",
           "#FFA15A",
           "#19d3f3",
           "#FF6692",
           "#B6E880",
           "#FF97FF",
           "#FECB52"
          ],
          "font": {
           "color": "#2a3f5f"
          },
          "geo": {
           "bgcolor": "white",
           "lakecolor": "white",
           "landcolor": "#E5ECF6",
           "showlakes": true,
           "showland": true,
           "subunitcolor": "white"
          },
          "hoverlabel": {
           "align": "left"
          },
          "hovermode": "closest",
          "mapbox": {
           "style": "light"
          },
          "paper_bgcolor": "white",
          "plot_bgcolor": "#E5ECF6",
          "polar": {
           "angularaxis": {
            "gridcolor": "white",
            "linecolor": "white",
            "ticks": ""
           },
           "bgcolor": "#E5ECF6",
           "radialaxis": {
            "gridcolor": "white",
            "linecolor": "white",
            "ticks": ""
           }
          },
          "scene": {
           "xaxis": {
            "backgroundcolor": "#E5ECF6",
            "gridcolor": "white",
            "gridwidth": 2,
            "linecolor": "white",
            "showbackground": true,
            "ticks": "",
            "zerolinecolor": "white"
           },
           "yaxis": {
            "backgroundcolor": "#E5ECF6",
            "gridcolor": "white",
            "gridwidth": 2,
            "linecolor": "white",
            "showbackground": true,
            "ticks": "",
            "zerolinecolor": "white"
           },
           "zaxis": {
            "backgroundcolor": "#E5ECF6",
            "gridcolor": "white",
            "gridwidth": 2,
            "linecolor": "white",
            "showbackground": true,
            "ticks": "",
            "zerolinecolor": "white"
           }
          },
          "shapedefaults": {
           "line": {
            "color": "#2a3f5f"
           }
          },
          "ternary": {
           "aaxis": {
            "gridcolor": "white",
            "linecolor": "white",
            "ticks": ""
           },
           "baxis": {
            "gridcolor": "white",
            "linecolor": "white",
            "ticks": ""
           },
           "bgcolor": "#E5ECF6",
           "caxis": {
            "gridcolor": "white",
            "linecolor": "white",
            "ticks": ""
           }
          },
          "title": {
           "x": 0.05
          },
          "xaxis": {
           "automargin": true,
           "gridcolor": "white",
           "linecolor": "white",
           "ticks": "",
           "zerolinecolor": "white",
           "zerolinewidth": 2
          },
          "yaxis": {
           "automargin": true,
           "gridcolor": "white",
           "linecolor": "white",
           "ticks": "",
           "zerolinecolor": "white",
           "zerolinewidth": 2
          }
         }
        }
       }
      },
      "text/html": [
       "<div>\n",
       "        \n",
       "        \n",
       "            <div id=\"6bb55941-de02-4e3b-bf78-974db10e3183\" class=\"plotly-graph-div\" style=\"height:525px; width:100%;\"></div>\n",
       "            <script type=\"text/javascript\">\n",
       "                require([\"plotly\"], function(Plotly) {\n",
       "                    window.PLOTLYENV=window.PLOTLYENV || {};\n",
       "                    \n",
       "                if (document.getElementById(\"6bb55941-de02-4e3b-bf78-974db10e3183\")) {\n",
       "                    Plotly.newPlot(\n",
       "                        '6bb55941-de02-4e3b-bf78-974db10e3183',\n",
       "                        [{\"marker\": {\"color\": [0.6475884546311395, 1.0369850204031927, 1.3596808863474719, 0.3608572450010316, -0.9837337922966507, 2.2332462765415886, -1.0415472735111893, 1.639667662365628, -1.4179389650918737, -0.5190176034585636, 0.3704973425746953, 0.9234089786690053, 1.8250289072016486, 0.4466787154554053, -0.6965598398805694, -1.2491611939280967, -0.2481870471945286, -1.2418715734409012, 1.0644396713756172, -0.1336546349670067, 2.0677206261685295, 0.08473547147582779, -0.6841818704238675, -1.4927504901865174, -0.6673057861935366, 0.36384150439615565, -1.7220542189559735, -0.5361050328741465, 0.2731298283585885, -1.8456220212997747, -0.7791065300105369, -0.5420788318737303, -0.19126062736409824, 0.06660148751613189, 0.835089284360056, -1.601547470077587, 0.3165383010617347, 1.5229375631043585, 0.5233727320429624, -0.5090047148365178, -1.83580908631939, 0.9632188510971231, 0.17537030989503935, -0.12174612698414317, 0.5527633499561648, 0.6249877999301058, 0.001696696433396594, 0.44563392847987343, -0.2885609065357811, 0.4335761581083032, 0.9455768185314266, -1.4498860927006285, -0.9907077704079412, 1.3735523738327589, 0.2467742853470057, 0.27835518279051324, -0.0050510588712389965, -0.4542934200105495, 1.1434467082522421, -2.227275425053483, 0.10755328335421421, -0.6651739935224368, -0.16164781262137415, 0.18838301239328253, 0.8752242606438254, -0.23271296607730563, -1.5995684098389942, 0.919236709769467, 0.4378403077713668, -0.7307743244251192, 0.6339307763152333, 0.8671969971251772, -0.611748444571421, 1.7618251092002515, -0.662626202427917, -0.3923447441801614, 0.4463125920494014, -1.1214071812957116, 1.2947379339875493, -1.4260743043225128, -0.6356208191409802, 1.1647639596152948, -0.6062154738816306, -0.4162080698016636, 0.1465325010608131, -0.3587097779169822, -1.6577492001999254, -0.5189768944364658, 0.6754385258893378, 1.5197781471209555, 1.4095134761374357, -1.0712538989380753, 0.45095576325848896, -0.7156620992731056, 0.2166435461455979, -0.40297416384240425, 0.6401322456404703, -1.4946821166590336, -0.6642126522652682, -0.10094498514127544, 0.13370056544134556, 0.70798202830231, 1.4839919859538422, -0.8687236105211821, 0.9333774099045887, -2.515931582433882, 0.14533145548799636, -0.14419485282794225, 0.10412277899713736, -0.10857322516896273, -0.9722703747807329, 2.321547300687002, -0.1994569905412078, 0.6159785640082904, -0.12574970029400023, 0.07287035074971125, 0.5224700532610546, -0.3058200167386125, 0.2638384035842564, -2.037549162102329, -1.3440421900833643, -0.11916304778863729, 0.5530388436720112, 0.5485415989604949, -0.05785098795544196, 1.474547370247312, 1.9181685192081155, -0.3929545768197893, 0.9900810724691954, 1.0805936147894635, 1.882840814416299, -1.6422036552509005, -1.324372265606553, -1.701977013101902, -0.6848197030247217, 0.14757682622784124, 1.7714545165636402, 0.12780236094985262, 1.0803679359635996, 0.8643706640367214, 0.34736425414175404, 1.2627658113328606, 1.2158426492800476, 0.626619164750297, -0.4027288969175322, 0.23322932077183728, -1.062753497050058, -3.0328973514734874, -0.7230254607699241, 0.823356735233345, -0.4141784989074891, -0.553221902662737, -0.2527902576813746, -0.7128997144229793, 0.877515047743718, 2.0772681282097585, 0.584998168853124, 0.6306277367371805, -0.6665273785964188, -1.4986479629852918, -1.1574921849948667, 0.6502583808634415, 0.04754843132925627, 1.053184947777645, 0.2916489629217453, 1.0989756247876736, 0.008651743095431099, 0.016692037728938947, 0.746147122246775, -0.200114821546295, -0.6161455463054358, -1.1259632440486034, 0.423452031869593, -1.0345985343459199, -0.9682808657388271, -1.1333985816273529, 0.7212560588183016, -0.7236765445085945, -1.5473034172997078, -0.14737771952012402, -0.6365007463317387, 0.9879948088756025, 0.24800389181770027, -0.09982260124184394, -0.04656243328701172, 0.8999363021087983, 0.6470883092538101, -1.5552195958078923, -0.2852230524720031, 0.5370736402031417, -1.5138340349499466, 2.134697434960678, -0.043389329423413024, -2.9410735245840933, -0.721825577559191, -1.0346898099406274, 0.5591827890792108, 1.4282315604629607, 0.8758341919305358, -0.5568330190196943, -0.6718578371464604, -0.021672314762354258, 1.2898376574793855, 0.5030332237166826, 0.5250817524729128, 0.035250461232871656, 0.017025444431838222, -1.163451626423964, 0.06866238110225366, -0.8748958532610328, 0.41512811960152984, -0.3100609657210257, 0.31230595122106647, 0.5556708889856484, 0.5200648757686818, 1.0070334527625278, -0.631650203679592, 0.9959350936437525, -1.2247299066124062, 1.057231065209477, 1.0547806207491859, 0.6848711988894963, 0.657630084207472, 0.7845111992501624, 1.6239802959181278, 2.103521293244524, -0.46878413440323996, -0.021396103607772148, -4.186076242461595, 0.9972769647600882, 0.05714256066064955, 1.3547456791226364, -0.6119871030092209, -0.10640094098347969, 0.0008992746011421077, 0.8977695480525898, -0.3887222269012449, 0.9966765488317202, -0.13556032147841166, 1.1249790375333562, 0.7157847511506201, -0.38657400274160686, -0.29099351470785456, -0.5408210616936989, 0.569628789610044, 0.3531253695853432, -0.14510601719980357, -0.8783556261558362, -1.0141492992985484, -0.13900545401032655, -1.4197756093638676, 0.005665766532988547, 1.0760270835116763, -0.7587814802038528, -0.8117212988890051, -0.8834614368692524, -1.2211648960727224, 0.9764216062615213, -0.1201508353704868, -0.5024829211618346, -0.4304630312511952, 1.055058132394167, -0.7569292885645748, 1.000759703414797, -2.1307626756336058, -1.184865930308314, -1.9821882155786887, 0.40383241938546693, 0.6266901814078767, -0.23671123453720283, -1.9232620317162248, -1.2724337849598788, 0.8691054649669071, 2.513398738873946, -0.21340459579372095, 2.0468766492437136, 0.4372472261315486, 2.1347978056510177, 0.8378466149655835, -0.775587069827822, 2.4601346209752264, -0.9081155973057511, -0.6145802239251607, 0.7120264918034662, -1.4256539714576397, -0.6630737502996227, 0.2564760056693764, 1.2914017556227206, 0.6234231500191098, 1.4667578837929753, -0.39533013474149165, -0.43266459400794494, -0.8002775878009039, -0.4926351293945609, -0.2448673429171766, -0.10998469730427632, 0.22634975411146752, 0.6283582390344697, -0.644014519541679, 1.5299764376599798, 0.6134970207574035, -0.5989200785976524, -0.18490934498203973, 0.7596276799434679, 2.319479980995834, -0.16059047685876524, -0.8445386064425194, 2.364547739513391, -1.6208294938805285, -1.0009201885078707, -1.0143420058230752, 0.9759822812939324, -0.989806400486665, -1.0658261950671801, -0.5693542119109104, 0.5908503775860023, -0.5547073960359552, 1.0520241772460597, -0.24376404344683308, 0.0050078219807628745, -0.4338721274160099, 0.538539239689331, 0.9821823401408685, -1.4007983137002311, -1.962024270984219, 0.11566552934583468, -0.055346018344944854, 0.8708870280996394, -0.1834136893515395, -1.2550364527803295, -0.5182456939747866, 1.5851303656861482, 1.0809182727767839, -0.5054019949509323, -0.8253714755567325, -1.1730315308195387, -1.0891352273763106, 0.14318745540594996, -0.90654552558912, 0.1950524830401955, 0.21296537887809977, 0.31568543059580545, 1.1773220599615744, -0.5286073709760818, -0.049187125580287705, -0.9324102411038545, -0.7966713784076394, -0.7158734424423723, 0.15601385661007813, 0.8172581171951006, -0.839543609632869, 1.3259327044197584, -0.42577027590357774, 1.1657447896584539, 0.26660817704866846, -1.7703200919499469, -0.44179249121162906, -0.3817060901950105, -1.4795822103930352, 0.5872789162157748, 2.558962505779823, -0.4560157602179722, -0.16542593940196598, 0.1359271227728704, -0.4862161619690658, 0.26052838810085693, 0.1098240406691478, -1.0087689107911957, -0.9498763400058814, -1.5252159382510766, 0.5822389207883957, -1.0723953985600454, -1.0179116362781742, 0.4880713605643438, -1.091634038808687, 1.055224164684295, 0.37743077069876635, 1.252640550323447, 0.6121212789363354, -0.7409346575870831, 1.535924190487111, -3.122471421288741, -1.2990432495015216, 1.1216371966490033, -0.7701995715699517, 1.118270333343023, 0.20953268231324762, 0.4722814895531395, 1.2543952186882845, -0.027251941072806075, 0.31240978868557256, 0.27147634669404036, -1.4438260273239056, 0.6214471872513909, -0.9099054854020422, 0.24199071153429838, 0.049245591764464594, 0.3659283792465602, 1.9525354883027342, -0.5052572212263401, 0.04033750394165772, 0.5959348593757324, 0.26747603024540045, 1.0735938685201123, -0.057773023497318124, 0.19357198858128474, -0.30111053693710665, 1.224591438987375, -0.8084122295403371, 0.41243394492213903, 0.32458187900316315, -1.2955967900205394, -1.5391121027965329, -0.1639640657539996, -1.5278243163420293, -0.22655673758680112, -0.935009540294569, -0.43113003741455636, 0.14390952236600513, -0.6195501390159442, 0.41666501744139367, 1.445043441622567, 0.35097369808835094, 0.550182098240195, -0.001679077133678991, -0.33197647007062314, -1.3049317554451352, -0.676109509398522, -0.2815449241268303, -1.1497782807323347, 0.6034083705813297, -0.05733722421837954, 1.627176054349976, -0.4073176216370427, 1.774244289997226, -0.5209663005608614, -0.5198745062132352, 0.8716207491517696, -1.186775419156729, 0.41441578958693687, 0.260037018193321, -1.824204320998957, -0.7920914715415127, 0.22539652202659205, -1.008373416031964, -1.6673508969575013, -0.524237435425025, 1.469625318407726, 0.24162233705699976, 1.8099715458873995, 0.36886381883759706, -3.5938953779705103, 2.251623056070629, -0.675692724095159, -0.4066593004345792, 0.4537646629116719, -0.7449896548845084, -0.24415175530810632, 0.6326517259843744, 0.797011254957711, -0.3331045875421538, -0.07394107041029334, -0.8734535459782817, -2.420318006633696, -2.5550011291388213, 0.47185691426922116, 0.44312630396842373, -0.6796657540480325, -0.3468192283661211, 0.5928333100376282, 0.8346660270888684, 2.0161547629817846, -2.745652444332014, -0.533212863491325, -0.7975915796541355, 0.09549329873473525, 0.3391903555073927, -0.18861170723212953, -0.4697697285600553, -1.2737527063091192, 0.009253922133985688, -0.2458775921981696, 0.5324091989481469, 0.5923053676887042, -0.6564952328487526, 0.22595671355113692, 1.6306393587915091, 0.30207022044207926, 1.2543316186396956, 1.28677568538335, -1.4605808441491481, 1.127014349658168, 1.9318557616390206, -1.3874124065335225, 0.6512917761568485, 1.6613832454509245, -0.3972055953456968, 0.12197965902674546, 0.7409331095764705, 0.15867483418367673], \"colorscale\": [[0.0, \"#440154\"], [0.1111111111111111, \"#482878\"], [0.2222222222222222, \"#3e4989\"], [0.3333333333333333, \"#31688e\"], [0.4444444444444444, \"#26828e\"], [0.5555555555555556, \"#1f9e89\"], [0.6666666666666666, \"#35b779\"], [0.7777777777777778, \"#6ece58\"], [0.8888888888888888, \"#b5de2b\"], [1.0, \"#fde725\"]], \"showscale\": true, \"size\": 16}, \"mode\": \"markers\", \"type\": \"scatter\", \"y\": [2182, 1457, 670, 556, 478, 422, 338, 315, 285, 255, 229, 185, 183, 179, 164, 151, 144, 136, 129, 111, 107, 100, 84, 79, 76, 69, 58, 56, 55, 39, 31, 29, 26, 25, 24, 24, 23, 23, 21, 21, 20, 19, 19, 19, 18, 18, 18, 14, 14, 13, 12, 11, 11, 10, 10, 10, 10, 10, 10, 9, 8, 8, 8, 8, 7, 7, 7, 7, 7, 6, 6, 6, 5, 5, 4, 4, 4, 4, 4, 3, 3, 3, 3, 3, 3, 3, 3, 2, 2, 2, 2, 2, 2, 2, 2, 2, 1, 1, 1, 1, 1, 1, 1, 1, 1, 1, 1, 1, 1, 1, 1, 1, 1, 1, 1, 1, 1, 1, 1, 1, 1, 1, 1, 1, 1]}],\n",
       "                        {\"template\": {\"data\": {\"bar\": [{\"error_x\": {\"color\": \"#2a3f5f\"}, \"error_y\": {\"color\": \"#2a3f5f\"}, \"marker\": {\"line\": {\"color\": \"#E5ECF6\", \"width\": 0.5}}, \"type\": \"bar\"}], \"barpolar\": [{\"marker\": {\"line\": {\"color\": \"#E5ECF6\", \"width\": 0.5}}, \"type\": \"barpolar\"}], \"carpet\": [{\"aaxis\": {\"endlinecolor\": \"#2a3f5f\", \"gridcolor\": \"white\", \"linecolor\": \"white\", \"minorgridcolor\": \"white\", \"startlinecolor\": \"#2a3f5f\"}, \"baxis\": {\"endlinecolor\": \"#2a3f5f\", \"gridcolor\": \"white\", \"linecolor\": \"white\", \"minorgridcolor\": \"white\", \"startlinecolor\": \"#2a3f5f\"}, \"type\": \"carpet\"}], \"choropleth\": [{\"colorbar\": {\"outlinewidth\": 0, \"ticks\": \"\"}, \"type\": \"choropleth\"}], \"contour\": [{\"colorbar\": {\"outlinewidth\": 0, \"ticks\": \"\"}, \"colorscale\": [[0.0, \"#0d0887\"], [0.1111111111111111, \"#46039f\"], [0.2222222222222222, \"#7201a8\"], [0.3333333333333333, \"#9c179e\"], [0.4444444444444444, \"#bd3786\"], [0.5555555555555556, \"#d8576b\"], [0.6666666666666666, \"#ed7953\"], [0.7777777777777778, \"#fb9f3a\"], [0.8888888888888888, \"#fdca26\"], [1.0, \"#f0f921\"]], \"type\": \"contour\"}], \"contourcarpet\": [{\"colorbar\": {\"outlinewidth\": 0, \"ticks\": \"\"}, \"type\": \"contourcarpet\"}], \"heatmap\": [{\"colorbar\": {\"outlinewidth\": 0, \"ticks\": \"\"}, \"colorscale\": [[0.0, \"#0d0887\"], [0.1111111111111111, \"#46039f\"], [0.2222222222222222, \"#7201a8\"], [0.3333333333333333, \"#9c179e\"], [0.4444444444444444, \"#bd3786\"], [0.5555555555555556, \"#d8576b\"], [0.6666666666666666, \"#ed7953\"], [0.7777777777777778, \"#fb9f3a\"], [0.8888888888888888, \"#fdca26\"], [1.0, \"#f0f921\"]], \"type\": \"heatmap\"}], \"heatmapgl\": [{\"colorbar\": {\"outlinewidth\": 0, \"ticks\": \"\"}, \"colorscale\": [[0.0, \"#0d0887\"], [0.1111111111111111, \"#46039f\"], [0.2222222222222222, \"#7201a8\"], [0.3333333333333333, \"#9c179e\"], [0.4444444444444444, \"#bd3786\"], [0.5555555555555556, \"#d8576b\"], [0.6666666666666666, \"#ed7953\"], [0.7777777777777778, \"#fb9f3a\"], [0.8888888888888888, \"#fdca26\"], [1.0, \"#f0f921\"]], \"type\": \"heatmapgl\"}], \"histogram\": [{\"marker\": {\"colorbar\": {\"outlinewidth\": 0, \"ticks\": \"\"}}, \"type\": \"histogram\"}], \"histogram2d\": [{\"colorbar\": {\"outlinewidth\": 0, \"ticks\": \"\"}, \"colorscale\": [[0.0, \"#0d0887\"], [0.1111111111111111, \"#46039f\"], [0.2222222222222222, \"#7201a8\"], [0.3333333333333333, \"#9c179e\"], [0.4444444444444444, \"#bd3786\"], [0.5555555555555556, \"#d8576b\"], [0.6666666666666666, \"#ed7953\"], [0.7777777777777778, \"#fb9f3a\"], [0.8888888888888888, \"#fdca26\"], [1.0, \"#f0f921\"]], \"type\": \"histogram2d\"}], \"histogram2dcontour\": [{\"colorbar\": {\"outlinewidth\": 0, \"ticks\": \"\"}, \"colorscale\": [[0.0, \"#0d0887\"], [0.1111111111111111, \"#46039f\"], [0.2222222222222222, \"#7201a8\"], [0.3333333333333333, \"#9c179e\"], [0.4444444444444444, \"#bd3786\"], [0.5555555555555556, \"#d8576b\"], [0.6666666666666666, \"#ed7953\"], [0.7777777777777778, \"#fb9f3a\"], [0.8888888888888888, \"#fdca26\"], [1.0, \"#f0f921\"]], \"type\": \"histogram2dcontour\"}], \"mesh3d\": [{\"colorbar\": {\"outlinewidth\": 0, \"ticks\": \"\"}, \"type\": \"mesh3d\"}], \"parcoords\": [{\"line\": {\"colorbar\": {\"outlinewidth\": 0, \"ticks\": \"\"}}, \"type\": \"parcoords\"}], \"scatter\": [{\"marker\": {\"colorbar\": {\"outlinewidth\": 0, \"ticks\": \"\"}}, \"type\": \"scatter\"}], \"scatter3d\": [{\"line\": {\"colorbar\": {\"outlinewidth\": 0, \"ticks\": \"\"}}, \"marker\": {\"colorbar\": {\"outlinewidth\": 0, \"ticks\": \"\"}}, \"type\": \"scatter3d\"}], \"scattercarpet\": [{\"marker\": {\"colorbar\": {\"outlinewidth\": 0, \"ticks\": \"\"}}, \"type\": \"scattercarpet\"}], \"scattergeo\": [{\"marker\": {\"colorbar\": {\"outlinewidth\": 0, \"ticks\": \"\"}}, \"type\": \"scattergeo\"}], \"scattergl\": [{\"marker\": {\"colorbar\": {\"outlinewidth\": 0, \"ticks\": \"\"}}, \"type\": \"scattergl\"}], \"scattermapbox\": [{\"marker\": {\"colorbar\": {\"outlinewidth\": 0, \"ticks\": \"\"}}, \"type\": \"scattermapbox\"}], \"scatterpolar\": [{\"marker\": {\"colorbar\": {\"outlinewidth\": 0, \"ticks\": \"\"}}, \"type\": \"scatterpolar\"}], \"scatterpolargl\": [{\"marker\": {\"colorbar\": {\"outlinewidth\": 0, \"ticks\": \"\"}}, \"type\": \"scatterpolargl\"}], \"scatterternary\": [{\"marker\": {\"colorbar\": {\"outlinewidth\": 0, \"ticks\": \"\"}}, \"type\": \"scatterternary\"}], \"surface\": [{\"colorbar\": {\"outlinewidth\": 0, \"ticks\": \"\"}, \"colorscale\": [[0.0, \"#0d0887\"], [0.1111111111111111, \"#46039f\"], [0.2222222222222222, \"#7201a8\"], [0.3333333333333333, \"#9c179e\"], [0.4444444444444444, \"#bd3786\"], [0.5555555555555556, \"#d8576b\"], [0.6666666666666666, \"#ed7953\"], [0.7777777777777778, \"#fb9f3a\"], [0.8888888888888888, \"#fdca26\"], [1.0, \"#f0f921\"]], \"type\": \"surface\"}], \"table\": [{\"cells\": {\"fill\": {\"color\": \"#EBF0F8\"}, \"line\": {\"color\": \"white\"}}, \"header\": {\"fill\": {\"color\": \"#C8D4E3\"}, \"line\": {\"color\": \"white\"}}, \"type\": \"table\"}]}, \"layout\": {\"annotationdefaults\": {\"arrowcolor\": \"#2a3f5f\", \"arrowhead\": 0, \"arrowwidth\": 1}, \"colorscale\": {\"diverging\": [[0, \"#8e0152\"], [0.1, \"#c51b7d\"], [0.2, \"#de77ae\"], [0.3, \"#f1b6da\"], [0.4, \"#fde0ef\"], [0.5, \"#f7f7f7\"], [0.6, \"#e6f5d0\"], [0.7, \"#b8e186\"], [0.8, \"#7fbc41\"], [0.9, \"#4d9221\"], [1, \"#276419\"]], \"sequential\": [[0.0, \"#0d0887\"], [0.1111111111111111, \"#46039f\"], [0.2222222222222222, \"#7201a8\"], [0.3333333333333333, \"#9c179e\"], [0.4444444444444444, \"#bd3786\"], [0.5555555555555556, \"#d8576b\"], [0.6666666666666666, \"#ed7953\"], [0.7777777777777778, \"#fb9f3a\"], [0.8888888888888888, \"#fdca26\"], [1.0, \"#f0f921\"]], \"sequentialminus\": [[0.0, \"#0d0887\"], [0.1111111111111111, \"#46039f\"], [0.2222222222222222, \"#7201a8\"], [0.3333333333333333, \"#9c179e\"], [0.4444444444444444, \"#bd3786\"], [0.5555555555555556, \"#d8576b\"], [0.6666666666666666, \"#ed7953\"], [0.7777777777777778, \"#fb9f3a\"], [0.8888888888888888, \"#fdca26\"], [1.0, \"#f0f921\"]]}, \"colorway\": [\"#636efa\", \"#EF553B\", \"#00cc96\", \"#ab63fa\", \"#FFA15A\", \"#19d3f3\", \"#FF6692\", \"#B6E880\", \"#FF97FF\", \"#FECB52\"], \"font\": {\"color\": \"#2a3f5f\"}, \"geo\": {\"bgcolor\": \"white\", \"lakecolor\": \"white\", \"landcolor\": \"#E5ECF6\", \"showlakes\": true, \"showland\": true, \"subunitcolor\": \"white\"}, \"hoverlabel\": {\"align\": \"left\"}, \"hovermode\": \"closest\", \"mapbox\": {\"style\": \"light\"}, \"paper_bgcolor\": \"white\", \"plot_bgcolor\": \"#E5ECF6\", \"polar\": {\"angularaxis\": {\"gridcolor\": \"white\", \"linecolor\": \"white\", \"ticks\": \"\"}, \"bgcolor\": \"#E5ECF6\", \"radialaxis\": {\"gridcolor\": \"white\", \"linecolor\": \"white\", \"ticks\": \"\"}}, \"scene\": {\"xaxis\": {\"backgroundcolor\": \"#E5ECF6\", \"gridcolor\": \"white\", \"gridwidth\": 2, \"linecolor\": \"white\", \"showbackground\": true, \"ticks\": \"\", \"zerolinecolor\": \"white\"}, \"yaxis\": {\"backgroundcolor\": \"#E5ECF6\", \"gridcolor\": \"white\", \"gridwidth\": 2, \"linecolor\": \"white\", \"showbackground\": true, \"ticks\": \"\", \"zerolinecolor\": \"white\"}, \"zaxis\": {\"backgroundcolor\": \"#E5ECF6\", \"gridcolor\": \"white\", \"gridwidth\": 2, \"linecolor\": \"white\", \"showbackground\": true, \"ticks\": \"\", \"zerolinecolor\": \"white\"}}, \"shapedefaults\": {\"line\": {\"color\": \"#2a3f5f\"}}, \"ternary\": {\"aaxis\": {\"gridcolor\": \"white\", \"linecolor\": \"white\", \"ticks\": \"\"}, \"baxis\": {\"gridcolor\": \"white\", \"linecolor\": \"white\", \"ticks\": \"\"}, \"bgcolor\": \"#E5ECF6\", \"caxis\": {\"gridcolor\": \"white\", \"linecolor\": \"white\", \"ticks\": \"\"}}, \"title\": {\"x\": 0.05}, \"xaxis\": {\"automargin\": true, \"gridcolor\": \"white\", \"linecolor\": \"white\", \"ticks\": \"\", \"zerolinecolor\": \"white\", \"zerolinewidth\": 2}, \"yaxis\": {\"automargin\": true, \"gridcolor\": \"white\", \"linecolor\": \"white\", \"ticks\": \"\", \"zerolinecolor\": \"white\", \"zerolinewidth\": 2}}}},\n",
       "                        {\"responsive\": true}\n",
       "                    ).then(function(){\n",
       "                            \n",
       "var gd = document.getElementById('6bb55941-de02-4e3b-bf78-974db10e3183');\n",
       "var x = new MutationObserver(function (mutations, observer) {{\n",
       "        var display = window.getComputedStyle(gd).display;\n",
       "        if (!display || display === 'none') {{\n",
       "            console.log([gd, 'removed!']);\n",
       "            Plotly.purge(gd);\n",
       "            observer.disconnect();\n",
       "        }}\n",
       "}});\n",
       "\n",
       "// Listen for the removal of the full notebook cells\n",
       "var notebookContainer = gd.closest('#notebook-container');\n",
       "if (notebookContainer) {{\n",
       "    x.observe(notebookContainer, {childList: true});\n",
       "}}\n",
       "\n",
       "// Listen for the clearing of the current output cell\n",
       "var outputEl = gd.closest('.output');\n",
       "if (outputEl) {{\n",
       "    x.observe(outputEl, {childList: true});\n",
       "}}\n",
       "\n",
       "                        })\n",
       "                };\n",
       "                });\n",
       "            </script>\n",
       "        </div>"
      ]
     },
     "metadata": {},
     "output_type": "display_data"
    }
   ],
   "source": [
    "import plotly.graph_objects as go\n",
    "\n",
    "labels = typebybrand\n",
    "values = brandcount\n",
    "\n",
    "fig = go.Figure(data=[go.Pie(labels=labels, values=values)])\n",
    "fig.show()\n",
    "\n",
    "import plotly.graph_objects as go\n",
    "import numpy as np\n",
    "\n",
    "fig = go.Figure(data=go.Scatter(\n",
    "    y = brandcount,\n",
    "    mode='markers',\n",
    "    marker=dict(\n",
    "        size=16,\n",
    "        color=np.random.randn(500), #set color equal to a variable\n",
    "        colorscale='Viridis', # one of plotly colorscales\n",
    "        showscale=True\n",
    "    )\n",
    "))\n",
    "\n",
    "fig.show()"
   ]
  },
  {
   "cell_type": "code",
   "execution_count": 189,
   "metadata": {},
   "outputs": [
    {
     "data": {
      "image/png": "[encoded data removed]",
      "text/plain": [
       "<Figure size 432x288 with 1 Axes>"
      ]
     },
     "metadata": {
      "needs_background": "light"
     },
     "output_type": "display_data"
    }
   ],
   "source": [
    "\n",
    "plt.bar(typebybrand[:15], brandcount[:15], label = \"Most Popular Brands\",\n",
    "        color = \"lightcoral\")\n",
    "plt.title(\"Most Popular Brands in A/W 2018\")\n",
    "plt.xticks(rotation=90)\n",
    "plt.xlabel(\"Brand\")\n",
    "plt.ylabel(\"Number of Sales\")\n",
    "plt.savefig('popularbrands.png')\n",
    "plt.show()\n",
    "\n"
   ]
  },
  {
   "cell_type": "code",
   "execution_count": 191,
   "metadata": {},
   "outputs": [
    {
     "ename": "AttributeError",
     "evalue": "'Figure' object has no attribute 'savefig'",
     "output_type": "error",
     "traceback": [
      "\u001b[0;31m---------------------------------------------------------------------------\u001b[0m",
      "\u001b[0;31mAttributeError\u001b[0m                            Traceback (most recent call last)",
      "\u001b[0;32m<ipython-input-191-45e1749d6176>\u001b[0m in \u001b[0;36m<module>\u001b[0;34m\u001b[0m\n\u001b[1;32m     38\u001b[0m     \u001b[0msliders\u001b[0m\u001b[0;34m=\u001b[0m\u001b[0msliders\u001b[0m\u001b[0;34m\u001b[0m\u001b[0;34m\u001b[0m\u001b[0m\n\u001b[1;32m     39\u001b[0m )\n\u001b[0;32m---> 40\u001b[0;31m \u001b[0mfig\u001b[0m\u001b[0;34m.\u001b[0m\u001b[0msavefig\u001b[0m\u001b[0;34m(\u001b[0m\u001b[0;34m\"brandslider.svg\"\u001b[0m\u001b[0;34m)\u001b[0m\u001b[0;34m\u001b[0m\u001b[0;34m\u001b[0m\u001b[0m\n\u001b[0m\u001b[1;32m     41\u001b[0m \u001b[0;34m\u001b[0m\u001b[0m\n\u001b[1;32m     42\u001b[0m \u001b[0mfig\u001b[0m\u001b[0;34m.\u001b[0m\u001b[0mshow\u001b[0m\u001b[0;34m(\u001b[0m\u001b[0;34m)\u001b[0m\u001b[0;34m\u001b[0m\u001b[0;34m\u001b[0m\u001b[0m\n",
      "\u001b[0;31mAttributeError\u001b[0m: 'Figure' object has no attribute 'savefig'"
     ]
    }
   ],
   "source": [
    "import plotly.graph_objects as go\n",
    "import numpy as np\n",
    "\n",
    "# Create figure\n",
    "fig = go.Figure()\n",
    "\n",
    "# Add traces, one for each slider step\n",
    "for step in np.arange(0, 5, 0.1):\n",
    "    fig.add_trace(\n",
    "        go.Scatter(\n",
    "            visible=False,\n",
    "            line=dict(color=\"#00CED1\", width=6),\n",
    "            name=\"𝜈 = \" + str(step),\n",
    "            x=typebybrand,\n",
    "            y=brandcount))\n",
    "\n",
    "# Make 10th trace visible\n",
    "fig.data[10].visible = True\n",
    "\n",
    "# Create and add slider\n",
    "steps = []\n",
    "for i in range(len(fig.data)):\n",
    "    step = dict(\n",
    "        method=\"restyle\",\n",
    "        args=[\"visible\", [False] * len(fig.data)],\n",
    "    )\n",
    "    step[\"args\"][1][i] = True  # Toggle i'th trace to \"visible\"\n",
    "    steps.append(step)\n",
    "\n",
    "sliders = [dict(\n",
    "    active=10,\n",
    "    currentvalue={\"prefix\": \"Frequency: \"},\n",
    "    pad={\"t\": 50},\n",
    "    steps=steps\n",
    ")]\n",
    "\n",
    "fig.update_layout(\n",
    "    sliders=sliders\n",
    ")\n",
    "fig.save(\"brandslider.svg\")\n",
    "\n",
    "fig.show()"
   ]
  },
  {
   "cell_type": "code",
   "execution_count": 46,
   "metadata": {},
   "outputs": [],
   "source": [
    "pricesbybrand = shoes_df.groupby(\"Brand\")[\"Prices\"].mean()\n",
    "pricesbybrand\n",
    "\n",
    "brands = shoes_df[\"Brand\"].unique()"
   ]
  },
  {
   "cell_type": "code",
   "execution_count": 15,
   "metadata": {},
   "outputs": [
    {
     "data": {
      "text/plain": [
       "59.99     2279\n",
       "69.99     1499\n",
       "49.99      843\n",
       "64.99      737\n",
       "54.99      689\n",
       "89.99      532\n",
       "79.99      480\n",
       "84.99      300\n",
       "89.00      297\n",
       "65.00      263\n",
       "74.99      204\n",
       "70.00      190\n",
       "80.00      140\n",
       "75.00      109\n",
       "85.00      109\n",
       "29.99      107\n",
       "90.00       86\n",
       "79.00       70\n",
       "119.00      63\n",
       "95.00       60\n",
       "39.99       57\n",
       "69.00       55\n",
       "60.00       55\n",
       "129.95      53\n",
       "94.99       50\n",
       "119.95      46\n",
       "99.99       40\n",
       "44.99       34\n",
       "99.95       29\n",
       "50.00       24\n",
       "          ... \n",
       "14.00        1\n",
       "35.00        1\n",
       "179.95       1\n",
       "160.00       1\n",
       "48.99        1\n",
       "57.00        1\n",
       "34.95        1\n",
       "168.95       1\n",
       "42.92        1\n",
       "16.97        1\n",
       "128.95       1\n",
       "289.95       1\n",
       "26.99        1\n",
       "29.75        1\n",
       "42.99        1\n",
       "47.00        1\n",
       "45.99        1\n",
       "37.41        1\n",
       "151.24       1\n",
       "46.74        1\n",
       "15.88        1\n",
       "36.99        1\n",
       "35.25        1\n",
       "145.95       1\n",
       "25.00        1\n",
       "8.97         1\n",
       "24.75        1\n",
       "25.76        1\n",
       "34.99        1\n",
       "32.98        1\n",
       "Name: Prices, Length: 134, dtype: int64"
      ]
     },
     "execution_count": 15,
     "metadata": {},
     "output_type": "execute_result"
    }
   ],
   "source": [
    "avgprices = shoes_df[\"Prices\"].value_counts()\n",
    "avgprices\n",
    "\n",
    "brands = shoes_df[\"Brand\"].value_counts()\n",
    "brands"
   ]
  },
  {
   "cell_type": "code",
   "execution_count": 16,
   "metadata": {},
   "outputs": [
    {
     "data": {
      "text/plain": [
       "Black          2871\n",
       "Gray           1775\n",
       "Tan            1300\n",
       "Dark Blue       997\n",
       "Brown           919\n",
       "White           545\n",
       "Light Blue      302\n",
       "Pink            297\n",
       "Dark Red        224\n",
       "Red             211\n",
       "Dark Green      154\n",
       "Gold            151\n",
       "Print           127\n",
       "Purple           64\n",
       "Orange           46\n",
       "Light Green       9\n",
       "Yellow            5\n",
       "Cream             3\n",
       "Name: Color, dtype: int64"
      ]
     },
     "execution_count": 16,
     "metadata": {},
     "output_type": "execute_result"
    }
   ],
   "source": [
    "colors = shoes_df[\"Color\"].unique()\n",
    "colors\n",
    "\n",
    "totalcolors = shoes_df[\"Color\"].value_counts()\n",
    "totalcolors"
   ]
  },
  {
   "cell_type": "code",
   "execution_count": 18,
   "metadata": {},
   "outputs": [
    {
     "data": {
      "text/plain": [
       "Color\n",
       "Black          [Heels, Booties, Sandals, Flats, Boots, Ballet...\n",
       "Brown          [Heels, Sandals, Booties, Boots, Flats, Ballet...\n",
       "Cream                                      [Flats, Ballet Flats]\n",
       "Dark Blue      [Heels, Sandals, Flats, Ballet Flats, Sneakers...\n",
       "Dark Green     [Booties, Sneakers, Heels, Ballet Flats, Flats...\n",
       "Dark Red       [Ballet Flats, Sandals, Heels, Booties, Flats,...\n",
       "Gold           [Heels, Ballet Flats, Sandals, Sneakers, Flats...\n",
       "Gray           [Heels, Booties, Sandals, Flats, Boots, Sneake...\n",
       "Light Blue     [Heels, Sandals, Athletic Shoes, Flats, Sneake...\n",
       "Light Green              [Flats, Sandals, Heels, Athletic Shoes]\n",
       "Orange                   [Flats, Sandals, Athletic Shoes, Heels]\n",
       "Pink           [Heels, Sandals, Athletic Shoes, Ballet Flats,...\n",
       "Print          [Heels, Flats, Sandals, Ballet Flats, Athletic...\n",
       "Purple                  [Athletic Shoes, Sneakers, Heels, Flats]\n",
       "Red            [Booties, Heels, Athletic Shoes, Flats, Sandal...\n",
       "Tan            [Booties, Flats, Heels, Boots, Ballet Flats, S...\n",
       "White          [Heels, Sandals, Sneakers, Athletic Shoes, Bal...\n",
       "Yellow                                          [Sandals, Boots]\n",
       "Name: Type, dtype: object"
      ]
     },
     "execution_count": 18,
     "metadata": {},
     "output_type": "execute_result"
    }
   ],
   "source": [
    "typebycolor_df = shoes_df.groupby(\"Color\")[\"Type\"].unique()\n",
    "typebycolor_df"
   ]
  },
  {
   "cell_type": "code",
   "execution_count": 25,
   "metadata": {},
   "outputs": [
    {
     "data": {
      "text/html": [
       "<div>\n",
       "<style scoped>\n",
       "    .dataframe tbody tr th:only-of-type {\n",
       "        vertical-align: middle;\n",
       "    }\n",
       "\n",
       "    .dataframe tbody tr th {\n",
       "        vertical-align: top;\n",
       "    }\n",
       "\n",
       "    .dataframe thead th {\n",
       "        text-align: right;\n",
       "    }\n",
       "</style>\n",
       "<table border=\"1\" class=\"dataframe\">\n",
       "  <thead>\n",
       "    <tr style=\"text-align: right;\">\n",
       "      <th></th>\n",
       "      <th>Date</th>\n",
       "      <th>Brand</th>\n",
       "      <th>Type</th>\n",
       "      <th>Prices</th>\n",
       "      <th>Color</th>\n",
       "      <th>Currency</th>\n",
       "      <th>Merchant</th>\n",
       "    </tr>\n",
       "  </thead>\n",
       "  <tbody>\n",
       "    <tr>\n",
       "      <th>0</th>\n",
       "      <td>2/11/18</td>\n",
       "      <td>2 lips too</td>\n",
       "      <td>Heels</td>\n",
       "      <td>64.95</td>\n",
       "      <td>Gold</td>\n",
       "      <td>USD</td>\n",
       "      <td>kohls</td>\n",
       "    </tr>\n",
       "    <tr>\n",
       "      <th>1</th>\n",
       "      <td>2/11/18</td>\n",
       "      <td>2 lips too</td>\n",
       "      <td>Heels</td>\n",
       "      <td>64.95</td>\n",
       "      <td>Pink</td>\n",
       "      <td>USD</td>\n",
       "      <td>kohls</td>\n",
       "    </tr>\n",
       "    <tr>\n",
       "      <th>2</th>\n",
       "      <td>2/11/18</td>\n",
       "      <td>2 lips too</td>\n",
       "      <td>Heels</td>\n",
       "      <td>64.95</td>\n",
       "      <td>Pink</td>\n",
       "      <td>USD</td>\n",
       "      <td>kohls</td>\n",
       "    </tr>\n",
       "    <tr>\n",
       "      <th>3</th>\n",
       "      <td>2/11/18</td>\n",
       "      <td>2 lips too</td>\n",
       "      <td>Heels</td>\n",
       "      <td>64.95</td>\n",
       "      <td>Gold</td>\n",
       "      <td>USD</td>\n",
       "      <td>kohls</td>\n",
       "    </tr>\n",
       "    <tr>\n",
       "      <th>4</th>\n",
       "      <td>2/11/18</td>\n",
       "      <td>2 lips too</td>\n",
       "      <td>Heels</td>\n",
       "      <td>64.95</td>\n",
       "      <td>White</td>\n",
       "      <td>USD</td>\n",
       "      <td>kohls</td>\n",
       "    </tr>\n",
       "    <tr>\n",
       "      <th>5</th>\n",
       "      <td>2/11/18</td>\n",
       "      <td>2 lips too</td>\n",
       "      <td>Heels</td>\n",
       "      <td>64.95</td>\n",
       "      <td>Black</td>\n",
       "      <td>USD</td>\n",
       "      <td>kohls</td>\n",
       "    </tr>\n",
       "    <tr>\n",
       "      <th>6</th>\n",
       "      <td>2/11/18</td>\n",
       "      <td>2 lips too</td>\n",
       "      <td>Heels</td>\n",
       "      <td>64.95</td>\n",
       "      <td>Pink</td>\n",
       "      <td>USD</td>\n",
       "      <td>kohls</td>\n",
       "    </tr>\n",
       "    <tr>\n",
       "      <th>7</th>\n",
       "      <td>2/11/18</td>\n",
       "      <td>2 lips too</td>\n",
       "      <td>Heels</td>\n",
       "      <td>64.95</td>\n",
       "      <td>White</td>\n",
       "      <td>USD</td>\n",
       "      <td>kohls</td>\n",
       "    </tr>\n",
       "  </tbody>\n",
       "</table>\n",
       "</div>"
      ],
      "text/plain": [
       "      Date       Brand   Type  Prices  Color Currency Merchant\n",
       "0  2/11/18  2 lips too  Heels   64.95   Gold      USD    kohls\n",
       "1  2/11/18  2 lips too  Heels   64.95   Pink      USD    kohls\n",
       "2  2/11/18  2 lips too  Heels   64.95   Pink      USD    kohls\n",
       "3  2/11/18  2 lips too  Heels   64.95   Gold      USD    kohls\n",
       "4  2/11/18  2 lips too  Heels   64.95  White      USD    kohls\n",
       "5  2/11/18  2 lips too  Heels   64.95  Black      USD    kohls\n",
       "6  2/11/18  2 lips too  Heels   64.95   Pink      USD    kohls\n",
       "7  2/11/18  2 lips too  Heels   64.95  White      USD    kohls"
      ]
     },
     "execution_count": 25,
     "metadata": {},
     "output_type": "execute_result"
    }
   ],
   "source": [
    "shoes_df.head(8)"
   ]
  },
  {
   "cell_type": "code",
   "execution_count": 40,
   "metadata": {},
   "outputs": [
    {
     "data": {
      "text/plain": [
       "[79.37862745098097,\n",
       " 60.73436893203889,\n",
       " 80.88494265428825,\n",
       " 88.55657142857169,\n",
       " 60.77885596140609,\n",
       " 63.413144023756445,\n",
       " 60.47570149253701,\n",
       " 69.9045686274513]"
      ]
     },
     "execution_count": 40,
     "metadata": {},
     "output_type": "execute_result"
    }
   ],
   "source": [
    "shoes_groupby = shoes_df.groupby(\"Type\")\n",
    "avgpricesbytype = shoes_groupby.Prices.mean()\n",
    "avgpricesbytype = avgpricesbytype.tolist()\n",
    "\n",
    "shoetype = shoes_groupby.Type.first()\n",
    "# shoetype\n",
    "shoetype = shoetype.tolist()\n",
    "avgpricesbytype"
   ]
  },
  {
   "cell_type": "code",
   "execution_count": 41,
   "metadata": {},
   "outputs": [
    {
     "data": {
      "image/png": "[encoded data removed]",
      "text/plain": [
       "<Figure size 432x288 with 1 Axes>"
      ]
     },
     "metadata": {},
     "output_type": "display_data"
    },
    {
     "data": {
      "text/plain": [
       "<Figure size 432x288 with 0 Axes>"
      ]
     },
     "metadata": {},
     "output_type": "display_data"
    }
   ],
   "source": [
    "explode = (0, 0, 0, 0.1, 0, 0, 0, 0)\n",
    "plt.pie(x=avgpricesbytype, labels=shoetype, explode=explode, autopct='%1.1f%%', shadow=True, startangle=90)\n",
    "plt.axis('equal')\n",
    "plt.figure()\n",
    "plt.show()"
   ]
  },
  {
   "cell_type": "code",
   "execution_count": 42,
   "metadata": {},
   "outputs": [
    {
     "data": {
      "application/vnd.plotly.v1+json": {
       "config": {
        "plotlyServerURL": "https://plot.ly"
       },
       "data": [
        {
         "labels": [
          "Athletic Shoes",
          "Ballet Flats",
          "Booties",
          "Boots",
          "Flats",
          "Heels",
          "Sandals",
          "Sneakers"
         ],
         "type": "pie",
         "values": [
          79.37862745098097,
          60.73436893203889,
          80.88494265428825,
          88.55657142857169,
          60.77885596140609,
          63.413144023756445,
          60.47570149253701,
          69.9045686274513
         ]
        }
       ],
       "layout": {
        "template": {
         "data": {
          "bar": [
           {
            "error_x": {
             "color": "#2a3f5f"
            },
            "error_y": {
             "color": "#2a3f5f"
            },
            "marker": {
             "line": {
              "color": "#E5ECF6",
              "width": 0.5
             }
            },
            "type": "bar"
           }
          ],
          "barpolar": [
           {
            "marker": {
             "line": {
              "color": "#E5ECF6",
              "width": 0.5
             }
            },
            "type": "barpolar"
           }
          ],
          "carpet": [
           {
            "aaxis": {
             "endlinecolor": "#2a3f5f",
             "gridcolor": "white",
             "linecolor": "white",
             "minorgridcolor": "white",
             "startlinecolor": "#2a3f5f"
            },
            "baxis": {
             "endlinecolor": "#2a3f5f",
             "gridcolor": "white",
             "linecolor": "white",
             "minorgridcolor": "white",
             "startlinecolor": "#2a3f5f"
            },
            "type": "carpet"
           }
          ],
          "choropleth": [
           {
            "colorbar": {
             "outlinewidth": 0,
             "ticks": ""
            },
            "type": "choropleth"
           }
          ],
          "contour": [
           {
            "colorbar": {
             "outlinewidth": 0,
             "ticks": ""
            },
            "colorscale": [
             [
              0,
              "#0d0887"
             ],
             [
              0.1111111111111111,
              "#46039f"
             ],
             [
              0.2222222222222222,
              "#7201a8"
             ],
             [
              0.3333333333333333,
              "#9c179e"
             ],
             [
              0.4444444444444444,
              "#bd3786"
             ],
             [
              0.5555555555555556,
              "#d8576b"
             ],
             [
              0.6666666666666666,
              "#ed7953"
             ],
             [
              0.7777777777777778,
              "#fb9f3a"
             ],
             [
              0.8888888888888888,
              "#fdca26"
             ],
             [
              1,
              "#f0f921"
             ]
            ],
            "type": "contour"
           }
          ],
          "contourcarpet": [
           {
            "colorbar": {
             "outlinewidth": 0,
             "ticks": ""
            },
            "type": "contourcarpet"
           }
          ],
          "heatmap": [
           {
            "colorbar": {
             "outlinewidth": 0,
             "ticks": ""
            },
            "colorscale": [
             [
              0,
              "#0d0887"
             ],
             [
              0.1111111111111111,
              "#46039f"
             ],
             [
              0.2222222222222222,
              "#7201a8"
             ],
             [
              0.3333333333333333,
              "#9c179e"
             ],
             [
              0.4444444444444444,
              "#bd3786"
             ],
             [
              0.5555555555555556,
              "#d8576b"
             ],
             [
              0.6666666666666666,
              "#ed7953"
             ],
             [
              0.7777777777777778,
              "#fb9f3a"
             ],
             [
              0.8888888888888888,
              "#fdca26"
             ],
             [
              1,
              "#f0f921"
             ]
            ],
            "type": "heatmap"
           }
          ],
          "heatmapgl": [
           {
            "colorbar": {
             "outlinewidth": 0,
             "ticks": ""
            },
            "colorscale": [
             [
              0,
              "#0d0887"
             ],
             [
              0.1111111111111111,
              "#46039f"
             ],
             [
              0.2222222222222222,
              "#7201a8"
             ],
             [
              0.3333333333333333,
              "#9c179e"
             ],
             [
              0.4444444444444444,
              "#bd3786"
             ],
             [
              0.5555555555555556,
              "#d8576b"
             ],
             [
              0.6666666666666666,
              "#ed7953"
             ],
             [
              0.7777777777777778,
              "#fb9f3a"
             ],
             [
              0.8888888888888888,
              "#fdca26"
             ],
             [
              1,
              "#f0f921"
             ]
            ],
            "type": "heatmapgl"
           }
          ],
          "histogram": [
           {
            "marker": {
             "colorbar": {
              "outlinewidth": 0,
              "ticks": ""
             }
            },
            "type": "histogram"
           }
          ],
          "histogram2d": [
           {
            "colorbar": {
             "outlinewidth": 0,
             "ticks": ""
            },
            "colorscale": [
             [
              0,
              "#0d0887"
             ],
             [
              0.1111111111111111,
              "#46039f"
             ],
             [
              0.2222222222222222,
              "#7201a8"
             ],
             [
              0.3333333333333333,
              "#9c179e"
             ],
             [
              0.4444444444444444,
              "#bd3786"
             ],
             [
              0.5555555555555556,
              "#d8576b"
             ],
             [
              0.6666666666666666,
              "#ed7953"
             ],
             [
              0.7777777777777778,
              "#fb9f3a"
             ],
             [
              0.8888888888888888,
              "#fdca26"
             ],
             [
              1,
              "#f0f921"
             ]
            ],
            "type": "histogram2d"
           }
          ],
          "histogram2dcontour": [
           {
            "colorbar": {
             "outlinewidth": 0,
             "ticks": ""
            },
            "colorscale": [
             [
              0,
              "#0d0887"
             ],
             [
              0.1111111111111111,
              "#46039f"
             ],
             [
              0.2222222222222222,
              "#7201a8"
             ],
             [
              0.3333333333333333,
              "#9c179e"
             ],
             [
              0.4444444444444444,
              "#bd3786"
             ],
             [
              0.5555555555555556,
              "#d8576b"
             ],
             [
              0.6666666666666666,
              "#ed7953"
             ],
             [
              0.7777777777777778,
              "#fb9f3a"
             ],
             [
              0.8888888888888888,
              "#fdca26"
             ],
             [
              1,
              "#f0f921"
             ]
            ],
            "type": "histogram2dcontour"
           }
          ],
          "mesh3d": [
           {
            "colorbar": {
             "outlinewidth": 0,
             "ticks": ""
            },
            "type": "mesh3d"
           }
          ],
          "parcoords": [
           {
            "line": {
             "colorbar": {
              "outlinewidth": 0,
              "ticks": ""
             }
            },
            "type": "parcoords"
           }
          ],
          "scatter": [
           {
            "marker": {
             "colorbar": {
              "outlinewidth": 0,
              "ticks": ""
             }
            },
            "type": "scatter"
           }
          ],
          "scatter3d": [
           {
            "line": {
             "colorbar": {
              "outlinewidth": 0,
              "ticks": ""
             }
            },
            "marker": {
             "colorbar": {
              "outlinewidth": 0,
              "ticks": ""
             }
            },
            "type": "scatter3d"
           }
          ],
          "scattercarpet": [
           {
            "marker": {
             "colorbar": {
              "outlinewidth": 0,
              "ticks": ""
             }
            },
            "type": "scattercarpet"
           }
          ],
          "scattergeo": [
           {
            "marker": {
             "colorbar": {
              "outlinewidth": 0,
              "ticks": ""
             }
            },
            "type": "scattergeo"
           }
          ],
          "scattergl": [
           {
            "marker": {
             "colorbar": {
              "outlinewidth": 0,
              "ticks": ""
             }
            },
            "type": "scattergl"
           }
          ],
          "scattermapbox": [
           {
            "marker": {
             "colorbar": {
              "outlinewidth": 0,
              "ticks": ""
             }
            },
            "type": "scattermapbox"
           }
          ],
          "scatterpolar": [
           {
            "marker": {
             "colorbar": {
              "outlinewidth": 0,
              "ticks": ""
             }
            },
            "type": "scatterpolar"
           }
          ],
          "scatterpolargl": [
           {
            "marker": {
             "colorbar": {
              "outlinewidth": 0,
              "ticks": ""
             }
            },
            "type": "scatterpolargl"
           }
          ],
          "scatterternary": [
           {
            "marker": {
             "colorbar": {
              "outlinewidth": 0,
              "ticks": ""
             }
            },
            "type": "scatterternary"
           }
          ],
          "surface": [
           {
            "colorbar": {
             "outlinewidth": 0,
             "ticks": ""
            },
            "colorscale": [
             [
              0,
              "#0d0887"
             ],
             [
              0.1111111111111111,
              "#46039f"
             ],
             [
              0.2222222222222222,
              "#7201a8"
             ],
             [
              0.3333333333333333,
              "#9c179e"
             ],
             [
              0.4444444444444444,
              "#bd3786"
             ],
             [
              0.5555555555555556,
              "#d8576b"
             ],
             [
              0.6666666666666666,
              "#ed7953"
             ],
             [
              0.7777777777777778,
              "#fb9f3a"
             ],
             [
              0.8888888888888888,
              "#fdca26"
             ],
             [
              1,
              "#f0f921"
             ]
            ],
            "type": "surface"
           }
          ],
          "table": [
           {
            "cells": {
             "fill": {
              "color": "#EBF0F8"
             },
             "line": {
              "color": "white"
             }
            },
            "header": {
             "fill": {
              "color": "#C8D4E3"
             },
             "line": {
              "color": "white"
             }
            },
            "type": "table"
           }
          ]
         },
         "layout": {
          "annotationdefaults": {
           "arrowcolor": "#2a3f5f",
           "arrowhead": 0,
           "arrowwidth": 1
          },
          "colorscale": {
           "diverging": [
            [
             0,
             "#8e0152"
            ],
            [
             0.1,
             "#c51b7d"
            ],
            [
             0.2,
             "#de77ae"
            ],
            [
             0.3,
             "#f1b6da"
            ],
            [
             0.4,
             "#fde0ef"
            ],
            [
             0.5,
             "#f7f7f7"
            ],
            [
             0.6,
             "#e6f5d0"
            ],
            [
             0.7,
             "#b8e186"
            ],
            [
             0.8,
             "#7fbc41"
            ],
            [
             0.9,
             "#4d9221"
            ],
            [
             1,
             "#276419"
            ]
           ],
           "sequential": [
            [
             0,
             "#0d0887"
            ],
            [
             0.1111111111111111,
             "#46039f"
            ],
            [
             0.2222222222222222,
             "#7201a8"
            ],
            [
             0.3333333333333333,
             "#9c179e"
            ],
            [
             0.4444444444444444,
             "#bd3786"
            ],
            [
             0.5555555555555556,
             "#d8576b"
            ],
            [
             0.6666666666666666,
             "#ed7953"
            ],
            [
             0.7777777777777778,
             "#fb9f3a"
            ],
            [
             0.8888888888888888,
             "#fdca26"
            ],
            [
             1,
             "#f0f921"
            ]
           ],
           "sequentialminus": [
            [
             0,
             "#0d0887"
            ],
            [
             0.1111111111111111,
             "#46039f"
            ],
            [
             0.2222222222222222,
             "#7201a8"
            ],
            [
             0.3333333333333333,
             "#9c179e"
            ],
            [
             0.4444444444444444,
             "#bd3786"
            ],
            [
             0.5555555555555556,
             "#d8576b"
            ],
            [
             0.6666666666666666,
             "#ed7953"
            ],
            [
             0.7777777777777778,
             "#fb9f3a"
            ],
            [
             0.8888888888888888,
             "#fdca26"
            ],
            [
             1,
             "#f0f921"
            ]
           ]
          },
          "colorway": [
           "#636efa",
           "#EF553B",
           "#00cc96",
           "#ab63fa",
           "#FFA15A",
           "#19d3f3",
           "#FF6692",
           "#B6E880",
           "#FF97FF",
           "#FECB52"
          ],
          "font": {
           "color": "#2a3f5f"
          },
          "geo": {
           "bgcolor": "white",
           "lakecolor": "white",
           "landcolor": "#E5ECF6",
           "showlakes": true,
           "showland": true,
           "subunitcolor": "white"
          },
          "hoverlabel": {
           "align": "left"
          },
          "hovermode": "closest",
          "mapbox": {
           "style": "light"
          },
          "paper_bgcolor": "white",
          "plot_bgcolor": "#E5ECF6",
          "polar": {
           "angularaxis": {
            "gridcolor": "white",
            "linecolor": "white",
            "ticks": ""
           },
           "bgcolor": "#E5ECF6",
           "radialaxis": {
            "gridcolor": "white",
            "linecolor": "white",
            "ticks": ""
           }
          },
          "scene": {
           "xaxis": {
            "backgroundcolor": "#E5ECF6",
            "gridcolor": "white",
            "gridwidth": 2,
            "linecolor": "white",
            "showbackground": true,
            "ticks": "",
            "zerolinecolor": "white"
           },
           "yaxis": {
            "backgroundcolor": "#E5ECF6",
            "gridcolor": "white",
            "gridwidth": 2,
            "linecolor": "white",
            "showbackground": true,
            "ticks": "",
            "zerolinecolor": "white"
           },
           "zaxis": {
            "backgroundcolor": "#E5ECF6",
            "gridcolor": "white",
            "gridwidth": 2,
            "linecolor": "white",
            "showbackground": true,
            "ticks": "",
            "zerolinecolor": "white"
           }
          },
          "shapedefaults": {
           "line": {
            "color": "#2a3f5f"
           }
          },
          "ternary": {
           "aaxis": {
            "gridcolor": "white",
            "linecolor": "white",
            "ticks": ""
           },
           "baxis": {
            "gridcolor": "white",
            "linecolor": "white",
            "ticks": ""
           },
           "bgcolor": "#E5ECF6",
           "caxis": {
            "gridcolor": "white",
            "linecolor": "white",
            "ticks": ""
           }
          },
          "title": {
           "x": 0.05
          },
          "xaxis": {
           "automargin": true,
           "gridcolor": "white",
           "linecolor": "white",
           "ticks": "",
           "zerolinecolor": "white",
           "zerolinewidth": 2
          },
          "yaxis": {
           "automargin": true,
           "gridcolor": "white",
           "linecolor": "white",
           "ticks": "",
           "zerolinecolor": "white",
           "zerolinewidth": 2
          }
         }
        }
       }
      },
      "text/html": [
       "<div>\n",
       "        \n",
       "        \n",
       "            <div id=\"2c2956d6-9f9b-4a43-bd91-e34dee33d4ae\" class=\"plotly-graph-div\" style=\"height:525px; width:100%;\"></div>\n",
       "            <script type=\"text/javascript\">\n",
       "                require([\"plotly\"], function(Plotly) {\n",
       "                    window.PLOTLYENV=window.PLOTLYENV || {};\n",
       "                    \n",
       "                if (document.getElementById(\"2c2956d6-9f9b-4a43-bd91-e34dee33d4ae\")) {\n",
       "                    Plotly.newPlot(\n",
       "                        '2c2956d6-9f9b-4a43-bd91-e34dee33d4ae',\n",
       "                        [{\"labels\": [\"Athletic Shoes\", \"Ballet Flats\", \"Booties\", \"Boots\", \"Flats\", \"Heels\", \"Sandals\", \"Sneakers\"], \"type\": \"pie\", \"values\": [79.37862745098097, 60.73436893203889, 80.88494265428825, 88.55657142857169, 60.77885596140609, 63.413144023756445, 60.47570149253701, 69.9045686274513]}],\n",
       "                        {\"template\": {\"data\": {\"bar\": [{\"error_x\": {\"color\": \"#2a3f5f\"}, \"error_y\": {\"color\": \"#2a3f5f\"}, \"marker\": {\"line\": {\"color\": \"#E5ECF6\", \"width\": 0.5}}, \"type\": \"bar\"}], \"barpolar\": [{\"marker\": {\"line\": {\"color\": \"#E5ECF6\", \"width\": 0.5}}, \"type\": \"barpolar\"}], \"carpet\": [{\"aaxis\": {\"endlinecolor\": \"#2a3f5f\", \"gridcolor\": \"white\", \"linecolor\": \"white\", \"minorgridcolor\": \"white\", \"startlinecolor\": \"#2a3f5f\"}, \"baxis\": {\"endlinecolor\": \"#2a3f5f\", \"gridcolor\": \"white\", \"linecolor\": \"white\", \"minorgridcolor\": \"white\", \"startlinecolor\": \"#2a3f5f\"}, \"type\": \"carpet\"}], \"choropleth\": [{\"colorbar\": {\"outlinewidth\": 0, \"ticks\": \"\"}, \"type\": \"choropleth\"}], \"contour\": [{\"colorbar\": {\"outlinewidth\": 0, \"ticks\": \"\"}, \"colorscale\": [[0.0, \"#0d0887\"], [0.1111111111111111, \"#46039f\"], [0.2222222222222222, \"#7201a8\"], [0.3333333333333333, \"#9c179e\"], [0.4444444444444444, \"#bd3786\"], [0.5555555555555556, \"#d8576b\"], [0.6666666666666666, \"#ed7953\"], [0.7777777777777778, \"#fb9f3a\"], [0.8888888888888888, \"#fdca26\"], [1.0, \"#f0f921\"]], \"type\": \"contour\"}], \"contourcarpet\": [{\"colorbar\": {\"outlinewidth\": 0, \"ticks\": \"\"}, \"type\": \"contourcarpet\"}], \"heatmap\": [{\"colorbar\": {\"outlinewidth\": 0, \"ticks\": \"\"}, \"colorscale\": [[0.0, \"#0d0887\"], [0.1111111111111111, \"#46039f\"], [0.2222222222222222, \"#7201a8\"], [0.3333333333333333, \"#9c179e\"], [0.4444444444444444, \"#bd3786\"], [0.5555555555555556, \"#d8576b\"], [0.6666666666666666, \"#ed7953\"], [0.7777777777777778, \"#fb9f3a\"], [0.8888888888888888, \"#fdca26\"], [1.0, \"#f0f921\"]], \"type\": \"heatmap\"}], \"heatmapgl\": [{\"colorbar\": {\"outlinewidth\": 0, \"ticks\": \"\"}, \"colorscale\": [[0.0, \"#0d0887\"], [0.1111111111111111, \"#46039f\"], [0.2222222222222222, \"#7201a8\"], [0.3333333333333333, \"#9c179e\"], [0.4444444444444444, \"#bd3786\"], [0.5555555555555556, \"#d8576b\"], [0.6666666666666666, \"#ed7953\"], [0.7777777777777778, \"#fb9f3a\"], [0.8888888888888888, \"#fdca26\"], [1.0, \"#f0f921\"]], \"type\": \"heatmapgl\"}], \"histogram\": [{\"marker\": {\"colorbar\": {\"outlinewidth\": 0, \"ticks\": \"\"}}, \"type\": \"histogram\"}], \"histogram2d\": [{\"colorbar\": {\"outlinewidth\": 0, \"ticks\": \"\"}, \"colorscale\": [[0.0, \"#0d0887\"], [0.1111111111111111, \"#46039f\"], [0.2222222222222222, \"#7201a8\"], [0.3333333333333333, \"#9c179e\"], [0.4444444444444444, \"#bd3786\"], [0.5555555555555556, \"#d8576b\"], [0.6666666666666666, \"#ed7953\"], [0.7777777777777778, \"#fb9f3a\"], [0.8888888888888888, \"#fdca26\"], [1.0, \"#f0f921\"]], \"type\": \"histogram2d\"}], \"histogram2dcontour\": [{\"colorbar\": {\"outlinewidth\": 0, \"ticks\": \"\"}, \"colorscale\": [[0.0, \"#0d0887\"], [0.1111111111111111, \"#46039f\"], [0.2222222222222222, \"#7201a8\"], [0.3333333333333333, \"#9c179e\"], [0.4444444444444444, \"#bd3786\"], [0.5555555555555556, \"#d8576b\"], [0.6666666666666666, \"#ed7953\"], [0.7777777777777778, \"#fb9f3a\"], [0.8888888888888888, \"#fdca26\"], [1.0, \"#f0f921\"]], \"type\": \"histogram2dcontour\"}], \"mesh3d\": [{\"colorbar\": {\"outlinewidth\": 0, \"ticks\": \"\"}, \"type\": \"mesh3d\"}], \"parcoords\": [{\"line\": {\"colorbar\": {\"outlinewidth\": 0, \"ticks\": \"\"}}, \"type\": \"parcoords\"}], \"scatter\": [{\"marker\": {\"colorbar\": {\"outlinewidth\": 0, \"ticks\": \"\"}}, \"type\": \"scatter\"}], \"scatter3d\": [{\"line\": {\"colorbar\": {\"outlinewidth\": 0, \"ticks\": \"\"}}, \"marker\": {\"colorbar\": {\"outlinewidth\": 0, \"ticks\": \"\"}}, \"type\": \"scatter3d\"}], \"scattercarpet\": [{\"marker\": {\"colorbar\": {\"outlinewidth\": 0, \"ticks\": \"\"}}, \"type\": \"scattercarpet\"}], \"scattergeo\": [{\"marker\": {\"colorbar\": {\"outlinewidth\": 0, \"ticks\": \"\"}}, \"type\": \"scattergeo\"}], \"scattergl\": [{\"marker\": {\"colorbar\": {\"outlinewidth\": 0, \"ticks\": \"\"}}, \"type\": \"scattergl\"}], \"scattermapbox\": [{\"marker\": {\"colorbar\": {\"outlinewidth\": 0, \"ticks\": \"\"}}, \"type\": \"scattermapbox\"}], \"scatterpolar\": [{\"marker\": {\"colorbar\": {\"outlinewidth\": 0, \"ticks\": \"\"}}, \"type\": \"scatterpolar\"}], \"scatterpolargl\": [{\"marker\": {\"colorbar\": {\"outlinewidth\": 0, \"ticks\": \"\"}}, \"type\": \"scatterpolargl\"}], \"scatterternary\": [{\"marker\": {\"colorbar\": {\"outlinewidth\": 0, \"ticks\": \"\"}}, \"type\": \"scatterternary\"}], \"surface\": [{\"colorbar\": {\"outlinewidth\": 0, \"ticks\": \"\"}, \"colorscale\": [[0.0, \"#0d0887\"], [0.1111111111111111, \"#46039f\"], [0.2222222222222222, \"#7201a8\"], [0.3333333333333333, \"#9c179e\"], [0.4444444444444444, \"#bd3786\"], [0.5555555555555556, \"#d8576b\"], [0.6666666666666666, \"#ed7953\"], [0.7777777777777778, \"#fb9f3a\"], [0.8888888888888888, \"#fdca26\"], [1.0, \"#f0f921\"]], \"type\": \"surface\"}], \"table\": [{\"cells\": {\"fill\": {\"color\": \"#EBF0F8\"}, \"line\": {\"color\": \"white\"}}, \"header\": {\"fill\": {\"color\": \"#C8D4E3\"}, \"line\": {\"color\": \"white\"}}, \"type\": \"table\"}]}, \"layout\": {\"annotationdefaults\": {\"arrowcolor\": \"#2a3f5f\", \"arrowhead\": 0, \"arrowwidth\": 1}, \"colorscale\": {\"diverging\": [[0, \"#8e0152\"], [0.1, \"#c51b7d\"], [0.2, \"#de77ae\"], [0.3, \"#f1b6da\"], [0.4, \"#fde0ef\"], [0.5, \"#f7f7f7\"], [0.6, \"#e6f5d0\"], [0.7, \"#b8e186\"], [0.8, \"#7fbc41\"], [0.9, \"#4d9221\"], [1, \"#276419\"]], \"sequential\": [[0.0, \"#0d0887\"], [0.1111111111111111, \"#46039f\"], [0.2222222222222222, \"#7201a8\"], [0.3333333333333333, \"#9c179e\"], [0.4444444444444444, \"#bd3786\"], [0.5555555555555556, \"#d8576b\"], [0.6666666666666666, \"#ed7953\"], [0.7777777777777778, \"#fb9f3a\"], [0.8888888888888888, \"#fdca26\"], [1.0, \"#f0f921\"]], \"sequentialminus\": [[0.0, \"#0d0887\"], [0.1111111111111111, \"#46039f\"], [0.2222222222222222, \"#7201a8\"], [0.3333333333333333, \"#9c179e\"], [0.4444444444444444, \"#bd3786\"], [0.5555555555555556, \"#d8576b\"], [0.6666666666666666, \"#ed7953\"], [0.7777777777777778, \"#fb9f3a\"], [0.8888888888888888, \"#fdca26\"], [1.0, \"#f0f921\"]]}, \"colorway\": [\"#636efa\", \"#EF553B\", \"#00cc96\", \"#ab63fa\", \"#FFA15A\", \"#19d3f3\", \"#FF6692\", \"#B6E880\", \"#FF97FF\", \"#FECB52\"], \"font\": {\"color\": \"#2a3f5f\"}, \"geo\": {\"bgcolor\": \"white\", \"lakecolor\": \"white\", \"landcolor\": \"#E5ECF6\", \"showlakes\": true, \"showland\": true, \"subunitcolor\": \"white\"}, \"hoverlabel\": {\"align\": \"left\"}, \"hovermode\": \"closest\", \"mapbox\": {\"style\": \"light\"}, \"paper_bgcolor\": \"white\", \"plot_bgcolor\": \"#E5ECF6\", \"polar\": {\"angularaxis\": {\"gridcolor\": \"white\", \"linecolor\": \"white\", \"ticks\": \"\"}, \"bgcolor\": \"#E5ECF6\", \"radialaxis\": {\"gridcolor\": \"white\", \"linecolor\": \"white\", \"ticks\": \"\"}}, \"scene\": {\"xaxis\": {\"backgroundcolor\": \"#E5ECF6\", \"gridcolor\": \"white\", \"gridwidth\": 2, \"linecolor\": \"white\", \"showbackground\": true, \"ticks\": \"\", \"zerolinecolor\": \"white\"}, \"yaxis\": {\"backgroundcolor\": \"#E5ECF6\", \"gridcolor\": \"white\", \"gridwidth\": 2, \"linecolor\": \"white\", \"showbackground\": true, \"ticks\": \"\", \"zerolinecolor\": \"white\"}, \"zaxis\": {\"backgroundcolor\": \"#E5ECF6\", \"gridcolor\": \"white\", \"gridwidth\": 2, \"linecolor\": \"white\", \"showbackground\": true, \"ticks\": \"\", \"zerolinecolor\": \"white\"}}, \"shapedefaults\": {\"line\": {\"color\": \"#2a3f5f\"}}, \"ternary\": {\"aaxis\": {\"gridcolor\": \"white\", \"linecolor\": \"white\", \"ticks\": \"\"}, \"baxis\": {\"gridcolor\": \"white\", \"linecolor\": \"white\", \"ticks\": \"\"}, \"bgcolor\": \"#E5ECF6\", \"caxis\": {\"gridcolor\": \"white\", \"linecolor\": \"white\", \"ticks\": \"\"}}, \"title\": {\"x\": 0.05}, \"xaxis\": {\"automargin\": true, \"gridcolor\": \"white\", \"linecolor\": \"white\", \"ticks\": \"\", \"zerolinecolor\": \"white\", \"zerolinewidth\": 2}, \"yaxis\": {\"automargin\": true, \"gridcolor\": \"white\", \"linecolor\": \"white\", \"ticks\": \"\", \"zerolinecolor\": \"white\", \"zerolinewidth\": 2}}}},\n",
       "                        {\"responsive\": true}\n",
       "                    ).then(function(){\n",
       "                            \n",
       "var gd = document.getElementById('2c2956d6-9f9b-4a43-bd91-e34dee33d4ae');\n",
       "var x = new MutationObserver(function (mutations, observer) {{\n",
       "        var display = window.getComputedStyle(gd).display;\n",
       "        if (!display || display === 'none') {{\n",
       "            console.log([gd, 'removed!']);\n",
       "            Plotly.purge(gd);\n",
       "            observer.disconnect();\n",
       "        }}\n",
       "}});\n",
       "\n",
       "// Listen for the removal of the full notebook cells\n",
       "var notebookContainer = gd.closest('#notebook-container');\n",
       "if (notebookContainer) {{\n",
       "    x.observe(notebookContainer, {childList: true});\n",
       "}}\n",
       "\n",
       "// Listen for the clearing of the current output cell\n",
       "var outputEl = gd.closest('.output');\n",
       "if (outputEl) {{\n",
       "    x.observe(outputEl, {childList: true});\n",
       "}}\n",
       "\n",
       "                        })\n",
       "                };\n",
       "                });\n",
       "            </script>\n",
       "        </div>"
      ]
     },
     "metadata": {},
     "output_type": "display_data"
    }
   ],
   "source": [
    "import plotly.graph_objects as go\n",
    "\n",
    "labels = shoetype\n",
    "values = avgpricesbytype\n",
    "\n",
    "fig = go.Figure(data=[go.Pie(labels=labels, values=values)])\n",
    "fig.show()"
   ]
  },
  {
   "cell_type": "code",
   "execution_count": 43,
   "metadata": {},
   "outputs": [
    {
     "data": {
      "image/png": "[encoded data removed]",
      "text/plain": [
       "<Figure size 432x288 with 1 Axes>"
      ]
     },
     "metadata": {
      "needs_background": "light"
     },
     "output_type": "display_data"
    }
   ],
   "source": [
    "plt.barh(shoetype, avgpricesbytype, label = \"Average Prices by Type\",\n",
    "        color = \"lightcoral\")\n",
    "plt.title(\"Average Prices by Type in A/W 2018\")\n",
    "#plt.xticks(rotation=45)\n",
    "plt.xlabel(\"Prices (USD)\")\n",
    "plt.ylabel(\"Type of Shoes\")\n",
    "plt.savefig('pricesbytype.png')\n",
    "plt.show()"
   ]
  },
  {
   "cell_type": "code",
   "execution_count": null,
   "metadata": {},
   "outputs": [],
   "source": [
    "date_df = shoes_df[\"Date\"].unique()\n",
    "date_df"
   ]
  },
  {
   "cell_type": "code",
   "execution_count": null,
   "metadata": {},
   "outputs": [],
   "source": [
    "typecount_df = shoes_df.groupby(\"Type\")[\"Date\"].unique()\n",
    "typecount_df"
   ]
  },
  {
   "cell_type": "code",
   "execution_count": null,
   "metadata": {},
   "outputs": [],
   "source": [
    "plt.scatter(shoes_df[\"Color\"], shoes_df[\"Type\"], label = \"Shoes\",\n",
    "                    color = \"coral\", edgecolors = \"black\", alpha = 0.5) \n",
    "plt.xticks(rotation=45)\n",
    "plt.show()"
   ]
  },
  {
   "cell_type": "code",
   "execution_count": null,
   "metadata": {},
   "outputs": [],
   "source": [
    "merchantname_df = shoes_df[\"Merchant\"].unique()\n",
    "merchantname_df"
   ]
  },
  {
   "cell_type": "code",
   "execution_count": null,
   "metadata": {},
   "outputs": [],
   "source": [
    "pricesbymerchant_df = shoes_df.groupby(\"Merchant\")[\"Prices\"].sum()\n",
    "pricesbymerchant_df"
   ]
  },
  {
   "cell_type": "code",
   "execution_count": null,
   "metadata": {},
   "outputs": [],
   "source": [
    "totalmerchant_df = shoes_df.groupby(\"Merchant\")[\"Date\"].count()\n",
    "totalmerchant_df"
   ]
  },
  {
   "cell_type": "code",
   "execution_count": 57,
   "metadata": {},
   "outputs": [
    {
     "data": {
      "text/plain": [
       "array(['kohls', 'backcountry', 'walmart', 'overstock', 'evo.com'],\n",
       "      dtype=object)"
      ]
     },
     "execution_count": 57,
     "metadata": {},
     "output_type": "execute_result"
    }
   ],
   "source": [
    "merchantcount = shoes_df[\"Merchant\"].value_counts()\n",
    "merchantcount\n",
    "\n",
    "merchants = shoes_df[\"Merchant\"].unique()\n",
    "merchants"
   ]
  },
  {
   "cell_type": "code",
   "execution_count": 62,
   "metadata": {},
   "outputs": [
    {
     "data": {
      "application/vnd.plotly.v1+json": {
       "config": {
        "plotlyServerURL": "https://plot.ly"
       },
       "data": [
        {
         "type": "heatmap",
         "x": [
          "kohls",
          "backcountry",
          "walmart",
          "overstock",
          "evo.com"
         ],
         "y": [
          9556,
          352,
          82,
          8,
          2
         ],
         "z": [
          [
           1,
           20,
           30,
           50,
           1
          ],
          [
           20,
           1,
           60,
           80,
           30
          ],
          [
           30,
           60,
           1,
           -10,
           20
          ]
         ]
        }
       ],
       "layout": {
        "template": {
         "data": {
          "bar": [
           {
            "error_x": {
             "color": "#2a3f5f"
            },
            "error_y": {
             "color": "#2a3f5f"
            },
            "marker": {
             "line": {
              "color": "#E5ECF6",
              "width": 0.5
             }
            },
            "type": "bar"
           }
          ],
          "barpolar": [
           {
            "marker": {
             "line": {
              "color": "#E5ECF6",
              "width": 0.5
             }
            },
            "type": "barpolar"
           }
          ],
          "carpet": [
           {
            "aaxis": {
             "endlinecolor": "#2a3f5f",
             "gridcolor": "white",
             "linecolor": "white",
             "minorgridcolor": "white",
             "startlinecolor": "#2a3f5f"
            },
            "baxis": {
             "endlinecolor": "#2a3f5f",
             "gridcolor": "white",
             "linecolor": "white",
             "minorgridcolor": "white",
             "startlinecolor": "#2a3f5f"
            },
            "type": "carpet"
           }
          ],
          "choropleth": [
           {
            "colorbar": {
             "outlinewidth": 0,
             "ticks": ""
            },
            "type": "choropleth"
           }
          ],
          "contour": [
           {
            "colorbar": {
             "outlinewidth": 0,
             "ticks": ""
            },
            "colorscale": [
             [
              0,
              "#0d0887"
             ],
             [
              0.1111111111111111,
              "#46039f"
             ],
             [
              0.2222222222222222,
              "#7201a8"
             ],
             [
              0.3333333333333333,
              "#9c179e"
             ],
             [
              0.4444444444444444,
              "#bd3786"
             ],
             [
              0.5555555555555556,
              "#d8576b"
             ],
             [
              0.6666666666666666,
              "#ed7953"
             ],
             [
              0.7777777777777778,
              "#fb9f3a"
             ],
             [
              0.8888888888888888,
              "#fdca26"
             ],
             [
              1,
              "#f0f921"
             ]
            ],
            "type": "contour"
           }
          ],
          "contourcarpet": [
           {
            "colorbar": {
             "outlinewidth": 0,
             "ticks": ""
            },
            "type": "contourcarpet"
           }
          ],
          "heatmap": [
           {
            "colorbar": {
             "outlinewidth": 0,
             "ticks": ""
            },
            "colorscale": [
             [
              0,
              "#0d0887"
             ],
             [
              0.1111111111111111,
              "#46039f"
             ],
             [
              0.2222222222222222,
              "#7201a8"
             ],
             [
              0.3333333333333333,
              "#9c179e"
             ],
             [
              0.4444444444444444,
              "#bd3786"
             ],
             [
              0.5555555555555556,
              "#d8576b"
             ],
             [
              0.6666666666666666,
              "#ed7953"
             ],
             [
              0.7777777777777778,
              "#fb9f3a"
             ],
             [
              0.8888888888888888,
              "#fdca26"
             ],
             [
              1,
              "#f0f921"
             ]
            ],
            "type": "heatmap"
           }
          ],
          "heatmapgl": [
           {
            "colorbar": {
             "outlinewidth": 0,
             "ticks": ""
            },
            "colorscale": [
             [
              0,
              "#0d0887"
             ],
             [
              0.1111111111111111,
              "#46039f"
             ],
             [
              0.2222222222222222,
              "#7201a8"
             ],
             [
              0.3333333333333333,
              "#9c179e"
             ],
             [
              0.4444444444444444,
              "#bd3786"
             ],
             [
              0.5555555555555556,
              "#d8576b"
             ],
             [
              0.6666666666666666,
              "#ed7953"
             ],
             [
              0.7777777777777778,
              "#fb9f3a"
             ],
             [
              0.8888888888888888,
              "#fdca26"
             ],
             [
              1,
              "#f0f921"
             ]
            ],
            "type": "heatmapgl"
           }
          ],
          "histogram": [
           {
            "marker": {
             "colorbar": {
              "outlinewidth": 0,
              "ticks": ""
             }
            },
            "type": "histogram"
           }
          ],
          "histogram2d": [
           {
            "colorbar": {
             "outlinewidth": 0,
             "ticks": ""
            },
            "colorscale": [
             [
              0,
              "#0d0887"
             ],
             [
              0.1111111111111111,
              "#46039f"
             ],
             [
              0.2222222222222222,
              "#7201a8"
             ],
             [
              0.3333333333333333,
              "#9c179e"
             ],
             [
              0.4444444444444444,
              "#bd3786"
             ],
             [
              0.5555555555555556,
              "#d8576b"
             ],
             [
              0.6666666666666666,
              "#ed7953"
             ],
             [
              0.7777777777777778,
              "#fb9f3a"
             ],
             [
              0.8888888888888888,
              "#fdca26"
             ],
             [
              1,
              "#f0f921"
             ]
            ],
            "type": "histogram2d"
           }
          ],
          "histogram2dcontour": [
           {
            "colorbar": {
             "outlinewidth": 0,
             "ticks": ""
            },
            "colorscale": [
             [
              0,
              "#0d0887"
             ],
             [
              0.1111111111111111,
              "#46039f"
             ],
             [
              0.2222222222222222,
              "#7201a8"
             ],
             [
              0.3333333333333333,
              "#9c179e"
             ],
             [
              0.4444444444444444,
              "#bd3786"
             ],
             [
              0.5555555555555556,
              "#d8576b"
             ],
             [
              0.6666666666666666,
              "#ed7953"
             ],
             [
              0.7777777777777778,
              "#fb9f3a"
             ],
             [
              0.8888888888888888,
              "#fdca26"
             ],
             [
              1,
              "#f0f921"
             ]
            ],
            "type": "histogram2dcontour"
           }
          ],
          "mesh3d": [
           {
            "colorbar": {
             "outlinewidth": 0,
             "ticks": ""
            },
            "type": "mesh3d"
           }
          ],
          "parcoords": [
           {
            "line": {
             "colorbar": {
              "outlinewidth": 0,
              "ticks": ""
             }
            },
            "type": "parcoords"
           }
          ],
          "scatter": [
           {
            "marker": {
             "colorbar": {
              "outlinewidth": 0,
              "ticks": ""
             }
            },
            "type": "scatter"
           }
          ],
          "scatter3d": [
           {
            "line": {
             "colorbar": {
              "outlinewidth": 0,
              "ticks": ""
             }
            },
            "marker": {
             "colorbar": {
              "outlinewidth": 0,
              "ticks": ""
             }
            },
            "type": "scatter3d"
           }
          ],
          "scattercarpet": [
           {
            "marker": {
             "colorbar": {
              "outlinewidth": 0,
              "ticks": ""
             }
            },
            "type": "scattercarpet"
           }
          ],
          "scattergeo": [
           {
            "marker": {
             "colorbar": {
              "outlinewidth": 0,
              "ticks": ""
             }
            },
            "type": "scattergeo"
           }
          ],
          "scattergl": [
           {
            "marker": {
             "colorbar": {
              "outlinewidth": 0,
              "ticks": ""
             }
            },
            "type": "scattergl"
           }
          ],
          "scattermapbox": [
           {
            "marker": {
             "colorbar": {
              "outlinewidth": 0,
              "ticks": ""
             }
            },
            "type": "scattermapbox"
           }
          ],
          "scatterpolar": [
           {
            "marker": {
             "colorbar": {
              "outlinewidth": 0,
              "ticks": ""
             }
            },
            "type": "scatterpolar"
           }
          ],
          "scatterpolargl": [
           {
            "marker": {
             "colorbar": {
              "outlinewidth": 0,
              "ticks": ""
             }
            },
            "type": "scatterpolargl"
           }
          ],
          "scatterternary": [
           {
            "marker": {
             "colorbar": {
              "outlinewidth": 0,
              "ticks": ""
             }
            },
            "type": "scatterternary"
           }
          ],
          "surface": [
           {
            "colorbar": {
             "outlinewidth": 0,
             "ticks": ""
            },
            "colorscale": [
             [
              0,
              "#0d0887"
             ],
             [
              0.1111111111111111,
              "#46039f"
             ],
             [
              0.2222222222222222,
              "#7201a8"
             ],
             [
              0.3333333333333333,
              "#9c179e"
             ],
             [
              0.4444444444444444,
              "#bd3786"
             ],
             [
              0.5555555555555556,
              "#d8576b"
             ],
             [
              0.6666666666666666,
              "#ed7953"
             ],
             [
              0.7777777777777778,
              "#fb9f3a"
             ],
             [
              0.8888888888888888,
              "#fdca26"
             ],
             [
              1,
              "#f0f921"
             ]
            ],
            "type": "surface"
           }
          ],
          "table": [
           {
            "cells": {
             "fill": {
              "color": "#EBF0F8"
             },
             "line": {
              "color": "white"
             }
            },
            "header": {
             "fill": {
              "color": "#C8D4E3"
             },
             "line": {
              "color": "white"
             }
            },
            "type": "table"
           }
          ]
         },
         "layout": {
          "annotationdefaults": {
           "arrowcolor": "#2a3f5f",
           "arrowhead": 0,
           "arrowwidth": 1
          },
          "colorscale": {
           "diverging": [
            [
             0,
             "#8e0152"
            ],
            [
             0.1,
             "#c51b7d"
            ],
            [
             0.2,
             "#de77ae"
            ],
            [
             0.3,
             "#f1b6da"
            ],
            [
             0.4,
             "#fde0ef"
            ],
            [
             0.5,
             "#f7f7f7"
            ],
            [
             0.6,
             "#e6f5d0"
            ],
            [
             0.7,
             "#b8e186"
            ],
            [
             0.8,
             "#7fbc41"
            ],
            [
             0.9,
             "#4d9221"
            ],
            [
             1,
             "#276419"
            ]
           ],
           "sequential": [
            [
             0,
             "#0d0887"
            ],
            [
             0.1111111111111111,
             "#46039f"
            ],
            [
             0.2222222222222222,
             "#7201a8"
            ],
            [
             0.3333333333333333,
             "#9c179e"
            ],
            [
             0.4444444444444444,
             "#bd3786"
            ],
            [
             0.5555555555555556,
             "#d8576b"
            ],
            [
             0.6666666666666666,
             "#ed7953"
            ],
            [
             0.7777777777777778,
             "#fb9f3a"
            ],
            [
             0.8888888888888888,
             "#fdca26"
            ],
            [
             1,
             "#f0f921"
            ]
           ],
           "sequentialminus": [
            [
             0,
             "#0d0887"
            ],
            [
             0.1111111111111111,
             "#46039f"
            ],
            [
             0.2222222222222222,
             "#7201a8"
            ],
            [
             0.3333333333333333,
             "#9c179e"
            ],
            [
             0.4444444444444444,
             "#bd3786"
            ],
            [
             0.5555555555555556,
             "#d8576b"
            ],
            [
             0.6666666666666666,
             "#ed7953"
            ],
            [
             0.7777777777777778,
             "#fb9f3a"
            ],
            [
             0.8888888888888888,
             "#fdca26"
            ],
            [
             1,
             "#f0f921"
            ]
           ]
          },
          "colorway": [
           "#636efa",
           "#EF553B",
           "#00cc96",
           "#ab63fa",
           "#FFA15A",
           "#19d3f3",
           "#FF6692",
           "#B6E880",
           "#FF97FF",
           "#FECB52"
          ],
          "font": {
           "color": "#2a3f5f"
          },
          "geo": {
           "bgcolor": "white",
           "lakecolor": "white",
           "landcolor": "#E5ECF6",
           "showlakes": true,
           "showland": true,
           "subunitcolor": "white"
          },
          "hoverlabel": {
           "align": "left"
          },
          "hovermode": "closest",
          "mapbox": {
           "style": "light"
          },
          "paper_bgcolor": "white",
          "plot_bgcolor": "#E5ECF6",
          "polar": {
           "angularaxis": {
            "gridcolor": "white",
            "linecolor": "white",
            "ticks": ""
           },
           "bgcolor": "#E5ECF6",
           "radialaxis": {
            "gridcolor": "white",
            "linecolor": "white",
            "ticks": ""
           }
          },
          "scene": {
           "xaxis": {
            "backgroundcolor": "#E5ECF6",
            "gridcolor": "white",
            "gridwidth": 2,
            "linecolor": "white",
            "showbackground": true,
            "ticks": "",
            "zerolinecolor": "white"
           },
           "yaxis": {
            "backgroundcolor": "#E5ECF6",
            "gridcolor": "white",
            "gridwidth": 2,
            "linecolor": "white",
            "showbackground": true,
            "ticks": "",
            "zerolinecolor": "white"
           },
           "zaxis": {
            "backgroundcolor": "#E5ECF6",
            "gridcolor": "white",
            "gridwidth": 2,
            "linecolor": "white",
            "showbackground": true,
            "ticks": "",
            "zerolinecolor": "white"
           }
          },
          "shapedefaults": {
           "line": {
            "color": "#2a3f5f"
           }
          },
          "ternary": {
           "aaxis": {
            "gridcolor": "white",
            "linecolor": "white",
            "ticks": ""
           },
           "baxis": {
            "gridcolor": "white",
            "linecolor": "white",
            "ticks": ""
           },
           "bgcolor": "#E5ECF6",
           "caxis": {
            "gridcolor": "white",
            "linecolor": "white",
            "ticks": ""
           }
          },
          "title": {
           "x": 0.05
          },
          "xaxis": {
           "automargin": true,
           "gridcolor": "white",
           "linecolor": "white",
           "ticks": "",
           "zerolinecolor": "white",
           "zerolinewidth": 2
          },
          "yaxis": {
           "automargin": true,
           "gridcolor": "white",
           "linecolor": "white",
           "ticks": "",
           "zerolinecolor": "white",
           "zerolinewidth": 2
          }
         }
        }
       }
      },
      "text/html": [
       "<div>\n",
       "        \n",
       "        \n",
       "            <div id=\"bb434e0d-79db-4023-b1d5-d5c730b7dec5\" class=\"plotly-graph-div\" style=\"height:525px; width:100%;\"></div>\n",
       "            <script type=\"text/javascript\">\n",
       "                require([\"plotly\"], function(Plotly) {\n",
       "                    window.PLOTLYENV=window.PLOTLYENV || {};\n",
       "                    \n",
       "                if (document.getElementById(\"bb434e0d-79db-4023-b1d5-d5c730b7dec5\")) {\n",
       "                    Plotly.newPlot(\n",
       "                        'bb434e0d-79db-4023-b1d5-d5c730b7dec5',\n",
       "                        [{\"type\": \"heatmap\", \"x\": [\"kohls\", \"backcountry\", \"walmart\", \"overstock\", \"evo.com\"], \"y\": [9556, 352, 82, 8, 2], \"z\": [[1, 20, 30, 50, 1], [20, 1, 60, 80, 30], [30, 60, 1, -10, 20]]}],\n",
       "                        {\"template\": {\"data\": {\"bar\": [{\"error_x\": {\"color\": \"#2a3f5f\"}, \"error_y\": {\"color\": \"#2a3f5f\"}, \"marker\": {\"line\": {\"color\": \"#E5ECF6\", \"width\": 0.5}}, \"type\": \"bar\"}], \"barpolar\": [{\"marker\": {\"line\": {\"color\": \"#E5ECF6\", \"width\": 0.5}}, \"type\": \"barpolar\"}], \"carpet\": [{\"aaxis\": {\"endlinecolor\": \"#2a3f5f\", \"gridcolor\": \"white\", \"linecolor\": \"white\", \"minorgridcolor\": \"white\", \"startlinecolor\": \"#2a3f5f\"}, \"baxis\": {\"endlinecolor\": \"#2a3f5f\", \"gridcolor\": \"white\", \"linecolor\": \"white\", \"minorgridcolor\": \"white\", \"startlinecolor\": \"#2a3f5f\"}, \"type\": \"carpet\"}], \"choropleth\": [{\"colorbar\": {\"outlinewidth\": 0, \"ticks\": \"\"}, \"type\": \"choropleth\"}], \"contour\": [{\"colorbar\": {\"outlinewidth\": 0, \"ticks\": \"\"}, \"colorscale\": [[0.0, \"#0d0887\"], [0.1111111111111111, \"#46039f\"], [0.2222222222222222, \"#7201a8\"], [0.3333333333333333, \"#9c179e\"], [0.4444444444444444, \"#bd3786\"], [0.5555555555555556, \"#d8576b\"], [0.6666666666666666, \"#ed7953\"], [0.7777777777777778, \"#fb9f3a\"], [0.8888888888888888, \"#fdca26\"], [1.0, \"#f0f921\"]], \"type\": \"contour\"}], \"contourcarpet\": [{\"colorbar\": {\"outlinewidth\": 0, \"ticks\": \"\"}, \"type\": \"contourcarpet\"}], \"heatmap\": [{\"colorbar\": {\"outlinewidth\": 0, \"ticks\": \"\"}, \"colorscale\": [[0.0, \"#0d0887\"], [0.1111111111111111, \"#46039f\"], [0.2222222222222222, \"#7201a8\"], [0.3333333333333333, \"#9c179e\"], [0.4444444444444444, \"#bd3786\"], [0.5555555555555556, \"#d8576b\"], [0.6666666666666666, \"#ed7953\"], [0.7777777777777778, \"#fb9f3a\"], [0.8888888888888888, \"#fdca26\"], [1.0, \"#f0f921\"]], \"type\": \"heatmap\"}], \"heatmapgl\": [{\"colorbar\": {\"outlinewidth\": 0, \"ticks\": \"\"}, \"colorscale\": [[0.0, \"#0d0887\"], [0.1111111111111111, \"#46039f\"], [0.2222222222222222, \"#7201a8\"], [0.3333333333333333, \"#9c179e\"], [0.4444444444444444, \"#bd3786\"], [0.5555555555555556, \"#d8576b\"], [0.6666666666666666, \"#ed7953\"], [0.7777777777777778, \"#fb9f3a\"], [0.8888888888888888, \"#fdca26\"], [1.0, \"#f0f921\"]], \"type\": \"heatmapgl\"}], \"histogram\": [{\"marker\": {\"colorbar\": {\"outlinewidth\": 0, \"ticks\": \"\"}}, \"type\": \"histogram\"}], \"histogram2d\": [{\"colorbar\": {\"outlinewidth\": 0, \"ticks\": \"\"}, \"colorscale\": [[0.0, \"#0d0887\"], [0.1111111111111111, \"#46039f\"], [0.2222222222222222, \"#7201a8\"], [0.3333333333333333, \"#9c179e\"], [0.4444444444444444, \"#bd3786\"], [0.5555555555555556, \"#d8576b\"], [0.6666666666666666, \"#ed7953\"], [0.7777777777777778, \"#fb9f3a\"], [0.8888888888888888, \"#fdca26\"], [1.0, \"#f0f921\"]], \"type\": \"histogram2d\"}], \"histogram2dcontour\": [{\"colorbar\": {\"outlinewidth\": 0, \"ticks\": \"\"}, \"colorscale\": [[0.0, \"#0d0887\"], [0.1111111111111111, \"#46039f\"], [0.2222222222222222, \"#7201a8\"], [0.3333333333333333, \"#9c179e\"], [0.4444444444444444, \"#bd3786\"], [0.5555555555555556, \"#d8576b\"], [0.6666666666666666, \"#ed7953\"], [0.7777777777777778, \"#fb9f3a\"], [0.8888888888888888, \"#fdca26\"], [1.0, \"#f0f921\"]], \"type\": \"histogram2dcontour\"}], \"mesh3d\": [{\"colorbar\": {\"outlinewidth\": 0, \"ticks\": \"\"}, \"type\": \"mesh3d\"}], \"parcoords\": [{\"line\": {\"colorbar\": {\"outlinewidth\": 0, \"ticks\": \"\"}}, \"type\": \"parcoords\"}], \"scatter\": [{\"marker\": {\"colorbar\": {\"outlinewidth\": 0, \"ticks\": \"\"}}, \"type\": \"scatter\"}], \"scatter3d\": [{\"line\": {\"colorbar\": {\"outlinewidth\": 0, \"ticks\": \"\"}}, \"marker\": {\"colorbar\": {\"outlinewidth\": 0, \"ticks\": \"\"}}, \"type\": \"scatter3d\"}], \"scattercarpet\": [{\"marker\": {\"colorbar\": {\"outlinewidth\": 0, \"ticks\": \"\"}}, \"type\": \"scattercarpet\"}], \"scattergeo\": [{\"marker\": {\"colorbar\": {\"outlinewidth\": 0, \"ticks\": \"\"}}, \"type\": \"scattergeo\"}], \"scattergl\": [{\"marker\": {\"colorbar\": {\"outlinewidth\": 0, \"ticks\": \"\"}}, \"type\": \"scattergl\"}], \"scattermapbox\": [{\"marker\": {\"colorbar\": {\"outlinewidth\": 0, \"ticks\": \"\"}}, \"type\": \"scattermapbox\"}], \"scatterpolar\": [{\"marker\": {\"colorbar\": {\"outlinewidth\": 0, \"ticks\": \"\"}}, \"type\": \"scatterpolar\"}], \"scatterpolargl\": [{\"marker\": {\"colorbar\": {\"outlinewidth\": 0, \"ticks\": \"\"}}, \"type\": \"scatterpolargl\"}], \"scatterternary\": [{\"marker\": {\"colorbar\": {\"outlinewidth\": 0, \"ticks\": \"\"}}, \"type\": \"scatterternary\"}], \"surface\": [{\"colorbar\": {\"outlinewidth\": 0, \"ticks\": \"\"}, \"colorscale\": [[0.0, \"#0d0887\"], [0.1111111111111111, \"#46039f\"], [0.2222222222222222, \"#7201a8\"], [0.3333333333333333, \"#9c179e\"], [0.4444444444444444, \"#bd3786\"], [0.5555555555555556, \"#d8576b\"], [0.6666666666666666, \"#ed7953\"], [0.7777777777777778, \"#fb9f3a\"], [0.8888888888888888, \"#fdca26\"], [1.0, \"#f0f921\"]], \"type\": \"surface\"}], \"table\": [{\"cells\": {\"fill\": {\"color\": \"#EBF0F8\"}, \"line\": {\"color\": \"white\"}}, \"header\": {\"fill\": {\"color\": \"#C8D4E3\"}, \"line\": {\"color\": \"white\"}}, \"type\": \"table\"}]}, \"layout\": {\"annotationdefaults\": {\"arrowcolor\": \"#2a3f5f\", \"arrowhead\": 0, \"arrowwidth\": 1}, \"colorscale\": {\"diverging\": [[0, \"#8e0152\"], [0.1, \"#c51b7d\"], [0.2, \"#de77ae\"], [0.3, \"#f1b6da\"], [0.4, \"#fde0ef\"], [0.5, \"#f7f7f7\"], [0.6, \"#e6f5d0\"], [0.7, \"#b8e186\"], [0.8, \"#7fbc41\"], [0.9, \"#4d9221\"], [1, \"#276419\"]], \"sequential\": [[0.0, \"#0d0887\"], [0.1111111111111111, \"#46039f\"], [0.2222222222222222, \"#7201a8\"], [0.3333333333333333, \"#9c179e\"], [0.4444444444444444, \"#bd3786\"], [0.5555555555555556, \"#d8576b\"], [0.6666666666666666, \"#ed7953\"], [0.7777777777777778, \"#fb9f3a\"], [0.8888888888888888, \"#fdca26\"], [1.0, \"#f0f921\"]], \"sequentialminus\": [[0.0, \"#0d0887\"], [0.1111111111111111, \"#46039f\"], [0.2222222222222222, \"#7201a8\"], [0.3333333333333333, \"#9c179e\"], [0.4444444444444444, \"#bd3786\"], [0.5555555555555556, \"#d8576b\"], [0.6666666666666666, \"#ed7953\"], [0.7777777777777778, \"#fb9f3a\"], [0.8888888888888888, \"#fdca26\"], [1.0, \"#f0f921\"]]}, \"colorway\": [\"#636efa\", \"#EF553B\", \"#00cc96\", \"#ab63fa\", \"#FFA15A\", \"#19d3f3\", \"#FF6692\", \"#B6E880\", \"#FF97FF\", \"#FECB52\"], \"font\": {\"color\": \"#2a3f5f\"}, \"geo\": {\"bgcolor\": \"white\", \"lakecolor\": \"white\", \"landcolor\": \"#E5ECF6\", \"showlakes\": true, \"showland\": true, \"subunitcolor\": \"white\"}, \"hoverlabel\": {\"align\": \"left\"}, \"hovermode\": \"closest\", \"mapbox\": {\"style\": \"light\"}, \"paper_bgcolor\": \"white\", \"plot_bgcolor\": \"#E5ECF6\", \"polar\": {\"angularaxis\": {\"gridcolor\": \"white\", \"linecolor\": \"white\", \"ticks\": \"\"}, \"bgcolor\": \"#E5ECF6\", \"radialaxis\": {\"gridcolor\": \"white\", \"linecolor\": \"white\", \"ticks\": \"\"}}, \"scene\": {\"xaxis\": {\"backgroundcolor\": \"#E5ECF6\", \"gridcolor\": \"white\", \"gridwidth\": 2, \"linecolor\": \"white\", \"showbackground\": true, \"ticks\": \"\", \"zerolinecolor\": \"white\"}, \"yaxis\": {\"backgroundcolor\": \"#E5ECF6\", \"gridcolor\": \"white\", \"gridwidth\": 2, \"linecolor\": \"white\", \"showbackground\": true, \"ticks\": \"\", \"zerolinecolor\": \"white\"}, \"zaxis\": {\"backgroundcolor\": \"#E5ECF6\", \"gridcolor\": \"white\", \"gridwidth\": 2, \"linecolor\": \"white\", \"showbackground\": true, \"ticks\": \"\", \"zerolinecolor\": \"white\"}}, \"shapedefaults\": {\"line\": {\"color\": \"#2a3f5f\"}}, \"ternary\": {\"aaxis\": {\"gridcolor\": \"white\", \"linecolor\": \"white\", \"ticks\": \"\"}, \"baxis\": {\"gridcolor\": \"white\", \"linecolor\": \"white\", \"ticks\": \"\"}, \"bgcolor\": \"#E5ECF6\", \"caxis\": {\"gridcolor\": \"white\", \"linecolor\": \"white\", \"ticks\": \"\"}}, \"title\": {\"x\": 0.05}, \"xaxis\": {\"automargin\": true, \"gridcolor\": \"white\", \"linecolor\": \"white\", \"ticks\": \"\", \"zerolinecolor\": \"white\", \"zerolinewidth\": 2}, \"yaxis\": {\"automargin\": true, \"gridcolor\": \"white\", \"linecolor\": \"white\", \"ticks\": \"\", \"zerolinecolor\": \"white\", \"zerolinewidth\": 2}}}},\n",
       "                        {\"responsive\": true}\n",
       "                    ).then(function(){\n",
       "                            \n",
       "var gd = document.getElementById('bb434e0d-79db-4023-b1d5-d5c730b7dec5');\n",
       "var x = new MutationObserver(function (mutations, observer) {{\n",
       "        var display = window.getComputedStyle(gd).display;\n",
       "        if (!display || display === 'none') {{\n",
       "            console.log([gd, 'removed!']);\n",
       "            Plotly.purge(gd);\n",
       "            observer.disconnect();\n",
       "        }}\n",
       "}});\n",
       "\n",
       "// Listen for the removal of the full notebook cells\n",
       "var notebookContainer = gd.closest('#notebook-container');\n",
       "if (notebookContainer) {{\n",
       "    x.observe(notebookContainer, {childList: true});\n",
       "}}\n",
       "\n",
       "// Listen for the clearing of the current output cell\n",
       "var outputEl = gd.closest('.output');\n",
       "if (outputEl) {{\n",
       "    x.observe(outputEl, {childList: true});\n",
       "}}\n",
       "\n",
       "                        })\n",
       "                };\n",
       "                });\n",
       "            </script>\n",
       "        </div>"
      ]
     },
     "metadata": {},
     "output_type": "display_data"
    }
   ],
   "source": [
    "import plotly.graph_objects as go\n",
    "\n",
    "fig = go.Figure(data=go.Heatmap(\n",
    "                   z=[[1, 20, 30, 50, 1], [20, 1, 60, 80, 30], [30, 60, 1, -10, 20]],\n",
    "                   x=merchants,\n",
    "                   y=merchantcount))\n",
    "fig.show()"
   ]
  },
  {
   "cell_type": "code",
   "execution_count": 61,
   "metadata": {},
   "outputs": [
    {
     "data": {
      "image/png": "[encoded data removed]",
      "text/plain": [
       "<Figure size 432x288 with 1 Axes>"
      ]
     },
     "metadata": {
      "needs_background": "light"
     },
     "output_type": "display_data"
    }
   ],
   "source": [
    "plt.plot(merchants, merchantcount, label = \"Sales by Merchant\")\n",
    "plt.title(\"Total Sales by Merchant in A/W 2018\")\n",
    "plt.xticks(rotation=45)\n",
    "plt.xlabel(\"Merchant Name\")\n",
    "plt.ylabel(\"Number of Sales\")\n",
    "plt.savefig('salesbymerchant.png')\n",
    "plt.show()"
   ]
  },
  {
   "cell_type": "code",
   "execution_count": null,
   "metadata": {},
   "outputs": [],
   "source": [
    "sns.violinplot(merchants_df, merchantcount_df, color=\"red\", scale=\"count\",)\n"
   ]
  },
  {
   "cell_type": "code",
   "execution_count": null,
   "metadata": {},
   "outputs": [],
   "source": [
    "shoecount_df = shoes_df[\"Type\"].value_counts()\n",
    "shoecount_df\n",
    "\n",
    "shoetypes_df = shoes_df[\"Type\"].unique()\n",
    "shoetypes_df"
   ]
  },
  {
   "cell_type": "code",
   "execution_count": null,
   "metadata": {},
   "outputs": [],
   "source": [
    "plt.bar(shoetypes_df, shoecount_df, label = \"Total Sales by Type\", color = \"lightcoral\")\n",
    "plt.title(\"Total Sales by Type in A/W 2018\")\n",
    "plt.xticks(rotation=45)\n",
    "plt.xlabel(\"Type of Shoes\")\n",
    "plt.ylabel(\"Number of Pairs Sold\")\n",
    "plt.savefig('salesbytype.png')\n",
    "plt.show()"
   ]
  },
  {
   "cell_type": "code",
   "execution_count": null,
   "metadata": {},
   "outputs": [],
   "source": [
    "colorcount_df = shoes_df[\"Color\"].value_counts()\n",
    "colorcount_df"
   ]
  },
  {
   "cell_type": "code",
   "execution_count": null,
   "metadata": {},
   "outputs": [],
   "source": [
    "#plt.bar(colorcount_df, shoecount_df, label = \"Colors\", color = \"coral\") \n",
    "#plt.xticks(rotation=45)\n",
    "#plt.show()"
   ]
  },
  {
   "cell_type": "code",
   "execution_count": 63,
   "metadata": {},
   "outputs": [
    {
     "data": {
      "image/png": "[encoded data removed]",
      "text/plain": [
       "<Figure size 432x288 with 1 Axes>"
      ]
     },
     "metadata": {
      "needs_background": "light"
     },
     "output_type": "display_data"
    }
   ],
   "source": [
    "text = (shoes_df.Color.astype('str'))\n",
    "stopwords = set(STOPWORDS)\n",
    "stopwords.update([\"Length\", \"dtype\", \"object\", \"Name\", \"Color\"])\n",
    "color_cloud = WordCloud(background_color='white', width = 800, height = 400, max_words = 50, colormap='plasma', stopwords=stopwords, random_state=1).generate(str(text))\n",
    "plt.figure()\n",
    "plt.axis('off')\n",
    "plt.imshow(color_cloud, interpolation='bilinear')\n",
    "plt.savefig('colorcloud.png')\n"
   ]
  },
  {
   "cell_type": "code",
   "execution_count": 64,
   "metadata": {},
   "outputs": [],
   "source": [
    "spring19_df = spring19_df.drop(columns=[\"id\",\n",
    "                                  \"dateAdded\",\n",
    "                                  \"dateUpdated\",\n",
    "                                  \"asins\",\n",
    "                                  \"dimension\",\n",
    "                                  \"ean / upc\",\n",
    "                                  \"imageURLs\",\n",
    "                                  \"keys\",\n",
    "                                  \"manufacturerNumber\",\n",
    "                                  \"prices.availability\",\n",
    "                                  \"prices.condition\",\n",
    "                                  \"prices.dateAdded\",\n",
    "                                  \"prices.dateSeen\",\n",
    "                                  \"prices.offer\",\n",
    "                                  \"prices.returnPolicy\",\n",
    "                                        \"sizes\",\n",
    "                                        \"prices.shipping\",\n",
    "                                        \"prices.merchant\",\n",
    "                                        \"manufacturer\",\n",
    "                                  \"prices.isSale\",\n",
    "                                  \"primaryCategories\",\n",
    "                                  \"prices.sourceURLs\",\n",
    "                                  \"categories\",\n",
    "                                        \"prices.amountMin\",\n",
    "                                        \"prices.size\",\n",
    "                                        \"prices.color\",\n",
    "                                        \"sourceURLs\"\n",
    "                         ])\n",
    "#spring19_df.head()"
   ]
  },
  {
   "cell_type": "code",
   "execution_count": 65,
   "metadata": {},
   "outputs": [],
   "source": [
    "#spring19_df.info()"
   ]
  },
  {
   "cell_type": "code",
   "execution_count": 87,
   "metadata": {},
   "outputs": [
    {
     "data": {
      "text/html": [
       "<div>\n",
       "<style scoped>\n",
       "    .dataframe tbody tr th:only-of-type {\n",
       "        vertical-align: middle;\n",
       "    }\n",
       "\n",
       "    .dataframe tbody tr th {\n",
       "        vertical-align: top;\n",
       "    }\n",
       "\n",
       "    .dataframe thead th {\n",
       "        text-align: right;\n",
       "    }\n",
       "</style>\n",
       "<table border=\"1\" class=\"dataframe\">\n",
       "  <thead>\n",
       "    <tr style=\"text-align: right;\">\n",
       "      <th></th>\n",
       "      <th>Date</th>\n",
       "      <th>Brand</th>\n",
       "      <th>Color</th>\n",
       "      <th>Type</th>\n",
       "      <th>name</th>\n",
       "      <th>Prices</th>\n",
       "      <th>Currency</th>\n",
       "      <th>Merchant</th>\n",
       "    </tr>\n",
       "  </thead>\n",
       "  <tbody>\n",
       "    <tr>\n",
       "      <th>0</th>\n",
       "      <td>5/1/19</td>\n",
       "      <td>City Classified</td>\n",
       "      <td>Black</td>\n",
       "      <td>Booties</td>\n",
       "      <td>City Classified Stylish-S Women's Zipper Ankle...</td>\n",
       "      <td>29.95</td>\n",
       "      <td>USD</td>\n",
       "      <td>Walmart</td>\n",
       "    </tr>\n",
       "    <tr>\n",
       "      <th>1</th>\n",
       "      <td>5/1/19</td>\n",
       "      <td>Skechers</td>\n",
       "      <td>Taupe</td>\n",
       "      <td>Athletic Shoes</td>\n",
       "      <td>Skechers Women'S You Radiate, Walking</td>\n",
       "      <td>84.00</td>\n",
       "      <td>USD</td>\n",
       "      <td>Walmart</td>\n",
       "    </tr>\n",
       "    <tr>\n",
       "      <th>2</th>\n",
       "      <td>5/1/19</td>\n",
       "      <td>Floral</td>\n",
       "      <td>Black</td>\n",
       "      <td>Heels</td>\n",
       "      <td>FLORAL Pearl Women's Wide Width Evening Dress ...</td>\n",
       "      <td>49.95</td>\n",
       "      <td>USD</td>\n",
       "      <td>Walmart</td>\n",
       "    </tr>\n",
       "    <tr>\n",
       "      <th>3</th>\n",
       "      <td>5/1/19</td>\n",
       "      <td>Jambu</td>\n",
       "      <td>Black</td>\n",
       "      <td>Booties</td>\n",
       "      <td>Women's Jambu Amal Water Resistant Bootie</td>\n",
       "      <td>127.20</td>\n",
       "      <td>USD</td>\n",
       "      <td>Walmart</td>\n",
       "    </tr>\n",
       "    <tr>\n",
       "      <th>4</th>\n",
       "      <td>5/1/19</td>\n",
       "      <td>Trotters</td>\n",
       "      <td>White</td>\n",
       "      <td>Boots</td>\n",
       "      <td>trotters women's blast iii boot,black quill,11...</td>\n",
       "      <td>47.66</td>\n",
       "      <td>USD</td>\n",
       "      <td>Walmart</td>\n",
       "    </tr>\n",
       "  </tbody>\n",
       "</table>\n",
       "</div>"
      ],
      "text/plain": [
       "     Date            Brand  Color            Type  \\\n",
       "0  5/1/19  City Classified  Black         Booties   \n",
       "1  5/1/19         Skechers  Taupe  Athletic Shoes   \n",
       "2  5/1/19           Floral  Black           Heels   \n",
       "3  5/1/19            Jambu  Black         Booties   \n",
       "4  5/1/19         Trotters  White           Boots   \n",
       "\n",
       "                                                name  Prices Currency Merchant  \n",
       "0  City Classified Stylish-S Women's Zipper Ankle...   29.95      USD  Walmart  \n",
       "1              Skechers Women'S You Radiate, Walking   84.00      USD  Walmart  \n",
       "2  FLORAL Pearl Women's Wide Width Evening Dress ...   49.95      USD  Walmart  \n",
       "3          Women's Jambu Amal Water Resistant Bootie  127.20      USD  Walmart  \n",
       "4  trotters women's blast iii boot,black quill,11...   47.66      USD  Walmart  "
      ]
     },
     "execution_count": 87,
     "metadata": {},
     "output_type": "execute_result"
    }
   ],
   "source": [
    "spring19_df = spring19_df.rename(columns={#\"prices.merchant\": \"Merchant\",\n",
    "                                    \"brand\": \"Brand\",\n",
    "                                    \"colors\" : \"Color\",\n",
    "                                    \"prices.currency\": \"Currency\",\n",
    "                                    \"prices.amountMax\": \"Prices\"\n",
    "                                   })\n",
    "spring19_df.head()"
   ]
  },
  {
   "cell_type": "code",
   "execution_count": 88,
   "metadata": {},
   "outputs": [
    {
     "data": {
      "text/plain": [
       "Brand               Type          \n",
       "1.STATE             Sandals            2\n",
       "911Costume          Boots              1\n",
       "A2 by Aerosoles     Ballet Flats      33\n",
       "                    Sandals            7\n",
       "                    Flats              4\n",
       "                    Booties            3\n",
       "                    Heels              1\n",
       "A35                 Boots              2\n",
       "AARON               Boots              1\n",
       "AERUSI              Flats              1\n",
       "ARRAY               Sandals           10\n",
       "                    Flats              8\n",
       "                    Heels              2\n",
       "                    Booties            1\n",
       "AXNY                Boots              5\n",
       "Academie Gear       Flats              1\n",
       "Adidas              Flats             18\n",
       "                    Heels              2\n",
       "                    Sandals            2\n",
       "                    Booties            1\n",
       "Adriana             Booties            2\n",
       "Aerosoft            Sandals            4\n",
       "                    Athletic Shoes     1\n",
       "Aerosoles           Booties           58\n",
       "                    Flats             57\n",
       "                    Boots             41\n",
       "                    Sandals           31\n",
       "                    Heels             27\n",
       "                    Ballet Flats      15\n",
       "                    Boat Shoes         4\n",
       "                                      ..\n",
       "ZIGI SOHO           Sandals            1\n",
       "Ziginy              Sandals            2\n",
       "aerosoles           Sandals            3\n",
       "alpine swiss        Ballet Flats       1\n",
       "bed:Stu             Boots              2\n",
       "bumper              Sandals            4\n",
       "catan               Boots             19\n",
       "                    Sandals            3\n",
       "                    Athletic Shoes     1\n",
       "durango             Boots              2\n",
       "fergalicious        Boots              2\n",
       "guess               Boots              2\n",
       "k-swiss             Sneakers           2\n",
       "keds                Sneakers           3\n",
       "lartiste            Heels              4\n",
       "                    Flats              1\n",
       "lugz                Boots              1\n",
       "minnetonka          Flats             30\n",
       "                    Booties            1\n",
       "                    Boots              1\n",
       "mobils by Mephisto  Sneakers           2\n",
       "peach-couture       Sandals            1\n",
       "r.b.l.s.            Booties            1\n",
       "rialto              Booties            4\n",
       "ryka                Flats              3\n",
       "soda                Boots              5\n",
       "totes               Boots              8\n",
       "                    Athletic Shoes     1\n",
       "trotters            Flats              4\n",
       "wave                Athletic Shoes     1\n",
       "Name: Type, Length: 872, dtype: int64"
      ]
     },
     "execution_count": 88,
     "metadata": {},
     "output_type": "execute_result"
    }
   ],
   "source": [
    "typebybrand19_df = spring19_df.groupby(\"Brand\")[\"Type\"].value_counts()\n",
    "typebybrand19_df\n"
   ]
  },
  {
   "cell_type": "code",
   "execution_count": 89,
   "metadata": {},
   "outputs": [
    {
     "data": {
      "text/plain": [
       "Brand\n",
       "1.STATE                20.005000\n",
       "911Costume             59.880000\n",
       "A2 by Aerosoles        40.142708\n",
       "A35                    72.795000\n",
       "AARON                 229.980000\n",
       "AERUSI                 25.000000\n",
       "ARRAY                  45.470000\n",
       "AXNY                   48.960000\n",
       "Academie Gear          48.310000\n",
       "Adidas                 61.459130\n",
       "Adriana                33.950000\n",
       "Aerosoft               30.308000\n",
       "Aerosoles              94.265738\n",
       "Ahnu                   67.314000\n",
       "Aldo                   63.950000\n",
       "Alegria               105.336667\n",
       "Alfani                 46.821622\n",
       "Alotta Knits            9.950000\n",
       "American Rag           37.557500\n",
       "Ann Creek              67.996000\n",
       "Anne Michelle          30.000000\n",
       "Annie                  26.867500\n",
       "Answer 2              123.228750\n",
       "Anthony Wang           29.000000\n",
       "Apex                  144.950000\n",
       "Aqua Design            19.950000\n",
       "Aquapillar             39.200370\n",
       "Aquatalia             149.990000\n",
       "Aravon                 47.990000\n",
       "Ariat                  13.330000\n",
       "                         ...    \n",
       "Woolrich               90.830000\n",
       "X2B                    49.050000\n",
       "XAPPEAL                45.620000\n",
       "XOXO                   32.200000\n",
       "YOKI                   29.991000\n",
       "Yellow Box             39.846111\n",
       "ZIGI SOHO              35.400000\n",
       "Ziginy                 39.480000\n",
       "aerosoles             163.570000\n",
       "alpine swiss           11.990000\n",
       "bed:Stu                84.990000\n",
       "bumper                 19.405000\n",
       "catan                 120.654783\n",
       "durango               124.990000\n",
       "fergalicious           75.885000\n",
       "guess                  47.680000\n",
       "k-swiss                76.030000\n",
       "keds                   59.810000\n",
       "lartiste              104.758000\n",
       "lugz                   87.650000\n",
       "minnetonka             36.262500\n",
       "mobils by Mephisto    327.865000\n",
       "peach-couture          42.520000\n",
       "r.b.l.s.               17.970000\n",
       "rialto                 32.172500\n",
       "ryka                   71.320000\n",
       "soda                   27.990000\n",
       "totes                  36.623333\n",
       "trotters              109.950000\n",
       "wave                   14.950000\n",
       "Name: Prices, Length: 421, dtype: float64"
      ]
     },
     "execution_count": 89,
     "metadata": {},
     "output_type": "execute_result"
    }
   ],
   "source": [
    "pricesbybrand19_df = spring19_df.groupby(\"Brand\")[\"Prices\"].mean()\n",
    "pricesbybrand19_df"
   ]
  },
  {
   "cell_type": "code",
   "execution_count": 135,
   "metadata": {},
   "outputs": [
    {
     "name": "stdout",
     "output_type": "stream",
     "text": [
      "<class 'pandas.core.series.Series'>\n"
     ]
    },
    {
     "data": {
      "text/plain": [
       "Color      Type          \n",
       "Black      Flats             1276\n",
       "           Boots             1246\n",
       "           Sandals           1005\n",
       "           Booties            798\n",
       "           Heels              730\n",
       "           Sneakers           116\n",
       "           Athletic Shoes     111\n",
       "           Ballet Flats        35\n",
       "           Boat Shoes          11\n",
       "Blue       Boots              828\n",
       "           Flats              770\n",
       "           Heels              727\n",
       "           Booties            679\n",
       "           Sandals            597\n",
       "           Athletic Shoes     444\n",
       "           Sneakers           297\n",
       "           Ballet Flats       107\n",
       "           Boat Shoes           7\n",
       "Brown      Heels               73\n",
       "           Sandals             23\n",
       "           Booties             21\n",
       "           Flats               11\n",
       "           Boots                5\n",
       "           Sneakers             1\n",
       "Cream      Heels                3\n",
       "           Boots                1\n",
       "Dark Blue  Sneakers             2\n",
       "           Boots                1\n",
       "Gold       Sandals             13\n",
       "           Flats                3\n",
       "           Heels                2\n",
       "           Ballet Flats         1\n",
       "Gray       Booties              7\n",
       "           Flats                4\n",
       "           Sneakers             3\n",
       "           Boots                2\n",
       "           Sandals              1\n",
       "Multi      Sandals              1\n",
       "Pink       Flats                2\n",
       "Purple     Heels                2\n",
       "           Sandals              2\n",
       "Red        Heels                4\n",
       "           Flats                3\n",
       "           Ballet Flats         1\n",
       "Tan        Booties              4\n",
       "           Boots                1\n",
       "           Heels                1\n",
       "           Sandals              1\n",
       "Taupe      Flats                2\n",
       "           Athletic Shoes       1\n",
       "White      Boots                4\n",
       "           Flats                3\n",
       "           Heels                3\n",
       "           Booties              2\n",
       "Name: Type, dtype: int64"
      ]
     },
     "execution_count": 135,
     "metadata": {},
     "output_type": "execute_result"
    }
   ],
   "source": [
    "typebycolor19_df = spring19_df.groupby(\"Color\")[\"Type\"].value_counts()\n",
    "print(type(typebycolor19_df))\n",
    "typebycolor19_df"
   ]
  },
  {
   "cell_type": "code",
   "execution_count": 145,
   "metadata": {},
   "outputs": [
    {
     "data": {
      "text/html": [
       "<div>\n",
       "<style scoped>\n",
       "    .dataframe tbody tr th:only-of-type {\n",
       "        vertical-align: middle;\n",
       "    }\n",
       "\n",
       "    .dataframe tbody tr th {\n",
       "        vertical-align: top;\n",
       "    }\n",
       "\n",
       "    .dataframe thead th {\n",
       "        text-align: right;\n",
       "    }\n",
       "</style>\n",
       "<table border=\"1\" class=\"dataframe\">\n",
       "  <thead>\n",
       "    <tr style=\"text-align: right;\">\n",
       "      <th></th>\n",
       "      <th>Color</th>\n",
       "      <th>Type</th>\n",
       "      <th>Count</th>\n",
       "    </tr>\n",
       "  </thead>\n",
       "  <tbody>\n",
       "    <tr>\n",
       "      <th>0</th>\n",
       "      <td>Black</td>\n",
       "      <td>Flats</td>\n",
       "      <td>1276</td>\n",
       "    </tr>\n",
       "    <tr>\n",
       "      <th>1</th>\n",
       "      <td>Black</td>\n",
       "      <td>Boots</td>\n",
       "      <td>1246</td>\n",
       "    </tr>\n",
       "    <tr>\n",
       "      <th>2</th>\n",
       "      <td>Black</td>\n",
       "      <td>Sandals</td>\n",
       "      <td>1005</td>\n",
       "    </tr>\n",
       "    <tr>\n",
       "      <th>3</th>\n",
       "      <td>Black</td>\n",
       "      <td>Booties</td>\n",
       "      <td>798</td>\n",
       "    </tr>\n",
       "    <tr>\n",
       "      <th>4</th>\n",
       "      <td>Black</td>\n",
       "      <td>Heels</td>\n",
       "      <td>730</td>\n",
       "    </tr>\n",
       "  </tbody>\n",
       "</table>\n",
       "</div>"
      ],
      "text/plain": [
       "   Color     Type  Count\n",
       "0  Black    Flats   1276\n",
       "1  Black    Boots   1246\n",
       "2  Black  Sandals   1005\n",
       "3  Black  Booties    798\n",
       "4  Black    Heels    730"
      ]
     },
     "execution_count": 145,
     "metadata": {},
     "output_type": "execute_result"
    }
   ],
   "source": [
    "type19_df = pd.DataFrame(typebycolor19_df)\n",
    "type19_df.columns = ['Count']\n",
    "#df.index.names = ['Color', 'Shoe_Type']\n",
    "type19_df.reset_index(inplace=True)\n",
    "type19_df.head()"
   ]
  },
  {
   "cell_type": "code",
   "execution_count": 166,
   "metadata": {},
   "outputs": [
    {
     "data": {
      "image/png": "[encoded data removed]",
      "text/plain": [
       "<Figure size 432x288 with 1 Axes>"
      ]
     },
     "metadata": {
      "needs_background": "light"
     },
     "output_type": "display_data"
    }
   ],
   "source": [
    "plt.scatter(type19_df[\"Type\"], type19_df[\"Color\"], type19_df[\"Count\"], label = \"Shoes\",\n",
    "                    color = \"skyblue\", edgecolors = \"black\", alpha = 0.5) \n",
    "plt.xticks(rotation=45)\n",
    "plt.show()"
   ]
  },
  {
   "cell_type": "code",
   "execution_count": 170,
   "metadata": {},
   "outputs": [
    {
     "data": {
      "application/vnd.plotly.v1+json": {
       "config": {
        "plotlyServerURL": "https://plot.ly"
       },
       "data": [
        {
         "type": "heatmap",
         "x": [
          "Black",
          "Black",
          "Black",
          "Black",
          "Black",
          "Black",
          "Black",
          "Black",
          "Black",
          "Blue",
          "Blue",
          "Blue",
          "Blue",
          "Blue",
          "Blue",
          "Blue",
          "Blue",
          "Blue",
          "Brown",
          "Brown",
          "Brown",
          "Brown",
          "Brown",
          "Brown",
          "Cream",
          "Cream",
          "Dark Blue",
          "Dark Blue",
          "Gold",
          "Gold",
          "Gold",
          "Gold",
          "Gray",
          "Gray",
          "Gray",
          "Gray",
          "Gray",
          "Multi",
          "Pink",
          "Purple",
          "Purple",
          "Red",
          "Red",
          "Red",
          "Tan",
          "Tan",
          "Tan",
          "Tan",
          "Taupe",
          "Taupe",
          "White",
          "White",
          "White",
          "White"
         ],
         "y": [
          1276,
          1246,
          1005,
          798,
          730,
          116,
          111,
          35,
          11,
          828,
          770,
          727,
          679,
          597,
          444,
          297,
          107,
          7,
          73,
          23,
          21,
          11,
          5,
          1,
          3,
          1,
          2,
          1,
          13,
          3,
          2,
          1,
          7,
          4,
          3,
          2,
          1,
          1,
          2,
          2,
          2,
          4,
          3,
          1,
          4,
          1,
          1,
          1,
          2,
          1,
          4,
          3,
          3,
          2
         ],
         "z": [
          [
           1,
           20,
           30,
           50,
           1
          ],
          [
           20,
           1,
           60,
           80,
           30
          ],
          [
           30,
           60,
           1,
           -10,
           20
          ]
         ]
        }
       ],
       "layout": {
        "template": {
         "data": {
          "bar": [
           {
            "error_x": {
             "color": "#2a3f5f"
            },
            "error_y": {
             "color": "#2a3f5f"
            },
            "marker": {
             "line": {
              "color": "#E5ECF6",
              "width": 0.5
             }
            },
            "type": "bar"
           }
          ],
          "barpolar": [
           {
            "marker": {
             "line": {
              "color": "#E5ECF6",
              "width": 0.5
             }
            },
            "type": "barpolar"
           }
          ],
          "carpet": [
           {
            "aaxis": {
             "endlinecolor": "#2a3f5f",
             "gridcolor": "white",
             "linecolor": "white",
             "minorgridcolor": "white",
             "startlinecolor": "#2a3f5f"
            },
            "baxis": {
             "endlinecolor": "#2a3f5f",
             "gridcolor": "white",
             "linecolor": "white",
             "minorgridcolor": "white",
             "startlinecolor": "#2a3f5f"
            },
            "type": "carpet"
           }
          ],
          "choropleth": [
           {
            "colorbar": {
             "outlinewidth": 0,
             "ticks": ""
            },
            "type": "choropleth"
           }
          ],
          "contour": [
           {
            "colorbar": {
             "outlinewidth": 0,
             "ticks": ""
            },
            "colorscale": [
             [
              0,
              "#0d0887"
             ],
             [
              0.1111111111111111,
              "#46039f"
             ],
             [
              0.2222222222222222,
              "#7201a8"
             ],
             [
              0.3333333333333333,
              "#9c179e"
             ],
             [
              0.4444444444444444,
              "#bd3786"
             ],
             [
              0.5555555555555556,
              "#d8576b"
             ],
             [
              0.6666666666666666,
              "#ed7953"
             ],
             [
              0.7777777777777778,
              "#fb9f3a"
             ],
             [
              0.8888888888888888,
              "#fdca26"
             ],
             [
              1,
              "#f0f921"
             ]
            ],
            "type": "contour"
           }
          ],
          "contourcarpet": [
           {
            "colorbar": {
             "outlinewidth": 0,
             "ticks": ""
            },
            "type": "contourcarpet"
           }
          ],
          "heatmap": [
           {
            "colorbar": {
             "outlinewidth": 0,
             "ticks": ""
            },
            "colorscale": [
             [
              0,
              "#0d0887"
             ],
             [
              0.1111111111111111,
              "#46039f"
             ],
             [
              0.2222222222222222,
              "#7201a8"
             ],
             [
              0.3333333333333333,
              "#9c179e"
             ],
             [
              0.4444444444444444,
              "#bd3786"
             ],
             [
              0.5555555555555556,
              "#d8576b"
             ],
             [
              0.6666666666666666,
              "#ed7953"
             ],
             [
              0.7777777777777778,
              "#fb9f3a"
             ],
             [
              0.8888888888888888,
              "#fdca26"
             ],
             [
              1,
              "#f0f921"
             ]
            ],
            "type": "heatmap"
           }
          ],
          "heatmapgl": [
           {
            "colorbar": {
             "outlinewidth": 0,
             "ticks": ""
            },
            "colorscale": [
             [
              0,
              "#0d0887"
             ],
             [
              0.1111111111111111,
              "#46039f"
             ],
             [
              0.2222222222222222,
              "#7201a8"
             ],
             [
              0.3333333333333333,
              "#9c179e"
             ],
             [
              0.4444444444444444,
              "#bd3786"
             ],
             [
              0.5555555555555556,
              "#d8576b"
             ],
             [
              0.6666666666666666,
              "#ed7953"
             ],
             [
              0.7777777777777778,
              "#fb9f3a"
             ],
             [
              0.8888888888888888,
              "#fdca26"
             ],
             [
              1,
              "#f0f921"
             ]
            ],
            "type": "heatmapgl"
           }
          ],
          "histogram": [
           {
            "marker": {
             "colorbar": {
              "outlinewidth": 0,
              "ticks": ""
             }
            },
            "type": "histogram"
           }
          ],
          "histogram2d": [
           {
            "colorbar": {
             "outlinewidth": 0,
             "ticks": ""
            },
            "colorscale": [
             [
              0,
              "#0d0887"
             ],
             [
              0.1111111111111111,
              "#46039f"
             ],
             [
              0.2222222222222222,
              "#7201a8"
             ],
             [
              0.3333333333333333,
              "#9c179e"
             ],
             [
              0.4444444444444444,
              "#bd3786"
             ],
             [
              0.5555555555555556,
              "#d8576b"
             ],
             [
              0.6666666666666666,
              "#ed7953"
             ],
             [
              0.7777777777777778,
              "#fb9f3a"
             ],
             [
              0.8888888888888888,
              "#fdca26"
             ],
             [
              1,
              "#f0f921"
             ]
            ],
            "type": "histogram2d"
           }
          ],
          "histogram2dcontour": [
           {
            "colorbar": {
             "outlinewidth": 0,
             "ticks": ""
            },
            "colorscale": [
             [
              0,
              "#0d0887"
             ],
             [
              0.1111111111111111,
              "#46039f"
             ],
             [
              0.2222222222222222,
              "#7201a8"
             ],
             [
              0.3333333333333333,
              "#9c179e"
             ],
             [
              0.4444444444444444,
              "#bd3786"
             ],
             [
              0.5555555555555556,
              "#d8576b"
             ],
             [
              0.6666666666666666,
              "#ed7953"
             ],
             [
              0.7777777777777778,
              "#fb9f3a"
             ],
             [
              0.8888888888888888,
              "#fdca26"
             ],
             [
              1,
              "#f0f921"
             ]
            ],
            "type": "histogram2dcontour"
           }
          ],
          "mesh3d": [
           {
            "colorbar": {
             "outlinewidth": 0,
             "ticks": ""
            },
            "type": "mesh3d"
           }
          ],
          "parcoords": [
           {
            "line": {
             "colorbar": {
              "outlinewidth": 0,
              "ticks": ""
             }
            },
            "type": "parcoords"
           }
          ],
          "scatter": [
           {
            "marker": {
             "colorbar": {
              "outlinewidth": 0,
              "ticks": ""
             }
            },
            "type": "scatter"
           }
          ],
          "scatter3d": [
           {
            "line": {
             "colorbar": {
              "outlinewidth": 0,
              "ticks": ""
             }
            },
            "marker": {
             "colorbar": {
              "outlinewidth": 0,
              "ticks": ""
             }
            },
            "type": "scatter3d"
           }
          ],
          "scattercarpet": [
           {
            "marker": {
             "colorbar": {
              "outlinewidth": 0,
              "ticks": ""
             }
            },
            "type": "scattercarpet"
           }
          ],
          "scattergeo": [
           {
            "marker": {
             "colorbar": {
              "outlinewidth": 0,
              "ticks": ""
             }
            },
            "type": "scattergeo"
           }
          ],
          "scattergl": [
           {
            "marker": {
             "colorbar": {
              "outlinewidth": 0,
              "ticks": ""
             }
            },
            "type": "scattergl"
           }
          ],
          "scattermapbox": [
           {
            "marker": {
             "colorbar": {
              "outlinewidth": 0,
              "ticks": ""
             }
            },
            "type": "scattermapbox"
           }
          ],
          "scatterpolar": [
           {
            "marker": {
             "colorbar": {
              "outlinewidth": 0,
              "ticks": ""
             }
            },
            "type": "scatterpolar"
           }
          ],
          "scatterpolargl": [
           {
            "marker": {
             "colorbar": {
              "outlinewidth": 0,
              "ticks": ""
             }
            },
            "type": "scatterpolargl"
           }
          ],
          "scatterternary": [
           {
            "marker": {
             "colorbar": {
              "outlinewidth": 0,
              "ticks": ""
             }
            },
            "type": "scatterternary"
           }
          ],
          "surface": [
           {
            "colorbar": {
             "outlinewidth": 0,
             "ticks": ""
            },
            "colorscale": [
             [
              0,
              "#0d0887"
             ],
             [
              0.1111111111111111,
              "#46039f"
             ],
             [
              0.2222222222222222,
              "#7201a8"
             ],
             [
              0.3333333333333333,
              "#9c179e"
             ],
             [
              0.4444444444444444,
              "#bd3786"
             ],
             [
              0.5555555555555556,
              "#d8576b"
             ],
             [
              0.6666666666666666,
              "#ed7953"
             ],
             [
              0.7777777777777778,
              "#fb9f3a"
             ],
             [
              0.8888888888888888,
              "#fdca26"
             ],
             [
              1,
              "#f0f921"
             ]
            ],
            "type": "surface"
           }
          ],
          "table": [
           {
            "cells": {
             "fill": {
              "color": "#EBF0F8"
             },
             "line": {
              "color": "white"
             }
            },
            "header": {
             "fill": {
              "color": "#C8D4E3"
             },
             "line": {
              "color": "white"
             }
            },
            "type": "table"
           }
          ]
         },
         "layout": {
          "annotationdefaults": {
           "arrowcolor": "#2a3f5f",
           "arrowhead": 0,
           "arrowwidth": 1
          },
          "colorscale": {
           "diverging": [
            [
             0,
             "#8e0152"
            ],
            [
             0.1,
             "#c51b7d"
            ],
            [
             0.2,
             "#de77ae"
            ],
            [
             0.3,
             "#f1b6da"
            ],
            [
             0.4,
             "#fde0ef"
            ],
            [
             0.5,
             "#f7f7f7"
            ],
            [
             0.6,
             "#e6f5d0"
            ],
            [
             0.7,
             "#b8e186"
            ],
            [
             0.8,
             "#7fbc41"
            ],
            [
             0.9,
             "#4d9221"
            ],
            [
             1,
             "#276419"
            ]
           ],
           "sequential": [
            [
             0,
             "#0d0887"
            ],
            [
             0.1111111111111111,
             "#46039f"
            ],
            [
             0.2222222222222222,
             "#7201a8"
            ],
            [
             0.3333333333333333,
             "#9c179e"
            ],
            [
             0.4444444444444444,
             "#bd3786"
            ],
            [
             0.5555555555555556,
             "#d8576b"
            ],
            [
             0.6666666666666666,
             "#ed7953"
            ],
            [
             0.7777777777777778,
             "#fb9f3a"
            ],
            [
             0.8888888888888888,
             "#fdca26"
            ],
            [
             1,
             "#f0f921"
            ]
           ],
           "sequentialminus": [
            [
             0,
             "#0d0887"
            ],
            [
             0.1111111111111111,
             "#46039f"
            ],
            [
             0.2222222222222222,
             "#7201a8"
            ],
            [
             0.3333333333333333,
             "#9c179e"
            ],
            [
             0.4444444444444444,
             "#bd3786"
            ],
            [
             0.5555555555555556,
             "#d8576b"
            ],
            [
             0.6666666666666666,
             "#ed7953"
            ],
            [
             0.7777777777777778,
             "#fb9f3a"
            ],
            [
             0.8888888888888888,
             "#fdca26"
            ],
            [
             1,
             "#f0f921"
            ]
           ]
          },
          "colorway": [
           "#636efa",
           "#EF553B",
           "#00cc96",
           "#ab63fa",
           "#FFA15A",
           "#19d3f3",
           "#FF6692",
           "#B6E880",
           "#FF97FF",
           "#FECB52"
          ],
          "font": {
           "color": "#2a3f5f"
          },
          "geo": {
           "bgcolor": "white",
           "lakecolor": "white",
           "landcolor": "#E5ECF6",
           "showlakes": true,
           "showland": true,
           "subunitcolor": "white"
          },
          "hoverlabel": {
           "align": "left"
          },
          "hovermode": "closest",
          "mapbox": {
           "style": "light"
          },
          "paper_bgcolor": "white",
          "plot_bgcolor": "#E5ECF6",
          "polar": {
           "angularaxis": {
            "gridcolor": "white",
            "linecolor": "white",
            "ticks": ""
           },
           "bgcolor": "#E5ECF6",
           "radialaxis": {
            "gridcolor": "white",
            "linecolor": "white",
            "ticks": ""
           }
          },
          "scene": {
           "xaxis": {
            "backgroundcolor": "#E5ECF6",
            "gridcolor": "white",
            "gridwidth": 2,
            "linecolor": "white",
            "showbackground": true,
            "ticks": "",
            "zerolinecolor": "white"
           },
           "yaxis": {
            "backgroundcolor": "#E5ECF6",
            "gridcolor": "white",
            "gridwidth": 2,
            "linecolor": "white",
            "showbackground": true,
            "ticks": "",
            "zerolinecolor": "white"
           },
           "zaxis": {
            "backgroundcolor": "#E5ECF6",
            "gridcolor": "white",
            "gridwidth": 2,
            "linecolor": "white",
            "showbackground": true,
            "ticks": "",
            "zerolinecolor": "white"
           }
          },
          "shapedefaults": {
           "line": {
            "color": "#2a3f5f"
           }
          },
          "ternary": {
           "aaxis": {
            "gridcolor": "white",
            "linecolor": "white",
            "ticks": ""
           },
           "baxis": {
            "gridcolor": "white",
            "linecolor": "white",
            "ticks": ""
           },
           "bgcolor": "#E5ECF6",
           "caxis": {
            "gridcolor": "white",
            "linecolor": "white",
            "ticks": ""
           }
          },
          "title": {
           "x": 0.05
          },
          "xaxis": {
           "automargin": true,
           "gridcolor": "white",
           "linecolor": "white",
           "ticks": "",
           "zerolinecolor": "white",
           "zerolinewidth": 2
          },
          "yaxis": {
           "automargin": true,
           "gridcolor": "white",
           "linecolor": "white",
           "ticks": "",
           "zerolinecolor": "white",
           "zerolinewidth": 2
          }
         }
        }
       }
      },
      "text/html": [
       "<div>\n",
       "        \n",
       "        \n",
       "            <div id=\"08842d6c-8398-46ee-9ba9-f7027f92e5a2\" class=\"plotly-graph-div\" style=\"height:525px; width:100%;\"></div>\n",
       "            <script type=\"text/javascript\">\n",
       "                require([\"plotly\"], function(Plotly) {\n",
       "                    window.PLOTLYENV=window.PLOTLYENV || {};\n",
       "                    \n",
       "                if (document.getElementById(\"08842d6c-8398-46ee-9ba9-f7027f92e5a2\")) {\n",
       "                    Plotly.newPlot(\n",
       "                        '08842d6c-8398-46ee-9ba9-f7027f92e5a2',\n",
       "                        [{\"type\": \"heatmap\", \"x\": [\"Black\", \"Black\", \"Black\", \"Black\", \"Black\", \"Black\", \"Black\", \"Black\", \"Black\", \"Blue\", \"Blue\", \"Blue\", \"Blue\", \"Blue\", \"Blue\", \"Blue\", \"Blue\", \"Blue\", \"Brown\", \"Brown\", \"Brown\", \"Brown\", \"Brown\", \"Brown\", \"Cream\", \"Cream\", \"Dark Blue\", \"Dark Blue\", \"Gold\", \"Gold\", \"Gold\", \"Gold\", \"Gray\", \"Gray\", \"Gray\", \"Gray\", \"Gray\", \"Multi\", \"Pink\", \"Purple\", \"Purple\", \"Red\", \"Red\", \"Red\", \"Tan\", \"Tan\", \"Tan\", \"Tan\", \"Taupe\", \"Taupe\", \"White\", \"White\", \"White\", \"White\"], \"y\": [1276, 1246, 1005, 798, 730, 116, 111, 35, 11, 828, 770, 727, 679, 597, 444, 297, 107, 7, 73, 23, 21, 11, 5, 1, 3, 1, 2, 1, 13, 3, 2, 1, 7, 4, 3, 2, 1, 1, 2, 2, 2, 4, 3, 1, 4, 1, 1, 1, 2, 1, 4, 3, 3, 2], \"z\": [[1, 20, 30, 50, 1], [20, 1, 60, 80, 30], [30, 60, 1, -10, 20]]}],\n",
       "                        {\"template\": {\"data\": {\"bar\": [{\"error_x\": {\"color\": \"#2a3f5f\"}, \"error_y\": {\"color\": \"#2a3f5f\"}, \"marker\": {\"line\": {\"color\": \"#E5ECF6\", \"width\": 0.5}}, \"type\": \"bar\"}], \"barpolar\": [{\"marker\": {\"line\": {\"color\": \"#E5ECF6\", \"width\": 0.5}}, \"type\": \"barpolar\"}], \"carpet\": [{\"aaxis\": {\"endlinecolor\": \"#2a3f5f\", \"gridcolor\": \"white\", \"linecolor\": \"white\", \"minorgridcolor\": \"white\", \"startlinecolor\": \"#2a3f5f\"}, \"baxis\": {\"endlinecolor\": \"#2a3f5f\", \"gridcolor\": \"white\", \"linecolor\": \"white\", \"minorgridcolor\": \"white\", \"startlinecolor\": \"#2a3f5f\"}, \"type\": \"carpet\"}], \"choropleth\": [{\"colorbar\": {\"outlinewidth\": 0, \"ticks\": \"\"}, \"type\": \"choropleth\"}], \"contour\": [{\"colorbar\": {\"outlinewidth\": 0, \"ticks\": \"\"}, \"colorscale\": [[0.0, \"#0d0887\"], [0.1111111111111111, \"#46039f\"], [0.2222222222222222, \"#7201a8\"], [0.3333333333333333, \"#9c179e\"], [0.4444444444444444, \"#bd3786\"], [0.5555555555555556, \"#d8576b\"], [0.6666666666666666, \"#ed7953\"], [0.7777777777777778, \"#fb9f3a\"], [0.8888888888888888, \"#fdca26\"], [1.0, \"#f0f921\"]], \"type\": \"contour\"}], \"contourcarpet\": [{\"colorbar\": {\"outlinewidth\": 0, \"ticks\": \"\"}, \"type\": \"contourcarpet\"}], \"heatmap\": [{\"colorbar\": {\"outlinewidth\": 0, \"ticks\": \"\"}, \"colorscale\": [[0.0, \"#0d0887\"], [0.1111111111111111, \"#46039f\"], [0.2222222222222222, \"#7201a8\"], [0.3333333333333333, \"#9c179e\"], [0.4444444444444444, \"#bd3786\"], [0.5555555555555556, \"#d8576b\"], [0.6666666666666666, \"#ed7953\"], [0.7777777777777778, \"#fb9f3a\"], [0.8888888888888888, \"#fdca26\"], [1.0, \"#f0f921\"]], \"type\": \"heatmap\"}], \"heatmapgl\": [{\"colorbar\": {\"outlinewidth\": 0, \"ticks\": \"\"}, \"colorscale\": [[0.0, \"#0d0887\"], [0.1111111111111111, \"#46039f\"], [0.2222222222222222, \"#7201a8\"], [0.3333333333333333, \"#9c179e\"], [0.4444444444444444, \"#bd3786\"], [0.5555555555555556, \"#d8576b\"], [0.6666666666666666, \"#ed7953\"], [0.7777777777777778, \"#fb9f3a\"], [0.8888888888888888, \"#fdca26\"], [1.0, \"#f0f921\"]], \"type\": \"heatmapgl\"}], \"histogram\": [{\"marker\": {\"colorbar\": {\"outlinewidth\": 0, \"ticks\": \"\"}}, \"type\": \"histogram\"}], \"histogram2d\": [{\"colorbar\": {\"outlinewidth\": 0, \"ticks\": \"\"}, \"colorscale\": [[0.0, \"#0d0887\"], [0.1111111111111111, \"#46039f\"], [0.2222222222222222, \"#7201a8\"], [0.3333333333333333, \"#9c179e\"], [0.4444444444444444, \"#bd3786\"], [0.5555555555555556, \"#d8576b\"], [0.6666666666666666, \"#ed7953\"], [0.7777777777777778, \"#fb9f3a\"], [0.8888888888888888, \"#fdca26\"], [1.0, \"#f0f921\"]], \"type\": \"histogram2d\"}], \"histogram2dcontour\": [{\"colorbar\": {\"outlinewidth\": 0, \"ticks\": \"\"}, \"colorscale\": [[0.0, \"#0d0887\"], [0.1111111111111111, \"#46039f\"], [0.2222222222222222, \"#7201a8\"], [0.3333333333333333, \"#9c179e\"], [0.4444444444444444, \"#bd3786\"], [0.5555555555555556, \"#d8576b\"], [0.6666666666666666, \"#ed7953\"], [0.7777777777777778, \"#fb9f3a\"], [0.8888888888888888, \"#fdca26\"], [1.0, \"#f0f921\"]], \"type\": \"histogram2dcontour\"}], \"mesh3d\": [{\"colorbar\": {\"outlinewidth\": 0, \"ticks\": \"\"}, \"type\": \"mesh3d\"}], \"parcoords\": [{\"line\": {\"colorbar\": {\"outlinewidth\": 0, \"ticks\": \"\"}}, \"type\": \"parcoords\"}], \"scatter\": [{\"marker\": {\"colorbar\": {\"outlinewidth\": 0, \"ticks\": \"\"}}, \"type\": \"scatter\"}], \"scatter3d\": [{\"line\": {\"colorbar\": {\"outlinewidth\": 0, \"ticks\": \"\"}}, \"marker\": {\"colorbar\": {\"outlinewidth\": 0, \"ticks\": \"\"}}, \"type\": \"scatter3d\"}], \"scattercarpet\": [{\"marker\": {\"colorbar\": {\"outlinewidth\": 0, \"ticks\": \"\"}}, \"type\": \"scattercarpet\"}], \"scattergeo\": [{\"marker\": {\"colorbar\": {\"outlinewidth\": 0, \"ticks\": \"\"}}, \"type\": \"scattergeo\"}], \"scattergl\": [{\"marker\": {\"colorbar\": {\"outlinewidth\": 0, \"ticks\": \"\"}}, \"type\": \"scattergl\"}], \"scattermapbox\": [{\"marker\": {\"colorbar\": {\"outlinewidth\": 0, \"ticks\": \"\"}}, \"type\": \"scattermapbox\"}], \"scatterpolar\": [{\"marker\": {\"colorbar\": {\"outlinewidth\": 0, \"ticks\": \"\"}}, \"type\": \"scatterpolar\"}], \"scatterpolargl\": [{\"marker\": {\"colorbar\": {\"outlinewidth\": 0, \"ticks\": \"\"}}, \"type\": \"scatterpolargl\"}], \"scatterternary\": [{\"marker\": {\"colorbar\": {\"outlinewidth\": 0, \"ticks\": \"\"}}, \"type\": \"scatterternary\"}], \"surface\": [{\"colorbar\": {\"outlinewidth\": 0, \"ticks\": \"\"}, \"colorscale\": [[0.0, \"#0d0887\"], [0.1111111111111111, \"#46039f\"], [0.2222222222222222, \"#7201a8\"], [0.3333333333333333, \"#9c179e\"], [0.4444444444444444, \"#bd3786\"], [0.5555555555555556, \"#d8576b\"], [0.6666666666666666, \"#ed7953\"], [0.7777777777777778, \"#fb9f3a\"], [0.8888888888888888, \"#fdca26\"], [1.0, \"#f0f921\"]], \"type\": \"surface\"}], \"table\": [{\"cells\": {\"fill\": {\"color\": \"#EBF0F8\"}, \"line\": {\"color\": \"white\"}}, \"header\": {\"fill\": {\"color\": \"#C8D4E3\"}, \"line\": {\"color\": \"white\"}}, \"type\": \"table\"}]}, \"layout\": {\"annotationdefaults\": {\"arrowcolor\": \"#2a3f5f\", \"arrowhead\": 0, \"arrowwidth\": 1}, \"colorscale\": {\"diverging\": [[0, \"#8e0152\"], [0.1, \"#c51b7d\"], [0.2, \"#de77ae\"], [0.3, \"#f1b6da\"], [0.4, \"#fde0ef\"], [0.5, \"#f7f7f7\"], [0.6, \"#e6f5d0\"], [0.7, \"#b8e186\"], [0.8, \"#7fbc41\"], [0.9, \"#4d9221\"], [1, \"#276419\"]], \"sequential\": [[0.0, \"#0d0887\"], [0.1111111111111111, \"#46039f\"], [0.2222222222222222, \"#7201a8\"], [0.3333333333333333, \"#9c179e\"], [0.4444444444444444, \"#bd3786\"], [0.5555555555555556, \"#d8576b\"], [0.6666666666666666, \"#ed7953\"], [0.7777777777777778, \"#fb9f3a\"], [0.8888888888888888, \"#fdca26\"], [1.0, \"#f0f921\"]], \"sequentialminus\": [[0.0, \"#0d0887\"], [0.1111111111111111, \"#46039f\"], [0.2222222222222222, \"#7201a8\"], [0.3333333333333333, \"#9c179e\"], [0.4444444444444444, \"#bd3786\"], [0.5555555555555556, \"#d8576b\"], [0.6666666666666666, \"#ed7953\"], [0.7777777777777778, \"#fb9f3a\"], [0.8888888888888888, \"#fdca26\"], [1.0, \"#f0f921\"]]}, \"colorway\": [\"#636efa\", \"#EF553B\", \"#00cc96\", \"#ab63fa\", \"#FFA15A\", \"#19d3f3\", \"#FF6692\", \"#B6E880\", \"#FF97FF\", \"#FECB52\"], \"font\": {\"color\": \"#2a3f5f\"}, \"geo\": {\"bgcolor\": \"white\", \"lakecolor\": \"white\", \"landcolor\": \"#E5ECF6\", \"showlakes\": true, \"showland\": true, \"subunitcolor\": \"white\"}, \"hoverlabel\": {\"align\": \"left\"}, \"hovermode\": \"closest\", \"mapbox\": {\"style\": \"light\"}, \"paper_bgcolor\": \"white\", \"plot_bgcolor\": \"#E5ECF6\", \"polar\": {\"angularaxis\": {\"gridcolor\": \"white\", \"linecolor\": \"white\", \"ticks\": \"\"}, \"bgcolor\": \"#E5ECF6\", \"radialaxis\": {\"gridcolor\": \"white\", \"linecolor\": \"white\", \"ticks\": \"\"}}, \"scene\": {\"xaxis\": {\"backgroundcolor\": \"#E5ECF6\", \"gridcolor\": \"white\", \"gridwidth\": 2, \"linecolor\": \"white\", \"showbackground\": true, \"ticks\": \"\", \"zerolinecolor\": \"white\"}, \"yaxis\": {\"backgroundcolor\": \"#E5ECF6\", \"gridcolor\": \"white\", \"gridwidth\": 2, \"linecolor\": \"white\", \"showbackground\": true, \"ticks\": \"\", \"zerolinecolor\": \"white\"}, \"zaxis\": {\"backgroundcolor\": \"#E5ECF6\", \"gridcolor\": \"white\", \"gridwidth\": 2, \"linecolor\": \"white\", \"showbackground\": true, \"ticks\": \"\", \"zerolinecolor\": \"white\"}}, \"shapedefaults\": {\"line\": {\"color\": \"#2a3f5f\"}}, \"ternary\": {\"aaxis\": {\"gridcolor\": \"white\", \"linecolor\": \"white\", \"ticks\": \"\"}, \"baxis\": {\"gridcolor\": \"white\", \"linecolor\": \"white\", \"ticks\": \"\"}, \"bgcolor\": \"#E5ECF6\", \"caxis\": {\"gridcolor\": \"white\", \"linecolor\": \"white\", \"ticks\": \"\"}}, \"title\": {\"x\": 0.05}, \"xaxis\": {\"automargin\": true, \"gridcolor\": \"white\", \"linecolor\": \"white\", \"ticks\": \"\", \"zerolinecolor\": \"white\", \"zerolinewidth\": 2}, \"yaxis\": {\"automargin\": true, \"gridcolor\": \"white\", \"linecolor\": \"white\", \"ticks\": \"\", \"zerolinecolor\": \"white\", \"zerolinewidth\": 2}}}},\n",
       "                        {\"responsive\": true}\n",
       "                    ).then(function(){\n",
       "                            \n",
       "var gd = document.getElementById('08842d6c-8398-46ee-9ba9-f7027f92e5a2');\n",
       "var x = new MutationObserver(function (mutations, observer) {{\n",
       "        var display = window.getComputedStyle(gd).display;\n",
       "        if (!display || display === 'none') {{\n",
       "            console.log([gd, 'removed!']);\n",
       "            Plotly.purge(gd);\n",
       "            observer.disconnect();\n",
       "        }}\n",
       "}});\n",
       "\n",
       "// Listen for the removal of the full notebook cells\n",
       "var notebookContainer = gd.closest('#notebook-container');\n",
       "if (notebookContainer) {{\n",
       "    x.observe(notebookContainer, {childList: true});\n",
       "}}\n",
       "\n",
       "// Listen for the clearing of the current output cell\n",
       "var outputEl = gd.closest('.output');\n",
       "if (outputEl) {{\n",
       "    x.observe(outputEl, {childList: true});\n",
       "}}\n",
       "\n",
       "                        })\n",
       "                };\n",
       "                });\n",
       "            </script>\n",
       "        </div>"
      ]
     },
     "metadata": {},
     "output_type": "display_data"
    }
   ],
   "source": [
    "import plotly.graph_objects as go\n",
    "\n",
    "fig = go.Figure(data=go.Heatmap(\n",
    "                   z=[[1, 20, 30, 50, 1], [20, 1, 60, 80, 30], [30, 60, 1, -10, 20]],\n",
    "                   x=type19_df[\"Color\"],\n",
    "                   y=type19_df[\"Count\"]))\n",
    "fig.show()"
   ]
  },
  {
   "cell_type": "code",
   "execution_count": null,
   "metadata": {},
   "outputs": [],
   "source": [
    "fig, ax = plt.subplots(figsize=(10,4))\n",
    "for key, grp in typebycolor19_df.groupby(['ticker']):\n",
    "    ax.plot(grp['Date'], grp['adj_close'], label=key)\n",
    "\n",
    "ax.legend()\n",
    "plt.show()"
   ]
  },
  {
   "cell_type": "code",
   "execution_count": 91,
   "metadata": {},
   "outputs": [
    {
     "data": {
      "text/plain": [
       "Type\n",
       "Athletic Shoes    104.423435\n",
       "Ballet Flats       39.226250\n",
       "Boat Shoes         90.793333\n",
       "Booties            73.281350\n",
       "Boots              78.227232\n",
       "Flats              73.227358\n",
       "Heels              59.701068\n",
       "Sandals            64.084960\n",
       "Sneakers           79.166086\n",
       "Name: Prices, dtype: float64"
      ]
     },
     "execution_count": 91,
     "metadata": {},
     "output_type": "execute_result"
    }
   ],
   "source": [
    "avgpricesbytype19_df = spring19_df.groupby(\"Type\")[\"Prices\"].mean()\n",
    "avgpricesbytype19_df"
   ]
  },
  {
   "cell_type": "code",
   "execution_count": 114,
   "metadata": {},
   "outputs": [
    {
     "data": {
      "text/plain": [
       "Boots             2088\n",
       "Flats             2074\n",
       "Sandals           1643\n",
       "Heels             1545\n",
       "Booties           1511\n",
       "Athletic Shoes     556\n",
       "Sneakers           419\n",
       "Ballet Flats       144\n",
       "Boat Shoes          18\n",
       "Name: Type, dtype: int64"
      ]
     },
     "execution_count": 114,
     "metadata": {},
     "output_type": "execute_result"
    }
   ],
   "source": [
    "typecount19 = spring19_df[\"Type\"].value_counts()\n",
    "typecount19\n",
    "\n",
    "#types19 = spring19_df[\"Type\"].unique()\n",
    "#types19"
   ]
  },
  {
   "cell_type": "code",
   "execution_count": 140,
   "metadata": {},
   "outputs": [
    {
     "data": {
      "text/html": [
       "<div>\n",
       "<style scoped>\n",
       "    .dataframe tbody tr th:only-of-type {\n",
       "        vertical-align: middle;\n",
       "    }\n",
       "\n",
       "    .dataframe tbody tr th {\n",
       "        vertical-align: top;\n",
       "    }\n",
       "\n",
       "    .dataframe thead th {\n",
       "        text-align: right;\n",
       "    }\n",
       "</style>\n",
       "<table border=\"1\" class=\"dataframe\">\n",
       "  <thead>\n",
       "    <tr style=\"text-align: right;\">\n",
       "      <th></th>\n",
       "      <th>Date</th>\n",
       "      <th>Brand</th>\n",
       "      <th>Color</th>\n",
       "      <th>Type</th>\n",
       "      <th>name</th>\n",
       "      <th>Prices</th>\n",
       "      <th>Currency</th>\n",
       "      <th>Merchant</th>\n",
       "    </tr>\n",
       "  </thead>\n",
       "  <tbody>\n",
       "    <tr>\n",
       "      <th>0</th>\n",
       "      <td>5/1/19</td>\n",
       "      <td>City Classified</td>\n",
       "      <td>Black</td>\n",
       "      <td>Booties</td>\n",
       "      <td>City Classified Stylish-S Women's Zipper Ankle...</td>\n",
       "      <td>29.95</td>\n",
       "      <td>USD</td>\n",
       "      <td>Walmart</td>\n",
       "    </tr>\n",
       "    <tr>\n",
       "      <th>1</th>\n",
       "      <td>5/1/19</td>\n",
       "      <td>Skechers</td>\n",
       "      <td>Taupe</td>\n",
       "      <td>Athletic Shoes</td>\n",
       "      <td>Skechers Women'S You Radiate, Walking</td>\n",
       "      <td>84.00</td>\n",
       "      <td>USD</td>\n",
       "      <td>Walmart</td>\n",
       "    </tr>\n",
       "    <tr>\n",
       "      <th>2</th>\n",
       "      <td>5/1/19</td>\n",
       "      <td>Floral</td>\n",
       "      <td>Black</td>\n",
       "      <td>Heels</td>\n",
       "      <td>FLORAL Pearl Women's Wide Width Evening Dress ...</td>\n",
       "      <td>49.95</td>\n",
       "      <td>USD</td>\n",
       "      <td>Walmart</td>\n",
       "    </tr>\n",
       "    <tr>\n",
       "      <th>3</th>\n",
       "      <td>5/1/19</td>\n",
       "      <td>Jambu</td>\n",
       "      <td>Black</td>\n",
       "      <td>Booties</td>\n",
       "      <td>Women's Jambu Amal Water Resistant Bootie</td>\n",
       "      <td>127.20</td>\n",
       "      <td>USD</td>\n",
       "      <td>Walmart</td>\n",
       "    </tr>\n",
       "    <tr>\n",
       "      <th>4</th>\n",
       "      <td>5/1/19</td>\n",
       "      <td>Trotters</td>\n",
       "      <td>White</td>\n",
       "      <td>Boots</td>\n",
       "      <td>trotters women's blast iii boot,black quill,11...</td>\n",
       "      <td>47.66</td>\n",
       "      <td>USD</td>\n",
       "      <td>Walmart</td>\n",
       "    </tr>\n",
       "  </tbody>\n",
       "</table>\n",
       "</div>"
      ],
      "text/plain": [
       "     Date            Brand  Color            Type  \\\n",
       "0  5/1/19  City Classified  Black         Booties   \n",
       "1  5/1/19         Skechers  Taupe  Athletic Shoes   \n",
       "2  5/1/19           Floral  Black           Heels   \n",
       "3  5/1/19            Jambu  Black         Booties   \n",
       "4  5/1/19         Trotters  White           Boots   \n",
       "\n",
       "                                                name  Prices Currency Merchant  \n",
       "0  City Classified Stylish-S Women's Zipper Ankle...   29.95      USD  Walmart  \n",
       "1              Skechers Women'S You Radiate, Walking   84.00      USD  Walmart  \n",
       "2  FLORAL Pearl Women's Wide Width Evening Dress ...   49.95      USD  Walmart  \n",
       "3          Women's Jambu Amal Water Resistant Bootie  127.20      USD  Walmart  \n",
       "4  trotters women's blast iii boot,black quill,11...   47.66      USD  Walmart  "
      ]
     },
     "execution_count": 140,
     "metadata": {},
     "output_type": "execute_result"
    }
   ],
   "source": [
    "spring19_df.head()"
   ]
  },
  {
   "cell_type": "code",
   "execution_count": 142,
   "metadata": {},
   "outputs": [
    {
     "data": {
      "text/plain": [
       "[556, 144, 18, 1511, 2088, 2074, 1545, 1643, 419]"
      ]
     },
     "execution_count": 142,
     "metadata": {},
     "output_type": "execute_result"
    }
   ],
   "source": [
    "types_groupby = spring19_df.groupby(\"Type\")\n",
    "type19 = types_groupby.Type.first()\n",
    "type19 = type19.tolist()\n",
    "\n",
    "types_count19 = types_groupby.Type.value_counts()\n",
    "types_count19 = types_count19.tolist()\n",
    "types_count19"
   ]
  },
  {
   "cell_type": "code",
   "execution_count": 143,
   "metadata": {},
   "outputs": [
    {
     "data": {
      "image/png": "[encoded data removed]",
      "text/plain": [
       "<Figure size 432x288 with 1 Axes>"
      ]
     },
     "metadata": {
      "needs_background": "light"
     },
     "output_type": "display_data"
    }
   ],
   "source": [
    "plt.barh(type19, types_count19, label = \"Types19\",\n",
    "        color = \"skyblue\")\n",
    "plt.title(\"Types of Shoes for Spring 2019\")\n",
    "plt.xticks(rotation=45)\n",
    "plt.ylabel(\"Shoe Types\")\n",
    "plt.xlabel(\"Total Number of Sales\")\n",
    "plt.savefig('types19.png')\n",
    "plt.show()"
   ]
  },
  {
   "cell_type": "code",
   "execution_count": 93,
   "metadata": {},
   "outputs": [
    {
     "data": {
      "text/plain": [
       "array(['Walmart', 'Shoes.com', 'Barcodable', 'Overstock'], dtype=object)"
      ]
     },
     "execution_count": 93,
     "metadata": {},
     "output_type": "execute_result"
    }
   ],
   "source": [
    "merchantname19_df = spring19_df[\"Merchant\"].unique()\n",
    "merchantname19_df"
   ]
  },
  {
   "cell_type": "code",
   "execution_count": 73,
   "metadata": {},
   "outputs": [
    {
     "data": {
      "text/plain": [
       "Merchant\n",
       "Barcodable       149.22\n",
       "Overstock         95.99\n",
       "Shoes.com       1127.64\n",
       "Walmart       720609.89\n",
       "Name: Prices, dtype: float64"
      ]
     },
     "execution_count": 73,
     "metadata": {},
     "output_type": "execute_result"
    }
   ],
   "source": [
    "pricesbymerchant19_df = spring19_df.groupby(\"Merchant\")[\"Prices\"].sum()\n",
    "pricesbymerchant19_df"
   ]
  },
  {
   "cell_type": "code",
   "execution_count": 78,
   "metadata": {},
   "outputs": [],
   "source": [
    "totalmerchant19 = spring19_df[\"Merchant\"].value_counts()\n",
    "totalmerchant19\n",
    "\n",
    "merchants19 = spring19_df[\"Merchant\"].unique()"
   ]
  },
  {
   "cell_type": "code",
   "execution_count": 84,
   "metadata": {},
   "outputs": [
    {
     "data": {
      "image/png": "[encoded data removed]",
      "text/plain": [
       "<Figure size 432x288 with 1 Axes>"
      ]
     },
     "metadata": {
      "needs_background": "light"
     },
     "output_type": "display_data"
    }
   ],
   "source": [
    "plt.bar(merchants19, totalmerchant19, label = \"Merchants\",\n",
    "        color = \"skyblue\")\n",
    "plt.title(\"Merchants for A/W 2018\")\n",
    "plt.xlabel(\"Merchant Name\")\n",
    "plt.ylabel(\"Total Number of Sales\")\n",
    "plt.savefig('merchants19.png')\n",
    "plt.show()"
   ]
  },
  {
   "cell_type": "code",
   "execution_count": null,
   "metadata": {},
   "outputs": [],
   "source": []
  }
 ],
 "metadata": {
  "kernelspec": {
   "display_name": "Python 3",
   "language": "python",
   "name": "python3"
  },
  "language_info": {
   "codemirror_mode": {
    "name": "ipython",
    "version": 3
   },
   "file_extension": ".py",
   "mimetype": "text/x-python",
   "name": "python",
   "nbconvert_exporter": "python",
   "pygments_lexer": "ipython3",
   "version": "3.6.8"
  }
 },
 "nbformat": 4,
 "nbformat_minor": 2
}
