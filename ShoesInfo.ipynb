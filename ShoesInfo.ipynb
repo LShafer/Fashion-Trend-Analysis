{
 "cells": [
  {
   "cell_type": "code",
   "execution_count": 1,
   "metadata": {},
   "outputs": [],
   "source": [
    "# import dependencies\n",
    "%matplotlib inline\n",
    "import pandas as pd\n",
    "import matplotlib.pyplot as plt\n",
    "import numpy as np\n",
    "import os"
   ]
  },
  {
   "cell_type": "code",
   "execution_count": 2,
   "metadata": {},
   "outputs": [],
   "source": [
    "# location of the CSV file\n",
    "womens_csv = \"../Project1/Resources/2018_Womens_Shoes.csv\"\n",
    "#mens_csv = \"../Project1/Resources/mens_shoe_prices.csv\"\n",
    "spring19_womens_csv = \"../Project1/Resources/Spring19_women.csv\""
   ]
  },
  {
   "cell_type": "code",
   "execution_count": 3,
   "metadata": {},
   "outputs": [
    {
     "data": {
      "text/html": [
       "<div>\n",
       "<style scoped>\n",
       "    .dataframe tbody tr th:only-of-type {\n",
       "        vertical-align: middle;\n",
       "    }\n",
       "\n",
       "    .dataframe tbody tr th {\n",
       "        vertical-align: top;\n",
       "    }\n",
       "\n",
       "    .dataframe thead th {\n",
       "        text-align: right;\n",
       "    }\n",
       "</style>\n",
       "<table border=\"1\" class=\"dataframe\">\n",
       "  <thead>\n",
       "    <tr style=\"text-align: right;\">\n",
       "      <th></th>\n",
       "      <th>id</th>\n",
       "      <th>Date_Added</th>\n",
       "      <th>date_updated</th>\n",
       "      <th>brand</th>\n",
       "      <th>categories</th>\n",
       "      <th>primaryCategories</th>\n",
       "      <th>imageURLs</th>\n",
       "      <th>keys</th>\n",
       "      <th>manufacturer</th>\n",
       "      <th>manufacturerNumber</th>\n",
       "      <th>...</th>\n",
       "      <th>prices.dateAdded</th>\n",
       "      <th>prices.dateSeen</th>\n",
       "      <th>prices.isSale</th>\n",
       "      <th>prices.size</th>\n",
       "      <th>Merchant</th>\n",
       "      <th>prices.sourceURLs</th>\n",
       "      <th>sizes</th>\n",
       "      <th>sourceURLs</th>\n",
       "      <th>upc</th>\n",
       "      <th>weight</th>\n",
       "    </tr>\n",
       "  </thead>\n",
       "  <tbody>\n",
       "    <tr>\n",
       "      <th>0</th>\n",
       "      <td>AV_Ee528Hh53nbDR_0vY</td>\n",
       "      <td>11/16/17</td>\n",
       "      <td>2/11/18</td>\n",
       "      <td>2 lips too</td>\n",
       "      <td>Womens,Shoes,Pumps,Heels,2 Lips Too</td>\n",
       "      <td>Shoes</td>\n",
       "      <td>https://media.kohlsimg.com/is/image/kohls/2552...</td>\n",
       "      <td>2lipstootooellewomenshighheelsandals/84360578,...</td>\n",
       "      <td>NaN</td>\n",
       "      <td>NaN</td>\n",
       "      <td>...</td>\n",
       "      <td>2018-01-10T19:30:29Z</td>\n",
       "      <td>2018-01-09T13:35:00.000Z,2018-01-05T13:09:00.0...</td>\n",
       "      <td>False</td>\n",
       "      <td>9.5 MED</td>\n",
       "      <td>kohls</td>\n",
       "      <td>https://www.kohls.com/product/prd-2552591/2-li...</td>\n",
       "      <td>5.5 MED,6 MED,6.5 MED,7 MED,7.5 MED,8.5 MED,9 ...</td>\n",
       "      <td>https://www.kohls.com/product/prd-2552591/2-li...</td>\n",
       "      <td>887063591443,887063591146,887063590842,8870635...</td>\n",
       "      <td>NaN</td>\n",
       "    </tr>\n",
       "    <tr>\n",
       "      <th>1</th>\n",
       "      <td>AV_Ee528Hh53nbDR_0vY</td>\n",
       "      <td>11/16/17</td>\n",
       "      <td>2/11/18</td>\n",
       "      <td>2 lips too</td>\n",
       "      <td>Womens,Shoes,Pumps,Heels,2 Lips Too</td>\n",
       "      <td>Shoes</td>\n",
       "      <td>https://media.kohlsimg.com/is/image/kohls/2552...</td>\n",
       "      <td>2lipstootooellewomenshighheelsandals/84360578,...</td>\n",
       "      <td>NaN</td>\n",
       "      <td>NaN</td>\n",
       "      <td>...</td>\n",
       "      <td>2017-11-17T15:54:13Z</td>\n",
       "      <td>2017-11-03T07:19:00.000Z</td>\n",
       "      <td>False</td>\n",
       "      <td>5.5 MED</td>\n",
       "      <td>kohls</td>\n",
       "      <td>https://www.kohls.com/product/prd-2552591/2-li...</td>\n",
       "      <td>5.5 MED,6 MED,6.5 MED,7 MED,7.5 MED,8.5 MED,9 ...</td>\n",
       "      <td>https://www.kohls.com/product/prd-2552591/2-li...</td>\n",
       "      <td>887063591443,887063591146,887063590842,8870635...</td>\n",
       "      <td>NaN</td>\n",
       "    </tr>\n",
       "    <tr>\n",
       "      <th>2</th>\n",
       "      <td>AV_Ee528Hh53nbDR_0vY</td>\n",
       "      <td>11/16/17</td>\n",
       "      <td>2/11/18</td>\n",
       "      <td>2 lips too</td>\n",
       "      <td>Womens,Shoes,Pumps,Heels,2 Lips Too</td>\n",
       "      <td>Shoes</td>\n",
       "      <td>https://media.kohlsimg.com/is/image/kohls/2552...</td>\n",
       "      <td>2lipstootooellewomenshighheelsandals/84360578,...</td>\n",
       "      <td>NaN</td>\n",
       "      <td>NaN</td>\n",
       "      <td>...</td>\n",
       "      <td>2017-11-17T15:54:13Z</td>\n",
       "      <td>2017-11-03T07:19:00.000Z</td>\n",
       "      <td>False</td>\n",
       "      <td>9 MED</td>\n",
       "      <td>kohls</td>\n",
       "      <td>https://www.kohls.com/product/prd-2552591/2-li...</td>\n",
       "      <td>5.5 MED,6 MED,6.5 MED,7 MED,7.5 MED,8.5 MED,9 ...</td>\n",
       "      <td>https://www.kohls.com/product/prd-2552591/2-li...</td>\n",
       "      <td>887063591443,887063591146,887063590842,8870635...</td>\n",
       "      <td>NaN</td>\n",
       "    </tr>\n",
       "    <tr>\n",
       "      <th>3</th>\n",
       "      <td>AV_Ee528Hh53nbDR_0vY</td>\n",
       "      <td>11/16/17</td>\n",
       "      <td>2/11/18</td>\n",
       "      <td>2 lips too</td>\n",
       "      <td>Womens,Shoes,Pumps,Heels,2 Lips Too</td>\n",
       "      <td>Shoes</td>\n",
       "      <td>https://media.kohlsimg.com/is/image/kohls/2552...</td>\n",
       "      <td>2lipstootooellewomenshighheelsandals/84360578,...</td>\n",
       "      <td>NaN</td>\n",
       "      <td>NaN</td>\n",
       "      <td>...</td>\n",
       "      <td>2017-11-17T15:54:13Z</td>\n",
       "      <td>2017-11-03T07:19:00.000Z</td>\n",
       "      <td>False</td>\n",
       "      <td>7.5 MED</td>\n",
       "      <td>kohls</td>\n",
       "      <td>https://www.kohls.com/product/prd-2552591/2-li...</td>\n",
       "      <td>5.5 MED,6 MED,6.5 MED,7 MED,7.5 MED,8.5 MED,9 ...</td>\n",
       "      <td>https://www.kohls.com/product/prd-2552591/2-li...</td>\n",
       "      <td>887063591443,887063591146,887063590842,8870635...</td>\n",
       "      <td>NaN</td>\n",
       "    </tr>\n",
       "    <tr>\n",
       "      <th>4</th>\n",
       "      <td>AV_Ee528Hh53nbDR_0vY</td>\n",
       "      <td>11/16/17</td>\n",
       "      <td>2/11/18</td>\n",
       "      <td>2 lips too</td>\n",
       "      <td>Womens,Shoes,Pumps,Heels,2 Lips Too</td>\n",
       "      <td>Shoes</td>\n",
       "      <td>https://media.kohlsimg.com/is/image/kohls/2552...</td>\n",
       "      <td>2lipstootooellewomenshighheelsandals/84360578,...</td>\n",
       "      <td>NaN</td>\n",
       "      <td>NaN</td>\n",
       "      <td>...</td>\n",
       "      <td>2018-02-11T05:04:36Z</td>\n",
       "      <td>2018-01-16T16:06:00.000Z,2018-01-14T08:55:00.000Z</td>\n",
       "      <td>False</td>\n",
       "      <td>9 MED</td>\n",
       "      <td>kohls</td>\n",
       "      <td>https://www.kohls.com/product/prd-2552591/2-li...</td>\n",
       "      <td>5.5 MED,6 MED,6.5 MED,7 MED,7.5 MED,8.5 MED,9 ...</td>\n",
       "      <td>https://www.kohls.com/product/prd-2552591/2-li...</td>\n",
       "      <td>887063591443,887063591146,887063590842,8870635...</td>\n",
       "      <td>NaN</td>\n",
       "    </tr>\n",
       "  </tbody>\n",
       "</table>\n",
       "<p>5 rows × 28 columns</p>\n",
       "</div>"
      ],
      "text/plain": [
       "                     id Date_Added date_updated       brand  \\\n",
       "0  AV_Ee528Hh53nbDR_0vY   11/16/17      2/11/18  2 lips too   \n",
       "1  AV_Ee528Hh53nbDR_0vY   11/16/17      2/11/18  2 lips too   \n",
       "2  AV_Ee528Hh53nbDR_0vY   11/16/17      2/11/18  2 lips too   \n",
       "3  AV_Ee528Hh53nbDR_0vY   11/16/17      2/11/18  2 lips too   \n",
       "4  AV_Ee528Hh53nbDR_0vY   11/16/17      2/11/18  2 lips too   \n",
       "\n",
       "                            categories primaryCategories  \\\n",
       "0  Womens,Shoes,Pumps,Heels,2 Lips Too             Shoes   \n",
       "1  Womens,Shoes,Pumps,Heels,2 Lips Too             Shoes   \n",
       "2  Womens,Shoes,Pumps,Heels,2 Lips Too             Shoes   \n",
       "3  Womens,Shoes,Pumps,Heels,2 Lips Too             Shoes   \n",
       "4  Womens,Shoes,Pumps,Heels,2 Lips Too             Shoes   \n",
       "\n",
       "                                           imageURLs  \\\n",
       "0  https://media.kohlsimg.com/is/image/kohls/2552...   \n",
       "1  https://media.kohlsimg.com/is/image/kohls/2552...   \n",
       "2  https://media.kohlsimg.com/is/image/kohls/2552...   \n",
       "3  https://media.kohlsimg.com/is/image/kohls/2552...   \n",
       "4  https://media.kohlsimg.com/is/image/kohls/2552...   \n",
       "\n",
       "                                                keys manufacturer  \\\n",
       "0  2lipstootooellewomenshighheelsandals/84360578,...          NaN   \n",
       "1  2lipstootooellewomenshighheelsandals/84360578,...          NaN   \n",
       "2  2lipstootooellewomenshighheelsandals/84360578,...          NaN   \n",
       "3  2lipstootooellewomenshighheelsandals/84360578,...          NaN   \n",
       "4  2lipstootooellewomenshighheelsandals/84360578,...          NaN   \n",
       "\n",
       "  manufacturerNumber  ...      prices.dateAdded  \\\n",
       "0                NaN  ...  2018-01-10T19:30:29Z   \n",
       "1                NaN  ...  2017-11-17T15:54:13Z   \n",
       "2                NaN  ...  2017-11-17T15:54:13Z   \n",
       "3                NaN  ...  2017-11-17T15:54:13Z   \n",
       "4                NaN  ...  2018-02-11T05:04:36Z   \n",
       "\n",
       "                                     prices.dateSeen  prices.isSale  \\\n",
       "0  2018-01-09T13:35:00.000Z,2018-01-05T13:09:00.0...          False   \n",
       "1                           2017-11-03T07:19:00.000Z          False   \n",
       "2                           2017-11-03T07:19:00.000Z          False   \n",
       "3                           2017-11-03T07:19:00.000Z          False   \n",
       "4  2018-01-16T16:06:00.000Z,2018-01-14T08:55:00.000Z          False   \n",
       "\n",
       "   prices.size Merchant                                  prices.sourceURLs  \\\n",
       "0      9.5 MED    kohls  https://www.kohls.com/product/prd-2552591/2-li...   \n",
       "1      5.5 MED    kohls  https://www.kohls.com/product/prd-2552591/2-li...   \n",
       "2        9 MED    kohls  https://www.kohls.com/product/prd-2552591/2-li...   \n",
       "3      7.5 MED    kohls  https://www.kohls.com/product/prd-2552591/2-li...   \n",
       "4        9 MED    kohls  https://www.kohls.com/product/prd-2552591/2-li...   \n",
       "\n",
       "                                               sizes  \\\n",
       "0  5.5 MED,6 MED,6.5 MED,7 MED,7.5 MED,8.5 MED,9 ...   \n",
       "1  5.5 MED,6 MED,6.5 MED,7 MED,7.5 MED,8.5 MED,9 ...   \n",
       "2  5.5 MED,6 MED,6.5 MED,7 MED,7.5 MED,8.5 MED,9 ...   \n",
       "3  5.5 MED,6 MED,6.5 MED,7 MED,7.5 MED,8.5 MED,9 ...   \n",
       "4  5.5 MED,6 MED,6.5 MED,7 MED,7.5 MED,8.5 MED,9 ...   \n",
       "\n",
       "                                          sourceURLs  \\\n",
       "0  https://www.kohls.com/product/prd-2552591/2-li...   \n",
       "1  https://www.kohls.com/product/prd-2552591/2-li...   \n",
       "2  https://www.kohls.com/product/prd-2552591/2-li...   \n",
       "3  https://www.kohls.com/product/prd-2552591/2-li...   \n",
       "4  https://www.kohls.com/product/prd-2552591/2-li...   \n",
       "\n",
       "                                                 upc weight  \n",
       "0  887063591443,887063591146,887063590842,8870635...    NaN  \n",
       "1  887063591443,887063591146,887063590842,8870635...    NaN  \n",
       "2  887063591443,887063591146,887063590842,8870635...    NaN  \n",
       "3  887063591443,887063591146,887063590842,8870635...    NaN  \n",
       "4  887063591443,887063591146,887063590842,8870635...    NaN  \n",
       "\n",
       "[5 rows x 28 columns]"
      ]
     },
     "execution_count": 3,
     "metadata": {},
     "output_type": "execute_result"
    }
   ],
   "source": [
    "# open the CSV and see a preview\n",
    "shoes_df = pd.read_csv(womens_csv)\n",
    "shoes_df.head()"
   ]
  },
  {
   "cell_type": "code",
   "execution_count": 4,
   "metadata": {
    "scrolled": true
   },
   "outputs": [],
   "source": [
    "#mens_shoes_df = pd.read_csv(mens_csv, error_bad_lines=False)\n",
    "#mens_shoes_df.head()"
   ]
  },
  {
   "cell_type": "code",
   "execution_count": 34,
   "metadata": {
    "scrolled": true
   },
   "outputs": [],
   "source": [
    "spring19_df = pd.read_csv(spring19_womens_csv)\n",
    "#spring19_df.head()"
   ]
  },
  {
   "cell_type": "code",
   "execution_count": 35,
   "metadata": {},
   "outputs": [],
   "source": [
    "#spring19_df.info()"
   ]
  },
  {
   "cell_type": "code",
   "execution_count": 36,
   "metadata": {},
   "outputs": [],
   "source": [
    "# info on the csv file (see where data is missing, data types)\n",
    "#shoes_df.info()"
   ]
  },
  {
   "cell_type": "code",
   "execution_count": 8,
   "metadata": {},
   "outputs": [],
   "source": [
    "#mens_shoes_df.info()"
   ]
  },
  {
   "cell_type": "code",
   "execution_count": 9,
   "metadata": {},
   "outputs": [],
   "source": [
    "# drop unneeded columns here\n",
    "shoes_df = shoes_df.drop(columns=[\"id\",\n",
    "                                  \"prices.size\",\n",
    "                                  \"weight\",\n",
    "                                  \"prices.condition\",\n",
    "                                  \"imageURLs\",\n",
    "                                  \"manufacturerNumber\",\n",
    "                                  \"upc\",\n",
    "                                  \"sourceURLs\",\n",
    "                                  \"prices.availability\",\n",
    "                                  \"sizes\",\n",
    "                                  \"keys\",\n",
    "                                  \"manufacturer\",\n",
    "                                  \"prices.dateAdded\",\n",
    "                                  \"prices.dateSeen\",\n",
    "                                  \"name\",\n",
    "                                  \"Date_Added\",\n",
    "                                  \"prices.isSale\",\n",
    "                                  \"primaryCategories\",\n",
    "                                  \"prices.sourceURLs\",\n",
    "                                  \"categories\",\n",
    "                                  \"prices.amountMin\"\n",
    "                         ])"
   ]
  },
  {
   "cell_type": "code",
   "execution_count": 10,
   "metadata": {},
   "outputs": [
    {
     "data": {
      "text/html": [
       "<div>\n",
       "<style scoped>\n",
       "    .dataframe tbody tr th:only-of-type {\n",
       "        vertical-align: middle;\n",
       "    }\n",
       "\n",
       "    .dataframe tbody tr th {\n",
       "        vertical-align: top;\n",
       "    }\n",
       "\n",
       "    .dataframe thead th {\n",
       "        text-align: right;\n",
       "    }\n",
       "</style>\n",
       "<table border=\"1\" class=\"dataframe\">\n",
       "  <thead>\n",
       "    <tr style=\"text-align: right;\">\n",
       "      <th></th>\n",
       "      <th>Date</th>\n",
       "      <th>Brand</th>\n",
       "      <th>Type</th>\n",
       "      <th>Prices</th>\n",
       "      <th>Color</th>\n",
       "      <th>Currency</th>\n",
       "      <th>Merchant</th>\n",
       "    </tr>\n",
       "  </thead>\n",
       "  <tbody>\n",
       "    <tr>\n",
       "      <th>0</th>\n",
       "      <td>2/11/18</td>\n",
       "      <td>2 lips too</td>\n",
       "      <td>Heel Sandals</td>\n",
       "      <td>64.95</td>\n",
       "      <td>Gold</td>\n",
       "      <td>USD</td>\n",
       "      <td>kohls</td>\n",
       "    </tr>\n",
       "    <tr>\n",
       "      <th>1</th>\n",
       "      <td>2/11/18</td>\n",
       "      <td>2 lips too</td>\n",
       "      <td>Heel Sandals</td>\n",
       "      <td>64.95</td>\n",
       "      <td>Pink</td>\n",
       "      <td>USD</td>\n",
       "      <td>kohls</td>\n",
       "    </tr>\n",
       "    <tr>\n",
       "      <th>2</th>\n",
       "      <td>2/11/18</td>\n",
       "      <td>2 lips too</td>\n",
       "      <td>Heel Sandals</td>\n",
       "      <td>64.95</td>\n",
       "      <td>Pink</td>\n",
       "      <td>USD</td>\n",
       "      <td>kohls</td>\n",
       "    </tr>\n",
       "    <tr>\n",
       "      <th>3</th>\n",
       "      <td>2/11/18</td>\n",
       "      <td>2 lips too</td>\n",
       "      <td>Heel Sandals</td>\n",
       "      <td>64.95</td>\n",
       "      <td>Gold</td>\n",
       "      <td>USD</td>\n",
       "      <td>kohls</td>\n",
       "    </tr>\n",
       "    <tr>\n",
       "      <th>4</th>\n",
       "      <td>2/11/18</td>\n",
       "      <td>2 lips too</td>\n",
       "      <td>Heel Sandals</td>\n",
       "      <td>64.95</td>\n",
       "      <td>White</td>\n",
       "      <td>USD</td>\n",
       "      <td>kohls</td>\n",
       "    </tr>\n",
       "  </tbody>\n",
       "</table>\n",
       "</div>"
      ],
      "text/plain": [
       "      Date       Brand          Type  Prices  Color Currency Merchant\n",
       "0  2/11/18  2 lips too  Heel Sandals   64.95   Gold      USD    kohls\n",
       "1  2/11/18  2 lips too  Heel Sandals   64.95   Pink      USD    kohls\n",
       "2  2/11/18  2 lips too  Heel Sandals   64.95   Pink      USD    kohls\n",
       "3  2/11/18  2 lips too  Heel Sandals   64.95   Gold      USD    kohls\n",
       "4  2/11/18  2 lips too  Heel Sandals   64.95  White      USD    kohls"
      ]
     },
     "execution_count": 10,
     "metadata": {},
     "output_type": "execute_result"
    }
   ],
   "source": [
    "# rename columns\n",
    "shoes_df = shoes_df.rename(columns={#\"prices.merchant\": \"Merchant\",\n",
    "                                    \"brand\": \"Brand\",\n",
    "                                    \"prices.color\" : \"Color\",\n",
    "                                    \"Type_Name\": \"Type\",\n",
    "                                    \"date_updated\": \"Date\",\n",
    "                                    \"prices.currency\": \"Currency\",\n",
    "                                    \"prices.amountMax\": \"Prices\"\n",
    "                                   })\n",
    "shoes_df.head()"
   ]
  },
  {
   "cell_type": "code",
   "execution_count": 37,
   "metadata": {},
   "outputs": [],
   "source": [
    "#shoes_df.info()"
   ]
  },
  {
   "cell_type": "code",
   "execution_count": 12,
   "metadata": {},
   "outputs": [
    {
     "data": {
      "text/plain": [
       "Brand\n",
       "2 lips too                                                  [Heel Sandals, Booties]\n",
       "Altra                                                              [Athletic Shoes]\n",
       "Arc'teryx                                                          [Athletic Shoes]\n",
       "Asics                                                              [Athletic Shoes]\n",
       "Astral                                                            [Flats, Sneakers]\n",
       "Birkenstock                                                                 [Clogs]\n",
       "Bogs                                                                     [Sneakers]\n",
       "Brinley Co.                                 [Boots, Heels, Booties, Flats, Sandals]\n",
       "Brooks                                                             [Athletic Shoes]\n",
       "Carrini                                                                     [Boots]\n",
       "Chaco                                                              [Athletic Shoes]\n",
       "Daniel Green                                                             [Slippers]\n",
       "Danskin Now                                                        [Athletic Shoes]\n",
       "Dansko                                                                      [Clogs]\n",
       "Dr. Scholl's                             [Loafers, Booties, Ballet Flats, Sneakers]\n",
       "ELLIE SHOES                                                                 [Flats]\n",
       "Earth Spirit                                                              [Sandals]\n",
       "Easy Street                                                                 [Heels]\n",
       "FOREVER YOUNG                                                               [Boots]\n",
       "Faded Glory                                                [Sneakers, Flats, Boots]\n",
       "Fergalicious                                                                [Flats]\n",
       "Free People                                                               [Booties]\n",
       "Frye                                                                 [Ballet Flats]\n",
       "Genuine Dickies                                                             [Clogs]\n",
       "Hoka One One                                                       [Athletic Shoes]\n",
       "IB Non-Slip                                                                 [Boots]\n",
       "Inov 8                                                             [Athletic Shoes]\n",
       "KEEN                                                                        [Clogs]\n",
       "Kaanas                                                                      [Heels]\n",
       "Keds                                                                     [Sneakers]\n",
       "                                                        ...                        \n",
       "kisses by 2 lips too                                               [Boots, Booties]\n",
       "koolaburra by ugg                                                           [Boots]\n",
       "lc lauren conrad                                 [Booties, Heels, Sandals, Loafers]\n",
       "lifestride                        [Booties, Heels, Sandals, Flats, Loafers, Ball...\n",
       "lugz                                                                      [Booties]\n",
       "madden nyc                                      [Booties, Heels, Sandals, Sneakers]\n",
       "muk luks                                                                  [Sandals]\n",
       "naturalsoul by naturalizer        [Heel Sandals, Ballet Flats, Loafers, Sneakers...\n",
       "new balance                                               [Athletic Shoes, Sandals]\n",
       "nike                                                     [Athletic Shoes, Sneakers]\n",
       "nyla                                                                 [Heel Sandals]\n",
       "olivia miller                                                               [Boots]\n",
       "puma                                                                     [Sneakers]\n",
       "qupid                                              [Heel Sandals, Booties, Sandals]\n",
       "rampage                                                            [Sandals, Heels]\n",
       "reef                                                                      [Sandals]\n",
       "rocky 4eursole                                                            [Sandals]\n",
       "ryka                                 [Athletic Shoes, Boots, Sandals, Heel Sandals]\n",
       "seven7                                                             [Flats, Sandals]\n",
       "simply vera vera wang                         [Flats, Booties, Heels, Ballet Flats]\n",
       "skechers                                   [Athletic Shoes, Sneakers, Ballet Flats]\n",
       "so                                            [Ballet Flats, Booties, Flats, Boots]\n",
       "soft style by hush puppies                                    [Clogs, Heel Sandals]\n",
       "sonoma goods for life                     [Booties, Loafers, Heel Sandals, Sandals]\n",
       "spring step                                          [Clogs, Sandals, Heels, Flats]\n",
       "style charles by charles david    [Heel Sandals, Boots, Heels, Ballet Flats, Loa...\n",
       "sugar                                                                       [Boots]\n",
       "under armour                                                             [Sneakers]\n",
       "unionbay                                                                  [Loafers]\n",
       "vans                                                                     [Sneakers]\n",
       "Name: Type, Length: 125, dtype: object"
      ]
     },
     "execution_count": 12,
     "metadata": {},
     "output_type": "execute_result"
    }
   ],
   "source": [
    "typebybrand_df = shoes_df.groupby(\"Brand\")[\"Type\"].unique()\n",
    "typebybrand_df"
   ]
  },
  {
   "cell_type": "code",
   "execution_count": 13,
   "metadata": {},
   "outputs": [
    {
     "data": {
      "text/plain": [
       "Brand\n",
       "2 lips too                         67.320526\n",
       "Altra                             129.950000\n",
       "Arc'teryx                         170.000000\n",
       "Asics                             119.950000\n",
       "Astral                             89.925000\n",
       "Birkenstock                       133.333333\n",
       "Bogs                               64.990000\n",
       "Brinley Co.                        53.353684\n",
       "Brooks                            125.213158\n",
       "Carrini                            34.950000\n",
       "Chaco                             119.950000\n",
       "Daniel Green                       35.000000\n",
       "Danskin Now                        19.740000\n",
       "Dansko                            130.000000\n",
       "Dr. Scholl's                       76.961479\n",
       "ELLIE SHOES                        37.410000\n",
       "Earth Spirit                       19.820000\n",
       "Easy Street                        54.990000\n",
       "FOREVER YOUNG                      45.990000\n",
       "Faded Glory                        14.587500\n",
       "Fergalicious                       54.950000\n",
       "Free People                       178.000000\n",
       "Frye                              165.450000\n",
       "Genuine Dickies                    19.970000\n",
       "Hoka One One                      144.235714\n",
       "IB Non-Slip                        39.990000\n",
       "Inov 8                            126.450000\n",
       "KEEN                              109.950000\n",
       "Kaanas                            128.950000\n",
       "Keds                               49.990000\n",
       "                                     ...    \n",
       "kisses by 2 lips too               76.946522\n",
       "koolaburra by ugg                  89.990000\n",
       "lc lauren conrad                   50.279855\n",
       "lifestride                         59.732622\n",
       "lugz                               84.990000\n",
       "madden nyc                         50.466190\n",
       "muk luks                           36.000000\n",
       "naturalsoul by naturalizer         71.485327\n",
       "new balance                        69.159922\n",
       "nike                               67.929825\n",
       "nyla                               69.950000\n",
       "olivia miller                      84.990000\n",
       "puma                               70.000000\n",
       "qupid                              54.323333\n",
       "rampage                            69.990000\n",
       "reef                               39.990000\n",
       "rocky 4eursole                    120.272727\n",
       "ryka                               62.286124\n",
       "seven7                             39.636429\n",
       "simply vera vera wang              68.648537\n",
       "skechers                           64.611622\n",
       "so                                 56.265047\n",
       "soft style by hush puppies         51.640000\n",
       "sonoma goods for life              69.815328\n",
       "spring step                        62.774810\n",
       "style charles by charles david     88.853556\n",
       "sugar                              49.990000\n",
       "under armour                       79.990000\n",
       "unionbay                           47.990000\n",
       "vans                               60.615000\n",
       "Name: Prices, Length: 125, dtype: float64"
      ]
     },
     "execution_count": 13,
     "metadata": {},
     "output_type": "execute_result"
    }
   ],
   "source": [
    "pricesbybrand_df = shoes_df.groupby(\"Brand\")[\"Prices\"].mean()\n",
    "pricesbybrand_df"
   ]
  },
  {
   "cell_type": "code",
   "execution_count": 14,
   "metadata": {},
   "outputs": [
    {
     "data": {
      "text/plain": [
       "Color\n",
       "Black          [Heel Sandals, Booties, Heels, Sandals, Loafer...\n",
       "Brown          [Heels, Sandals, Heel Sandals, Booties, Boots,...\n",
       "Cream                                      [Flats, Ballet Flats]\n",
       "Dark Blue      [Heels, Sandals, Loafers, Heel Sandals, Clogs,...\n",
       "Dark Green     [Booties, Sneakers, Heels, Ballet Flats, Flats...\n",
       "Dark Red       [Ballet Flats, Sandals, Heels, Booties, Flats,...\n",
       "Gold           [Heel Sandals, Heels, Ballet Flats, Sandals, S...\n",
       "Gray           [Heel Sandals, Booties, Heels, Sandals, Loafer...\n",
       "Light Blue     [Heel Sandals, Sandals, Athletic Shoes, Flats,...\n",
       "Light Green              [Flats, Sandals, Heels, Athletic Shoes]\n",
       "Orange                   [Flats, Sandals, Athletic Shoes, Heels]\n",
       "Pink           [Heel Sandals, Sandals, Heels, Athletic Shoes,...\n",
       "Print          [Heels, Loafers, Sandals, Ballet Flats, Athlet...\n",
       "Purple           [Athletic Shoes, Sneakers, Heels, Flats, Clogs]\n",
       "Red            [Booties, Heels, Athletic Shoes, Flats, Sandal...\n",
       "Tan            [Booties, Loafers, Flats, Heels, Boots, Ballet...\n",
       "White          [Heel Sandals, Sandals, Sneakers, Athletic Sho...\n",
       "Yellow                                          [Sandals, Boots]\n",
       "Name: Type, dtype: object"
      ]
     },
     "execution_count": 14,
     "metadata": {},
     "output_type": "execute_result"
    }
   ],
   "source": [
    "typebycolor_df = shoes_df.groupby(\"Color\")[\"Type\"].unique()\n",
    "typebycolor_df"
   ]
  },
  {
   "cell_type": "code",
   "execution_count": 15,
   "metadata": {},
   "outputs": [
    {
     "data": {
      "text/plain": [
       "Type\n",
       "Athletic Shoes    79.378627\n",
       "Ballet Flats      60.734369\n",
       "Booties           80.884943\n",
       "Boots             88.556571\n",
       "Clogs             59.762179\n",
       "Flats             58.645897\n",
       "Heel Sandals      66.014788\n",
       "Heels             63.829485\n",
       "Loafers           65.301558\n",
       "Sandals           54.782395\n",
       "Slippers          49.663333\n",
       "Sneakers          69.904569\n",
       "Name: Prices, dtype: float64"
      ]
     },
     "execution_count": 15,
     "metadata": {},
     "output_type": "execute_result"
    }
   ],
   "source": [
    "avgpricesbytype_df = shoes_df.groupby(\"Type\")[\"Prices\"].mean()\n",
    "avgpricesbytype_df"
   ]
  },
  {
   "cell_type": "code",
   "execution_count": 16,
   "metadata": {},
   "outputs": [
    {
     "data": {
      "text/plain": [
       "Type\n",
       "Athletic Shoes    1377\n",
       "Ballet Flats       412\n",
       "Booties           1831\n",
       "Boots              385\n",
       "Clogs              257\n",
       "Flats              758\n",
       "Heel Sandals      1061\n",
       "Heels             2096\n",
       "Loafers            430\n",
       "Sandals            877\n",
       "Slippers             6\n",
       "Sneakers           510\n",
       "Name: Date, dtype: int64"
      ]
     },
     "execution_count": 16,
     "metadata": {},
     "output_type": "execute_result"
    }
   ],
   "source": [
    "typecount_df = shoes_df.groupby(\"Type\")[\"Date\"].count()\n",
    "typecount_df"
   ]
  },
  {
   "cell_type": "code",
   "execution_count": 17,
   "metadata": {},
   "outputs": [
    {
     "data": {
      "text/plain": [
       "array(['kohls', 'backcountry', 'walmart', 'overstock', 'evo.com'],\n",
       "      dtype=object)"
      ]
     },
     "execution_count": 17,
     "metadata": {},
     "output_type": "execute_result"
    }
   ],
   "source": [
    "merchantname_df = shoes_df[\"Merchant\"].unique()\n",
    "merchantname_df"
   ]
  },
  {
   "cell_type": "code",
   "execution_count": 18,
   "metadata": {},
   "outputs": [
    {
     "data": {
      "text/plain": [
       "Merchant\n",
       "backcountry     41880.34\n",
       "evo.com          1979.60\n",
       "kohls          645107.64\n",
       "overstock         201.94\n",
       "walmart          3065.92\n",
       "Name: Prices, dtype: float64"
      ]
     },
     "execution_count": 18,
     "metadata": {},
     "output_type": "execute_result"
    }
   ],
   "source": [
    "pricesbymerchant_df = shoes_df.groupby(\"Merchant\")[\"Prices\"].sum()\n",
    "pricesbymerchant_df"
   ]
  },
  {
   "cell_type": "code",
   "execution_count": 19,
   "metadata": {},
   "outputs": [
    {
     "data": {
      "text/plain": [
       "Merchant\n",
       "backcountry     352\n",
       "evo.com           8\n",
       "kohls          9556\n",
       "overstock         2\n",
       "walmart          82\n",
       "Name: Date, dtype: int64"
      ]
     },
     "execution_count": 19,
     "metadata": {},
     "output_type": "execute_result"
    }
   ],
   "source": [
    "totalmerchant_df = shoes_df.groupby(\"Merchant\")[\"Date\"].count()\n",
    "totalmerchant_df"
   ]
  },
  {
   "cell_type": "code",
   "execution_count": 39,
   "metadata": {},
   "outputs": [],
   "source": [
    "spring19_df = spring19_df.drop(columns=[\"id\",\n",
    "                                  \"dateAdded\",\n",
    "                                  \"dateUpdated\",\n",
    "                                  \"asins\",\n",
    "                                  \"dimension\",\n",
    "                                  \"ean / upc\",\n",
    "                                  \"imageURLs\",\n",
    "                                  \"keys\",\n",
    "                                  \"manufacturerNumber\",\n",
    "                                  \"prices.availability\",\n",
    "                                  \"prices.condition\",\n",
    "                                  \"prices.dateAdded\",\n",
    "                                  \"prices.dateSeen\",\n",
    "                                  \"prices.offer\",\n",
    "                                  \"prices.returnPolicy\",\n",
    "                                        \"sizes\",\n",
    "                                        \"prices.shipping\",\n",
    "                                        \"prices.merchant\",\n",
    "                                        \"manufacturer\",\n",
    "                                  \"prices.isSale\",\n",
    "                                  \"primaryCategories\",\n",
    "                                  \"prices.sourceURLs\",\n",
    "                                  \"categories\",\n",
    "                                        \"prices.amountMin\",\n",
    "                                        \"prices.size\",\n",
    "                                        \"prices.color\",\n",
    "                                        \"sourceURLs\"\n",
    "                         ])\n",
    "#spring19_df.head()"
   ]
  },
  {
   "cell_type": "code",
   "execution_count": 38,
   "metadata": {},
   "outputs": [],
   "source": [
    "#spring19_df.info()"
   ]
  },
  {
   "cell_type": "code",
   "execution_count": 22,
   "metadata": {},
   "outputs": [
    {
     "data": {
      "text/html": [
       "<div>\n",
       "<style scoped>\n",
       "    .dataframe tbody tr th:only-of-type {\n",
       "        vertical-align: middle;\n",
       "    }\n",
       "\n",
       "    .dataframe tbody tr th {\n",
       "        vertical-align: top;\n",
       "    }\n",
       "\n",
       "    .dataframe thead th {\n",
       "        text-align: right;\n",
       "    }\n",
       "</style>\n",
       "<table border=\"1\" class=\"dataframe\">\n",
       "  <thead>\n",
       "    <tr style=\"text-align: right;\">\n",
       "      <th></th>\n",
       "      <th>Date</th>\n",
       "      <th>Brand</th>\n",
       "      <th>Color</th>\n",
       "      <th>Type</th>\n",
       "      <th>name</th>\n",
       "      <th>Prices</th>\n",
       "      <th>Currency</th>\n",
       "      <th>Merchant</th>\n",
       "    </tr>\n",
       "  </thead>\n",
       "  <tbody>\n",
       "    <tr>\n",
       "      <th>0</th>\n",
       "      <td>5/1/19</td>\n",
       "      <td>City Classified</td>\n",
       "      <td>Black</td>\n",
       "      <td>Booties</td>\n",
       "      <td>City Classified Stylish-S Women's Zipper Ankle...</td>\n",
       "      <td>29.95</td>\n",
       "      <td>USD</td>\n",
       "      <td>Walmart</td>\n",
       "    </tr>\n",
       "    <tr>\n",
       "      <th>1</th>\n",
       "      <td>5/1/19</td>\n",
       "      <td>Skechers</td>\n",
       "      <td>Taupe</td>\n",
       "      <td>Athletic Shoes</td>\n",
       "      <td>Skechers Women'S You Radiate, Walking</td>\n",
       "      <td>84.00</td>\n",
       "      <td>USD</td>\n",
       "      <td>Walmart</td>\n",
       "    </tr>\n",
       "    <tr>\n",
       "      <th>2</th>\n",
       "      <td>5/1/19</td>\n",
       "      <td>Floral</td>\n",
       "      <td>Black</td>\n",
       "      <td>Heels</td>\n",
       "      <td>FLORAL Pearl Women's Wide Width Evening Dress ...</td>\n",
       "      <td>49.95</td>\n",
       "      <td>USD</td>\n",
       "      <td>Walmart</td>\n",
       "    </tr>\n",
       "    <tr>\n",
       "      <th>3</th>\n",
       "      <td>5/1/19</td>\n",
       "      <td>Jambu</td>\n",
       "      <td>Black</td>\n",
       "      <td>Booties</td>\n",
       "      <td>Women's Jambu Amal Water Resistant Bootie</td>\n",
       "      <td>127.20</td>\n",
       "      <td>USD</td>\n",
       "      <td>Walmart</td>\n",
       "    </tr>\n",
       "    <tr>\n",
       "      <th>4</th>\n",
       "      <td>5/1/19</td>\n",
       "      <td>Trotters</td>\n",
       "      <td>White</td>\n",
       "      <td>Boots</td>\n",
       "      <td>trotters women's blast iii boot,black quill,11...</td>\n",
       "      <td>47.66</td>\n",
       "      <td>USD</td>\n",
       "      <td>Walmart</td>\n",
       "    </tr>\n",
       "  </tbody>\n",
       "</table>\n",
       "</div>"
      ],
      "text/plain": [
       "     Date            Brand  Color            Type  \\\n",
       "0  5/1/19  City Classified  Black         Booties   \n",
       "1  5/1/19         Skechers  Taupe  Athletic Shoes   \n",
       "2  5/1/19           Floral  Black           Heels   \n",
       "3  5/1/19            Jambu  Black         Booties   \n",
       "4  5/1/19         Trotters  White           Boots   \n",
       "\n",
       "                                                name  Prices Currency Merchant  \n",
       "0  City Classified Stylish-S Women's Zipper Ankle...   29.95      USD  Walmart  \n",
       "1              Skechers Women'S You Radiate, Walking   84.00      USD  Walmart  \n",
       "2  FLORAL Pearl Women's Wide Width Evening Dress ...   49.95      USD  Walmart  \n",
       "3          Women's Jambu Amal Water Resistant Bootie  127.20      USD  Walmart  \n",
       "4  trotters women's blast iii boot,black quill,11...   47.66      USD  Walmart  "
      ]
     },
     "execution_count": 22,
     "metadata": {},
     "output_type": "execute_result"
    }
   ],
   "source": [
    "spring19_df = spring19_df.rename(columns={#\"prices.merchant\": \"Merchant\",\n",
    "                                    \"brand\": \"Brand\",\n",
    "                                    \"colors\" : \"Color\",\n",
    "                                    \"prices.currency\": \"Currency\",\n",
    "                                    \"prices.amountMax\": \"Prices\"\n",
    "                                   })\n",
    "spring19_df.head()"
   ]
  },
  {
   "cell_type": "code",
   "execution_count": 23,
   "metadata": {},
   "outputs": [
    {
     "data": {
      "text/plain": [
       "Brand\n",
       "1.STATE                                                       [Sandals]\n",
       "911Costume                                                      [Boots]\n",
       "A2 by Aerosoles          [Flats, Booties, Ballet Flats, Sandals, Heels]\n",
       "A35                                                             [Boots]\n",
       "AARON                                                           [Boots]\n",
       "AERUSI                                                          [Flats]\n",
       "ARRAY                                  [Heels, Booties, Sandals, Flats]\n",
       "AXNY                                                            [Boots]\n",
       "Academie Gear                                                   [Flats]\n",
       "Adidas                                 [Sandals, Booties, Heels, Flats]\n",
       "Adriana                                                       [Booties]\n",
       "Aerosoft                                      [Sandals, Athletic Shoes]\n",
       "Aerosoles             [Boots, Flats, Sandals, Booties, Heels, Sneake...\n",
       "Ahnu                                            [Boots, Athletic Shoes]\n",
       "Aldo                                                            [Boots]\n",
       "Alegria                                      [Flats, Sandals, Sneakers]\n",
       "Alfani                   [Booties, Boots, Ballet Flats, Flats, Sandals]\n",
       "Alotta Knits                                                    [Flats]\n",
       "American Rag                                  [Booties, Heels, Sandals]\n",
       "Ann Creek                                                       [Boots]\n",
       "Anne Michelle                                                   [Heels]\n",
       "Annie                                                  [Sandals, Heels]\n",
       "Answer 2                                               [Athletic Shoes]\n",
       "Anthony Wang                                                    [Boots]\n",
       "Apex                                                   [Athletic Shoes]\n",
       "Aqua Design                                                   [Sandals]\n",
       "Aquapillar                   [Heels, Sandals, Boots, Sneakers, Booties]\n",
       "Aquatalia                                                       [Boots]\n",
       "Aravon                                                          [Flats]\n",
       "Ariat                                                           [Boots]\n",
       "                                            ...                        \n",
       "Woolrich                                                        [Boots]\n",
       "X2B                                                      [Boots, Heels]\n",
       "XAPPEAL                                                         [Boots]\n",
       "XOXO                                                            [Boots]\n",
       "YOKI                                                 [Sandals, Booties]\n",
       "Yellow Box                                             [Sandals, Flats]\n",
       "ZIGI SOHO                                                     [Sandals]\n",
       "Ziginy                                                        [Sandals]\n",
       "aerosoles                                                     [Sandals]\n",
       "alpine swiss                                             [Ballet Flats]\n",
       "bed:Stu                                                         [Boots]\n",
       "bumper                                                        [Sandals]\n",
       "catan                                  [Boots, Sandals, Athletic Shoes]\n",
       "durango                                                         [Boots]\n",
       "fergalicious                                                    [Boots]\n",
       "guess                                                           [Boots]\n",
       "k-swiss                                                      [Sneakers]\n",
       "keds                                                         [Sneakers]\n",
       "lartiste                                                 [Flats, Heels]\n",
       "lugz                                                            [Boots]\n",
       "minnetonka                                      [Flats, Boots, Booties]\n",
       "mobils by Mephisto                                           [Sneakers]\n",
       "peach-couture                                                 [Sandals]\n",
       "r.b.l.s.                                                      [Booties]\n",
       "rialto                                                        [Booties]\n",
       "ryka                                                            [Flats]\n",
       "soda                                                            [Boots]\n",
       "totes                                           [Athletic Shoes, Boots]\n",
       "trotters                                                        [Flats]\n",
       "wave                                                   [Athletic Shoes]\n",
       "Name: Type, Length: 421, dtype: object"
      ]
     },
     "execution_count": 23,
     "metadata": {},
     "output_type": "execute_result"
    }
   ],
   "source": [
    "typebybrand19_df = spring19_df.groupby(\"Brand\")[\"Type\"].unique()\n",
    "typebybrand19_df"
   ]
  },
  {
   "cell_type": "code",
   "execution_count": 24,
   "metadata": {},
   "outputs": [
    {
     "data": {
      "text/plain": [
       "Brand\n",
       "1.STATE                20.005000\n",
       "911Costume             59.880000\n",
       "A2 by Aerosoles        40.142708\n",
       "A35                    72.795000\n",
       "AARON                 229.980000\n",
       "AERUSI                 25.000000\n",
       "ARRAY                  45.470000\n",
       "AXNY                   48.960000\n",
       "Academie Gear          48.310000\n",
       "Adidas                 61.459130\n",
       "Adriana                33.950000\n",
       "Aerosoft               30.308000\n",
       "Aerosoles              94.265738\n",
       "Ahnu                   67.314000\n",
       "Aldo                   63.950000\n",
       "Alegria               105.336667\n",
       "Alfani                 46.821622\n",
       "Alotta Knits            9.950000\n",
       "American Rag           37.557500\n",
       "Ann Creek              67.996000\n",
       "Anne Michelle          30.000000\n",
       "Annie                  26.867500\n",
       "Answer 2              123.228750\n",
       "Anthony Wang           29.000000\n",
       "Apex                  144.950000\n",
       "Aqua Design            19.950000\n",
       "Aquapillar             39.200370\n",
       "Aquatalia             149.990000\n",
       "Aravon                 47.990000\n",
       "Ariat                  13.330000\n",
       "                         ...    \n",
       "Woolrich               90.830000\n",
       "X2B                    49.050000\n",
       "XAPPEAL                45.620000\n",
       "XOXO                   32.200000\n",
       "YOKI                   29.991000\n",
       "Yellow Box             39.846111\n",
       "ZIGI SOHO              35.400000\n",
       "Ziginy                 39.480000\n",
       "aerosoles             163.570000\n",
       "alpine swiss           11.990000\n",
       "bed:Stu                84.990000\n",
       "bumper                 19.405000\n",
       "catan                 120.654783\n",
       "durango               124.990000\n",
       "fergalicious           75.885000\n",
       "guess                  47.680000\n",
       "k-swiss                76.030000\n",
       "keds                   59.810000\n",
       "lartiste              104.758000\n",
       "lugz                   87.650000\n",
       "minnetonka             36.262500\n",
       "mobils by Mephisto    327.865000\n",
       "peach-couture          42.520000\n",
       "r.b.l.s.               17.970000\n",
       "rialto                 32.172500\n",
       "ryka                   71.320000\n",
       "soda                   27.990000\n",
       "totes                  36.623333\n",
       "trotters              109.950000\n",
       "wave                   14.950000\n",
       "Name: Prices, Length: 421, dtype: float64"
      ]
     },
     "execution_count": 24,
     "metadata": {},
     "output_type": "execute_result"
    }
   ],
   "source": [
    "pricesbybrand19_df = spring19_df.groupby(\"Brand\")[\"Prices\"].mean()\n",
    "pricesbybrand19_df"
   ]
  },
  {
   "cell_type": "code",
   "execution_count": 25,
   "metadata": {},
   "outputs": [
    {
     "data": {
      "text/plain": [
       "Color\n",
       "Black        [Booties, Heels, Boots, Sandals, Flats, Athlet...\n",
       "Blue         [Sandals, Heels, Athletic Shoes, Boots, Bootie...\n",
       "Brown        [Booties, Heels, Flats, Sneakers, Sandals, Boots]\n",
       "Cream                                           [Heels, Boots]\n",
       "Dark Blue                                    [Sneakers, Boots]\n",
       "Gold                     [Sandals, Flats, Heels, Ballet Flats]\n",
       "Gray                [Boots, Sandals, Sneakers, Booties, Flats]\n",
       "Multi                                                [Sandals]\n",
       "Pink                                                   [Flats]\n",
       "Purple                                        [Heels, Sandals]\n",
       "Red                               [Heels, Flats, Ballet Flats]\n",
       "Tan                           [Sandals, Booties, Boots, Heels]\n",
       "Taupe                                  [Athletic Shoes, Flats]\n",
       "White                           [Boots, Heels, Booties, Flats]\n",
       "Name: Type, dtype: object"
      ]
     },
     "execution_count": 25,
     "metadata": {},
     "output_type": "execute_result"
    }
   ],
   "source": [
    "typebycolor19_df = spring19_df.groupby(\"Color\")[\"Type\"].unique()\n",
    "typebycolor19_df"
   ]
  },
  {
   "cell_type": "code",
   "execution_count": 26,
   "metadata": {},
   "outputs": [
    {
     "data": {
      "text/plain": [
       "Type\n",
       "Athletic Shoes    104.423435\n",
       "Ballet Flats       39.226250\n",
       "Boat Shoes         90.793333\n",
       "Booties            73.281350\n",
       "Boots              78.227232\n",
       "Flats              73.227358\n",
       "Heels              59.701068\n",
       "Sandals            64.084960\n",
       "Sneakers           79.166086\n",
       "Name: Prices, dtype: float64"
      ]
     },
     "execution_count": 26,
     "metadata": {},
     "output_type": "execute_result"
    }
   ],
   "source": [
    "avgpricesbytype19_df = spring19_df.groupby(\"Type\")[\"Prices\"].mean()\n",
    "avgpricesbytype19_df"
   ]
  },
  {
   "cell_type": "code",
   "execution_count": 27,
   "metadata": {},
   "outputs": [
    {
     "data": {
      "text/plain": [
       "Type\n",
       "Athletic Shoes     556\n",
       "Ballet Flats       144\n",
       "Boat Shoes          18\n",
       "Booties           1511\n",
       "Boots             2088\n",
       "Flats             2074\n",
       "Heels             1545\n",
       "Sandals           1643\n",
       "Sneakers           419\n",
       "Name: Date, dtype: int64"
      ]
     },
     "execution_count": 27,
     "metadata": {},
     "output_type": "execute_result"
    }
   ],
   "source": [
    "typecount19_df = spring19_df.groupby(\"Type\")[\"Date\"].count()\n",
    "typecount19_df"
   ]
  },
  {
   "cell_type": "code",
   "execution_count": 28,
   "metadata": {},
   "outputs": [
    {
     "data": {
      "text/plain": [
       "array(['Walmart', 'Shoes.com', 'Barcodable', 'Overstock'], dtype=object)"
      ]
     },
     "execution_count": 28,
     "metadata": {},
     "output_type": "execute_result"
    }
   ],
   "source": [
    "merchantname19_df = spring19_df[\"Merchant\"].unique()\n",
    "merchantname19_df"
   ]
  },
  {
   "cell_type": "code",
   "execution_count": 29,
   "metadata": {},
   "outputs": [
    {
     "data": {
      "text/plain": [
       "Merchant\n",
       "Barcodable       149.22\n",
       "Overstock         95.99\n",
       "Shoes.com       1127.64\n",
       "Walmart       720609.89\n",
       "Name: Prices, dtype: float64"
      ]
     },
     "execution_count": 29,
     "metadata": {},
     "output_type": "execute_result"
    }
   ],
   "source": [
    "pricesbymerchant19_df = spring19_df.groupby(\"Merchant\")[\"Prices\"].sum()\n",
    "pricesbymerchant19_df"
   ]
  },
  {
   "cell_type": "code",
   "execution_count": 30,
   "metadata": {},
   "outputs": [
    {
     "data": {
      "text/plain": [
       "Merchant\n",
       "Barcodable       3\n",
       "Overstock        1\n",
       "Shoes.com       32\n",
       "Walmart       9962\n",
       "Name: Date, dtype: int64"
      ]
     },
     "execution_count": 30,
     "metadata": {},
     "output_type": "execute_result"
    }
   ],
   "source": [
    "totalmerchant19_df = spring19_df.groupby(\"Merchant\")[\"Date\"].count()\n",
    "totalmerchant19_df"
   ]
  },
  {
   "cell_type": "code",
   "execution_count": 31,
   "metadata": {},
   "outputs": [],
   "source": [
    "#mens_shoes_df = mens_shoes_df.drop(columns=[\"id\",\n",
    "#                                            \"asins\",\n",
    "#                                            \"count\",\n",
    "#                                            \"imageURLs\",\n",
    "#                                            \"descriptions\",\n",
    "#                                            \"dimension\",\n",
    "#                                            \"ean\",\n",
    "#                                            \"features\",\n",
    "#                                            \"flavors\",\n",
    "#                                            \"isbn\",\n",
    "#                                            \"keys\",\n",
    "#                                            \"manufacturer\",\n",
    "#                                            \"manufacturerNumber\",\n",
    "#                                            \"prices.availability\",\n",
    "#                                            \"prices.condition\",\n",
    "#                                            \"prices.count\",\n",
    "#                                            \"prices.dateAdded\",\n",
    "#                                            \"prices.dateSeen\",\n",
    "#                                            \"prices.flavor\",\n",
    "#                                            \"prices.offer\",\n",
    "#                                            \"prices.returnPolicy\",\n",
    "#                                            \"prices.shipping\",\n",
    "#                                            \"prices.size\",\n",
    "#                                            \"prices.source\",\n",
    "#                                            \"prices.warranty\",\n",
    "#                                            \"quantities\",\n",
    "#                                            \"reviews\",\n",
    "#                                            \"sizes\",\n",
    "#                                            \"skus\",\n",
    "#                                            \"sourceURLs\",\n",
    "#                                            \"upc\",\n",
    "#                                            \"vin\",\n",
    "#                                            \"websiteIDs\",\n",
    "#                                            \"weight\",\n",
    "#                                            \"prices.color\",\n",
    "#                                            \"dateAdded\",\n",
    "#                                            \"dateUpdated\",\n",
    "#                                            \"Unnamed: 50\"\n",
    "#                                           ])"
   ]
  },
  {
   "cell_type": "code",
   "execution_count": null,
   "metadata": {},
   "outputs": [],
   "source": []
  },
  {
   "cell_type": "code",
   "execution_count": 32,
   "metadata": {},
   "outputs": [],
   "source": [
    "#mens_shoes_df = mens_shoes_df[pd.notnull(mens_shoes_df['colors'])]\n",
    "#mens_shoes_df.head()"
   ]
  },
  {
   "cell_type": "code",
   "execution_count": 33,
   "metadata": {},
   "outputs": [],
   "source": [
    "#mens_shoes_df.info()"
   ]
  },
  {
   "cell_type": "code",
   "execution_count": null,
   "metadata": {},
   "outputs": [],
   "source": []
  }
 ],
 "metadata": {
  "kernelspec": {
   "display_name": "Python 3",
   "language": "python",
   "name": "python3"
  },
  "language_info": {
   "codemirror_mode": {
    "name": "ipython",
    "version": 3
   },
   "file_extension": ".py",
   "mimetype": "text/x-python",
   "name": "python",
   "nbconvert_exporter": "python",
   "pygments_lexer": "ipython3",
   "version": "3.7.3"
  }
 },
 "nbformat": 4,
 "nbformat_minor": 2
}
