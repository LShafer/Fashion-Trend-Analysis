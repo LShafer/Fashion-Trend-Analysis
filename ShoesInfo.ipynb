{
 "cells": [
  {
   "cell_type": "code",
   "execution_count": 1,
   "metadata": {},
   "outputs": [],
   "source": [
    "# import dependencies\n",
    "%matplotlib inline\n",
    "import pandas as pd\n",
    "import matplotlib.pyplot as plt\n",
    "import numpy as np\n",
    "import os\n",
    "from PIL import Image\n",
    "import seaborn as sns\n",
    "from wordcloud import WordCloud, STOPWORDS, ImageColorGenerator"
   ]
  },
  {
   "cell_type": "code",
   "execution_count": 2,
   "metadata": {},
   "outputs": [],
   "source": [
    "# location of the CSV file\n",
    "womens_csv = \"../Project1/Resources/2018_Womens_Shoes.csv\"\n",
    "mens_csv = \"../Project1/Resources/mens_shoe_prices.csv\"\n",
    "spring19_womens_csv = \"../Project1/Resources/Spring19_women.csv\""
   ]
  },
  {
   "cell_type": "code",
   "execution_count": 3,
   "metadata": {},
   "outputs": [
    {
     "data": {
      "text/html": [
       "<div>\n",
       "<style scoped>\n",
       "    .dataframe tbody tr th:only-of-type {\n",
       "        vertical-align: middle;\n",
       "    }\n",
       "\n",
       "    .dataframe tbody tr th {\n",
       "        vertical-align: top;\n",
       "    }\n",
       "\n",
       "    .dataframe thead th {\n",
       "        text-align: right;\n",
       "    }\n",
       "</style>\n",
       "<table border=\"1\" class=\"dataframe\">\n",
       "  <thead>\n",
       "    <tr style=\"text-align: right;\">\n",
       "      <th></th>\n",
       "      <th>id</th>\n",
       "      <th>Date_Added</th>\n",
       "      <th>date_updated</th>\n",
       "      <th>brand</th>\n",
       "      <th>categories</th>\n",
       "      <th>primaryCategories</th>\n",
       "      <th>imageURLs</th>\n",
       "      <th>keys</th>\n",
       "      <th>manufacturer</th>\n",
       "      <th>manufacturerNumber</th>\n",
       "      <th>...</th>\n",
       "      <th>prices.dateAdded</th>\n",
       "      <th>prices.dateSeen</th>\n",
       "      <th>prices.isSale</th>\n",
       "      <th>prices.size</th>\n",
       "      <th>Merchant</th>\n",
       "      <th>prices.sourceURLs</th>\n",
       "      <th>sizes</th>\n",
       "      <th>sourceURLs</th>\n",
       "      <th>upc</th>\n",
       "      <th>weight</th>\n",
       "    </tr>\n",
       "  </thead>\n",
       "  <tbody>\n",
       "    <tr>\n",
       "      <th>0</th>\n",
       "      <td>AV_Ee528Hh53nbDR_0vY</td>\n",
       "      <td>11/16/17</td>\n",
       "      <td>2/11/18</td>\n",
       "      <td>2 lips too</td>\n",
       "      <td>Womens,Shoes,Pumps,Heels,2 Lips Too</td>\n",
       "      <td>Shoes</td>\n",
       "      <td>https://media.kohlsimg.com/is/image/kohls/2552...</td>\n",
       "      <td>2lipstootooellewomenshighheelsandals/84360578,...</td>\n",
       "      <td>NaN</td>\n",
       "      <td>NaN</td>\n",
       "      <td>...</td>\n",
       "      <td>2018-01-10T19:30:29Z</td>\n",
       "      <td>2018-01-09T13:35:00.000Z,2018-01-05T13:09:00.0...</td>\n",
       "      <td>False</td>\n",
       "      <td>9.5 MED</td>\n",
       "      <td>kohls</td>\n",
       "      <td>https://www.kohls.com/product/prd-2552591/2-li...</td>\n",
       "      <td>5.5 MED,6 MED,6.5 MED,7 MED,7.5 MED,8.5 MED,9 ...</td>\n",
       "      <td>https://www.kohls.com/product/prd-2552591/2-li...</td>\n",
       "      <td>887063591443,887063591146,887063590842,8870635...</td>\n",
       "      <td>NaN</td>\n",
       "    </tr>\n",
       "    <tr>\n",
       "      <th>1</th>\n",
       "      <td>AV_Ee528Hh53nbDR_0vY</td>\n",
       "      <td>11/16/17</td>\n",
       "      <td>2/11/18</td>\n",
       "      <td>2 lips too</td>\n",
       "      <td>Womens,Shoes,Pumps,Heels,2 Lips Too</td>\n",
       "      <td>Shoes</td>\n",
       "      <td>https://media.kohlsimg.com/is/image/kohls/2552...</td>\n",
       "      <td>2lipstootooellewomenshighheelsandals/84360578,...</td>\n",
       "      <td>NaN</td>\n",
       "      <td>NaN</td>\n",
       "      <td>...</td>\n",
       "      <td>2017-11-17T15:54:13Z</td>\n",
       "      <td>2017-11-03T07:19:00.000Z</td>\n",
       "      <td>False</td>\n",
       "      <td>5.5 MED</td>\n",
       "      <td>kohls</td>\n",
       "      <td>https://www.kohls.com/product/prd-2552591/2-li...</td>\n",
       "      <td>5.5 MED,6 MED,6.5 MED,7 MED,7.5 MED,8.5 MED,9 ...</td>\n",
       "      <td>https://www.kohls.com/product/prd-2552591/2-li...</td>\n",
       "      <td>887063591443,887063591146,887063590842,8870635...</td>\n",
       "      <td>NaN</td>\n",
       "    </tr>\n",
       "    <tr>\n",
       "      <th>2</th>\n",
       "      <td>AV_Ee528Hh53nbDR_0vY</td>\n",
       "      <td>11/16/17</td>\n",
       "      <td>2/11/18</td>\n",
       "      <td>2 lips too</td>\n",
       "      <td>Womens,Shoes,Pumps,Heels,2 Lips Too</td>\n",
       "      <td>Shoes</td>\n",
       "      <td>https://media.kohlsimg.com/is/image/kohls/2552...</td>\n",
       "      <td>2lipstootooellewomenshighheelsandals/84360578,...</td>\n",
       "      <td>NaN</td>\n",
       "      <td>NaN</td>\n",
       "      <td>...</td>\n",
       "      <td>2017-11-17T15:54:13Z</td>\n",
       "      <td>2017-11-03T07:19:00.000Z</td>\n",
       "      <td>False</td>\n",
       "      <td>9 MED</td>\n",
       "      <td>kohls</td>\n",
       "      <td>https://www.kohls.com/product/prd-2552591/2-li...</td>\n",
       "      <td>5.5 MED,6 MED,6.5 MED,7 MED,7.5 MED,8.5 MED,9 ...</td>\n",
       "      <td>https://www.kohls.com/product/prd-2552591/2-li...</td>\n",
       "      <td>887063591443,887063591146,887063590842,8870635...</td>\n",
       "      <td>NaN</td>\n",
       "    </tr>\n",
       "    <tr>\n",
       "      <th>3</th>\n",
       "      <td>AV_Ee528Hh53nbDR_0vY</td>\n",
       "      <td>11/16/17</td>\n",
       "      <td>2/11/18</td>\n",
       "      <td>2 lips too</td>\n",
       "      <td>Womens,Shoes,Pumps,Heels,2 Lips Too</td>\n",
       "      <td>Shoes</td>\n",
       "      <td>https://media.kohlsimg.com/is/image/kohls/2552...</td>\n",
       "      <td>2lipstootooellewomenshighheelsandals/84360578,...</td>\n",
       "      <td>NaN</td>\n",
       "      <td>NaN</td>\n",
       "      <td>...</td>\n",
       "      <td>2017-11-17T15:54:13Z</td>\n",
       "      <td>2017-11-03T07:19:00.000Z</td>\n",
       "      <td>False</td>\n",
       "      <td>7.5 MED</td>\n",
       "      <td>kohls</td>\n",
       "      <td>https://www.kohls.com/product/prd-2552591/2-li...</td>\n",
       "      <td>5.5 MED,6 MED,6.5 MED,7 MED,7.5 MED,8.5 MED,9 ...</td>\n",
       "      <td>https://www.kohls.com/product/prd-2552591/2-li...</td>\n",
       "      <td>887063591443,887063591146,887063590842,8870635...</td>\n",
       "      <td>NaN</td>\n",
       "    </tr>\n",
       "    <tr>\n",
       "      <th>4</th>\n",
       "      <td>AV_Ee528Hh53nbDR_0vY</td>\n",
       "      <td>11/16/17</td>\n",
       "      <td>2/11/18</td>\n",
       "      <td>2 lips too</td>\n",
       "      <td>Womens,Shoes,Pumps,Heels,2 Lips Too</td>\n",
       "      <td>Shoes</td>\n",
       "      <td>https://media.kohlsimg.com/is/image/kohls/2552...</td>\n",
       "      <td>2lipstootooellewomenshighheelsandals/84360578,...</td>\n",
       "      <td>NaN</td>\n",
       "      <td>NaN</td>\n",
       "      <td>...</td>\n",
       "      <td>2018-02-11T05:04:36Z</td>\n",
       "      <td>2018-01-16T16:06:00.000Z,2018-01-14T08:55:00.000Z</td>\n",
       "      <td>False</td>\n",
       "      <td>9 MED</td>\n",
       "      <td>kohls</td>\n",
       "      <td>https://www.kohls.com/product/prd-2552591/2-li...</td>\n",
       "      <td>5.5 MED,6 MED,6.5 MED,7 MED,7.5 MED,8.5 MED,9 ...</td>\n",
       "      <td>https://www.kohls.com/product/prd-2552591/2-li...</td>\n",
       "      <td>887063591443,887063591146,887063590842,8870635...</td>\n",
       "      <td>NaN</td>\n",
       "    </tr>\n",
       "  </tbody>\n",
       "</table>\n",
       "<p>5 rows × 28 columns</p>\n",
       "</div>"
      ],
      "text/plain": [
       "                     id Date_Added date_updated       brand  \\\n",
       "0  AV_Ee528Hh53nbDR_0vY   11/16/17      2/11/18  2 lips too   \n",
       "1  AV_Ee528Hh53nbDR_0vY   11/16/17      2/11/18  2 lips too   \n",
       "2  AV_Ee528Hh53nbDR_0vY   11/16/17      2/11/18  2 lips too   \n",
       "3  AV_Ee528Hh53nbDR_0vY   11/16/17      2/11/18  2 lips too   \n",
       "4  AV_Ee528Hh53nbDR_0vY   11/16/17      2/11/18  2 lips too   \n",
       "\n",
       "                            categories primaryCategories  \\\n",
       "0  Womens,Shoes,Pumps,Heels,2 Lips Too             Shoes   \n",
       "1  Womens,Shoes,Pumps,Heels,2 Lips Too             Shoes   \n",
       "2  Womens,Shoes,Pumps,Heels,2 Lips Too             Shoes   \n",
       "3  Womens,Shoes,Pumps,Heels,2 Lips Too             Shoes   \n",
       "4  Womens,Shoes,Pumps,Heels,2 Lips Too             Shoes   \n",
       "\n",
       "                                           imageURLs  \\\n",
       "0  https://media.kohlsimg.com/is/image/kohls/2552...   \n",
       "1  https://media.kohlsimg.com/is/image/kohls/2552...   \n",
       "2  https://media.kohlsimg.com/is/image/kohls/2552...   \n",
       "3  https://media.kohlsimg.com/is/image/kohls/2552...   \n",
       "4  https://media.kohlsimg.com/is/image/kohls/2552...   \n",
       "\n",
       "                                                keys manufacturer  \\\n",
       "0  2lipstootooellewomenshighheelsandals/84360578,...          NaN   \n",
       "1  2lipstootooellewomenshighheelsandals/84360578,...          NaN   \n",
       "2  2lipstootooellewomenshighheelsandals/84360578,...          NaN   \n",
       "3  2lipstootooellewomenshighheelsandals/84360578,...          NaN   \n",
       "4  2lipstootooellewomenshighheelsandals/84360578,...          NaN   \n",
       "\n",
       "  manufacturerNumber  ...      prices.dateAdded  \\\n",
       "0                NaN  ...  2018-01-10T19:30:29Z   \n",
       "1                NaN  ...  2017-11-17T15:54:13Z   \n",
       "2                NaN  ...  2017-11-17T15:54:13Z   \n",
       "3                NaN  ...  2017-11-17T15:54:13Z   \n",
       "4                NaN  ...  2018-02-11T05:04:36Z   \n",
       "\n",
       "                                     prices.dateSeen  prices.isSale  \\\n",
       "0  2018-01-09T13:35:00.000Z,2018-01-05T13:09:00.0...          False   \n",
       "1                           2017-11-03T07:19:00.000Z          False   \n",
       "2                           2017-11-03T07:19:00.000Z          False   \n",
       "3                           2017-11-03T07:19:00.000Z          False   \n",
       "4  2018-01-16T16:06:00.000Z,2018-01-14T08:55:00.000Z          False   \n",
       "\n",
       "   prices.size Merchant                                  prices.sourceURLs  \\\n",
       "0      9.5 MED    kohls  https://www.kohls.com/product/prd-2552591/2-li...   \n",
       "1      5.5 MED    kohls  https://www.kohls.com/product/prd-2552591/2-li...   \n",
       "2        9 MED    kohls  https://www.kohls.com/product/prd-2552591/2-li...   \n",
       "3      7.5 MED    kohls  https://www.kohls.com/product/prd-2552591/2-li...   \n",
       "4        9 MED    kohls  https://www.kohls.com/product/prd-2552591/2-li...   \n",
       "\n",
       "                                               sizes  \\\n",
       "0  5.5 MED,6 MED,6.5 MED,7 MED,7.5 MED,8.5 MED,9 ...   \n",
       "1  5.5 MED,6 MED,6.5 MED,7 MED,7.5 MED,8.5 MED,9 ...   \n",
       "2  5.5 MED,6 MED,6.5 MED,7 MED,7.5 MED,8.5 MED,9 ...   \n",
       "3  5.5 MED,6 MED,6.5 MED,7 MED,7.5 MED,8.5 MED,9 ...   \n",
       "4  5.5 MED,6 MED,6.5 MED,7 MED,7.5 MED,8.5 MED,9 ...   \n",
       "\n",
       "                                          sourceURLs  \\\n",
       "0  https://www.kohls.com/product/prd-2552591/2-li...   \n",
       "1  https://www.kohls.com/product/prd-2552591/2-li...   \n",
       "2  https://www.kohls.com/product/prd-2552591/2-li...   \n",
       "3  https://www.kohls.com/product/prd-2552591/2-li...   \n",
       "4  https://www.kohls.com/product/prd-2552591/2-li...   \n",
       "\n",
       "                                                 upc weight  \n",
       "0  887063591443,887063591146,887063590842,8870635...    NaN  \n",
       "1  887063591443,887063591146,887063590842,8870635...    NaN  \n",
       "2  887063591443,887063591146,887063590842,8870635...    NaN  \n",
       "3  887063591443,887063591146,887063590842,8870635...    NaN  \n",
       "4  887063591443,887063591146,887063590842,8870635...    NaN  \n",
       "\n",
       "[5 rows x 28 columns]"
      ]
     },
     "execution_count": 3,
     "metadata": {},
     "output_type": "execute_result"
    }
   ],
   "source": [
    "# open the CSV and see a preview\n",
    "shoes_df = pd.read_csv(womens_csv)\n",
    "shoes_df.head()"
   ]
  },
  {
   "cell_type": "code",
   "execution_count": 50,
   "metadata": {
    "scrolled": true
   },
   "outputs": [
    {
     "data": {
      "text/html": [
       "<div>\n",
       "<style scoped>\n",
       "    .dataframe tbody tr th:only-of-type {\n",
       "        vertical-align: middle;\n",
       "    }\n",
       "\n",
       "    .dataframe tbody tr th {\n",
       "        vertical-align: top;\n",
       "    }\n",
       "\n",
       "    .dataframe thead th {\n",
       "        text-align: right;\n",
       "    }\n",
       "</style>\n",
       "<table border=\"1\" class=\"dataframe\">\n",
       "  <thead>\n",
       "    <tr style=\"text-align: right;\">\n",
       "      <th></th>\n",
       "      <th>id</th>\n",
       "      <th>asins</th>\n",
       "      <th>brand</th>\n",
       "      <th>categories</th>\n",
       "      <th>colors</th>\n",
       "      <th>count</th>\n",
       "      <th>Date_Added</th>\n",
       "      <th>dateAdded</th>\n",
       "      <th>Date_Updated</th>\n",
       "      <th>dateUpdated</th>\n",
       "      <th>...</th>\n",
       "      <th>quantities</th>\n",
       "      <th>reviews</th>\n",
       "      <th>sizes</th>\n",
       "      <th>skus</th>\n",
       "      <th>sourceURLs</th>\n",
       "      <th>upc</th>\n",
       "      <th>vin</th>\n",
       "      <th>websiteIDs</th>\n",
       "      <th>weight</th>\n",
       "      <th>Unnamed: 50</th>\n",
       "    </tr>\n",
       "  </thead>\n",
       "  <tbody>\n",
       "    <tr>\n",
       "      <th>0</th>\n",
       "      <td>AVpfHsWP1cnluZ0-eVZ7</td>\n",
       "      <td>NaN</td>\n",
       "      <td>SERVUS BY HONEYWELL</td>\n",
       "      <td>All Men's Shoes,Shoes,Men's Shoes,Clothing</td>\n",
       "      <td>NaN</td>\n",
       "      <td>NaN</td>\n",
       "      <td>6/14/16</td>\n",
       "      <td>2016-06-14T04:29:57Z</td>\n",
       "      <td>7/9/16</td>\n",
       "      <td>2016-07-09T20:26:48Z</td>\n",
       "      <td>...</td>\n",
       "      <td>NaN</td>\n",
       "      <td>NaN</td>\n",
       "      <td>NaN</td>\n",
       "      <td>NaN</td>\n",
       "      <td>http://www.walmart.com/ip/Studs-Shoe-Large-Pr-...</td>\n",
       "      <td>NaN</td>\n",
       "      <td>NaN</td>\n",
       "      <td>NaN</td>\n",
       "      <td>NaN</td>\n",
       "      <td>NaN</td>\n",
       "    </tr>\n",
       "    <tr>\n",
       "      <th>1</th>\n",
       "      <td>AVpfHsWP1cnluZ0-eVZ7</td>\n",
       "      <td>NaN</td>\n",
       "      <td>SERVUS BY HONEYWELL</td>\n",
       "      <td>All Men's Shoes,Shoes,Men's Shoes,Clothing</td>\n",
       "      <td>NaN</td>\n",
       "      <td>NaN</td>\n",
       "      <td>6/14/16</td>\n",
       "      <td>2016-06-14T04:29:57Z</td>\n",
       "      <td>7/9/16</td>\n",
       "      <td>2016-07-09T20:26:48Z</td>\n",
       "      <td>...</td>\n",
       "      <td>NaN</td>\n",
       "      <td>NaN</td>\n",
       "      <td>NaN</td>\n",
       "      <td>NaN</td>\n",
       "      <td>http://www.walmart.com/ip/Studs-Shoe-Large-Pr-...</td>\n",
       "      <td>NaN</td>\n",
       "      <td>NaN</td>\n",
       "      <td>NaN</td>\n",
       "      <td>NaN</td>\n",
       "      <td>NaN</td>\n",
       "    </tr>\n",
       "    <tr>\n",
       "      <th>2</th>\n",
       "      <td>AVpfHsWP1cnluZ0-eVZ7</td>\n",
       "      <td>NaN</td>\n",
       "      <td>SERVUS BY HONEYWELL</td>\n",
       "      <td>All Men's Shoes,Shoes,Men's Shoes,Clothing</td>\n",
       "      <td>NaN</td>\n",
       "      <td>NaN</td>\n",
       "      <td>6/14/16</td>\n",
       "      <td>2016-06-14T04:29:57Z</td>\n",
       "      <td>7/9/16</td>\n",
       "      <td>2016-07-09T20:26:48Z</td>\n",
       "      <td>...</td>\n",
       "      <td>NaN</td>\n",
       "      <td>NaN</td>\n",
       "      <td>NaN</td>\n",
       "      <td>NaN</td>\n",
       "      <td>http://www.walmart.com/ip/Studs-Shoe-Large-Pr-...</td>\n",
       "      <td>NaN</td>\n",
       "      <td>NaN</td>\n",
       "      <td>NaN</td>\n",
       "      <td>NaN</td>\n",
       "      <td>NaN</td>\n",
       "    </tr>\n",
       "    <tr>\n",
       "      <th>3</th>\n",
       "      <td>AVpfHsWP1cnluZ0-eVZ7</td>\n",
       "      <td>NaN</td>\n",
       "      <td>SERVUS BY HONEYWELL</td>\n",
       "      <td>All Men's Shoes,Shoes,Men's Shoes,Clothing</td>\n",
       "      <td>NaN</td>\n",
       "      <td>NaN</td>\n",
       "      <td>6/14/16</td>\n",
       "      <td>2016-06-14T04:29:57Z</td>\n",
       "      <td>7/9/16</td>\n",
       "      <td>2016-07-09T20:26:48Z</td>\n",
       "      <td>...</td>\n",
       "      <td>NaN</td>\n",
       "      <td>NaN</td>\n",
       "      <td>NaN</td>\n",
       "      <td>NaN</td>\n",
       "      <td>http://www.walmart.com/ip/Studs-Shoe-Large-Pr-...</td>\n",
       "      <td>NaN</td>\n",
       "      <td>NaN</td>\n",
       "      <td>NaN</td>\n",
       "      <td>NaN</td>\n",
       "      <td>NaN</td>\n",
       "    </tr>\n",
       "    <tr>\n",
       "      <th>4</th>\n",
       "      <td>AVpfHsWP1cnluZ0-eVZ7</td>\n",
       "      <td>NaN</td>\n",
       "      <td>SERVUS BY HONEYWELL</td>\n",
       "      <td>All Men's Shoes,Shoes,Men's Shoes,Clothing</td>\n",
       "      <td>NaN</td>\n",
       "      <td>NaN</td>\n",
       "      <td>6/14/16</td>\n",
       "      <td>2016-06-14T04:29:57Z</td>\n",
       "      <td>7/9/16</td>\n",
       "      <td>2016-07-09T20:26:48Z</td>\n",
       "      <td>...</td>\n",
       "      <td>NaN</td>\n",
       "      <td>NaN</td>\n",
       "      <td>NaN</td>\n",
       "      <td>NaN</td>\n",
       "      <td>http://www.walmart.com/ip/Studs-Shoe-Large-Pr-...</td>\n",
       "      <td>NaN</td>\n",
       "      <td>NaN</td>\n",
       "      <td>NaN</td>\n",
       "      <td>NaN</td>\n",
       "      <td>NaN</td>\n",
       "    </tr>\n",
       "  </tbody>\n",
       "</table>\n",
       "<p>5 rows × 51 columns</p>\n",
       "</div>"
      ],
      "text/plain": [
       "                     id asins                brand  \\\n",
       "0  AVpfHsWP1cnluZ0-eVZ7   NaN  SERVUS BY HONEYWELL   \n",
       "1  AVpfHsWP1cnluZ0-eVZ7   NaN  SERVUS BY HONEYWELL   \n",
       "2  AVpfHsWP1cnluZ0-eVZ7   NaN  SERVUS BY HONEYWELL   \n",
       "3  AVpfHsWP1cnluZ0-eVZ7   NaN  SERVUS BY HONEYWELL   \n",
       "4  AVpfHsWP1cnluZ0-eVZ7   NaN  SERVUS BY HONEYWELL   \n",
       "\n",
       "                                   categories colors  count Date_Added  \\\n",
       "0  All Men's Shoes,Shoes,Men's Shoes,Clothing    NaN    NaN    6/14/16   \n",
       "1  All Men's Shoes,Shoes,Men's Shoes,Clothing    NaN    NaN    6/14/16   \n",
       "2  All Men's Shoes,Shoes,Men's Shoes,Clothing    NaN    NaN    6/14/16   \n",
       "3  All Men's Shoes,Shoes,Men's Shoes,Clothing    NaN    NaN    6/14/16   \n",
       "4  All Men's Shoes,Shoes,Men's Shoes,Clothing    NaN    NaN    6/14/16   \n",
       "\n",
       "              dateAdded Date_Updated           dateUpdated  ... quantities  \\\n",
       "0  2016-06-14T04:29:57Z       7/9/16  2016-07-09T20:26:48Z  ...        NaN   \n",
       "1  2016-06-14T04:29:57Z       7/9/16  2016-07-09T20:26:48Z  ...        NaN   \n",
       "2  2016-06-14T04:29:57Z       7/9/16  2016-07-09T20:26:48Z  ...        NaN   \n",
       "3  2016-06-14T04:29:57Z       7/9/16  2016-07-09T20:26:48Z  ...        NaN   \n",
       "4  2016-06-14T04:29:57Z       7/9/16  2016-07-09T20:26:48Z  ...        NaN   \n",
       "\n",
       "  reviews  sizes skus                                         sourceURLs  upc  \\\n",
       "0     NaN    NaN  NaN  http://www.walmart.com/ip/Studs-Shoe-Large-Pr-...  NaN   \n",
       "1     NaN    NaN  NaN  http://www.walmart.com/ip/Studs-Shoe-Large-Pr-...  NaN   \n",
       "2     NaN    NaN  NaN  http://www.walmart.com/ip/Studs-Shoe-Large-Pr-...  NaN   \n",
       "3     NaN    NaN  NaN  http://www.walmart.com/ip/Studs-Shoe-Large-Pr-...  NaN   \n",
       "4     NaN    NaN  NaN  http://www.walmart.com/ip/Studs-Shoe-Large-Pr-...  NaN   \n",
       "\n",
       "   vin websiteIDs weight Unnamed: 50  \n",
       "0  NaN        NaN    NaN         NaN  \n",
       "1  NaN        NaN    NaN         NaN  \n",
       "2  NaN        NaN    NaN         NaN  \n",
       "3  NaN        NaN    NaN         NaN  \n",
       "4  NaN        NaN    NaN         NaN  \n",
       "\n",
       "[5 rows x 51 columns]"
      ]
     },
     "execution_count": 50,
     "metadata": {},
     "output_type": "execute_result"
    }
   ],
   "source": [
    "mens_shoes_df = pd.read_csv(mens_csv, error_bad_lines=False)\n",
    "mens_shoes_df.head()"
   ]
  },
  {
   "cell_type": "code",
   "execution_count": 5,
   "metadata": {
    "scrolled": true
   },
   "outputs": [],
   "source": [
    "spring19_df = pd.read_csv(spring19_womens_csv)\n",
    "#spring19_df.head()"
   ]
  },
  {
   "cell_type": "code",
   "execution_count": 6,
   "metadata": {},
   "outputs": [],
   "source": [
    "#spring19_df.info()"
   ]
  },
  {
   "cell_type": "code",
   "execution_count": 7,
   "metadata": {},
   "outputs": [],
   "source": [
    "# info on the csv file (see where data is missing, data types)\n",
    "#shoes_df.info()"
   ]
  },
  {
   "cell_type": "code",
   "execution_count": 51,
   "metadata": {},
   "outputs": [
    {
     "name": "stdout",
     "output_type": "stream",
     "text": [
      "<class 'pandas.core.frame.DataFrame'>\n",
      "RangeIndex: 12207 entries, 0 to 12206\n",
      "Data columns (total 51 columns):\n",
      "id                     12207 non-null object\n",
      "asins                  898 non-null object\n",
      "brand                  11989 non-null object\n",
      "categories             12207 non-null object\n",
      "colors                 8096 non-null object\n",
      "count                  0 non-null float64\n",
      "Date_Added             12207 non-null object\n",
      "dateAdded              12207 non-null object\n",
      "Date_Updated           12207 non-null object\n",
      "dateUpdated            12207 non-null object\n",
      "descriptions           8402 non-null object\n",
      "dimension              258 non-null object\n",
      "ean                    7815 non-null float64\n",
      "features               10184 non-null object\n",
      "flavors                0 non-null float64\n",
      "imageURLs              11697 non-null object\n",
      "isbn                   0 non-null float64\n",
      "keys                   12207 non-null object\n",
      "manufacturer           5979 non-null object\n",
      "manufacturerNumber     9290 non-null object\n",
      "merchants              10992 non-null object\n",
      "name                   12207 non-null object\n",
      "prices.amountMin       12205 non-null object\n",
      "prices.amountMax       12207 non-null object\n",
      "prices.availability    110 non-null object\n",
      "prices.color           660 non-null object\n",
      "prices.condition       9772 non-null object\n",
      "prices.count           53 non-null object\n",
      "prices.currency        12146 non-null object\n",
      "prices.dateAdded       12195 non-null object\n",
      "prices.dateSeen        12199 non-null object\n",
      "prices.flavor          62 non-null object\n",
      "prices.isSale          12155 non-null object\n",
      "prices.merchant        8935 non-null object\n",
      "prices.offer           4754 non-null object\n",
      "prices.returnPolicy    845 non-null object\n",
      "prices.shipping        2672 non-null object\n",
      "prices.size            648 non-null object\n",
      "prices.source          6 non-null object\n",
      "prices.sourceURLs      12140 non-null object\n",
      "prices.warranty        52 non-null object\n",
      "quantities             8 non-null object\n",
      "reviews                737 non-null object\n",
      "sizes                  5138 non-null object\n",
      "skus                   3169 non-null object\n",
      "sourceURLs             12148 non-null object\n",
      "upc                    8617 non-null object\n",
      "vin                    39 non-null object\n",
      "websiteIDs             8 non-null object\n",
      "weight                 560 non-null object\n",
      "Unnamed: 50            3 non-null object\n",
      "dtypes: float64(4), object(47)\n",
      "memory usage: 4.7+ MB\n"
     ]
    }
   ],
   "source": [
    "mens_shoes_df.info()"
   ]
  },
  {
   "cell_type": "code",
   "execution_count": 9,
   "metadata": {},
   "outputs": [],
   "source": [
    "# drop unneeded columns here\n",
    "shoes_df = shoes_df.drop(columns=[\"id\",\n",
    "                                  \"prices.size\",\n",
    "                                  \"weight\",\n",
    "                                  \"prices.condition\",\n",
    "                                  \"imageURLs\",\n",
    "                                  \"manufacturerNumber\",\n",
    "                                  \"upc\",\n",
    "                                  \"sourceURLs\",\n",
    "                                  \"prices.availability\",\n",
    "                                  \"sizes\",\n",
    "                                  \"keys\",\n",
    "                                  \"manufacturer\",\n",
    "                                  \"prices.dateAdded\",\n",
    "                                  \"prices.dateSeen\",\n",
    "                                  \"name\",\n",
    "                                  \"Date_Added\",\n",
    "                                  \"prices.isSale\",\n",
    "                                  \"primaryCategories\",\n",
    "                                  \"prices.sourceURLs\",\n",
    "                                  \"categories\",\n",
    "                                  \"prices.amountMin\"\n",
    "                         ])"
   ]
  },
  {
   "cell_type": "code",
   "execution_count": 10,
   "metadata": {},
   "outputs": [
    {
     "data": {
      "text/html": [
       "<div>\n",
       "<style scoped>\n",
       "    .dataframe tbody tr th:only-of-type {\n",
       "        vertical-align: middle;\n",
       "    }\n",
       "\n",
       "    .dataframe tbody tr th {\n",
       "        vertical-align: top;\n",
       "    }\n",
       "\n",
       "    .dataframe thead th {\n",
       "        text-align: right;\n",
       "    }\n",
       "</style>\n",
       "<table border=\"1\" class=\"dataframe\">\n",
       "  <thead>\n",
       "    <tr style=\"text-align: right;\">\n",
       "      <th></th>\n",
       "      <th>Date</th>\n",
       "      <th>Brand</th>\n",
       "      <th>Type</th>\n",
       "      <th>Prices</th>\n",
       "      <th>Color</th>\n",
       "      <th>Currency</th>\n",
       "      <th>Merchant</th>\n",
       "    </tr>\n",
       "  </thead>\n",
       "  <tbody>\n",
       "    <tr>\n",
       "      <th>0</th>\n",
       "      <td>2/11/18</td>\n",
       "      <td>2 lips too</td>\n",
       "      <td>Heels</td>\n",
       "      <td>64.95</td>\n",
       "      <td>Gold</td>\n",
       "      <td>USD</td>\n",
       "      <td>kohls</td>\n",
       "    </tr>\n",
       "    <tr>\n",
       "      <th>1</th>\n",
       "      <td>2/11/18</td>\n",
       "      <td>2 lips too</td>\n",
       "      <td>Heels</td>\n",
       "      <td>64.95</td>\n",
       "      <td>Pink</td>\n",
       "      <td>USD</td>\n",
       "      <td>kohls</td>\n",
       "    </tr>\n",
       "    <tr>\n",
       "      <th>2</th>\n",
       "      <td>2/11/18</td>\n",
       "      <td>2 lips too</td>\n",
       "      <td>Heels</td>\n",
       "      <td>64.95</td>\n",
       "      <td>Pink</td>\n",
       "      <td>USD</td>\n",
       "      <td>kohls</td>\n",
       "    </tr>\n",
       "    <tr>\n",
       "      <th>3</th>\n",
       "      <td>2/11/18</td>\n",
       "      <td>2 lips too</td>\n",
       "      <td>Heels</td>\n",
       "      <td>64.95</td>\n",
       "      <td>Gold</td>\n",
       "      <td>USD</td>\n",
       "      <td>kohls</td>\n",
       "    </tr>\n",
       "    <tr>\n",
       "      <th>4</th>\n",
       "      <td>2/11/18</td>\n",
       "      <td>2 lips too</td>\n",
       "      <td>Heels</td>\n",
       "      <td>64.95</td>\n",
       "      <td>White</td>\n",
       "      <td>USD</td>\n",
       "      <td>kohls</td>\n",
       "    </tr>\n",
       "  </tbody>\n",
       "</table>\n",
       "</div>"
      ],
      "text/plain": [
       "      Date       Brand   Type  Prices  Color Currency Merchant\n",
       "0  2/11/18  2 lips too  Heels   64.95   Gold      USD    kohls\n",
       "1  2/11/18  2 lips too  Heels   64.95   Pink      USD    kohls\n",
       "2  2/11/18  2 lips too  Heels   64.95   Pink      USD    kohls\n",
       "3  2/11/18  2 lips too  Heels   64.95   Gold      USD    kohls\n",
       "4  2/11/18  2 lips too  Heels   64.95  White      USD    kohls"
      ]
     },
     "execution_count": 10,
     "metadata": {},
     "output_type": "execute_result"
    }
   ],
   "source": [
    "# rename columns\n",
    "shoes_df = shoes_df.rename(columns={#\"prices.merchant\": \"Merchant\",\n",
    "                                    \"brand\": \"Brand\",\n",
    "                                    \"prices.color\" : \"Color\",\n",
    "                                    \"Type_Name\": \"Type\",\n",
    "                                    \"date_updated\": \"Date\",\n",
    "                                    \"prices.currency\": \"Currency\",\n",
    "                                    \"prices.amountMax\": \"Prices\"\n",
    "                                   })\n",
    "shoes_df.head()"
   ]
  },
  {
   "cell_type": "code",
   "execution_count": 11,
   "metadata": {},
   "outputs": [],
   "source": [
    "#shoes_df.info()"
   ]
  },
  {
   "cell_type": "code",
   "execution_count": 12,
   "metadata": {},
   "outputs": [
    {
     "data": {
      "text/plain": [
       "Brand\n",
       "2 lips too                                                         [Heels, Booties]\n",
       "Altra                                                              [Athletic Shoes]\n",
       "Arc'teryx                                                          [Athletic Shoes]\n",
       "Asics                                                              [Athletic Shoes]\n",
       "Astral                                                            [Flats, Sneakers]\n",
       "Birkenstock                                                                 [Flats]\n",
       "Bogs                                                                     [Sneakers]\n",
       "Brinley Co.                                 [Boots, Heels, Booties, Flats, Sandals]\n",
       "Brooks                                                             [Athletic Shoes]\n",
       "Carrini                                                                     [Boots]\n",
       "Chaco                                                              [Athletic Shoes]\n",
       "Daniel Green                                                                [Flats]\n",
       "Danskin Now                                                        [Athletic Shoes]\n",
       "Dansko                                                                      [Flats]\n",
       "Dr. Scholl's                               [Flats, Booties, Ballet Flats, Sneakers]\n",
       "ELLIE SHOES                                                                 [Flats]\n",
       "Earth Spirit                                                              [Sandals]\n",
       "Easy Street                                                                 [Heels]\n",
       "FOREVER YOUNG                                                               [Boots]\n",
       "Faded Glory                                                [Sneakers, Flats, Boots]\n",
       "Fergalicious                                                                [Flats]\n",
       "Free People                                                               [Booties]\n",
       "Frye                                                                 [Ballet Flats]\n",
       "Genuine Dickies                                                             [Flats]\n",
       "Hoka One One                                                       [Athletic Shoes]\n",
       "IB Non-Slip                                                                 [Boots]\n",
       "Inov 8                                                             [Athletic Shoes]\n",
       "KEEN                                                                        [Flats]\n",
       "Kaanas                                                                      [Heels]\n",
       "Keds                                                                     [Sneakers]\n",
       "                                                        ...                        \n",
       "kisses by 2 lips too                                               [Boots, Booties]\n",
       "koolaburra by ugg                                                           [Boots]\n",
       "lc lauren conrad                                   [Booties, Heels, Sandals, Flats]\n",
       "lifestride                        [Booties, Heels, Sandals, Flats, Ballet Flats,...\n",
       "lugz                                                                      [Booties]\n",
       "madden nyc                                      [Booties, Heels, Sandals, Sneakers]\n",
       "muk luks                                                                  [Sandals]\n",
       "naturalsoul by naturalizer                 [Sandals, Ballet Flats, Flats, Sneakers]\n",
       "new balance                                               [Athletic Shoes, Sandals]\n",
       "nike                                                     [Athletic Shoes, Sneakers]\n",
       "nyla                                                                      [Sandals]\n",
       "olivia miller                                                               [Boots]\n",
       "puma                                                                     [Sneakers]\n",
       "qupid                                                            [Sandals, Booties]\n",
       "rampage                                                            [Sandals, Heels]\n",
       "reef                                                                      [Sandals]\n",
       "rocky 4eursole                                                            [Sandals]\n",
       "ryka                                               [Athletic Shoes, Boots, Sandals]\n",
       "seven7                                                             [Flats, Sandals]\n",
       "simply vera vera wang                         [Flats, Booties, Heels, Ballet Flats]\n",
       "skechers                                   [Athletic Shoes, Sneakers, Ballet Flats]\n",
       "so                                            [Ballet Flats, Booties, Flats, Boots]\n",
       "soft style by hush puppies                                         [Flats, Sandals]\n",
       "sonoma goods for life                                     [Booties, Flats, Sandals]\n",
       "spring step                                                 [Flats, Sandals, Heels]\n",
       "style charles by charles david         [Sandals, Boots, Heels, Ballet Flats, Flats]\n",
       "sugar                                                                       [Boots]\n",
       "under armour                                                             [Sneakers]\n",
       "unionbay                                                                    [Flats]\n",
       "vans                                                                     [Sneakers]\n",
       "Name: Type, Length: 125, dtype: object"
      ]
     },
     "execution_count": 12,
     "metadata": {},
     "output_type": "execute_result"
    }
   ],
   "source": [
    "typebybrand_df = shoes_df.groupby(\"Brand\")[\"Type\"].unique()\n",
    "typebybrand_df"
   ]
  },
  {
   "cell_type": "code",
   "execution_count": 13,
   "metadata": {},
   "outputs": [
    {
     "data": {
      "text/plain": [
       "Brand\n",
       "2 lips too                         67.320526\n",
       "Altra                             129.950000\n",
       "Arc'teryx                         170.000000\n",
       "Asics                             119.950000\n",
       "Astral                             89.925000\n",
       "Birkenstock                       133.333333\n",
       "Bogs                               64.990000\n",
       "Brinley Co.                        53.353684\n",
       "Brooks                            125.213158\n",
       "Carrini                            34.950000\n",
       "Chaco                             119.950000\n",
       "Daniel Green                       35.000000\n",
       "Danskin Now                        19.740000\n",
       "Dansko                            130.000000\n",
       "Dr. Scholl's                       76.961479\n",
       "ELLIE SHOES                        37.410000\n",
       "Earth Spirit                       19.820000\n",
       "Easy Street                        54.990000\n",
       "FOREVER YOUNG                      45.990000\n",
       "Faded Glory                        14.587500\n",
       "Fergalicious                       54.950000\n",
       "Free People                       178.000000\n",
       "Frye                              165.450000\n",
       "Genuine Dickies                    19.970000\n",
       "Hoka One One                      144.235714\n",
       "IB Non-Slip                        39.990000\n",
       "Inov 8                            126.450000\n",
       "KEEN                              109.950000\n",
       "Kaanas                            128.950000\n",
       "Keds                               49.990000\n",
       "                                     ...    \n",
       "kisses by 2 lips too               76.946522\n",
       "koolaburra by ugg                  89.990000\n",
       "lc lauren conrad                   50.279855\n",
       "lifestride                         59.732622\n",
       "lugz                               84.990000\n",
       "madden nyc                         50.466190\n",
       "muk luks                           36.000000\n",
       "naturalsoul by naturalizer         71.485327\n",
       "new balance                        69.159922\n",
       "nike                               67.929825\n",
       "nyla                               69.950000\n",
       "olivia miller                      84.990000\n",
       "puma                               70.000000\n",
       "qupid                              54.323333\n",
       "rampage                            69.990000\n",
       "reef                               39.990000\n",
       "rocky 4eursole                    120.272727\n",
       "ryka                               62.286124\n",
       "seven7                             39.636429\n",
       "simply vera vera wang              68.648537\n",
       "skechers                           64.611622\n",
       "so                                 56.265047\n",
       "soft style by hush puppies         51.640000\n",
       "sonoma goods for life              69.815328\n",
       "spring step                        62.774810\n",
       "style charles by charles david     88.853556\n",
       "sugar                              49.990000\n",
       "under armour                       79.990000\n",
       "unionbay                           47.990000\n",
       "vans                               60.615000\n",
       "Name: Prices, Length: 125, dtype: float64"
      ]
     },
     "execution_count": 13,
     "metadata": {},
     "output_type": "execute_result"
    }
   ],
   "source": [
    "pricesbybrand_df = shoes_df.groupby(\"Brand\")[\"Prices\"].mean()\n",
    "pricesbybrand_df"
   ]
  },
  {
   "cell_type": "code",
   "execution_count": 60,
   "metadata": {},
   "outputs": [
    {
     "data": {
      "text/plain": [
       "59.99     2279\n",
       "69.99     1499\n",
       "49.99      843\n",
       "64.99      737\n",
       "54.99      689\n",
       "89.99      532\n",
       "79.99      480\n",
       "84.99      300\n",
       "89.00      297\n",
       "65.00      263\n",
       "74.99      204\n",
       "70.00      190\n",
       "80.00      140\n",
       "75.00      109\n",
       "85.00      109\n",
       "29.99      107\n",
       "90.00       86\n",
       "79.00       70\n",
       "119.00      63\n",
       "95.00       60\n",
       "39.99       57\n",
       "69.00       55\n",
       "60.00       55\n",
       "129.95      53\n",
       "94.99       50\n",
       "119.95      46\n",
       "99.99       40\n",
       "44.99       34\n",
       "99.95       29\n",
       "50.00       24\n",
       "          ... \n",
       "14.00        1\n",
       "35.00        1\n",
       "179.95       1\n",
       "160.00       1\n",
       "48.99        1\n",
       "57.00        1\n",
       "34.95        1\n",
       "168.95       1\n",
       "42.92        1\n",
       "16.97        1\n",
       "128.95       1\n",
       "289.95       1\n",
       "26.99        1\n",
       "29.75        1\n",
       "42.99        1\n",
       "47.00        1\n",
       "45.99        1\n",
       "37.41        1\n",
       "151.24       1\n",
       "46.74        1\n",
       "15.88        1\n",
       "36.99        1\n",
       "35.25        1\n",
       "145.95       1\n",
       "25.00        1\n",
       "8.97         1\n",
       "24.75        1\n",
       "25.76        1\n",
       "34.99        1\n",
       "32.98        1\n",
       "Name: Prices, Length: 134, dtype: int64"
      ]
     },
     "execution_count": 60,
     "metadata": {},
     "output_type": "execute_result"
    }
   ],
   "source": [
    "avgprices = shoes_df[\"Prices\"].value_counts()\n",
    "avgprices\n",
    "\n",
    "#brands = shoes_df[\"Brand\"].value_counts()\n",
    "#brands"
   ]
  },
  {
   "cell_type": "code",
   "execution_count": 106,
   "metadata": {},
   "outputs": [
    {
     "data": {
      "text/plain": [
       "Black          2871\n",
       "Gray           1775\n",
       "Tan            1300\n",
       "Dark Blue       997\n",
       "Brown           919\n",
       "White           545\n",
       "Light Blue      302\n",
       "Pink            297\n",
       "Dark Red        224\n",
       "Red             211\n",
       "Dark Green      154\n",
       "Gold            151\n",
       "Print           127\n",
       "Purple           64\n",
       "Orange           46\n",
       "Light Green       9\n",
       "Yellow            5\n",
       "Cream             3\n",
       "Name: Color, dtype: int64"
      ]
     },
     "execution_count": 106,
     "metadata": {},
     "output_type": "execute_result"
    }
   ],
   "source": [
    "colors = shoes_df[\"Color\"].unique()\n",
    "colors\n",
    "\n",
    "totalcolors = shoes_df[\"Color\"].value_counts()\n",
    "totalcolors"
   ]
  },
  {
   "cell_type": "code",
   "execution_count": 82,
   "metadata": {},
   "outputs": [
    {
     "data": {
      "text/plain": [
       "(array([ 0,  1,  2,  3,  4,  5,  6,  7,  8,  9, 10, 11, 12, 13, 14, 15, 16,\n",
       "        17]), <a list of 18 Text xticklabel objects>)"
      ]
     },
     "execution_count": 82,
     "metadata": {},
     "output_type": "execute_result"
    },
    {
     "data": {
      "image/png": "[encoded data removed]",
      "text/plain": [
       "<Figure size 432x288 with 1 Axes>"
      ]
     },
     "metadata": {
      "needs_background": "light"
     },
     "output_type": "display_data"
    }
   ],
   "source": [
    "ax = sns.boxplot(x=colors, y=totalcolors)\n",
    "plt.xticks(rotation=45)\n",
    "#plt.boxplot(brands, avgprices, s = 10, label = \"Brands\",\n",
    "#                    color = \"coral\", edgecolors = \"black\", alpha = 0.5) \n",
    "#plt.xticks(rotation=45)\n",
    "#plt.show()"
   ]
  },
  {
   "cell_type": "code",
   "execution_count": 14,
   "metadata": {},
   "outputs": [
    {
     "data": {
      "text/plain": [
       "Color\n",
       "Black          [Heels, Booties, Sandals, Flats, Boots, Ballet...\n",
       "Brown          [Heels, Sandals, Booties, Boots, Flats, Ballet...\n",
       "Cream                                      [Flats, Ballet Flats]\n",
       "Dark Blue      [Heels, Sandals, Flats, Ballet Flats, Sneakers...\n",
       "Dark Green     [Booties, Sneakers, Heels, Ballet Flats, Flats...\n",
       "Dark Red       [Ballet Flats, Sandals, Heels, Booties, Flats,...\n",
       "Gold           [Heels, Ballet Flats, Sandals, Sneakers, Flats...\n",
       "Gray           [Heels, Booties, Sandals, Flats, Boots, Sneake...\n",
       "Light Blue     [Heels, Sandals, Athletic Shoes, Flats, Sneake...\n",
       "Light Green              [Flats, Sandals, Heels, Athletic Shoes]\n",
       "Orange                   [Flats, Sandals, Athletic Shoes, Heels]\n",
       "Pink           [Heels, Sandals, Athletic Shoes, Ballet Flats,...\n",
       "Print          [Heels, Flats, Sandals, Ballet Flats, Athletic...\n",
       "Purple                  [Athletic Shoes, Sneakers, Heels, Flats]\n",
       "Red            [Booties, Heels, Athletic Shoes, Flats, Sandal...\n",
       "Tan            [Booties, Flats, Heels, Boots, Ballet Flats, S...\n",
       "White          [Heels, Sandals, Sneakers, Athletic Shoes, Bal...\n",
       "Yellow                                          [Sandals, Boots]\n",
       "Name: Type, dtype: object"
      ]
     },
     "execution_count": 14,
     "metadata": {},
     "output_type": "execute_result"
    }
   ],
   "source": [
    "typebycolor_df = shoes_df.groupby(\"Color\")[\"Type\"].unique()\n",
    "typebycolor_df"
   ]
  },
  {
   "cell_type": "code",
   "execution_count": 70,
   "metadata": {},
   "outputs": [
    {
     "data": {
      "text/plain": [
       "array(['Heels', 'Booties', 'Sandals', 'Flats', 'Boots', 'Ballet Flats',\n",
       "       'Sneakers', 'Athletic Shoes'], dtype=object)"
      ]
     },
     "execution_count": 70,
     "metadata": {},
     "output_type": "execute_result"
    }
   ],
   "source": [
    "avgpricesbytype = shoes_df.groupby(\"Type\")[\"Prices\"].mean()\n",
    "avgpricesbytype\n",
    "\n",
    "shoetype = shoes_df[\"Type\"].unique()\n",
    "shoetype"
   ]
  },
  {
   "cell_type": "code",
   "execution_count": 115,
   "metadata": {},
   "outputs": [
    {
     "data": {
      "image/png": "[encoded data removed]",
      "text/plain": [
       "<Figure size 432x288 with 1 Axes>"
      ]
     },
     "metadata": {},
     "output_type": "display_data"
    },
    {
     "data": {
      "text/plain": [
       "<Figure size 432x288 with 0 Axes>"
      ]
     },
     "metadata": {},
     "output_type": "display_data"
    }
   ],
   "source": [
    "explode = (0, 0, 0, 0.1, 0, 0, 0, 0)\n",
    "plt.pie(x=avgpricesbytype, labels=shoetype, explode=explode, autopct='%1.1f%%', shadow=True, startangle=90)\n",
    "plt.axis('equal')\n",
    "plt.figure()\n",
    "plt.show()"
   ]
  },
  {
   "cell_type": "code",
   "execution_count": 68,
   "metadata": {},
   "outputs": [
    {
     "data": {
      "image/png": "[encoded data removed]",
      "text/plain": [
       "<Figure size 432x288 with 1 Axes>"
      ]
     },
     "metadata": {
      "needs_background": "light"
     },
     "output_type": "display_data"
    }
   ],
   "source": [
    "plt.barh(shoetype, avgpricesbytype, label = \"Average Prices by Type\",\n",
    "        color = \"lightcoral\")\n",
    "plt.title(\"Average Prices by Type in A/W 2018\")\n",
    "#plt.xticks(rotation=45)\n",
    "plt.xlabel(\"Prices (USD)\")\n",
    "plt.ylabel(\"Type of Shoes\")\n",
    "plt.savefig('pricesbytype.png')\n",
    "plt.show()"
   ]
  },
  {
   "cell_type": "code",
   "execution_count": 17,
   "metadata": {},
   "outputs": [
    {
     "data": {
      "text/plain": [
       "array(['2/11/18', '1/21/18', '2/1/18', '1/28/18', '2/14/18', '1/29/18',\n",
       "       '1/9/18', '1/10/18', '1/2/18', '2/12/18', '1/19/18', '4/10/18',\n",
       "       '4/7/18', '6/18/18', '1/25/18', '1/30/18', '7/3/18', '1/11/18',\n",
       "       '6/25/18', '4/6/18', '6/28/18', '3/17/18', '3/12/18', '1/4/18',\n",
       "       '1/3/18', '1/31/18', '2/13/18', '1/7/18', '6/27/18', '7/2/18',\n",
       "       '1/22/18', '1/1/18', '1/20/18', '6/5/18', '1/5/18', '1/18/18',\n",
       "       '3/11/18', '2/5/18', '7/4/18', '3/20/18', '2/7/18', '10/15/18',\n",
       "       '1/23/18', '6/30/18', '5/21/18', '1/6/18', '6/22/18', '6/23/18',\n",
       "       '4/21/18', '10/23/18', '2/28/18', '5/29/18'], dtype=object)"
      ]
     },
     "execution_count": 17,
     "metadata": {},
     "output_type": "execute_result"
    }
   ],
   "source": [
    "date_df = shoes_df[\"Date\"].unique()\n",
    "date_df"
   ]
  },
  {
   "cell_type": "code",
   "execution_count": 18,
   "metadata": {},
   "outputs": [
    {
     "data": {
      "text/plain": [
       "Type\n",
       "Athletic Shoes    [1/19/18, 2/1/18, 4/10/18, 4/7/18, 6/18/18, 7/...\n",
       "Ballet Flats      [2/1/18, 1/10/18, 1/22/18, 1/21/18, 4/10/18, 4...\n",
       "Booties           [1/21/18, 2/1/18, 1/29/18, 1/4/18, 1/28/18, 1/...\n",
       "Boots             [2/1/18, 3/17/18, 3/12/18, 1/28/18, 1/4/18, 1/...\n",
       "Flats             [2/1/18, 1/2/18, 1/28/18, 1/10/18, 2/12/18, 4/...\n",
       "Heels             [2/11/18, 2/1/18, 1/28/18, 2/14/18, 1/9/18, 1/...\n",
       "Sandals           [1/29/18, 1/10/18, 2/1/18, 1/28/18, 1/5/18, 6/...\n",
       "Sneakers          [2/1/18, 4/6/18, 1/10/18, 1/30/18, 1/20/18, 1/...\n",
       "Name: Date, dtype: object"
      ]
     },
     "execution_count": 18,
     "metadata": {},
     "output_type": "execute_result"
    }
   ],
   "source": [
    "typecount_df = shoes_df.groupby(\"Type\")[\"Date\"].unique()\n",
    "typecount_df"
   ]
  },
  {
   "cell_type": "code",
   "execution_count": 19,
   "metadata": {},
   "outputs": [
    {
     "data": {
      "image/png": "[encoded data removed]",
      "text/plain": [
       "<Figure size 432x288 with 1 Axes>"
      ]
     },
     "metadata": {
      "needs_background": "light"
     },
     "output_type": "display_data"
    }
   ],
   "source": [
    "plt.scatter(shoes_df[\"Color\"], shoes_df[\"Type\"], label = \"Shoes\",\n",
    "                    color = \"coral\", edgecolors = \"black\", alpha = 0.5) \n",
    "plt.xticks(rotation=45)\n",
    "plt.show()"
   ]
  },
  {
   "cell_type": "code",
   "execution_count": 20,
   "metadata": {},
   "outputs": [
    {
     "data": {
      "text/plain": [
       "array(['kohls', 'backcountry', 'walmart', 'overstock', 'evo.com'],\n",
       "      dtype=object)"
      ]
     },
     "execution_count": 20,
     "metadata": {},
     "output_type": "execute_result"
    }
   ],
   "source": [
    "merchantname_df = shoes_df[\"Merchant\"].unique()\n",
    "merchantname_df"
   ]
  },
  {
   "cell_type": "code",
   "execution_count": 21,
   "metadata": {},
   "outputs": [
    {
     "data": {
      "text/plain": [
       "Merchant\n",
       "backcountry     41880.34\n",
       "evo.com          1979.60\n",
       "kohls          645107.64\n",
       "overstock         201.94\n",
       "walmart          3065.92\n",
       "Name: Prices, dtype: float64"
      ]
     },
     "execution_count": 21,
     "metadata": {},
     "output_type": "execute_result"
    }
   ],
   "source": [
    "pricesbymerchant_df = shoes_df.groupby(\"Merchant\")[\"Prices\"].sum()\n",
    "pricesbymerchant_df"
   ]
  },
  {
   "cell_type": "code",
   "execution_count": 22,
   "metadata": {},
   "outputs": [
    {
     "data": {
      "text/plain": [
       "Merchant\n",
       "backcountry     352\n",
       "evo.com           8\n",
       "kohls          9556\n",
       "overstock         2\n",
       "walmart          82\n",
       "Name: Date, dtype: int64"
      ]
     },
     "execution_count": 22,
     "metadata": {},
     "output_type": "execute_result"
    }
   ],
   "source": [
    "totalmerchant_df = shoes_df.groupby(\"Merchant\")[\"Date\"].count()\n",
    "totalmerchant_df"
   ]
  },
  {
   "cell_type": "code",
   "execution_count": 23,
   "metadata": {},
   "outputs": [
    {
     "data": {
      "text/plain": [
       "array(['kohls', 'backcountry', 'walmart', 'overstock', 'evo.com'],\n",
       "      dtype=object)"
      ]
     },
     "execution_count": 23,
     "metadata": {},
     "output_type": "execute_result"
    }
   ],
   "source": [
    "merchantcount_df = shoes_df[\"Merchant\"].value_counts()\n",
    "merchantcount_df\n",
    "\n",
    "merchants_df = shoes_df[\"Merchant\"].unique()\n",
    "merchants_df"
   ]
  },
  {
   "cell_type": "code",
   "execution_count": 24,
   "metadata": {},
   "outputs": [
    {
     "data": {
      "image/png": "[encoded data removed]",
      "text/plain": [
       "<Figure size 432x288 with 1 Axes>"
      ]
     },
     "metadata": {
      "needs_background": "light"
     },
     "output_type": "display_data"
    }
   ],
   "source": [
    "plt.plot(merchants_df, merchantcount_df, label = \"Sales by Merchant\")\n",
    "plt.title(\"Total Sales by Merchant in A/W 2018\")\n",
    "plt.xticks(rotation=45)\n",
    "plt.xlabel(\"Merchant Name\")\n",
    "plt.ylabel(\"Number of Sales\")\n",
    "plt.savefig('salesbymerchant.png')\n",
    "plt.show()"
   ]
  },
  {
   "cell_type": "code",
   "execution_count": 25,
   "metadata": {},
   "outputs": [
    {
     "data": {
      "text/plain": [
       "<matplotlib.axes._subplots.AxesSubplot at 0x1a25a3d240>"
      ]
     },
     "execution_count": 25,
     "metadata": {},
     "output_type": "execute_result"
    },
    {
     "data": {
      "image/png": "[encoded data removed]",
      "text/plain": [
       "<Figure size 432x288 with 1 Axes>"
      ]
     },
     "metadata": {
      "needs_background": "light"
     },
     "output_type": "display_data"
    }
   ],
   "source": [
    "sns.violinplot(merchants_df, merchantcount_df, color=\"red\", scale=\"count\",)\n"
   ]
  },
  {
   "cell_type": "code",
   "execution_count": 26,
   "metadata": {},
   "outputs": [
    {
     "data": {
      "text/plain": [
       "array(['Heels', 'Booties', 'Sandals', 'Flats', 'Boots', 'Ballet Flats',\n",
       "       'Sneakers', 'Athletic Shoes'], dtype=object)"
      ]
     },
     "execution_count": 26,
     "metadata": {},
     "output_type": "execute_result"
    }
   ],
   "source": [
    "shoecount_df = shoes_df[\"Type\"].value_counts()\n",
    "shoecount_df\n",
    "\n",
    "shoetypes_df = shoes_df[\"Type\"].unique()\n",
    "shoetypes_df"
   ]
  },
  {
   "cell_type": "code",
   "execution_count": 27,
   "metadata": {},
   "outputs": [
    {
     "data": {
      "image/png": "[encoded data removed]",
      "text/plain": [
       "<Figure size 432x288 with 1 Axes>"
      ]
     },
     "metadata": {
      "needs_background": "light"
     },
     "output_type": "display_data"
    }
   ],
   "source": [
    "plt.bar(shoetypes_df, shoecount_df, label = \"Total Sales by Type\", color = \"lightcoral\")\n",
    "plt.title(\"Total Sales by Type in A/W 2018\")\n",
    "plt.xticks(rotation=45)\n",
    "plt.xlabel(\"Type of Shoes\")\n",
    "plt.ylabel(\"Number of Pairs Sold\")\n",
    "plt.savefig('salesbytype.png')\n",
    "plt.show()"
   ]
  },
  {
   "cell_type": "code",
   "execution_count": 28,
   "metadata": {},
   "outputs": [
    {
     "data": {
      "text/plain": [
       "Black          2871\n",
       "Gray           1775\n",
       "Tan            1300\n",
       "Dark Blue       997\n",
       "Brown           919\n",
       "White           545\n",
       "Light Blue      302\n",
       "Pink            297\n",
       "Dark Red        224\n",
       "Red             211\n",
       "Dark Green      154\n",
       "Gold            151\n",
       "Print           127\n",
       "Purple           64\n",
       "Orange           46\n",
       "Light Green       9\n",
       "Yellow            5\n",
       "Cream             3\n",
       "Name: Color, dtype: int64"
      ]
     },
     "execution_count": 28,
     "metadata": {},
     "output_type": "execute_result"
    }
   ],
   "source": [
    "colorcount_df = shoes_df[\"Color\"].value_counts()\n",
    "colorcount_df"
   ]
  },
  {
   "cell_type": "code",
   "execution_count": 29,
   "metadata": {},
   "outputs": [],
   "source": [
    "#plt.bar(colorcount_df, shoecount_df, label = \"Colors\", color = \"coral\") \n",
    "#plt.xticks(rotation=45)\n",
    "#plt.show()"
   ]
  },
  {
   "cell_type": "code",
   "execution_count": 105,
   "metadata": {},
   "outputs": [
    {
     "data": {
      "image/png": "[encoded data removed]",
      "text/plain": [
       "<Figure size 432x288 with 1 Axes>"
      ]
     },
     "metadata": {
      "needs_background": "light"
     },
     "output_type": "display_data"
    }
   ],
   "source": [
    "text = (shoes_df.Color.astype('str'))\n",
    "stopwords = set(STOPWORDS)\n",
    "stopwords.update([\"Length\", \"dtype\", \"object\", \"Name\", \"Color\"])\n",
    "color_cloud = WordCloud(background_color='white', width = 800, height = 400, max_words = 50, colormap='plasma', stopwords=stopwords, random_state=1).generate(str(text))\n",
    "plt.figure()\n",
    "plt.axis('off')\n",
    "plt.imshow(color_cloud, interpolation='bilinear')\n",
    "plt.savefig('colorcloud.png')\n"
   ]
  },
  {
   "cell_type": "code",
   "execution_count": 103,
   "metadata": {},
   "outputs": [
    {
     "ename": "KeyError",
     "evalue": "\"['id' 'dateAdded' 'dateUpdated' 'asins' 'dimension' 'ean / upc'\\n 'imageURLs' 'keys' 'manufacturerNumber' 'prices.availability'\\n 'prices.condition' 'prices.dateAdded' 'prices.dateSeen' 'prices.offer'\\n 'prices.returnPolicy' 'sizes' 'prices.shipping' 'prices.merchant'\\n 'manufacturer' 'prices.isSale' 'primaryCategories' 'prices.sourceURLs'\\n 'categories' 'prices.amountMin' 'prices.size' 'prices.color' 'sourceURLs'] not found in axis\"",
     "output_type": "error",
     "traceback": [
      "\u001b[0;31m---------------------------------------------------------------------------\u001b[0m",
      "\u001b[0;31mKeyError\u001b[0m                                  Traceback (most recent call last)",
      "\u001b[0;32m<ipython-input-103-554c30ec22f8>\u001b[0m in \u001b[0;36m<module>\u001b[0;34m\u001b[0m\n\u001b[1;32m     25\u001b[0m                                         \u001b[0;34m\"prices.size\"\u001b[0m\u001b[0;34m,\u001b[0m\u001b[0;34m\u001b[0m\u001b[0;34m\u001b[0m\u001b[0m\n\u001b[1;32m     26\u001b[0m                                         \u001b[0;34m\"prices.color\"\u001b[0m\u001b[0;34m,\u001b[0m\u001b[0;34m\u001b[0m\u001b[0;34m\u001b[0m\u001b[0m\n\u001b[0;32m---> 27\u001b[0;31m                                         \u001b[0;34m\"sourceURLs\"\u001b[0m\u001b[0;34m\u001b[0m\u001b[0;34m\u001b[0m\u001b[0m\n\u001b[0m\u001b[1;32m     28\u001b[0m                          ])\n\u001b[1;32m     29\u001b[0m \u001b[0;31m#spring19_df.head()\u001b[0m\u001b[0;34m\u001b[0m\u001b[0;34m\u001b[0m\u001b[0;34m\u001b[0m\u001b[0m\n",
      "\u001b[0;32m~/anaconda3/envs/PythonData/lib/python3.6/site-packages/pandas/core/frame.py\u001b[0m in \u001b[0;36mdrop\u001b[0;34m(self, labels, axis, index, columns, level, inplace, errors)\u001b[0m\n\u001b[1;32m   3938\u001b[0m                                            \u001b[0mindex\u001b[0m\u001b[0;34m=\u001b[0m\u001b[0mindex\u001b[0m\u001b[0;34m,\u001b[0m \u001b[0mcolumns\u001b[0m\u001b[0;34m=\u001b[0m\u001b[0mcolumns\u001b[0m\u001b[0;34m,\u001b[0m\u001b[0;34m\u001b[0m\u001b[0;34m\u001b[0m\u001b[0m\n\u001b[1;32m   3939\u001b[0m                                            \u001b[0mlevel\u001b[0m\u001b[0;34m=\u001b[0m\u001b[0mlevel\u001b[0m\u001b[0;34m,\u001b[0m \u001b[0minplace\u001b[0m\u001b[0;34m=\u001b[0m\u001b[0minplace\u001b[0m\u001b[0;34m,\u001b[0m\u001b[0;34m\u001b[0m\u001b[0;34m\u001b[0m\u001b[0m\n\u001b[0;32m-> 3940\u001b[0;31m                                            errors=errors)\n\u001b[0m\u001b[1;32m   3941\u001b[0m \u001b[0;34m\u001b[0m\u001b[0m\n\u001b[1;32m   3942\u001b[0m     @rewrite_axis_style_signature('mapper', [('copy', True),\n",
      "\u001b[0;32m~/anaconda3/envs/PythonData/lib/python3.6/site-packages/pandas/core/generic.py\u001b[0m in \u001b[0;36mdrop\u001b[0;34m(self, labels, axis, index, columns, level, inplace, errors)\u001b[0m\n\u001b[1;32m   3778\u001b[0m         \u001b[0;32mfor\u001b[0m \u001b[0maxis\u001b[0m\u001b[0;34m,\u001b[0m \u001b[0mlabels\u001b[0m \u001b[0;32min\u001b[0m \u001b[0maxes\u001b[0m\u001b[0;34m.\u001b[0m\u001b[0mitems\u001b[0m\u001b[0;34m(\u001b[0m\u001b[0;34m)\u001b[0m\u001b[0;34m:\u001b[0m\u001b[0;34m\u001b[0m\u001b[0;34m\u001b[0m\u001b[0m\n\u001b[1;32m   3779\u001b[0m             \u001b[0;32mif\u001b[0m \u001b[0mlabels\u001b[0m \u001b[0;32mis\u001b[0m \u001b[0;32mnot\u001b[0m \u001b[0;32mNone\u001b[0m\u001b[0;34m:\u001b[0m\u001b[0;34m\u001b[0m\u001b[0;34m\u001b[0m\u001b[0m\n\u001b[0;32m-> 3780\u001b[0;31m                 \u001b[0mobj\u001b[0m \u001b[0;34m=\u001b[0m \u001b[0mobj\u001b[0m\u001b[0;34m.\u001b[0m\u001b[0m_drop_axis\u001b[0m\u001b[0;34m(\u001b[0m\u001b[0mlabels\u001b[0m\u001b[0;34m,\u001b[0m \u001b[0maxis\u001b[0m\u001b[0;34m,\u001b[0m \u001b[0mlevel\u001b[0m\u001b[0;34m=\u001b[0m\u001b[0mlevel\u001b[0m\u001b[0;34m,\u001b[0m \u001b[0merrors\u001b[0m\u001b[0;34m=\u001b[0m\u001b[0merrors\u001b[0m\u001b[0;34m)\u001b[0m\u001b[0;34m\u001b[0m\u001b[0;34m\u001b[0m\u001b[0m\n\u001b[0m\u001b[1;32m   3781\u001b[0m \u001b[0;34m\u001b[0m\u001b[0m\n\u001b[1;32m   3782\u001b[0m         \u001b[0;32mif\u001b[0m \u001b[0minplace\u001b[0m\u001b[0;34m:\u001b[0m\u001b[0;34m\u001b[0m\u001b[0;34m\u001b[0m\u001b[0m\n",
      "\u001b[0;32m~/anaconda3/envs/PythonData/lib/python3.6/site-packages/pandas/core/generic.py\u001b[0m in \u001b[0;36m_drop_axis\u001b[0;34m(self, labels, axis, level, errors)\u001b[0m\n\u001b[1;32m   3810\u001b[0m                 \u001b[0mnew_axis\u001b[0m \u001b[0;34m=\u001b[0m \u001b[0maxis\u001b[0m\u001b[0;34m.\u001b[0m\u001b[0mdrop\u001b[0m\u001b[0;34m(\u001b[0m\u001b[0mlabels\u001b[0m\u001b[0;34m,\u001b[0m \u001b[0mlevel\u001b[0m\u001b[0;34m=\u001b[0m\u001b[0mlevel\u001b[0m\u001b[0;34m,\u001b[0m \u001b[0merrors\u001b[0m\u001b[0;34m=\u001b[0m\u001b[0merrors\u001b[0m\u001b[0;34m)\u001b[0m\u001b[0;34m\u001b[0m\u001b[0;34m\u001b[0m\u001b[0m\n\u001b[1;32m   3811\u001b[0m             \u001b[0;32melse\u001b[0m\u001b[0;34m:\u001b[0m\u001b[0;34m\u001b[0m\u001b[0;34m\u001b[0m\u001b[0m\n\u001b[0;32m-> 3812\u001b[0;31m                 \u001b[0mnew_axis\u001b[0m \u001b[0;34m=\u001b[0m \u001b[0maxis\u001b[0m\u001b[0;34m.\u001b[0m\u001b[0mdrop\u001b[0m\u001b[0;34m(\u001b[0m\u001b[0mlabels\u001b[0m\u001b[0;34m,\u001b[0m \u001b[0merrors\u001b[0m\u001b[0;34m=\u001b[0m\u001b[0merrors\u001b[0m\u001b[0;34m)\u001b[0m\u001b[0;34m\u001b[0m\u001b[0;34m\u001b[0m\u001b[0m\n\u001b[0m\u001b[1;32m   3813\u001b[0m             \u001b[0mresult\u001b[0m \u001b[0;34m=\u001b[0m \u001b[0mself\u001b[0m\u001b[0;34m.\u001b[0m\u001b[0mreindex\u001b[0m\u001b[0;34m(\u001b[0m\u001b[0;34m**\u001b[0m\u001b[0;34m{\u001b[0m\u001b[0maxis_name\u001b[0m\u001b[0;34m:\u001b[0m \u001b[0mnew_axis\u001b[0m\u001b[0;34m}\u001b[0m\u001b[0;34m)\u001b[0m\u001b[0;34m\u001b[0m\u001b[0;34m\u001b[0m\u001b[0m\n\u001b[1;32m   3814\u001b[0m \u001b[0;34m\u001b[0m\u001b[0m\n",
      "\u001b[0;32m~/anaconda3/envs/PythonData/lib/python3.6/site-packages/pandas/core/indexes/base.py\u001b[0m in \u001b[0;36mdrop\u001b[0;34m(self, labels, errors)\u001b[0m\n\u001b[1;32m   4963\u001b[0m             \u001b[0;32mif\u001b[0m \u001b[0merrors\u001b[0m \u001b[0;34m!=\u001b[0m \u001b[0;34m'ignore'\u001b[0m\u001b[0;34m:\u001b[0m\u001b[0;34m\u001b[0m\u001b[0;34m\u001b[0m\u001b[0m\n\u001b[1;32m   4964\u001b[0m                 raise KeyError(\n\u001b[0;32m-> 4965\u001b[0;31m                     '{} not found in axis'.format(labels[mask]))\n\u001b[0m\u001b[1;32m   4966\u001b[0m             \u001b[0mindexer\u001b[0m \u001b[0;34m=\u001b[0m \u001b[0mindexer\u001b[0m\u001b[0;34m[\u001b[0m\u001b[0;34m~\u001b[0m\u001b[0mmask\u001b[0m\u001b[0;34m]\u001b[0m\u001b[0;34m\u001b[0m\u001b[0;34m\u001b[0m\u001b[0m\n\u001b[1;32m   4967\u001b[0m         \u001b[0;32mreturn\u001b[0m \u001b[0mself\u001b[0m\u001b[0;34m.\u001b[0m\u001b[0mdelete\u001b[0m\u001b[0;34m(\u001b[0m\u001b[0mindexer\u001b[0m\u001b[0;34m)\u001b[0m\u001b[0;34m\u001b[0m\u001b[0;34m\u001b[0m\u001b[0m\n",
      "\u001b[0;31mKeyError\u001b[0m: \"['id' 'dateAdded' 'dateUpdated' 'asins' 'dimension' 'ean / upc'\\n 'imageURLs' 'keys' 'manufacturerNumber' 'prices.availability'\\n 'prices.condition' 'prices.dateAdded' 'prices.dateSeen' 'prices.offer'\\n 'prices.returnPolicy' 'sizes' 'prices.shipping' 'prices.merchant'\\n 'manufacturer' 'prices.isSale' 'primaryCategories' 'prices.sourceURLs'\\n 'categories' 'prices.amountMin' 'prices.size' 'prices.color' 'sourceURLs'] not found in axis\""
     ]
    }
   ],
   "source": [
    "spring19_df = spring19_df.drop(columns=[\"id\",\n",
    "                                  \"dateAdded\",\n",
    "                                  \"dateUpdated\",\n",
    "                                  \"asins\",\n",
    "                                  \"dimension\",\n",
    "                                  \"ean / upc\",\n",
    "                                  \"imageURLs\",\n",
    "                                  \"keys\",\n",
    "                                  \"manufacturerNumber\",\n",
    "                                  \"prices.availability\",\n",
    "                                  \"prices.condition\",\n",
    "                                  \"prices.dateAdded\",\n",
    "                                  \"prices.dateSeen\",\n",
    "                                  \"prices.offer\",\n",
    "                                  \"prices.returnPolicy\",\n",
    "                                        \"sizes\",\n",
    "                                        \"prices.shipping\",\n",
    "                                        \"prices.merchant\",\n",
    "                                        \"manufacturer\",\n",
    "                                  \"prices.isSale\",\n",
    "                                  \"primaryCategories\",\n",
    "                                  \"prices.sourceURLs\",\n",
    "                                  \"categories\",\n",
    "                                        \"prices.amountMin\",\n",
    "                                        \"prices.size\",\n",
    "                                        \"prices.color\",\n",
    "                                        \"sourceURLs\"\n",
    "                         ])\n",
    "#spring19_df.head()"
   ]
  },
  {
   "cell_type": "code",
   "execution_count": 104,
   "metadata": {},
   "outputs": [],
   "source": [
    "#spring19_df.info()"
   ]
  },
  {
   "cell_type": "code",
   "execution_count": 33,
   "metadata": {},
   "outputs": [
    {
     "data": {
      "text/html": [
       "<div>\n",
       "<style scoped>\n",
       "    .dataframe tbody tr th:only-of-type {\n",
       "        vertical-align: middle;\n",
       "    }\n",
       "\n",
       "    .dataframe tbody tr th {\n",
       "        vertical-align: top;\n",
       "    }\n",
       "\n",
       "    .dataframe thead th {\n",
       "        text-align: right;\n",
       "    }\n",
       "</style>\n",
       "<table border=\"1\" class=\"dataframe\">\n",
       "  <thead>\n",
       "    <tr style=\"text-align: right;\">\n",
       "      <th></th>\n",
       "      <th>Date</th>\n",
       "      <th>Brand</th>\n",
       "      <th>Color</th>\n",
       "      <th>Type</th>\n",
       "      <th>name</th>\n",
       "      <th>Prices</th>\n",
       "      <th>Currency</th>\n",
       "      <th>Merchant</th>\n",
       "    </tr>\n",
       "  </thead>\n",
       "  <tbody>\n",
       "    <tr>\n",
       "      <th>0</th>\n",
       "      <td>5/1/19</td>\n",
       "      <td>City Classified</td>\n",
       "      <td>Black</td>\n",
       "      <td>Booties</td>\n",
       "      <td>City Classified Stylish-S Women's Zipper Ankle...</td>\n",
       "      <td>29.95</td>\n",
       "      <td>USD</td>\n",
       "      <td>Walmart</td>\n",
       "    </tr>\n",
       "    <tr>\n",
       "      <th>1</th>\n",
       "      <td>5/1/19</td>\n",
       "      <td>Skechers</td>\n",
       "      <td>Taupe</td>\n",
       "      <td>Athletic Shoes</td>\n",
       "      <td>Skechers Women'S You Radiate, Walking</td>\n",
       "      <td>84.00</td>\n",
       "      <td>USD</td>\n",
       "      <td>Walmart</td>\n",
       "    </tr>\n",
       "    <tr>\n",
       "      <th>2</th>\n",
       "      <td>5/1/19</td>\n",
       "      <td>Floral</td>\n",
       "      <td>Black</td>\n",
       "      <td>Heels</td>\n",
       "      <td>FLORAL Pearl Women's Wide Width Evening Dress ...</td>\n",
       "      <td>49.95</td>\n",
       "      <td>USD</td>\n",
       "      <td>Walmart</td>\n",
       "    </tr>\n",
       "    <tr>\n",
       "      <th>3</th>\n",
       "      <td>5/1/19</td>\n",
       "      <td>Jambu</td>\n",
       "      <td>Black</td>\n",
       "      <td>Booties</td>\n",
       "      <td>Women's Jambu Amal Water Resistant Bootie</td>\n",
       "      <td>127.20</td>\n",
       "      <td>USD</td>\n",
       "      <td>Walmart</td>\n",
       "    </tr>\n",
       "    <tr>\n",
       "      <th>4</th>\n",
       "      <td>5/1/19</td>\n",
       "      <td>Trotters</td>\n",
       "      <td>White</td>\n",
       "      <td>Boots</td>\n",
       "      <td>trotters women's blast iii boot,black quill,11...</td>\n",
       "      <td>47.66</td>\n",
       "      <td>USD</td>\n",
       "      <td>Walmart</td>\n",
       "    </tr>\n",
       "  </tbody>\n",
       "</table>\n",
       "</div>"
      ],
      "text/plain": [
       "     Date            Brand  Color            Type  \\\n",
       "0  5/1/19  City Classified  Black         Booties   \n",
       "1  5/1/19         Skechers  Taupe  Athletic Shoes   \n",
       "2  5/1/19           Floral  Black           Heels   \n",
       "3  5/1/19            Jambu  Black         Booties   \n",
       "4  5/1/19         Trotters  White           Boots   \n",
       "\n",
       "                                                name  Prices Currency Merchant  \n",
       "0  City Classified Stylish-S Women's Zipper Ankle...   29.95      USD  Walmart  \n",
       "1              Skechers Women'S You Radiate, Walking   84.00      USD  Walmart  \n",
       "2  FLORAL Pearl Women's Wide Width Evening Dress ...   49.95      USD  Walmart  \n",
       "3          Women's Jambu Amal Water Resistant Bootie  127.20      USD  Walmart  \n",
       "4  trotters women's blast iii boot,black quill,11...   47.66      USD  Walmart  "
      ]
     },
     "execution_count": 33,
     "metadata": {},
     "output_type": "execute_result"
    }
   ],
   "source": [
    "spring19_df = spring19_df.rename(columns={#\"prices.merchant\": \"Merchant\",\n",
    "                                    \"brand\": \"Brand\",\n",
    "                                    \"colors\" : \"Color\",\n",
    "                                    \"prices.currency\": \"Currency\",\n",
    "                                    \"prices.amountMax\": \"Prices\"\n",
    "                                   })\n",
    "spring19_df.head()"
   ]
  },
  {
   "cell_type": "code",
   "execution_count": 34,
   "metadata": {},
   "outputs": [
    {
     "data": {
      "text/plain": [
       "Brand               Type          \n",
       "1.STATE             Sandals            2\n",
       "911Costume          Boots              1\n",
       "A2 by Aerosoles     Ballet Flats      33\n",
       "                    Sandals            7\n",
       "                    Flats              4\n",
       "                    Booties            3\n",
       "                    Heels              1\n",
       "A35                 Boots              2\n",
       "AARON               Boots              1\n",
       "AERUSI              Flats              1\n",
       "ARRAY               Sandals           10\n",
       "                    Flats              8\n",
       "                    Heels              2\n",
       "                    Booties            1\n",
       "AXNY                Boots              5\n",
       "Academie Gear       Flats              1\n",
       "Adidas              Flats             18\n",
       "                    Heels              2\n",
       "                    Sandals            2\n",
       "                    Booties            1\n",
       "Adriana             Booties            2\n",
       "Aerosoft            Sandals            4\n",
       "                    Athletic Shoes     1\n",
       "Aerosoles           Booties           58\n",
       "                    Flats             57\n",
       "                    Boots             41\n",
       "                    Sandals           31\n",
       "                    Heels             27\n",
       "                    Ballet Flats      15\n",
       "                    Boat Shoes         4\n",
       "                                      ..\n",
       "ZIGI SOHO           Sandals            1\n",
       "Ziginy              Sandals            2\n",
       "aerosoles           Sandals            3\n",
       "alpine swiss        Ballet Flats       1\n",
       "bed:Stu             Boots              2\n",
       "bumper              Sandals            4\n",
       "catan               Boots             19\n",
       "                    Sandals            3\n",
       "                    Athletic Shoes     1\n",
       "durango             Boots              2\n",
       "fergalicious        Boots              2\n",
       "guess               Boots              2\n",
       "k-swiss             Sneakers           2\n",
       "keds                Sneakers           3\n",
       "lartiste            Heels              4\n",
       "                    Flats              1\n",
       "lugz                Boots              1\n",
       "minnetonka          Flats             30\n",
       "                    Booties            1\n",
       "                    Boots              1\n",
       "mobils by Mephisto  Sneakers           2\n",
       "peach-couture       Sandals            1\n",
       "r.b.l.s.            Booties            1\n",
       "rialto              Booties            4\n",
       "ryka                Flats              3\n",
       "soda                Boots              5\n",
       "totes               Boots              8\n",
       "                    Athletic Shoes     1\n",
       "trotters            Flats              4\n",
       "wave                Athletic Shoes     1\n",
       "Name: Type, Length: 872, dtype: int64"
      ]
     },
     "execution_count": 34,
     "metadata": {},
     "output_type": "execute_result"
    }
   ],
   "source": [
    "typebybrand19_df = spring19_df.groupby(\"Brand\")[\"Type\"].value_counts()\n",
    "typebybrand19_df"
   ]
  },
  {
   "cell_type": "code",
   "execution_count": 35,
   "metadata": {},
   "outputs": [
    {
     "data": {
      "text/plain": [
       "Brand\n",
       "1.STATE                20.005000\n",
       "911Costume             59.880000\n",
       "A2 by Aerosoles        40.142708\n",
       "A35                    72.795000\n",
       "AARON                 229.980000\n",
       "AERUSI                 25.000000\n",
       "ARRAY                  45.470000\n",
       "AXNY                   48.960000\n",
       "Academie Gear          48.310000\n",
       "Adidas                 61.459130\n",
       "Adriana                33.950000\n",
       "Aerosoft               30.308000\n",
       "Aerosoles              94.265738\n",
       "Ahnu                   67.314000\n",
       "Aldo                   63.950000\n",
       "Alegria               105.336667\n",
       "Alfani                 46.821622\n",
       "Alotta Knits            9.950000\n",
       "American Rag           37.557500\n",
       "Ann Creek              67.996000\n",
       "Anne Michelle          30.000000\n",
       "Annie                  26.867500\n",
       "Answer 2              123.228750\n",
       "Anthony Wang           29.000000\n",
       "Apex                  144.950000\n",
       "Aqua Design            19.950000\n",
       "Aquapillar             39.200370\n",
       "Aquatalia             149.990000\n",
       "Aravon                 47.990000\n",
       "Ariat                  13.330000\n",
       "                         ...    \n",
       "Woolrich               90.830000\n",
       "X2B                    49.050000\n",
       "XAPPEAL                45.620000\n",
       "XOXO                   32.200000\n",
       "YOKI                   29.991000\n",
       "Yellow Box             39.846111\n",
       "ZIGI SOHO              35.400000\n",
       "Ziginy                 39.480000\n",
       "aerosoles             163.570000\n",
       "alpine swiss           11.990000\n",
       "bed:Stu                84.990000\n",
       "bumper                 19.405000\n",
       "catan                 120.654783\n",
       "durango               124.990000\n",
       "fergalicious           75.885000\n",
       "guess                  47.680000\n",
       "k-swiss                76.030000\n",
       "keds                   59.810000\n",
       "lartiste              104.758000\n",
       "lugz                   87.650000\n",
       "minnetonka             36.262500\n",
       "mobils by Mephisto    327.865000\n",
       "peach-couture          42.520000\n",
       "r.b.l.s.               17.970000\n",
       "rialto                 32.172500\n",
       "ryka                   71.320000\n",
       "soda                   27.990000\n",
       "totes                  36.623333\n",
       "trotters              109.950000\n",
       "wave                   14.950000\n",
       "Name: Prices, Length: 421, dtype: float64"
      ]
     },
     "execution_count": 35,
     "metadata": {},
     "output_type": "execute_result"
    }
   ],
   "source": [
    "pricesbybrand19_df = spring19_df.groupby(\"Brand\")[\"Prices\"].mean()\n",
    "pricesbybrand19_df"
   ]
  },
  {
   "cell_type": "code",
   "execution_count": 36,
   "metadata": {},
   "outputs": [
    {
     "data": {
      "text/plain": [
       "Color      Type          \n",
       "Black      Flats             1276\n",
       "           Boots             1246\n",
       "           Sandals           1005\n",
       "           Booties            798\n",
       "           Heels              730\n",
       "           Sneakers           116\n",
       "           Athletic Shoes     111\n",
       "           Ballet Flats        35\n",
       "           Boat Shoes          11\n",
       "Blue       Boots              828\n",
       "           Flats              770\n",
       "           Heels              727\n",
       "           Booties            679\n",
       "           Sandals            597\n",
       "           Athletic Shoes     444\n",
       "           Sneakers           297\n",
       "           Ballet Flats       107\n",
       "           Boat Shoes           7\n",
       "Brown      Heels               73\n",
       "           Sandals             23\n",
       "           Booties             21\n",
       "           Flats               11\n",
       "           Boots                5\n",
       "           Sneakers             1\n",
       "Cream      Heels                3\n",
       "           Boots                1\n",
       "Dark Blue  Sneakers             2\n",
       "           Boots                1\n",
       "Gold       Sandals             13\n",
       "           Flats                3\n",
       "           Heels                2\n",
       "           Ballet Flats         1\n",
       "Gray       Booties              7\n",
       "           Flats                4\n",
       "           Sneakers             3\n",
       "           Boots                2\n",
       "           Sandals              1\n",
       "Multi      Sandals              1\n",
       "Pink       Flats                2\n",
       "Purple     Heels                2\n",
       "           Sandals              2\n",
       "Red        Heels                4\n",
       "           Flats                3\n",
       "           Ballet Flats         1\n",
       "Tan        Booties              4\n",
       "           Boots                1\n",
       "           Heels                1\n",
       "           Sandals              1\n",
       "Taupe      Flats                2\n",
       "           Athletic Shoes       1\n",
       "White      Boots                4\n",
       "           Flats                3\n",
       "           Heels                3\n",
       "           Booties              2\n",
       "Name: Type, dtype: int64"
      ]
     },
     "execution_count": 36,
     "metadata": {},
     "output_type": "execute_result"
    }
   ],
   "source": [
    "typebycolor19_df = spring19_df.groupby(\"Color\")[\"Type\"].value_counts()\n",
    "typebycolor19_df"
   ]
  },
  {
   "cell_type": "code",
   "execution_count": 37,
   "metadata": {},
   "outputs": [
    {
     "data": {
      "text/plain": [
       "Type\n",
       "Athletic Shoes    104.423435\n",
       "Ballet Flats       39.226250\n",
       "Boat Shoes         90.793333\n",
       "Booties            73.281350\n",
       "Boots              78.227232\n",
       "Flats              73.227358\n",
       "Heels              59.701068\n",
       "Sandals            64.084960\n",
       "Sneakers           79.166086\n",
       "Name: Prices, dtype: float64"
      ]
     },
     "execution_count": 37,
     "metadata": {},
     "output_type": "execute_result"
    }
   ],
   "source": [
    "avgpricesbytype19_df = spring19_df.groupby(\"Type\")[\"Prices\"].mean()\n",
    "avgpricesbytype19_df"
   ]
  },
  {
   "cell_type": "code",
   "execution_count": 38,
   "metadata": {},
   "outputs": [
    {
     "data": {
      "text/plain": [
       "Type\n",
       "Athletic Shoes     556\n",
       "Ballet Flats       144\n",
       "Boat Shoes          18\n",
       "Booties           1511\n",
       "Boots             2088\n",
       "Flats             2074\n",
       "Heels             1545\n",
       "Sandals           1643\n",
       "Sneakers           419\n",
       "Name: Date, dtype: int64"
      ]
     },
     "execution_count": 38,
     "metadata": {},
     "output_type": "execute_result"
    }
   ],
   "source": [
    "typecount19_df = spring19_df.groupby(\"Type\")[\"Date\"].count()\n",
    "typecount19_df"
   ]
  },
  {
   "cell_type": "code",
   "execution_count": 39,
   "metadata": {},
   "outputs": [
    {
     "data": {
      "text/plain": [
       "array(['Walmart', 'Shoes.com', 'Barcodable', 'Overstock'], dtype=object)"
      ]
     },
     "execution_count": 39,
     "metadata": {},
     "output_type": "execute_result"
    }
   ],
   "source": [
    "merchantname19_df = spring19_df[\"Merchant\"].unique()\n",
    "merchantname19_df"
   ]
  },
  {
   "cell_type": "code",
   "execution_count": 40,
   "metadata": {},
   "outputs": [
    {
     "data": {
      "text/plain": [
       "Merchant\n",
       "Barcodable       149.22\n",
       "Overstock         95.99\n",
       "Shoes.com       1127.64\n",
       "Walmart       720609.89\n",
       "Name: Prices, dtype: float64"
      ]
     },
     "execution_count": 40,
     "metadata": {},
     "output_type": "execute_result"
    }
   ],
   "source": [
    "pricesbymerchant19_df = spring19_df.groupby(\"Merchant\")[\"Prices\"].sum()\n",
    "pricesbymerchant19_df"
   ]
  },
  {
   "cell_type": "code",
   "execution_count": 41,
   "metadata": {},
   "outputs": [
    {
     "data": {
      "text/plain": [
       "Merchant\n",
       "Barcodable       3\n",
       "Overstock        1\n",
       "Shoes.com       32\n",
       "Walmart       9962\n",
       "Name: Date, dtype: int64"
      ]
     },
     "execution_count": 41,
     "metadata": {},
     "output_type": "execute_result"
    }
   ],
   "source": [
    "totalmerchant19_df = spring19_df.groupby(\"Merchant\")[\"Date\"].count()\n",
    "totalmerchant19_df"
   ]
  },
  {
   "cell_type": "code",
   "execution_count": 52,
   "metadata": {},
   "outputs": [],
   "source": [
    "mens_shoes_df = mens_shoes_df.drop(columns=[\"id\",\n",
    "                                            \"asins\",\n",
    "                                            \"count\",\n",
    "                                            \"imageURLs\",\n",
    "                                            \"descriptions\",\n",
    "                                            \"dimension\",\n",
    "                                            \"ean\",\n",
    "                                            \"features\",\n",
    "                                            \"flavors\",\n",
    "                                            \"isbn\",\n",
    "                                            \"keys\",\n",
    "                                            \"manufacturer\",\n",
    "                                            \"manufacturerNumber\",\n",
    "                                            \"prices.availability\",\n",
    "                                            \"prices.condition\",\n",
    "                                            \"prices.count\",\n",
    "                                            \"prices.dateAdded\",\n",
    "                                            \"prices.dateSeen\",\n",
    "                                            \"prices.flavor\",\n",
    "                                            \"prices.offer\",\n",
    "                                            \"prices.returnPolicy\",\n",
    "                                            \"prices.shipping\",\n",
    "                                            \"prices.size\",\n",
    "                                            \"prices.source\",\n",
    "                                           \"prices.warranty\",\n",
    "                                            \"quantities\",\n",
    "                                            \"reviews\",\n",
    "                                            \"sizes\",\n",
    "                                            \"skus\",\n",
    "                                            \"sourceURLs\",\n",
    "                                           \"upc\",\n",
    "                                            \"vin\",\n",
    "                                            \"websiteIDs\",\n",
    "                                            \"weight\",\n",
    "                                            \"prices.color\",\n",
    "                                            \"dateAdded\",\n",
    "                                            \"dateUpdated\",\n",
    "                                            \"Unnamed: 50\"\n",
    "                                           ])"
   ]
  },
  {
   "cell_type": "code",
   "execution_count": null,
   "metadata": {},
   "outputs": [],
   "source": []
  },
  {
   "cell_type": "code",
   "execution_count": 53,
   "metadata": {},
   "outputs": [
    {
     "data": {
      "text/html": [
       "<div>\n",
       "<style scoped>\n",
       "    .dataframe tbody tr th:only-of-type {\n",
       "        vertical-align: middle;\n",
       "    }\n",
       "\n",
       "    .dataframe tbody tr th {\n",
       "        vertical-align: top;\n",
       "    }\n",
       "\n",
       "    .dataframe thead th {\n",
       "        text-align: right;\n",
       "    }\n",
       "</style>\n",
       "<table border=\"1\" class=\"dataframe\">\n",
       "  <thead>\n",
       "    <tr style=\"text-align: right;\">\n",
       "      <th></th>\n",
       "      <th>brand</th>\n",
       "      <th>categories</th>\n",
       "      <th>colors</th>\n",
       "      <th>Date_Added</th>\n",
       "      <th>Date_Updated</th>\n",
       "      <th>merchants</th>\n",
       "      <th>name</th>\n",
       "      <th>prices.amountMin</th>\n",
       "      <th>prices.amountMax</th>\n",
       "      <th>prices.currency</th>\n",
       "      <th>prices.isSale</th>\n",
       "      <th>prices.merchant</th>\n",
       "      <th>prices.sourceURLs</th>\n",
       "    </tr>\n",
       "  </thead>\n",
       "  <tbody>\n",
       "    <tr>\n",
       "      <th>11</th>\n",
       "      <td>MAUI AND SONS</td>\n",
       "      <td>All Men's Shoes,Shoes,Men's Shoes,Clothing</td>\n",
       "      <td>Red,Black,Sketchy Slant,Yellow,BlackBlue,Black...</td>\n",
       "      <td>11/15/16</td>\n",
       "      <td>11/15/16</td>\n",
       "      <td>[{\"dateSeen\":[\"2016-11-15T12:45:09Z\"],\"name\":\"...</td>\n",
       "      <td>Maui and Sons David Men  Open Toe Synthetic  F...</td>\n",
       "      <td>9.99</td>\n",
       "      <td>9.99</td>\n",
       "      <td>USD</td>\n",
       "      <td>FALSE</td>\n",
       "      <td>BHFO, Inc. - Walmart.com</td>\n",
       "      <td>https://www.walmart.com/ip/Maui-And-Sons-David...</td>\n",
       "    </tr>\n",
       "    <tr>\n",
       "      <th>12</th>\n",
       "      <td>MAUI AND SONS</td>\n",
       "      <td>All Men's Shoes,Shoes,Men's Shoes,Clothing</td>\n",
       "      <td>Red,Black,Sketchy Slant,Yellow,BlackBlue,Black...</td>\n",
       "      <td>11/15/16</td>\n",
       "      <td>11/15/16</td>\n",
       "      <td>[{\"dateSeen\":[\"2016-11-15T12:45:09Z\"],\"name\":\"...</td>\n",
       "      <td>Maui and Sons David Men  Open Toe Synthetic  F...</td>\n",
       "      <td>19.99</td>\n",
       "      <td>19.99</td>\n",
       "      <td>USD</td>\n",
       "      <td>TRUE</td>\n",
       "      <td>BHFO, Inc. - Walmart.com</td>\n",
       "      <td>http://www.walmart.com/ip/Maui-And-Sons-David-...</td>\n",
       "    </tr>\n",
       "    <tr>\n",
       "      <th>13</th>\n",
       "      <td>MAUI AND SONS</td>\n",
       "      <td>All Men's Shoes,Shoes,Men's Shoes,Clothing</td>\n",
       "      <td>Red,Black,Sketchy Slant,Yellow,BlackBlue,Black...</td>\n",
       "      <td>11/15/16</td>\n",
       "      <td>11/15/16</td>\n",
       "      <td>[{\"dateSeen\":[\"2016-11-15T12:45:09Z\"],\"name\":\"...</td>\n",
       "      <td>Maui and Sons David Men  Open Toe Synthetic  F...</td>\n",
       "      <td>25</td>\n",
       "      <td>25</td>\n",
       "      <td>USD</td>\n",
       "      <td>FALSE</td>\n",
       "      <td>ApparelSave - Walmart.com</td>\n",
       "      <td>https://www.walmart.com/ip/Maui-And-Sons-David...</td>\n",
       "    </tr>\n",
       "    <tr>\n",
       "      <th>14</th>\n",
       "      <td>MAUI AND SONS</td>\n",
       "      <td>All Men's Shoes,Shoes,Men's Shoes,Clothing</td>\n",
       "      <td>Red,Black,Sketchy Slant,Yellow,BlackBlue,Black...</td>\n",
       "      <td>11/15/16</td>\n",
       "      <td>11/15/16</td>\n",
       "      <td>[{\"dateSeen\":[\"2016-11-15T12:45:09Z\"],\"name\":\"...</td>\n",
       "      <td>Maui and Sons David Men  Open Toe Synthetic  F...</td>\n",
       "      <td>15.99</td>\n",
       "      <td>15.99</td>\n",
       "      <td>USD</td>\n",
       "      <td>TRUE</td>\n",
       "      <td>ApparelSave - Walmart.com</td>\n",
       "      <td>http://www.walmart.com/ip/Maui-And-Sons-David-...</td>\n",
       "    </tr>\n",
       "    <tr>\n",
       "      <th>15</th>\n",
       "      <td>MAUI AND SONS</td>\n",
       "      <td>All Men's Shoes,Shoes,Men's Shoes,Clothing</td>\n",
       "      <td>Red,Black,Sketchy Slant,Yellow,BlackBlue,Black...</td>\n",
       "      <td>11/15/16</td>\n",
       "      <td>11/15/16</td>\n",
       "      <td>[{\"dateSeen\":[\"2016-11-15T12:45:09Z\"],\"name\":\"...</td>\n",
       "      <td>Maui and Sons David Men  Open Toe Synthetic  F...</td>\n",
       "      <td>9.99</td>\n",
       "      <td>9.99</td>\n",
       "      <td>USD</td>\n",
       "      <td>TRUE</td>\n",
       "      <td>ApparelSave - Walmart.com</td>\n",
       "      <td>https://www.walmart.com/ip/Maui-And-Sons-David...</td>\n",
       "    </tr>\n",
       "  </tbody>\n",
       "</table>\n",
       "</div>"
      ],
      "text/plain": [
       "            brand                                  categories  \\\n",
       "11  MAUI AND SONS  All Men's Shoes,Shoes,Men's Shoes,Clothing   \n",
       "12  MAUI AND SONS  All Men's Shoes,Shoes,Men's Shoes,Clothing   \n",
       "13  MAUI AND SONS  All Men's Shoes,Shoes,Men's Shoes,Clothing   \n",
       "14  MAUI AND SONS  All Men's Shoes,Shoes,Men's Shoes,Clothing   \n",
       "15  MAUI AND SONS  All Men's Shoes,Shoes,Men's Shoes,Clothing   \n",
       "\n",
       "                                               colors Date_Added Date_Updated  \\\n",
       "11  Red,Black,Sketchy Slant,Yellow,BlackBlue,Black...   11/15/16     11/15/16   \n",
       "12  Red,Black,Sketchy Slant,Yellow,BlackBlue,Black...   11/15/16     11/15/16   \n",
       "13  Red,Black,Sketchy Slant,Yellow,BlackBlue,Black...   11/15/16     11/15/16   \n",
       "14  Red,Black,Sketchy Slant,Yellow,BlackBlue,Black...   11/15/16     11/15/16   \n",
       "15  Red,Black,Sketchy Slant,Yellow,BlackBlue,Black...   11/15/16     11/15/16   \n",
       "\n",
       "                                            merchants  \\\n",
       "11  [{\"dateSeen\":[\"2016-11-15T12:45:09Z\"],\"name\":\"...   \n",
       "12  [{\"dateSeen\":[\"2016-11-15T12:45:09Z\"],\"name\":\"...   \n",
       "13  [{\"dateSeen\":[\"2016-11-15T12:45:09Z\"],\"name\":\"...   \n",
       "14  [{\"dateSeen\":[\"2016-11-15T12:45:09Z\"],\"name\":\"...   \n",
       "15  [{\"dateSeen\":[\"2016-11-15T12:45:09Z\"],\"name\":\"...   \n",
       "\n",
       "                                                 name prices.amountMin  \\\n",
       "11  Maui and Sons David Men  Open Toe Synthetic  F...             9.99   \n",
       "12  Maui and Sons David Men  Open Toe Synthetic  F...            19.99   \n",
       "13  Maui and Sons David Men  Open Toe Synthetic  F...               25   \n",
       "14  Maui and Sons David Men  Open Toe Synthetic  F...            15.99   \n",
       "15  Maui and Sons David Men  Open Toe Synthetic  F...             9.99   \n",
       "\n",
       "   prices.amountMax prices.currency prices.isSale            prices.merchant  \\\n",
       "11             9.99             USD         FALSE   BHFO, Inc. - Walmart.com   \n",
       "12            19.99             USD          TRUE   BHFO, Inc. - Walmart.com   \n",
       "13               25             USD         FALSE  ApparelSave - Walmart.com   \n",
       "14            15.99             USD          TRUE  ApparelSave - Walmart.com   \n",
       "15             9.99             USD          TRUE  ApparelSave - Walmart.com   \n",
       "\n",
       "                                    prices.sourceURLs  \n",
       "11  https://www.walmart.com/ip/Maui-And-Sons-David...  \n",
       "12  http://www.walmart.com/ip/Maui-And-Sons-David-...  \n",
       "13  https://www.walmart.com/ip/Maui-And-Sons-David...  \n",
       "14  http://www.walmart.com/ip/Maui-And-Sons-David-...  \n",
       "15  https://www.walmart.com/ip/Maui-And-Sons-David...  "
      ]
     },
     "execution_count": 53,
     "metadata": {},
     "output_type": "execute_result"
    }
   ],
   "source": [
    "mens_shoes_df = mens_shoes_df[pd.notnull(mens_shoes_df['colors'])]\n",
    "mens_shoes_df.head()"
   ]
  },
  {
   "cell_type": "code",
   "execution_count": 54,
   "metadata": {},
   "outputs": [
    {
     "name": "stdout",
     "output_type": "stream",
     "text": [
      "<class 'pandas.core.frame.DataFrame'>\n",
      "Int64Index: 8096 entries, 11 to 12205\n",
      "Data columns (total 13 columns):\n",
      "brand                7950 non-null object\n",
      "categories           8096 non-null object\n",
      "colors               8096 non-null object\n",
      "Date_Added           8096 non-null object\n",
      "Date_Updated         8096 non-null object\n",
      "merchants            7601 non-null object\n",
      "name                 8096 non-null object\n",
      "prices.amountMin     8094 non-null object\n",
      "prices.amountMax     8096 non-null object\n",
      "prices.currency      8069 non-null object\n",
      "prices.isSale        8070 non-null object\n",
      "prices.merchant      6023 non-null object\n",
      "prices.sourceURLs    8064 non-null object\n",
      "dtypes: object(13)\n",
      "memory usage: 885.5+ KB\n"
     ]
    }
   ],
   "source": [
    "mens_shoes_df.info()"
   ]
  },
  {
   "cell_type": "code",
   "execution_count": null,
   "metadata": {},
   "outputs": [],
   "source": []
  }
 ],
 "metadata": {
  "kernelspec": {
   "display_name": "Python 3",
   "language": "python",
   "name": "python3"
  },
  "language_info": {
   "codemirror_mode": {
    "name": "ipython",
    "version": 3
   },
   "file_extension": ".py",
   "mimetype": "text/x-python",
   "name": "python",
   "nbconvert_exporter": "python",
   "pygments_lexer": "ipython3",
   "version": "3.6.8"
  }
 },
 "nbformat": 4,
 "nbformat_minor": 2
}
